{
 "cells": [
  {
   "cell_type": "markdown",
   "metadata": {},
   "source": [
    "# Model: Regression "
   ]
  },
  {
   "cell_type": "markdown",
   "metadata": {},
   "source": [
    "In diesem Notebook werden verschieden Regressionsmodell angewendet, um den mittleren Immobilienpreis von Distrikten in Kalifornien vorherzusagen. Dabei ist die Anforderung an die Model einen RMSE von kleiner 70 Tsd. USD zu erzielen. Dann wird das Projekt als Erfolg gewertet. "
   ]
  },
  {
   "cell_type": "markdown",
   "metadata": {},
   "source": [
    "Die Regressionsmodelle werden in diesem Notebook mit Statsmodels und der Bibliothek scikit-learn durchgeführt. Die Auswahl der Modelle wird beim jeweiligen Modell begründet und beschrieben. Grundlegend ist jedes Modell in *Data preperation*, *Build* und *Metrics und Validation* unterteilt. Für das beste Modell der jeweiligen Bibliothek wird eine Evaluation mit den Testdaten durchgeführt. \n"
   ]
  },
  {
   "cell_type": "markdown",
   "metadata": {},
   "source": [
    "> Über diesen [Link](https://sh333hdm.github.io/jupyterbooktest/intro.html) ist die Ansicht der Projektarbeit als Jupyter Book möglich. "
   ]
  },
  {
   "cell_type": "markdown",
   "metadata": {},
   "source": [
    "## Models statsmodels"
   ]
  },
  {
   "cell_type": "code",
   "execution_count": 172,
   "metadata": {},
   "outputs": [
    {
     "name": "stdout",
     "output_type": "stream",
     "text": [
      "The autoreload extension is already loaded. To reload it, use:\n",
      "  %reload_ext autoreload\n"
     ]
    }
   ],
   "source": [
    "import pandas as pd\n",
    "import seaborn as sns\n",
    "import numpy as np\n",
    "import matplotlib.pyplot as plt\n",
    "import statsmodels.api as sm\n",
    "from patsy import dmatrices\n",
    "from func import *\n",
    "\n",
    "import statsmodels.api as sm\n",
    "import statsmodels.formula.api as smf\n",
    "from statsmodels.tools.eval_measures import mse, rmse\n",
    "from statsmodels.compat import lzip\n",
    "from statsmodels.stats.outliers_influence import variance_inflation_factor\n",
    "\n",
    "%load_ext autoreload\n",
    "%autoreload 2"
   ]
  },
  {
   "cell_type": "markdown",
   "metadata": {},
   "source": [
    "### Statsmodels OLS"
   ]
  },
  {
   "cell_type": "markdown",
   "metadata": {},
   "source": [
    "**Data preperation**"
   ]
  },
  {
   "cell_type": "code",
   "execution_count": 173,
   "metadata": {},
   "outputs": [
    {
     "data": {
      "text/html": [
       "<div>\n",
       "<style scoped>\n",
       "    .dataframe tbody tr th:only-of-type {\n",
       "        vertical-align: middle;\n",
       "    }\n",
       "\n",
       "    .dataframe tbody tr th {\n",
       "        vertical-align: top;\n",
       "    }\n",
       "\n",
       "    .dataframe thead th {\n",
       "        text-align: right;\n",
       "    }\n",
       "</style>\n",
       "<table border=\"1\" class=\"dataframe\">\n",
       "  <thead>\n",
       "    <tr style=\"text-align: right;\">\n",
       "      <th></th>\n",
       "      <th>longitude</th>\n",
       "      <th>latitude</th>\n",
       "      <th>housing_median_age</th>\n",
       "      <th>total_rooms</th>\n",
       "      <th>total_bedrooms</th>\n",
       "      <th>population</th>\n",
       "      <th>households</th>\n",
       "      <th>median_income</th>\n",
       "      <th>median_house_value</th>\n",
       "      <th>ocean_proximity</th>\n",
       "      <th>price_category</th>\n",
       "      <th>households_population</th>\n",
       "      <th>total_rooms_households</th>\n",
       "      <th>total_rooms_total_bedrooms</th>\n",
       "      <th>geohash</th>\n",
       "    </tr>\n",
       "  </thead>\n",
       "  <tbody>\n",
       "    <tr>\n",
       "      <th>14740</th>\n",
       "      <td>-117.05</td>\n",
       "      <td>32.58</td>\n",
       "      <td>22.0</td>\n",
       "      <td>2101</td>\n",
       "      <td>399.0</td>\n",
       "      <td>1551</td>\n",
       "      <td>371</td>\n",
       "      <td>4.1518</td>\n",
       "      <td>136900.0</td>\n",
       "      <td>NEAR OCEAN</td>\n",
       "      <td>below</td>\n",
       "      <td>0.239201</td>\n",
       "      <td>5.663073</td>\n",
       "      <td>5.265664</td>\n",
       "      <td>9mu</td>\n",
       "    </tr>\n",
       "    <tr>\n",
       "      <th>10101</th>\n",
       "      <td>-117.97</td>\n",
       "      <td>33.92</td>\n",
       "      <td>32.0</td>\n",
       "      <td>2620</td>\n",
       "      <td>398.0</td>\n",
       "      <td>1296</td>\n",
       "      <td>429</td>\n",
       "      <td>5.7796</td>\n",
       "      <td>241300.0</td>\n",
       "      <td>&lt;1H OCEAN</td>\n",
       "      <td>above</td>\n",
       "      <td>0.331019</td>\n",
       "      <td>6.107226</td>\n",
       "      <td>6.582915</td>\n",
       "      <td>9qh</td>\n",
       "    </tr>\n",
       "    <tr>\n",
       "      <th>20566</th>\n",
       "      <td>-121.84</td>\n",
       "      <td>38.65</td>\n",
       "      <td>29.0</td>\n",
       "      <td>3167</td>\n",
       "      <td>548.0</td>\n",
       "      <td>1554</td>\n",
       "      <td>534</td>\n",
       "      <td>4.3487</td>\n",
       "      <td>200700.0</td>\n",
       "      <td>INLAND</td>\n",
       "      <td>above</td>\n",
       "      <td>0.343629</td>\n",
       "      <td>5.930712</td>\n",
       "      <td>5.779197</td>\n",
       "      <td>9qc</td>\n",
       "    </tr>\n",
       "    <tr>\n",
       "      <th>2670</th>\n",
       "      <td>-115.60</td>\n",
       "      <td>33.20</td>\n",
       "      <td>37.0</td>\n",
       "      <td>709</td>\n",
       "      <td>187.0</td>\n",
       "      <td>390</td>\n",
       "      <td>142</td>\n",
       "      <td>2.4511</td>\n",
       "      <td>72500.0</td>\n",
       "      <td>INLAND</td>\n",
       "      <td>below</td>\n",
       "      <td>0.364103</td>\n",
       "      <td>4.992958</td>\n",
       "      <td>3.791444</td>\n",
       "      <td>9mv</td>\n",
       "    </tr>\n",
       "    <tr>\n",
       "      <th>15709</th>\n",
       "      <td>-122.43</td>\n",
       "      <td>37.79</td>\n",
       "      <td>25.0</td>\n",
       "      <td>1637</td>\n",
       "      <td>394.0</td>\n",
       "      <td>649</td>\n",
       "      <td>379</td>\n",
       "      <td>5.0049</td>\n",
       "      <td>460000.0</td>\n",
       "      <td>NEAR BAY</td>\n",
       "      <td>above</td>\n",
       "      <td>0.583975</td>\n",
       "      <td>4.319261</td>\n",
       "      <td>4.154822</td>\n",
       "      <td>9q8</td>\n",
       "    </tr>\n",
       "    <tr>\n",
       "      <th>...</th>\n",
       "      <td>...</td>\n",
       "      <td>...</td>\n",
       "      <td>...</td>\n",
       "      <td>...</td>\n",
       "      <td>...</td>\n",
       "      <td>...</td>\n",
       "      <td>...</td>\n",
       "      <td>...</td>\n",
       "      <td>...</td>\n",
       "      <td>...</td>\n",
       "      <td>...</td>\n",
       "      <td>...</td>\n",
       "      <td>...</td>\n",
       "      <td>...</td>\n",
       "      <td>...</td>\n",
       "    </tr>\n",
       "    <tr>\n",
       "      <th>7616</th>\n",
       "      <td>-118.22</td>\n",
       "      <td>33.86</td>\n",
       "      <td>16.0</td>\n",
       "      <td>8732</td>\n",
       "      <td>1489.0</td>\n",
       "      <td>3944</td>\n",
       "      <td>1493</td>\n",
       "      <td>5.1948</td>\n",
       "      <td>203500.0</td>\n",
       "      <td>&lt;1H OCEAN</td>\n",
       "      <td>above</td>\n",
       "      <td>0.378550</td>\n",
       "      <td>5.848627</td>\n",
       "      <td>5.864338</td>\n",
       "      <td>9q5</td>\n",
       "    </tr>\n",
       "    <tr>\n",
       "      <th>8767</th>\n",
       "      <td>-118.39</td>\n",
       "      <td>33.81</td>\n",
       "      <td>35.0</td>\n",
       "      <td>1008</td>\n",
       "      <td>165.0</td>\n",
       "      <td>391</td>\n",
       "      <td>167</td>\n",
       "      <td>3.7778</td>\n",
       "      <td>487500.0</td>\n",
       "      <td>NEAR OCEAN</td>\n",
       "      <td>above</td>\n",
       "      <td>0.427110</td>\n",
       "      <td>6.035928</td>\n",
       "      <td>6.109091</td>\n",
       "      <td>9q5</td>\n",
       "    </tr>\n",
       "    <tr>\n",
       "      <th>16388</th>\n",
       "      <td>-121.30</td>\n",
       "      <td>38.05</td>\n",
       "      <td>52.0</td>\n",
       "      <td>122</td>\n",
       "      <td>26.0</td>\n",
       "      <td>62</td>\n",
       "      <td>25</td>\n",
       "      <td>1.1500</td>\n",
       "      <td>112500.0</td>\n",
       "      <td>INLAND</td>\n",
       "      <td>below</td>\n",
       "      <td>0.403226</td>\n",
       "      <td>4.880000</td>\n",
       "      <td>4.692308</td>\n",
       "      <td>9qc</td>\n",
       "    </tr>\n",
       "    <tr>\n",
       "      <th>19949</th>\n",
       "      <td>-119.37</td>\n",
       "      <td>36.21</td>\n",
       "      <td>35.0</td>\n",
       "      <td>2228</td>\n",
       "      <td>476.0</td>\n",
       "      <td>1567</td>\n",
       "      <td>449</td>\n",
       "      <td>1.4455</td>\n",
       "      <td>54100.0</td>\n",
       "      <td>INLAND</td>\n",
       "      <td>below</td>\n",
       "      <td>0.286535</td>\n",
       "      <td>4.962138</td>\n",
       "      <td>4.680672</td>\n",
       "      <td>9q7</td>\n",
       "    </tr>\n",
       "    <tr>\n",
       "      <th>10078</th>\n",
       "      <td>-120.27</td>\n",
       "      <td>39.35</td>\n",
       "      <td>11.0</td>\n",
       "      <td>2520</td>\n",
       "      <td>401.0</td>\n",
       "      <td>397</td>\n",
       "      <td>165</td>\n",
       "      <td>4.6650</td>\n",
       "      <td>145600.0</td>\n",
       "      <td>INLAND</td>\n",
       "      <td>below</td>\n",
       "      <td>0.415617</td>\n",
       "      <td>15.272727</td>\n",
       "      <td>6.284289</td>\n",
       "      <td>9qf</td>\n",
       "    </tr>\n",
       "  </tbody>\n",
       "</table>\n",
       "<p>16511 rows × 15 columns</p>\n",
       "</div>"
      ],
      "text/plain": [
       "       longitude  latitude  housing_median_age  total_rooms  total_bedrooms  \\\n",
       "14740    -117.05     32.58                22.0         2101           399.0   \n",
       "10101    -117.97     33.92                32.0         2620           398.0   \n",
       "20566    -121.84     38.65                29.0         3167           548.0   \n",
       "2670     -115.60     33.20                37.0          709           187.0   \n",
       "15709    -122.43     37.79                25.0         1637           394.0   \n",
       "...          ...       ...                 ...          ...             ...   \n",
       "7616     -118.22     33.86                16.0         8732          1489.0   \n",
       "8767     -118.39     33.81                35.0         1008           165.0   \n",
       "16388    -121.30     38.05                52.0          122            26.0   \n",
       "19949    -119.37     36.21                35.0         2228           476.0   \n",
       "10078    -120.27     39.35                11.0         2520           401.0   \n",
       "\n",
       "       population  households  median_income  median_house_value  \\\n",
       "14740        1551         371         4.1518            136900.0   \n",
       "10101        1296         429         5.7796            241300.0   \n",
       "20566        1554         534         4.3487            200700.0   \n",
       "2670          390         142         2.4511             72500.0   \n",
       "15709         649         379         5.0049            460000.0   \n",
       "...           ...         ...            ...                 ...   \n",
       "7616         3944        1493         5.1948            203500.0   \n",
       "8767          391         167         3.7778            487500.0   \n",
       "16388          62          25         1.1500            112500.0   \n",
       "19949        1567         449         1.4455             54100.0   \n",
       "10078         397         165         4.6650            145600.0   \n",
       "\n",
       "      ocean_proximity price_category  households_population  \\\n",
       "14740      NEAR OCEAN          below               0.239201   \n",
       "10101       <1H OCEAN          above               0.331019   \n",
       "20566          INLAND          above               0.343629   \n",
       "2670           INLAND          below               0.364103   \n",
       "15709        NEAR BAY          above               0.583975   \n",
       "...               ...            ...                    ...   \n",
       "7616        <1H OCEAN          above               0.378550   \n",
       "8767       NEAR OCEAN          above               0.427110   \n",
       "16388          INLAND          below               0.403226   \n",
       "19949          INLAND          below               0.286535   \n",
       "10078          INLAND          below               0.415617   \n",
       "\n",
       "       total_rooms_households  total_rooms_total_bedrooms geohash  \n",
       "14740                5.663073                    5.265664     9mu  \n",
       "10101                6.107226                    6.582915     9qh  \n",
       "20566                5.930712                    5.779197     9qc  \n",
       "2670                 4.992958                    3.791444     9mv  \n",
       "15709                4.319261                    4.154822     9q8  \n",
       "...                       ...                         ...     ...  \n",
       "7616                 5.848627                    5.864338     9q5  \n",
       "8767                 6.035928                    6.109091     9q5  \n",
       "16388                4.880000                    4.692308     9qc  \n",
       "19949                4.962138                    4.680672     9q7  \n",
       "10078               15.272727                    6.284289     9qf  \n",
       "\n",
       "[16511 rows x 15 columns]"
      ]
     },
     "execution_count": 173,
     "metadata": {},
     "output_type": "execute_result"
    }
   ],
   "source": [
    "df = read_data()\n",
    "df = transform_data(df)\n",
    "train_dataset, test_dataset = split_data(df)\n",
    "train_dataset = fill_missingdata(train_dataset)\n",
    "train_dataset = add_feautures(train_dataset)\n",
    "train_dataset"
   ]
  },
  {
   "cell_type": "markdown",
   "metadata": {},
   "source": [
    "**Model 1 OLS: Build**"
   ]
  },
  {
   "cell_type": "code",
   "execution_count": 174,
   "metadata": {},
   "outputs": [],
   "source": [
    "lm1 = smf.ols(formula ='median_house_value ~ median_income', data=train_dataset).fit()"
   ]
  },
  {
   "cell_type": "markdown",
   "metadata": {},
   "source": [
    "Als erstes Modell wir eine einfach lineare Regression gewählt. Als unabhängige Variable wir *median_income* gewählt, da das mittlere Einkommen eines Bezirks die höchste Korrelation zu *median_house_value* aufweist. "
   ]
  },
  {
   "cell_type": "code",
   "execution_count": 175,
   "metadata": {},
   "outputs": [],
   "source": [
    "train_dataset['y_pred'] = lm1.predict()"
   ]
  },
  {
   "cell_type": "markdown",
   "metadata": {},
   "source": [
    "**Model OLS 1: Metrics and Evaluation**"
   ]
  },
  {
   "cell_type": "code",
   "execution_count": 176,
   "metadata": {},
   "outputs": [
    {
     "data": {
      "text/html": [
       "<table class=\"simpletable\">\n",
       "<caption>OLS Regression Results</caption>\n",
       "<tr>\n",
       "  <th>Dep. Variable:</th>    <td>median_house_value</td> <th>  R-squared:         </th>  <td>   0.470</td>  \n",
       "</tr>\n",
       "<tr>\n",
       "  <th>Model:</th>                    <td>OLS</td>        <th>  Adj. R-squared:    </th>  <td>   0.470</td>  \n",
       "</tr>\n",
       "<tr>\n",
       "  <th>Method:</th>              <td>Least Squares</td>   <th>  F-statistic:       </th>  <td>1.465e+04</td> \n",
       "</tr>\n",
       "<tr>\n",
       "  <th>Date:</th>              <td>Wed, 19 Jan 2022</td>  <th>  Prob (F-statistic):</th>   <td>  0.00</td>   \n",
       "</tr>\n",
       "<tr>\n",
       "  <th>Time:</th>                  <td>16:26:23</td>      <th>  Log-Likelihood:    </th> <td>-2.1069e+05</td>\n",
       "</tr>\n",
       "<tr>\n",
       "  <th>No. Observations:</th>       <td> 16511</td>       <th>  AIC:               </th>  <td>4.214e+05</td> \n",
       "</tr>\n",
       "<tr>\n",
       "  <th>Df Residuals:</th>           <td> 16509</td>       <th>  BIC:               </th>  <td>4.214e+05</td> \n",
       "</tr>\n",
       "<tr>\n",
       "  <th>Df Model:</th>               <td>     1</td>       <th>                     </th>      <td> </td>     \n",
       "</tr>\n",
       "<tr>\n",
       "  <th>Covariance Type:</th>       <td>nonrobust</td>     <th>                     </th>      <td> </td>     \n",
       "</tr>\n",
       "</table>\n",
       "<table class=\"simpletable\">\n",
       "<tr>\n",
       "        <td></td>           <th>coef</th>     <th>std err</th>      <th>t</th>      <th>P>|t|</th>  <th>[0.025</th>    <th>0.975]</th>  \n",
       "</tr>\n",
       "<tr>\n",
       "  <th>Intercept</th>     <td> 4.624e+04</td> <td> 1479.396</td> <td>   31.257</td> <td> 0.000</td> <td> 4.33e+04</td> <td> 4.91e+04</td>\n",
       "</tr>\n",
       "<tr>\n",
       "  <th>median_income</th> <td>  4.15e+04</td> <td>  342.835</td> <td>  121.056</td> <td> 0.000</td> <td> 4.08e+04</td> <td> 4.22e+04</td>\n",
       "</tr>\n",
       "</table>\n",
       "<table class=\"simpletable\">\n",
       "<tr>\n",
       "  <th>Omnibus:</th>       <td>3462.094</td> <th>  Durbin-Watson:     </th> <td>   1.993</td>\n",
       "</tr>\n",
       "<tr>\n",
       "  <th>Prob(Omnibus):</th>  <td> 0.000</td>  <th>  Jarque-Bera (JB):  </th> <td>7756.529</td>\n",
       "</tr>\n",
       "<tr>\n",
       "  <th>Skew:</th>           <td> 1.201</td>  <th>  Prob(JB):          </th> <td>    0.00</td>\n",
       "</tr>\n",
       "<tr>\n",
       "  <th>Kurtosis:</th>       <td> 5.347</td>  <th>  Cond. No.          </th> <td>    10.2</td>\n",
       "</tr>\n",
       "</table><br/><br/>Notes:<br/>[1] Standard Errors assume that the covariance matrix of the errors is correctly specified."
      ],
      "text/plain": [
       "<class 'statsmodels.iolib.summary.Summary'>\n",
       "\"\"\"\n",
       "                            OLS Regression Results                            \n",
       "==============================================================================\n",
       "Dep. Variable:     median_house_value   R-squared:                       0.470\n",
       "Model:                            OLS   Adj. R-squared:                  0.470\n",
       "Method:                 Least Squares   F-statistic:                 1.465e+04\n",
       "Date:                Wed, 19 Jan 2022   Prob (F-statistic):               0.00\n",
       "Time:                        16:26:23   Log-Likelihood:            -2.1069e+05\n",
       "No. Observations:               16511   AIC:                         4.214e+05\n",
       "Df Residuals:                   16509   BIC:                         4.214e+05\n",
       "Df Model:                           1                                         \n",
       "Covariance Type:            nonrobust                                         \n",
       "=================================================================================\n",
       "                    coef    std err          t      P>|t|      [0.025      0.975]\n",
       "---------------------------------------------------------------------------------\n",
       "Intercept      4.624e+04   1479.396     31.257      0.000    4.33e+04    4.91e+04\n",
       "median_income   4.15e+04    342.835    121.056      0.000    4.08e+04    4.22e+04\n",
       "==============================================================================\n",
       "Omnibus:                     3462.094   Durbin-Watson:                   1.993\n",
       "Prob(Omnibus):                  0.000   Jarque-Bera (JB):             7756.529\n",
       "Skew:                           1.201   Prob(JB):                         0.00\n",
       "Kurtosis:                       5.347   Cond. No.                         10.2\n",
       "==============================================================================\n",
       "\n",
       "Notes:\n",
       "[1] Standard Errors assume that the covariance matrix of the errors is correctly specified.\n",
       "\"\"\""
      ]
     },
     "execution_count": 176,
     "metadata": {},
     "output_type": "execute_result"
    }
   ],
   "source": [
    "lm1.summary()"
   ]
  },
  {
   "cell_type": "markdown",
   "metadata": {},
   "source": [
    "Die Kenngrößen in der summary() sind wie erwartet nicht besonders gut. Der Adj. R-squared liegt bei 0.47. Dieser besagt, dass unter 50% der Streuung der Werte durch das Modell korrekt vorhergesagt werden kann. Weitere Kenngrößen werden im Vergleich zum zweiten Modell betrachtet. "
   ]
  },
  {
   "cell_type": "code",
   "execution_count": 177,
   "metadata": {},
   "outputs": [
    {
     "data": {
      "image/png": "[encoded data removed]",
      "text/plain": [
       "<Figure size 360x360 with 1 Axes>"
      ]
     },
     "metadata": {
      "needs_background": "light"
     },
     "output_type": "display_data"
    }
   ],
   "source": [
    "plt.rcParams['figure.figsize'] = [7, 7]\n",
    "sns.lmplot(x='median_income', y='median_house_value', data=train_dataset, line_kws={'color':'red'}, height=5, ci=None);"
   ]
  },
  {
   "cell_type": "code",
   "execution_count": 178,
   "metadata": {},
   "outputs": [
    {
     "name": "stdout",
     "output_type": "stream",
     "text": [
      "r2:  0.4702\n",
      "RMSE  84238.28\n",
      "MSE:  7096088082.25\n"
     ]
    }
   ],
   "source": [
    "r2_lm1, rmse_lm1, mse_lm1 = metrics_stats(lm1,train_dataset)"
   ]
  },
  {
   "cell_type": "markdown",
   "metadata": {},
   "source": [
    "Ebenfalls liegt der RMSE mit 84.238 USD über dem Zielwert von 70 Tsd. USD. Das Modell kann dementsprechend nicht als Erfolg gewertet werden. "
   ]
  },
  {
   "cell_type": "markdown",
   "metadata": {},
   "source": [
    "**Model 2 OLS: Build**"
   ]
  },
  {
   "cell_type": "code",
   "execution_count": 179,
   "metadata": {},
   "outputs": [],
   "source": [
    "lm2 = smf.ols(formula ='median_house_value ~ median_income + total_rooms_total_bedrooms', data=train_dataset).fit()"
   ]
  },
  {
   "cell_type": "code",
   "execution_count": 180,
   "metadata": {},
   "outputs": [],
   "source": [
    "# Add the regression predictions (as \"pred\") to our DataFrame\n",
    "train_dataset['y_pred'] = lm2.predict()"
   ]
  },
  {
   "cell_type": "markdown",
   "metadata": {},
   "source": [
    "**Model 2 OLS: Metrics and Evaluate**"
   ]
  },
  {
   "cell_type": "code",
   "execution_count": 181,
   "metadata": {},
   "outputs": [
    {
     "data": {
      "text/html": [
       "<table class=\"simpletable\">\n",
       "<caption>OLS Regression Results</caption>\n",
       "<tr>\n",
       "  <th>Dep. Variable:</th>    <td>median_house_value</td> <th>  R-squared:         </th>  <td>   0.505</td>  \n",
       "</tr>\n",
       "<tr>\n",
       "  <th>Model:</th>                    <td>OLS</td>        <th>  Adj. R-squared:    </th>  <td>   0.505</td>  \n",
       "</tr>\n",
       "<tr>\n",
       "  <th>Method:</th>              <td>Least Squares</td>   <th>  F-statistic:       </th>  <td>   8435.</td>  \n",
       "</tr>\n",
       "<tr>\n",
       "  <th>Date:</th>              <td>Wed, 19 Jan 2022</td>  <th>  Prob (F-statistic):</th>   <td>  0.00</td>   \n",
       "</tr>\n",
       "<tr>\n",
       "  <th>Time:</th>                  <td>16:26:25</td>      <th>  Log-Likelihood:    </th> <td>-2.1012e+05</td>\n",
       "</tr>\n",
       "<tr>\n",
       "  <th>No. Observations:</th>       <td> 16511</td>       <th>  AIC:               </th>  <td>4.202e+05</td> \n",
       "</tr>\n",
       "<tr>\n",
       "  <th>Df Residuals:</th>           <td> 16508</td>       <th>  BIC:               </th>  <td>4.203e+05</td> \n",
       "</tr>\n",
       "<tr>\n",
       "  <th>Df Model:</th>               <td>     2</td>       <th>                     </th>      <td> </td>     \n",
       "</tr>\n",
       "<tr>\n",
       "  <th>Covariance Type:</th>       <td>nonrobust</td>     <th>                     </th>      <td> </td>     \n",
       "</tr>\n",
       "</table>\n",
       "<table class=\"simpletable\">\n",
       "<tr>\n",
       "               <td></td>                 <th>coef</th>     <th>std err</th>      <th>t</th>      <th>P>|t|</th>  <th>[0.025</th>    <th>0.975]</th>  \n",
       "</tr>\n",
       "<tr>\n",
       "  <th>Intercept</th>                  <td> 1.257e+05</td> <td> 2723.597</td> <td>   46.138</td> <td> 0.000</td> <td>  1.2e+05</td> <td> 1.31e+05</td>\n",
       "</tr>\n",
       "<tr>\n",
       "  <th>median_income</th>              <td> 5.328e+04</td> <td>  477.415</td> <td>  111.600</td> <td> 0.000</td> <td> 5.23e+04</td> <td> 5.42e+04</td>\n",
       "</tr>\n",
       "<tr>\n",
       "  <th>total_rooms_total_bedrooms</th> <td>-2.504e+04</td> <td>  730.782</td> <td>  -34.258</td> <td> 0.000</td> <td>-2.65e+04</td> <td>-2.36e+04</td>\n",
       "</tr>\n",
       "</table>\n",
       "<table class=\"simpletable\">\n",
       "<tr>\n",
       "  <th>Omnibus:</th>       <td>3765.914</td> <th>  Durbin-Watson:     </th> <td>   1.986</td> \n",
       "</tr>\n",
       "<tr>\n",
       "  <th>Prob(Omnibus):</th>  <td> 0.000</td>  <th>  Jarque-Bera (JB):  </th> <td>11861.969</td>\n",
       "</tr>\n",
       "<tr>\n",
       "  <th>Skew:</th>           <td> 1.164</td>  <th>  Prob(JB):          </th> <td>    0.00</td> \n",
       "</tr>\n",
       "<tr>\n",
       "  <th>Kurtosis:</th>       <td> 6.439</td>  <th>  Cond. No.          </th> <td>    29.6</td> \n",
       "</tr>\n",
       "</table><br/><br/>Notes:<br/>[1] Standard Errors assume that the covariance matrix of the errors is correctly specified."
      ],
      "text/plain": [
       "<class 'statsmodels.iolib.summary.Summary'>\n",
       "\"\"\"\n",
       "                            OLS Regression Results                            \n",
       "==============================================================================\n",
       "Dep. Variable:     median_house_value   R-squared:                       0.505\n",
       "Model:                            OLS   Adj. R-squared:                  0.505\n",
       "Method:                 Least Squares   F-statistic:                     8435.\n",
       "Date:                Wed, 19 Jan 2022   Prob (F-statistic):               0.00\n",
       "Time:                        16:26:25   Log-Likelihood:            -2.1012e+05\n",
       "No. Observations:               16511   AIC:                         4.202e+05\n",
       "Df Residuals:                   16508   BIC:                         4.203e+05\n",
       "Df Model:                           2                                         \n",
       "Covariance Type:            nonrobust                                         \n",
       "==============================================================================================\n",
       "                                 coef    std err          t      P>|t|      [0.025      0.975]\n",
       "----------------------------------------------------------------------------------------------\n",
       "Intercept                   1.257e+05   2723.597     46.138      0.000     1.2e+05    1.31e+05\n",
       "median_income               5.328e+04    477.415    111.600      0.000    5.23e+04    5.42e+04\n",
       "total_rooms_total_bedrooms -2.504e+04    730.782    -34.258      0.000   -2.65e+04   -2.36e+04\n",
       "==============================================================================\n",
       "Omnibus:                     3765.914   Durbin-Watson:                   1.986\n",
       "Prob(Omnibus):                  0.000   Jarque-Bera (JB):            11861.969\n",
       "Skew:                           1.164   Prob(JB):                         0.00\n",
       "Kurtosis:                       6.439   Cond. No.                         29.6\n",
       "==============================================================================\n",
       "\n",
       "Notes:\n",
       "[1] Standard Errors assume that the covariance matrix of the errors is correctly specified.\n",
       "\"\"\""
      ]
     },
     "execution_count": 181,
     "metadata": {},
     "output_type": "execute_result"
    }
   ],
   "source": [
    "lm2.summary()"
   ]
  },
  {
   "cell_type": "code",
   "execution_count": 182,
   "metadata": {},
   "outputs": [
    {
     "name": "stdout",
     "output_type": "stream",
     "text": [
      "eval_env: 1\n"
     ]
    },
    {
     "data": {
      "image/png": "[encoded data removed]",
      "text/plain": [
       "<Figure size 504x504 with 4 Axes>"
      ]
     },
     "metadata": {
      "needs_background": "light"
     },
     "output_type": "display_data"
    }
   ],
   "source": [
    "fig = sm.graphics.plot_regress_exog(lm2, \"median_income\")"
   ]
  },
  {
   "cell_type": "code",
   "execution_count": 183,
   "metadata": {},
   "outputs": [
    {
     "name": "stdout",
     "output_type": "stream",
     "text": [
      "eval_env: 1\n"
     ]
    },
    {
     "data": {
      "image/png": "[encoded data removed]",
      "text/plain": [
       "<Figure size 504x504 with 4 Axes>"
      ]
     },
     "metadata": {
      "needs_background": "light"
     },
     "output_type": "display_data"
    }
   ],
   "source": [
    "fig = sm.graphics.plot_regress_exog(lm2, \"total_rooms_total_bedrooms\")"
   ]
  },
  {
   "cell_type": "markdown",
   "metadata": {},
   "source": [
    "Im Vergleich zu Model 1 erreicht das Model 2 besser statistische Kenngröße. Der Adj. R-squared liegt bei ca. 3% über dem vom Model 1. Sowohl die Kenngröße der F-Statistik, wie auch AIC und BIC sind höher als bei Model 1. "
   ]
  },
  {
   "cell_type": "markdown",
   "metadata": {},
   "source": [
    "> Hinweis: Zu diesem Modell wird ausführlich Regression Diagnostics durchgeführt. "
   ]
  },
  {
   "cell_type": "code",
   "execution_count": 184,
   "metadata": {},
   "outputs": [
    {
     "name": "stdout",
     "output_type": "stream",
     "text": [
      "r2:  0.5054\n",
      "RMSE  81394.62\n",
      "MSE:  6625084040.2\n"
     ]
    }
   ],
   "source": [
    "r2_lm2, rmse_lm2, mse_lm2 = metrics_stats(lm2,train_dataset)"
   ]
  },
  {
   "cell_type": "markdown",
   "metadata": {},
   "source": [
    "Der RMSE liegt mit ca. 81,4 Tsd. USD immer noch deutlich über 70 Tsd. USD. Es muss dementsprechend ein geeigneteres Modell gefunden werden. "
   ]
  },
  {
   "cell_type": "markdown",
   "metadata": {},
   "source": [
    "**Model 3 OLS: Build**"
   ]
  },
  {
   "cell_type": "code",
   "execution_count": 185,
   "metadata": {},
   "outputs": [],
   "source": [
    "lm3 = smf.ols(formula ='median_house_value ~ median_income + C(ocean_proximity) + households_population + total_rooms_households +C(geohash) + housing_median_age', data=train_dataset).fit()"
   ]
  },
  {
   "cell_type": "markdown",
   "metadata": {},
   "source": [
    "Im dritten Modell werden mehr Variablen aus dem ursprünglichen Datensatz berücksichtigt. Nicht miteingeschlossen werden: \n",
    "Nicht im Modell berücksichtigt werden folgende Features \n",
    "* *longitude*, *latidue* (siehe Feauture Selection)\n",
    "* *total_rooms*, *total__bedrooms*, *population* und *households*, da die Korrelation dieser Merkmale untereinander zu hoch ist (siehe Feauture Selection)\n",
    "* *price_category*, da diese aus *median_house_value* abgeleitet wird\n",
    "* *total_rooms_total_bedrooms*, da nach einmaliger Durchführung der Klassifikation ein p-Wert von P|z|=0.555 ermittelt wurde\n",
    "\n"
   ]
  },
  {
   "cell_type": "code",
   "execution_count": 186,
   "metadata": {},
   "outputs": [],
   "source": [
    "train_dataset['y_pred'] = lm3.predict()"
   ]
  },
  {
   "cell_type": "markdown",
   "metadata": {},
   "source": [
    "**Model OLS 3: Metrics and Evaluation**"
   ]
  },
  {
   "cell_type": "code",
   "execution_count": 187,
   "metadata": {},
   "outputs": [
    {
     "data": {
      "text/html": [
       "<table class=\"simpletable\">\n",
       "<caption>OLS Regression Results</caption>\n",
       "<tr>\n",
       "  <th>Dep. Variable:</th>    <td>median_house_value</td> <th>  R-squared:         </th>  <td>   0.697</td>  \n",
       "</tr>\n",
       "<tr>\n",
       "  <th>Model:</th>                    <td>OLS</td>        <th>  Adj. R-squared:    </th>  <td>   0.696</td>  \n",
       "</tr>\n",
       "<tr>\n",
       "  <th>Method:</th>              <td>Least Squares</td>   <th>  F-statistic:       </th>  <td>   970.5</td>  \n",
       "</tr>\n",
       "<tr>\n",
       "  <th>Date:</th>              <td>Wed, 19 Jan 2022</td>  <th>  Prob (F-statistic):</th>   <td>  0.00</td>   \n",
       "</tr>\n",
       "<tr>\n",
       "  <th>Time:</th>                  <td>16:26:30</td>      <th>  Log-Likelihood:    </th> <td>-2.0608e+05</td>\n",
       "</tr>\n",
       "<tr>\n",
       "  <th>No. Observations:</th>       <td> 16511</td>       <th>  AIC:               </th>  <td>4.122e+05</td> \n",
       "</tr>\n",
       "<tr>\n",
       "  <th>Df Residuals:</th>           <td> 16471</td>       <th>  BIC:               </th>  <td>4.125e+05</td> \n",
       "</tr>\n",
       "<tr>\n",
       "  <th>Df Model:</th>               <td>    39</td>       <th>                     </th>      <td> </td>     \n",
       "</tr>\n",
       "<tr>\n",
       "  <th>Covariance Type:</th>       <td>nonrobust</td>     <th>                     </th>      <td> </td>     \n",
       "</tr>\n",
       "</table>\n",
       "<table class=\"simpletable\">\n",
       "<tr>\n",
       "                  <td></td>                    <th>coef</th>     <th>std err</th>      <th>t</th>      <th>P>|t|</th>  <th>[0.025</th>    <th>0.975]</th>  \n",
       "</tr>\n",
       "<tr>\n",
       "  <th>Intercept</th>                        <td> 2.021e+04</td> <td> 1.06e+04</td> <td>    1.913</td> <td> 0.056</td> <td> -499.590</td> <td> 4.09e+04</td>\n",
       "</tr>\n",
       "<tr>\n",
       "  <th>C(ocean_proximity)[T.INLAND]</th>     <td>-4.854e+04</td> <td> 1801.660</td> <td>  -26.943</td> <td> 0.000</td> <td>-5.21e+04</td> <td> -4.5e+04</td>\n",
       "</tr>\n",
       "<tr>\n",
       "  <th>C(ocean_proximity)[T.ISLAND]</th>     <td> 1.214e+05</td> <td> 3.35e+04</td> <td>    3.627</td> <td> 0.000</td> <td> 5.58e+04</td> <td> 1.87e+05</td>\n",
       "</tr>\n",
       "<tr>\n",
       "  <th>C(ocean_proximity)[T.NEAR BAY]</th>   <td>-1.555e+04</td> <td> 2222.785</td> <td>   -6.994</td> <td> 0.000</td> <td>-1.99e+04</td> <td>-1.12e+04</td>\n",
       "</tr>\n",
       "<tr>\n",
       "  <th>C(ocean_proximity)[T.NEAR OCEAN]</th> <td> 7499.9029</td> <td> 1777.907</td> <td>    4.218</td> <td> 0.000</td> <td> 4015.012</td> <td>  1.1e+04</td>\n",
       "</tr>\n",
       "<tr>\n",
       "  <th>C(geohash)[T.9mu]</th>                <td>-8.981e+04</td> <td> 1.01e+04</td> <td>   -8.867</td> <td> 0.000</td> <td> -1.1e+05</td> <td>   -7e+04</td>\n",
       "</tr>\n",
       "<tr>\n",
       "  <th>C(geohash)[T.9mv]</th>                <td>-9.892e+04</td> <td> 1.15e+04</td> <td>   -8.622</td> <td> 0.000</td> <td>-1.21e+05</td> <td>-7.64e+04</td>\n",
       "</tr>\n",
       "<tr>\n",
       "  <th>C(geohash)[T.9my]</th>                <td>-1.015e+05</td> <td> 1.99e+04</td> <td>   -5.101</td> <td> 0.000</td> <td> -1.4e+05</td> <td>-6.25e+04</td>\n",
       "</tr>\n",
       "<tr>\n",
       "  <th>C(geohash)[T.9nz]</th>                <td>-4743.1943</td> <td> 6.46e+04</td> <td>   -0.073</td> <td> 0.941</td> <td>-1.31e+05</td> <td> 1.22e+05</td>\n",
       "</tr>\n",
       "<tr>\n",
       "  <th>C(geohash)[T.9pp]</th>                <td>-1.722e+05</td> <td> 1.32e+04</td> <td>  -13.050</td> <td> 0.000</td> <td>-1.98e+05</td> <td>-1.46e+05</td>\n",
       "</tr>\n",
       "<tr>\n",
       "  <th>C(geohash)[T.9pr]</th>                <td>-1.634e+05</td> <td> 1.31e+04</td> <td>  -12.488</td> <td> 0.000</td> <td>-1.89e+05</td> <td>-1.38e+05</td>\n",
       "</tr>\n",
       "<tr>\n",
       "  <th>C(geohash)[T.9q3]</th>                <td>-3.657e+04</td> <td> 1.41e+04</td> <td>   -2.602</td> <td> 0.009</td> <td>-6.41e+04</td> <td>-9019.975</td>\n",
       "</tr>\n",
       "<tr>\n",
       "  <th>C(geohash)[T.9q4]</th>                <td>-4.804e+04</td> <td> 1.07e+04</td> <td>   -4.479</td> <td> 0.000</td> <td>-6.91e+04</td> <td> -2.7e+04</td>\n",
       "</tr>\n",
       "<tr>\n",
       "  <th>C(geohash)[T.9q5]</th>                <td> -4.74e+04</td> <td> 1.01e+04</td> <td>   -4.671</td> <td> 0.000</td> <td>-6.73e+04</td> <td>-2.75e+04</td>\n",
       "</tr>\n",
       "<tr>\n",
       "  <th>C(geohash)[T.9q6]</th>                <td>-8.497e+04</td> <td> 1.11e+04</td> <td>   -7.644</td> <td> 0.000</td> <td>-1.07e+05</td> <td>-6.32e+04</td>\n",
       "</tr>\n",
       "<tr>\n",
       "  <th>C(geohash)[T.9q7]</th>                <td>-1.113e+05</td> <td> 1.07e+04</td> <td>  -10.429</td> <td> 0.000</td> <td>-1.32e+05</td> <td>-9.04e+04</td>\n",
       "</tr>\n",
       "<tr>\n",
       "  <th>C(geohash)[T.9q8]</th>                <td> 8403.5853</td> <td> 1.04e+04</td> <td>    0.808</td> <td> 0.419</td> <td> -1.2e+04</td> <td> 2.88e+04</td>\n",
       "</tr>\n",
       "<tr>\n",
       "  <th>C(geohash)[T.9q9]</th>                <td>-5.983e+04</td> <td> 1.02e+04</td> <td>   -5.879</td> <td> 0.000</td> <td>-7.98e+04</td> <td>-3.99e+04</td>\n",
       "</tr>\n",
       "<tr>\n",
       "  <th>C(geohash)[T.9qb]</th>                <td>-8.567e+04</td> <td> 1.05e+04</td> <td>   -8.125</td> <td> 0.000</td> <td>-1.06e+05</td> <td> -6.5e+04</td>\n",
       "</tr>\n",
       "<tr>\n",
       "  <th>C(geohash)[T.9qc]</th>                <td>-1.013e+05</td> <td> 1.03e+04</td> <td>   -9.793</td> <td> 0.000</td> <td>-1.22e+05</td> <td> -8.1e+04</td>\n",
       "</tr>\n",
       "<tr>\n",
       "  <th>C(geohash)[T.9qd]</th>                <td>-1.062e+05</td> <td> 1.05e+04</td> <td>  -10.077</td> <td> 0.000</td> <td>-1.27e+05</td> <td>-8.56e+04</td>\n",
       "</tr>\n",
       "<tr>\n",
       "  <th>C(geohash)[T.9qe]</th>                <td>-9.941e+04</td> <td> 1.28e+04</td> <td>   -7.748</td> <td> 0.000</td> <td>-1.25e+05</td> <td>-7.43e+04</td>\n",
       "</tr>\n",
       "<tr>\n",
       "  <th>C(geohash)[T.9qf]</th>                <td>-9.811e+04</td> <td> 1.12e+04</td> <td>   -8.750</td> <td> 0.000</td> <td> -1.2e+05</td> <td>-7.61e+04</td>\n",
       "</tr>\n",
       "<tr>\n",
       "  <th>C(geohash)[T.9qg]</th>                <td>-1.126e+05</td> <td> 3.82e+04</td> <td>   -2.946</td> <td> 0.003</td> <td>-1.88e+05</td> <td>-3.77e+04</td>\n",
       "</tr>\n",
       "<tr>\n",
       "  <th>C(geohash)[T.9qh]</th>                <td>-7.808e+04</td> <td> 1.02e+04</td> <td>   -7.644</td> <td> 0.000</td> <td>-9.81e+04</td> <td>-5.81e+04</td>\n",
       "</tr>\n",
       "<tr>\n",
       "  <th>C(geohash)[T.9qj]</th>                <td>-1.083e+05</td> <td> 1.24e+04</td> <td>   -8.751</td> <td> 0.000</td> <td>-1.33e+05</td> <td> -8.4e+04</td>\n",
       "</tr>\n",
       "<tr>\n",
       "  <th>C(geohash)[T.9qk]</th>                <td>-1.581e+05</td> <td> 1.62e+04</td> <td>   -9.774</td> <td> 0.000</td> <td> -1.9e+05</td> <td>-1.26e+05</td>\n",
       "</tr>\n",
       "<tr>\n",
       "  <th>C(geohash)[T.9qm]</th>                <td>-1.303e+05</td> <td> 3.82e+04</td> <td>   -3.407</td> <td> 0.001</td> <td>-2.05e+05</td> <td>-5.53e+04</td>\n",
       "</tr>\n",
       "<tr>\n",
       "  <th>C(geohash)[T.9qn]</th>                <td>-1.377e+05</td> <td> 2.19e+04</td> <td>   -6.298</td> <td> 0.000</td> <td>-1.81e+05</td> <td>-9.49e+04</td>\n",
       "</tr>\n",
       "<tr>\n",
       "  <th>C(geohash)[T.9qs]</th>                <td>-9.411e+04</td> <td> 4.63e+04</td> <td>   -2.034</td> <td> 0.042</td> <td>-1.85e+05</td> <td>-3420.401</td>\n",
       "</tr>\n",
       "<tr>\n",
       "  <th>C(geohash)[T.9r0]</th>                <td>-1.144e+05</td> <td> 1.22e+04</td> <td>   -9.358</td> <td> 0.000</td> <td>-1.38e+05</td> <td>-9.05e+04</td>\n",
       "</tr>\n",
       "<tr>\n",
       "  <th>C(geohash)[T.9r1]</th>                <td>-1.149e+05</td> <td> 1.11e+04</td> <td>  -10.379</td> <td> 0.000</td> <td>-1.37e+05</td> <td>-9.32e+04</td>\n",
       "</tr>\n",
       "<tr>\n",
       "  <th>C(geohash)[T.9r2]</th>                <td>-1.238e+05</td> <td> 1.62e+04</td> <td>   -7.661</td> <td> 0.000</td> <td>-1.55e+05</td> <td>-9.21e+04</td>\n",
       "</tr>\n",
       "<tr>\n",
       "  <th>C(geohash)[T.9r3]</th>                <td>-1.295e+05</td> <td>  1.7e+04</td> <td>   -7.607</td> <td> 0.000</td> <td>-1.63e+05</td> <td>-9.61e+04</td>\n",
       "</tr>\n",
       "<tr>\n",
       "  <th>C(geohash)[T.9r4]</th>                <td>-1.195e+05</td> <td> 1.46e+04</td> <td>   -8.208</td> <td> 0.000</td> <td>-1.48e+05</td> <td> -9.1e+04</td>\n",
       "</tr>\n",
       "<tr>\n",
       "  <th>C(geohash)[T.9r6]</th>                <td>-1.405e+05</td> <td>  2.8e+04</td> <td>   -5.020</td> <td> 0.000</td> <td>-1.95e+05</td> <td>-8.56e+04</td>\n",
       "</tr>\n",
       "<tr>\n",
       "  <th>median_income</th>                    <td> 3.656e+04</td> <td>  300.678</td> <td>  121.594</td> <td> 0.000</td> <td>  3.6e+04</td> <td> 3.72e+04</td>\n",
       "</tr>\n",
       "<tr>\n",
       "  <th>households_population</th>            <td> 3.152e+05</td> <td> 5507.765</td> <td>   57.224</td> <td> 0.000</td> <td> 3.04e+05</td> <td> 3.26e+05</td>\n",
       "</tr>\n",
       "<tr>\n",
       "  <th>total_rooms_households</th>           <td>  974.2598</td> <td>  217.753</td> <td>    4.474</td> <td> 0.000</td> <td>  547.440</td> <td> 1401.080</td>\n",
       "</tr>\n",
       "<tr>\n",
       "  <th>housing_median_age</th>               <td>  451.9391</td> <td>   45.263</td> <td>    9.985</td> <td> 0.000</td> <td>  363.218</td> <td>  540.660</td>\n",
       "</tr>\n",
       "</table>\n",
       "<table class=\"simpletable\">\n",
       "<tr>\n",
       "  <th>Omnibus:</th>       <td>3293.108</td> <th>  Durbin-Watson:     </th> <td>   1.998</td> \n",
       "</tr>\n",
       "<tr>\n",
       "  <th>Prob(Omnibus):</th>  <td> 0.000</td>  <th>  Jarque-Bera (JB):  </th> <td>14080.222</td>\n",
       "</tr>\n",
       "<tr>\n",
       "  <th>Skew:</th>           <td> 0.926</td>  <th>  Prob(JB):          </th> <td>    0.00</td> \n",
       "</tr>\n",
       "<tr>\n",
       "  <th>Kurtosis:</th>       <td> 7.128</td>  <th>  Cond. No.          </th> <td>4.32e+03</td> \n",
       "</tr>\n",
       "</table><br/><br/>Notes:<br/>[1] Standard Errors assume that the covariance matrix of the errors is correctly specified.<br/>[2] The condition number is large, 4.32e+03. This might indicate that there are<br/>strong multicollinearity or other numerical problems."
      ],
      "text/plain": [
       "<class 'statsmodels.iolib.summary.Summary'>\n",
       "\"\"\"\n",
       "                            OLS Regression Results                            \n",
       "==============================================================================\n",
       "Dep. Variable:     median_house_value   R-squared:                       0.697\n",
       "Model:                            OLS   Adj. R-squared:                  0.696\n",
       "Method:                 Least Squares   F-statistic:                     970.5\n",
       "Date:                Wed, 19 Jan 2022   Prob (F-statistic):               0.00\n",
       "Time:                        16:26:30   Log-Likelihood:            -2.0608e+05\n",
       "No. Observations:               16511   AIC:                         4.122e+05\n",
       "Df Residuals:                   16471   BIC:                         4.125e+05\n",
       "Df Model:                          39                                         \n",
       "Covariance Type:            nonrobust                                         \n",
       "====================================================================================================\n",
       "                                       coef    std err          t      P>|t|      [0.025      0.975]\n",
       "----------------------------------------------------------------------------------------------------\n",
       "Intercept                         2.021e+04   1.06e+04      1.913      0.056    -499.590    4.09e+04\n",
       "C(ocean_proximity)[T.INLAND]     -4.854e+04   1801.660    -26.943      0.000   -5.21e+04    -4.5e+04\n",
       "C(ocean_proximity)[T.ISLAND]      1.214e+05   3.35e+04      3.627      0.000    5.58e+04    1.87e+05\n",
       "C(ocean_proximity)[T.NEAR BAY]   -1.555e+04   2222.785     -6.994      0.000   -1.99e+04   -1.12e+04\n",
       "C(ocean_proximity)[T.NEAR OCEAN]  7499.9029   1777.907      4.218      0.000    4015.012     1.1e+04\n",
       "C(geohash)[T.9mu]                -8.981e+04   1.01e+04     -8.867      0.000    -1.1e+05      -7e+04\n",
       "C(geohash)[T.9mv]                -9.892e+04   1.15e+04     -8.622      0.000   -1.21e+05   -7.64e+04\n",
       "C(geohash)[T.9my]                -1.015e+05   1.99e+04     -5.101      0.000    -1.4e+05   -6.25e+04\n",
       "C(geohash)[T.9nz]                -4743.1943   6.46e+04     -0.073      0.941   -1.31e+05    1.22e+05\n",
       "C(geohash)[T.9pp]                -1.722e+05   1.32e+04    -13.050      0.000   -1.98e+05   -1.46e+05\n",
       "C(geohash)[T.9pr]                -1.634e+05   1.31e+04    -12.488      0.000   -1.89e+05   -1.38e+05\n",
       "C(geohash)[T.9q3]                -3.657e+04   1.41e+04     -2.602      0.009   -6.41e+04   -9019.975\n",
       "C(geohash)[T.9q4]                -4.804e+04   1.07e+04     -4.479      0.000   -6.91e+04    -2.7e+04\n",
       "C(geohash)[T.9q5]                 -4.74e+04   1.01e+04     -4.671      0.000   -6.73e+04   -2.75e+04\n",
       "C(geohash)[T.9q6]                -8.497e+04   1.11e+04     -7.644      0.000   -1.07e+05   -6.32e+04\n",
       "C(geohash)[T.9q7]                -1.113e+05   1.07e+04    -10.429      0.000   -1.32e+05   -9.04e+04\n",
       "C(geohash)[T.9q8]                 8403.5853   1.04e+04      0.808      0.419    -1.2e+04    2.88e+04\n",
       "C(geohash)[T.9q9]                -5.983e+04   1.02e+04     -5.879      0.000   -7.98e+04   -3.99e+04\n",
       "C(geohash)[T.9qb]                -8.567e+04   1.05e+04     -8.125      0.000   -1.06e+05    -6.5e+04\n",
       "C(geohash)[T.9qc]                -1.013e+05   1.03e+04     -9.793      0.000   -1.22e+05    -8.1e+04\n",
       "C(geohash)[T.9qd]                -1.062e+05   1.05e+04    -10.077      0.000   -1.27e+05   -8.56e+04\n",
       "C(geohash)[T.9qe]                -9.941e+04   1.28e+04     -7.748      0.000   -1.25e+05   -7.43e+04\n",
       "C(geohash)[T.9qf]                -9.811e+04   1.12e+04     -8.750      0.000    -1.2e+05   -7.61e+04\n",
       "C(geohash)[T.9qg]                -1.126e+05   3.82e+04     -2.946      0.003   -1.88e+05   -3.77e+04\n",
       "C(geohash)[T.9qh]                -7.808e+04   1.02e+04     -7.644      0.000   -9.81e+04   -5.81e+04\n",
       "C(geohash)[T.9qj]                -1.083e+05   1.24e+04     -8.751      0.000   -1.33e+05    -8.4e+04\n",
       "C(geohash)[T.9qk]                -1.581e+05   1.62e+04     -9.774      0.000    -1.9e+05   -1.26e+05\n",
       "C(geohash)[T.9qm]                -1.303e+05   3.82e+04     -3.407      0.001   -2.05e+05   -5.53e+04\n",
       "C(geohash)[T.9qn]                -1.377e+05   2.19e+04     -6.298      0.000   -1.81e+05   -9.49e+04\n",
       "C(geohash)[T.9qs]                -9.411e+04   4.63e+04     -2.034      0.042   -1.85e+05   -3420.401\n",
       "C(geohash)[T.9r0]                -1.144e+05   1.22e+04     -9.358      0.000   -1.38e+05   -9.05e+04\n",
       "C(geohash)[T.9r1]                -1.149e+05   1.11e+04    -10.379      0.000   -1.37e+05   -9.32e+04\n",
       "C(geohash)[T.9r2]                -1.238e+05   1.62e+04     -7.661      0.000   -1.55e+05   -9.21e+04\n",
       "C(geohash)[T.9r3]                -1.295e+05    1.7e+04     -7.607      0.000   -1.63e+05   -9.61e+04\n",
       "C(geohash)[T.9r4]                -1.195e+05   1.46e+04     -8.208      0.000   -1.48e+05    -9.1e+04\n",
       "C(geohash)[T.9r6]                -1.405e+05    2.8e+04     -5.020      0.000   -1.95e+05   -8.56e+04\n",
       "median_income                     3.656e+04    300.678    121.594      0.000     3.6e+04    3.72e+04\n",
       "households_population             3.152e+05   5507.765     57.224      0.000    3.04e+05    3.26e+05\n",
       "total_rooms_households             974.2598    217.753      4.474      0.000     547.440    1401.080\n",
       "housing_median_age                 451.9391     45.263      9.985      0.000     363.218     540.660\n",
       "==============================================================================\n",
       "Omnibus:                     3293.108   Durbin-Watson:                   1.998\n",
       "Prob(Omnibus):                  0.000   Jarque-Bera (JB):            14080.222\n",
       "Skew:                           0.926   Prob(JB):                         0.00\n",
       "Kurtosis:                       7.128   Cond. No.                     4.32e+03\n",
       "==============================================================================\n",
       "\n",
       "Notes:\n",
       "[1] Standard Errors assume that the covariance matrix of the errors is correctly specified.\n",
       "[2] The condition number is large, 4.32e+03. This might indicate that there are\n",
       "strong multicollinearity or other numerical problems.\n",
       "\"\"\""
      ]
     },
     "execution_count": 187,
     "metadata": {},
     "output_type": "execute_result"
    }
   ],
   "source": [
    "lm3.summary()"
   ]
  },
  {
   "cell_type": "code",
   "execution_count": 188,
   "metadata": {},
   "outputs": [
    {
     "name": "stdout",
     "output_type": "stream",
     "text": [
      "r2:  0.6968\n",
      "RMSE  63731.02\n",
      "MSE:  4061642561.4\n"
     ]
    }
   ],
   "source": [
    "r2_lm3, rmse_lm3, mse_lm3 = metrics_stats(lm3,train_dataset)"
   ]
  },
  {
   "cell_type": "markdown",
   "metadata": {},
   "source": [
    "Durch Model 3 konnte ein RMSE von 63.731 USD und damit unter der Grenze von 70 Tsd. USD erzielt werden. Erst nach Evaluation mit einem Testdatenset kann, dass Model Erfolg gewertet werden. "
   ]
  },
  {
   "cell_type": "markdown",
   "metadata": {},
   "source": [
    "### Regression Diagnostics"
   ]
  },
  {
   "cell_type": "markdown",
   "metadata": {},
   "source": [
    "**Outliner and High-Leverage**"
   ]
  },
  {
   "cell_type": "code",
   "execution_count": 189,
   "metadata": {},
   "outputs": [
    {
     "data": {
      "image/png": "[encoded data removed]",
      "text/plain": [
       "<Figure size 504x504 with 1 Axes>"
      ]
     },
     "metadata": {
      "needs_background": "light"
     },
     "output_type": "display_data"
    }
   ],
   "source": [
    "fig = sm.graphics.influence_plot(lm2, criterion=\"cooks\")"
   ]
  },
  {
   "cell_type": "code",
   "execution_count": 190,
   "metadata": {},
   "outputs": [
    {
     "name": "stdout",
     "output_type": "stream",
     "text": [
      "Anzahl an Datensätzen: 16511\n",
      "Kritische Cook distance: 0.00024226273393495245\n",
      "Anzahl Datensätze mit kritischer Cooks distance: 1019\n"
     ]
    }
   ],
   "source": [
    "lm_cooksd = lm2.get_influence().cooks_distance[0]\n",
    "n = len(train_dataset[\"median_house_value\"])\n",
    "print('Anzahl an Datensätzen:', n)\n",
    "critical_d = 4/n\n",
    "print('Kritische Cook distance:', critical_d)\n",
    "out_d = lm_cooksd > critical_d\n",
    "print(\"Anzahl Datensätze mit kritischer Cooks distance:\",len(lm_cooksd[out_d]))"
   ]
  },
  {
   "cell_type": "markdown",
   "metadata": {},
   "source": [
    "1019 Datensätzen besitzen eine kritische Cooks Distanz. Dabei handelt es sich um vermutliche *Outliner* mit *leverage*. Ein einfaches Vorgehen zu wählen werden diese Distrikte entfernt. "
   ]
  },
  {
   "cell_type": "code",
   "execution_count": 191,
   "metadata": {},
   "outputs": [
    {
     "data": {
      "text/plain": [
       "Int64Index([15709, 15631,  4585, 10574, 17237,  4643,  5366,  4592,  5288,\n",
       "            15700,\n",
       "            ...\n",
       "            18339, 14404, 12341,  4065, 15641, 20091,  4245,  5282, 16835,\n",
       "             8767],\n",
       "           dtype='int64', length=1019)"
      ]
     },
     "execution_count": 191,
     "metadata": {},
     "output_type": "execute_result"
    }
   ],
   "source": [
    "train_dataset.index[out_d]"
   ]
  },
  {
   "cell_type": "code",
   "execution_count": 192,
   "metadata": {},
   "outputs": [
    {
     "data": {
      "text/html": [
       "<div>\n",
       "<style scoped>\n",
       "    .dataframe tbody tr th:only-of-type {\n",
       "        vertical-align: middle;\n",
       "    }\n",
       "\n",
       "    .dataframe tbody tr th {\n",
       "        vertical-align: top;\n",
       "    }\n",
       "\n",
       "    .dataframe thead th {\n",
       "        text-align: right;\n",
       "    }\n",
       "</style>\n",
       "<table border=\"1\" class=\"dataframe\">\n",
       "  <thead>\n",
       "    <tr style=\"text-align: right;\">\n",
       "      <th></th>\n",
       "      <th>longitude</th>\n",
       "      <th>latitude</th>\n",
       "      <th>housing_median_age</th>\n",
       "      <th>total_rooms</th>\n",
       "      <th>total_bedrooms</th>\n",
       "      <th>population</th>\n",
       "      <th>households</th>\n",
       "      <th>median_income</th>\n",
       "      <th>median_house_value</th>\n",
       "      <th>ocean_proximity</th>\n",
       "      <th>price_category</th>\n",
       "      <th>households_population</th>\n",
       "      <th>total_rooms_households</th>\n",
       "      <th>total_rooms_total_bedrooms</th>\n",
       "      <th>geohash</th>\n",
       "      <th>y_pred</th>\n",
       "    </tr>\n",
       "  </thead>\n",
       "  <tbody>\n",
       "    <tr>\n",
       "      <th>14740</th>\n",
       "      <td>-117.05</td>\n",
       "      <td>32.58</td>\n",
       "      <td>22.0</td>\n",
       "      <td>2101</td>\n",
       "      <td>399.0</td>\n",
       "      <td>1551</td>\n",
       "      <td>371</td>\n",
       "      <td>4.1518</td>\n",
       "      <td>136900.0</td>\n",
       "      <td>NEAR OCEAN</td>\n",
       "      <td>below</td>\n",
       "      <td>0.239201</td>\n",
       "      <td>5.663073</td>\n",
       "      <td>5.265664</td>\n",
       "      <td>9mu</td>\n",
       "      <td>180544.513708</td>\n",
       "    </tr>\n",
       "    <tr>\n",
       "      <th>10101</th>\n",
       "      <td>-117.97</td>\n",
       "      <td>33.92</td>\n",
       "      <td>32.0</td>\n",
       "      <td>2620</td>\n",
       "      <td>398.0</td>\n",
       "      <td>1296</td>\n",
       "      <td>429</td>\n",
       "      <td>5.7796</td>\n",
       "      <td>241300.0</td>\n",
       "      <td>&lt;1H OCEAN</td>\n",
       "      <td>above</td>\n",
       "      <td>0.331019</td>\n",
       "      <td>6.107226</td>\n",
       "      <td>6.582915</td>\n",
       "      <td>9qh</td>\n",
       "      <td>278180.815364</td>\n",
       "    </tr>\n",
       "    <tr>\n",
       "      <th>20566</th>\n",
       "      <td>-121.84</td>\n",
       "      <td>38.65</td>\n",
       "      <td>29.0</td>\n",
       "      <td>3167</td>\n",
       "      <td>548.0</td>\n",
       "      <td>1554</td>\n",
       "      <td>534</td>\n",
       "      <td>4.3487</td>\n",
       "      <td>200700.0</td>\n",
       "      <td>INLAND</td>\n",
       "      <td>above</td>\n",
       "      <td>0.343629</td>\n",
       "      <td>5.930712</td>\n",
       "      <td>5.779197</td>\n",
       "      <td>9qc</td>\n",
       "      <td>156587.429451</td>\n",
       "    </tr>\n",
       "    <tr>\n",
       "      <th>2670</th>\n",
       "      <td>-115.60</td>\n",
       "      <td>33.20</td>\n",
       "      <td>37.0</td>\n",
       "      <td>709</td>\n",
       "      <td>187.0</td>\n",
       "      <td>390</td>\n",
       "      <td>142</td>\n",
       "      <td>2.4511</td>\n",
       "      <td>72500.0</td>\n",
       "      <td>INLAND</td>\n",
       "      <td>below</td>\n",
       "      <td>0.364103</td>\n",
       "      <td>4.992958</td>\n",
       "      <td>3.791444</td>\n",
       "      <td>9mv</td>\n",
       "      <td>98711.659404</td>\n",
       "    </tr>\n",
       "    <tr>\n",
       "      <th>439</th>\n",
       "      <td>-122.29</td>\n",
       "      <td>37.85</td>\n",
       "      <td>52.0</td>\n",
       "      <td>477</td>\n",
       "      <td>119.0</td>\n",
       "      <td>218</td>\n",
       "      <td>106</td>\n",
       "      <td>2.5682</td>\n",
       "      <td>120000.0</td>\n",
       "      <td>NEAR BAY</td>\n",
       "      <td>below</td>\n",
       "      <td>0.486239</td>\n",
       "      <td>4.500000</td>\n",
       "      <td>4.008403</td>\n",
       "      <td>9q9</td>\n",
       "      <td>219865.838358</td>\n",
       "    </tr>\n",
       "    <tr>\n",
       "      <th>...</th>\n",
       "      <td>...</td>\n",
       "      <td>...</td>\n",
       "      <td>...</td>\n",
       "      <td>...</td>\n",
       "      <td>...</td>\n",
       "      <td>...</td>\n",
       "      <td>...</td>\n",
       "      <td>...</td>\n",
       "      <td>...</td>\n",
       "      <td>...</td>\n",
       "      <td>...</td>\n",
       "      <td>...</td>\n",
       "      <td>...</td>\n",
       "      <td>...</td>\n",
       "      <td>...</td>\n",
       "      <td>...</td>\n",
       "    </tr>\n",
       "    <tr>\n",
       "      <th>4083</th>\n",
       "      <td>-118.38</td>\n",
       "      <td>34.15</td>\n",
       "      <td>36.0</td>\n",
       "      <td>2933</td>\n",
       "      <td>619.0</td>\n",
       "      <td>1115</td>\n",
       "      <td>579</td>\n",
       "      <td>4.3036</td>\n",
       "      <td>365900.0</td>\n",
       "      <td>&lt;1H OCEAN</td>\n",
       "      <td>above</td>\n",
       "      <td>0.519283</td>\n",
       "      <td>5.065630</td>\n",
       "      <td>4.738288</td>\n",
       "      <td>9q5</td>\n",
       "      <td>315029.218008</td>\n",
       "    </tr>\n",
       "    <tr>\n",
       "      <th>7616</th>\n",
       "      <td>-118.22</td>\n",
       "      <td>33.86</td>\n",
       "      <td>16.0</td>\n",
       "      <td>8732</td>\n",
       "      <td>1489.0</td>\n",
       "      <td>3944</td>\n",
       "      <td>1493</td>\n",
       "      <td>5.1948</td>\n",
       "      <td>203500.0</td>\n",
       "      <td>&lt;1H OCEAN</td>\n",
       "      <td>above</td>\n",
       "      <td>0.378550</td>\n",
       "      <td>5.848627</td>\n",
       "      <td>5.864338</td>\n",
       "      <td>9q5</td>\n",
       "      <td>294980.478761</td>\n",
       "    </tr>\n",
       "    <tr>\n",
       "      <th>16388</th>\n",
       "      <td>-121.30</td>\n",
       "      <td>38.05</td>\n",
       "      <td>52.0</td>\n",
       "      <td>122</td>\n",
       "      <td>26.0</td>\n",
       "      <td>62</td>\n",
       "      <td>25</td>\n",
       "      <td>1.1500</td>\n",
       "      <td>112500.0</td>\n",
       "      <td>INLAND</td>\n",
       "      <td>below</td>\n",
       "      <td>0.403226</td>\n",
       "      <td>4.880000</td>\n",
       "      <td>4.692308</td>\n",
       "      <td>9qc</td>\n",
       "      <td>67794.945044</td>\n",
       "    </tr>\n",
       "    <tr>\n",
       "      <th>19949</th>\n",
       "      <td>-119.37</td>\n",
       "      <td>36.21</td>\n",
       "      <td>35.0</td>\n",
       "      <td>2228</td>\n",
       "      <td>476.0</td>\n",
       "      <td>1567</td>\n",
       "      <td>449</td>\n",
       "      <td>1.4455</td>\n",
       "      <td>54100.0</td>\n",
       "      <td>INLAND</td>\n",
       "      <td>below</td>\n",
       "      <td>0.286535</td>\n",
       "      <td>4.962138</td>\n",
       "      <td>4.680672</td>\n",
       "      <td>9q7</td>\n",
       "      <td>24155.335531</td>\n",
       "    </tr>\n",
       "    <tr>\n",
       "      <th>10078</th>\n",
       "      <td>-120.27</td>\n",
       "      <td>39.35</td>\n",
       "      <td>11.0</td>\n",
       "      <td>2520</td>\n",
       "      <td>401.0</td>\n",
       "      <td>397</td>\n",
       "      <td>165</td>\n",
       "      <td>4.6650</td>\n",
       "      <td>145600.0</td>\n",
       "      <td>INLAND</td>\n",
       "      <td>below</td>\n",
       "      <td>0.415617</td>\n",
       "      <td>15.272727</td>\n",
       "      <td>6.284289</td>\n",
       "      <td>9qf</td>\n",
       "      <td>194963.307816</td>\n",
       "    </tr>\n",
       "  </tbody>\n",
       "</table>\n",
       "<p>15492 rows × 16 columns</p>\n",
       "</div>"
      ],
      "text/plain": [
       "       longitude  latitude  housing_median_age  total_rooms  total_bedrooms  \\\n",
       "14740    -117.05     32.58                22.0         2101           399.0   \n",
       "10101    -117.97     33.92                32.0         2620           398.0   \n",
       "20566    -121.84     38.65                29.0         3167           548.0   \n",
       "2670     -115.60     33.20                37.0          709           187.0   \n",
       "439      -122.29     37.85                52.0          477           119.0   \n",
       "...          ...       ...                 ...          ...             ...   \n",
       "4083     -118.38     34.15                36.0         2933           619.0   \n",
       "7616     -118.22     33.86                16.0         8732          1489.0   \n",
       "16388    -121.30     38.05                52.0          122            26.0   \n",
       "19949    -119.37     36.21                35.0         2228           476.0   \n",
       "10078    -120.27     39.35                11.0         2520           401.0   \n",
       "\n",
       "       population  households  median_income  median_house_value  \\\n",
       "14740        1551         371         4.1518            136900.0   \n",
       "10101        1296         429         5.7796            241300.0   \n",
       "20566        1554         534         4.3487            200700.0   \n",
       "2670          390         142         2.4511             72500.0   \n",
       "439           218         106         2.5682            120000.0   \n",
       "...           ...         ...            ...                 ...   \n",
       "4083         1115         579         4.3036            365900.0   \n",
       "7616         3944        1493         5.1948            203500.0   \n",
       "16388          62          25         1.1500            112500.0   \n",
       "19949        1567         449         1.4455             54100.0   \n",
       "10078         397         165         4.6650            145600.0   \n",
       "\n",
       "      ocean_proximity price_category  households_population  \\\n",
       "14740      NEAR OCEAN          below               0.239201   \n",
       "10101       <1H OCEAN          above               0.331019   \n",
       "20566          INLAND          above               0.343629   \n",
       "2670           INLAND          below               0.364103   \n",
       "439          NEAR BAY          below               0.486239   \n",
       "...               ...            ...                    ...   \n",
       "4083        <1H OCEAN          above               0.519283   \n",
       "7616        <1H OCEAN          above               0.378550   \n",
       "16388          INLAND          below               0.403226   \n",
       "19949          INLAND          below               0.286535   \n",
       "10078          INLAND          below               0.415617   \n",
       "\n",
       "       total_rooms_households  total_rooms_total_bedrooms geohash  \\\n",
       "14740                5.663073                    5.265664     9mu   \n",
       "10101                6.107226                    6.582915     9qh   \n",
       "20566                5.930712                    5.779197     9qc   \n",
       "2670                 4.992958                    3.791444     9mv   \n",
       "439                  4.500000                    4.008403     9q9   \n",
       "...                       ...                         ...     ...   \n",
       "4083                 5.065630                    4.738288     9q5   \n",
       "7616                 5.848627                    5.864338     9q5   \n",
       "16388                4.880000                    4.692308     9qc   \n",
       "19949                4.962138                    4.680672     9q7   \n",
       "10078               15.272727                    6.284289     9qf   \n",
       "\n",
       "              y_pred  \n",
       "14740  180544.513708  \n",
       "10101  278180.815364  \n",
       "20566  156587.429451  \n",
       "2670    98711.659404  \n",
       "439    219865.838358  \n",
       "...              ...  \n",
       "4083   315029.218008  \n",
       "7616   294980.478761  \n",
       "16388   67794.945044  \n",
       "19949   24155.335531  \n",
       "10078  194963.307816  \n",
       "\n",
       "[15492 rows x 16 columns]"
      ]
     },
     "execution_count": 192,
     "metadata": {},
     "output_type": "execute_result"
    }
   ],
   "source": [
    "train_dataset_opt = train_dataset.drop(train_dataset.index[out_d])\n",
    "train_dataset_opt"
   ]
  },
  {
   "cell_type": "markdown",
   "metadata": {},
   "source": [
    "**Non-linearity and heteroscedasticity**"
   ]
  },
  {
   "cell_type": "code",
   "execution_count": 193,
   "metadata": {},
   "outputs": [
    {
     "name": "stdout",
     "output_type": "stream",
     "text": [
      "eval_env: 1\n",
      "eval_env: 1\n",
      "eval_env: 1\n"
     ]
    },
    {
     "data": {
      "image/png": "[encoded data removed]",
      "text/plain": [
       "<Figure size 504x504 with 3 Axes>"
      ]
     },
     "metadata": {
      "needs_background": "light"
     },
     "output_type": "display_data"
    }
   ],
   "source": [
    "fig = sm.graphics.plot_partregress_grid(lm2)\n",
    "fig.tight_layout(pad=1.0)"
   ]
  },
  {
   "cell_type": "code",
   "execution_count": 194,
   "metadata": {},
   "outputs": [
    {
     "data": {
      "image/png": "[encoded data removed]",
      "text/plain": [
       "<Figure size 504x504 with 1 Axes>"
      ]
     },
     "metadata": {
      "needs_background": "light"
     },
     "output_type": "display_data"
    }
   ],
   "source": [
    "model_fitted_y = lm2.fittedvalues\n",
    "\n",
    "#  Plot\n",
    "plot = sns.residplot(x=model_fitted_y, y='median_house_value', data=train_dataset, lowess=True, \n",
    "                     scatter_kws={'alpha': 0.5}, \n",
    "                     line_kws={'color': 'red', 'lw': 1, 'alpha': 0.8})"
   ]
  },
  {
   "cell_type": "markdown",
   "metadata": {},
   "source": [
    "* Es liegt keine ungleichmäßige Verteilung der residuals vor: Hinweis auf Heteroscedasticity\n",
    "* Vermutlich liegt auch keine lineare Beziehung vor, da die rote Linie sich von der Gestrichelten unterscheidet."
   ]
  },
  {
   "cell_type": "code",
   "execution_count": 195,
   "metadata": {},
   "outputs": [
    {
     "data": {
      "text/plain": [
       "[('Lagrange multiplier statistic', 1911.1282277715711),\n",
       " ('p-value', 0.0),\n",
       " ('f-value', 55.283578339195074),\n",
       " ('f p-value', 0.0)]"
      ]
     },
     "execution_count": 195,
     "metadata": {},
     "output_type": "execute_result"
    }
   ],
   "source": [
    "# Breusch-Pagan Lagrange Multiplier test\n",
    "\n",
    "name = ['Lagrange multiplier statistic', 'p-value', 'f-value', 'f p-value']\n",
    "test = sm.stats.het_breuschpagan(lm2.resid, lm3.model.exog)\n",
    "lzip(name, test)"
   ]
  },
  {
   "cell_type": "markdown",
   "metadata": {},
   "source": [
    "Beide p-werte liegen deutlich unter 0.05. Daher wird die Null-Hypothese abgelehnt. \n",
    "Diese Ergebnis ist ebenfalls ein Indikator für Heteroscedasticity. Eine mögliche Lösung ist in diesem Fall die Anwendung eines Regression Splines. Dies wird in einem der folgenenden Abschnitten untersucht. "
   ]
  },
  {
   "cell_type": "markdown",
   "metadata": {},
   "source": [
    "**Non-normally distributed errors**"
   ]
  },
  {
   "cell_type": "code",
   "execution_count": 196,
   "metadata": {},
   "outputs": [
    {
     "data": {
      "text/plain": [
       "[('Jarque-Bera', 11861.969271208563),\n",
       " ('Chi^2 two-tail prob.', 0.0),\n",
       " ('Skew', 1.1637299076876573),\n",
       " ('Kurtosis', 6.438780225717456)]"
      ]
     },
     "execution_count": 196,
     "metadata": {},
     "output_type": "execute_result"
    }
   ],
   "source": [
    "#Jarque-Bera test\n",
    "name = ['Jarque-Bera', 'Chi^2 two-tail prob.', 'Skew', 'Kurtosis']\n",
    "test = sm.stats.jarque_bera(lm2.resid)\n",
    "\n",
    "lzip(name, test)"
   ]
  },
  {
   "cell_type": "markdown",
   "metadata": {},
   "source": [
    "Der p-Wert liegt bei 0.0 damit wird die Nullhyptothese abgelehnt. Das ist ein Indikator für nicht normalverteilte *error terms*."
   ]
  },
  {
   "cell_type": "code",
   "execution_count": 197,
   "metadata": {},
   "outputs": [
    {
     "data": {
      "text/plain": [
       "[('Chi^2', 3765.9137109308194), ('Two-tail probability', 0.0)]"
      ]
     },
     "execution_count": 197,
     "metadata": {},
     "output_type": "execute_result"
    }
   ],
   "source": [
    "#Omnibus normtest\n",
    "name = ['Chi^2', 'Two-tail probability']\n",
    "test = sm.stats.omni_normtest(lm2.resid)\n",
    "lzip(name, test)"
   ]
  },
  {
   "cell_type": "markdown",
   "metadata": {},
   "source": [
    "Auch bei diesem Test wird die Nullhyptothese abgelehnt. Dies lässt ebenso auf nicht normalverteilte *error terms* schließen. "
   ]
  },
  {
   "cell_type": "markdown",
   "metadata": {},
   "source": [
    "Da die Anzahl an Datensätzen sehr hoch ist, müssen die Fehler nicht normalverteilt sein. Grund dafür ist der zentrale Grenzwertsatz. Es werden keine weiteren Schritte unternommen. "
   ]
  },
  {
   "cell_type": "markdown",
   "metadata": {},
   "source": [
    "**Correlation of error terms**"
   ]
  },
  {
   "cell_type": "code",
   "execution_count": 198,
   "metadata": {},
   "outputs": [
    {
     "data": {
      "text/plain": [
       "1.985747491177888"
      ]
     },
     "execution_count": 198,
     "metadata": {},
     "output_type": "execute_result"
    }
   ],
   "source": [
    "\n",
    "sm.stats.durbin_watson(lm2.resid)"
   ]
  },
  {
   "cell_type": "markdown",
   "metadata": {},
   "source": [
    "Der Wert liegt zwischen 1 und 2, aber sehr nah an der 2. Im ersten Schritt wird keine Korrelation der *error terms* angenommen.  "
   ]
  },
  {
   "cell_type": "markdown",
   "metadata": {},
   "source": [
    "**Collinearity**"
   ]
  },
  {
   "cell_type": "code",
   "execution_count": 199,
   "metadata": {},
   "outputs": [
    {
     "data": {
      "text/html": [
       "<div>\n",
       "<style scoped>\n",
       "    .dataframe tbody tr th:only-of-type {\n",
       "        vertical-align: middle;\n",
       "    }\n",
       "\n",
       "    .dataframe tbody tr th {\n",
       "        vertical-align: top;\n",
       "    }\n",
       "\n",
       "    .dataframe thead th {\n",
       "        text-align: right;\n",
       "    }\n",
       "</style>\n",
       "<table border=\"1\" class=\"dataframe\">\n",
       "  <thead>\n",
       "    <tr style=\"text-align: right;\">\n",
       "      <th></th>\n",
       "      <th>VIF Factor</th>\n",
       "      <th>Feature</th>\n",
       "    </tr>\n",
       "  </thead>\n",
       "  <tbody>\n",
       "    <tr>\n",
       "      <th>0</th>\n",
       "      <td>18.48</td>\n",
       "      <td>Intercept</td>\n",
       "    </tr>\n",
       "    <tr>\n",
       "      <th>1</th>\n",
       "      <td>2.08</td>\n",
       "      <td>median_income</td>\n",
       "    </tr>\n",
       "    <tr>\n",
       "      <th>2</th>\n",
       "      <td>2.08</td>\n",
       "      <td>total_rooms_total_bedrooms</td>\n",
       "    </tr>\n",
       "  </tbody>\n",
       "</table>\n",
       "</div>"
      ],
      "text/plain": [
       "   VIF Factor                     Feature\n",
       "0       18.48                   Intercept\n",
       "1        2.08               median_income\n",
       "2        2.08  total_rooms_total_bedrooms"
      ]
     },
     "execution_count": 199,
     "metadata": {},
     "output_type": "execute_result"
    }
   ],
   "source": [
    "#Variance inflation factor\n",
    "y, X = dmatrices('median_house_value ~ median_income + total_rooms_total_bedrooms', data=train_dataset, return_type='dataframe')\n",
    "\n",
    "# For each X, calculate VIF and save in dataframe\n",
    "vif = pd.DataFrame()\n",
    "vif[\"VIF Factor\"] = [variance_inflation_factor(X.values, i) for i in range(X.shape[1])]\n",
    "vif[\"Feature\"] = X.columns\n",
    "\n",
    "vif.round(2)"
   ]
  },
  {
   "cell_type": "markdown",
   "metadata": {},
   "source": [
    "Für dieses Modell liegt keine problematische Kollinearität in den Daten vor. "
   ]
  },
  {
   "cell_type": "markdown",
   "metadata": {},
   "source": [
    "**Model OLS 3 opt: Build**"
   ]
  },
  {
   "cell_type": "markdown",
   "metadata": {},
   "source": [
    "\n",
    "In diesem linearen Modell wird das Modell mit multipler linearer Regression auf die bereinigten Trainingsdaten nach der Regression Diagnostics angewendet. \n"
   ]
  },
  {
   "cell_type": "code",
   "execution_count": 200,
   "metadata": {},
   "outputs": [],
   "source": [
    "lm3opt = smf.ols(formula ='median_house_value ~ median_income + C(ocean_proximity) + households_population + total_rooms_households +C(geohash) + housing_median_age', data=train_dataset_opt).fit()"
   ]
  },
  {
   "cell_type": "code",
   "execution_count": 201,
   "metadata": {},
   "outputs": [],
   "source": [
    "train_dataset_opt['y_pred'] = lm3opt.predict()"
   ]
  },
  {
   "cell_type": "markdown",
   "metadata": {},
   "source": [
    "**Model OLS 3 opt: Metrics and Evaluation**"
   ]
  },
  {
   "cell_type": "code",
   "execution_count": 202,
   "metadata": {},
   "outputs": [
    {
     "data": {
      "text/html": [
       "<table class=\"simpletable\">\n",
       "<caption>OLS Regression Results</caption>\n",
       "<tr>\n",
       "  <th>Dep. Variable:</th>    <td>median_house_value</td> <th>  R-squared:         </th>  <td>   0.754</td>  \n",
       "</tr>\n",
       "<tr>\n",
       "  <th>Model:</th>                    <td>OLS</td>        <th>  Adj. R-squared:    </th>  <td>   0.753</td>  \n",
       "</tr>\n",
       "<tr>\n",
       "  <th>Method:</th>              <td>Least Squares</td>   <th>  F-statistic:       </th>  <td>   1212.</td>  \n",
       "</tr>\n",
       "<tr>\n",
       "  <th>Date:</th>              <td>Wed, 19 Jan 2022</td>  <th>  Prob (F-statistic):</th>   <td>  0.00</td>   \n",
       "</tr>\n",
       "<tr>\n",
       "  <th>Time:</th>                  <td>16:28:02</td>      <th>  Log-Likelihood:    </th> <td>-1.8954e+05</td>\n",
       "</tr>\n",
       "<tr>\n",
       "  <th>No. Observations:</th>       <td> 15492</td>       <th>  AIC:               </th>  <td>3.792e+05</td> \n",
       "</tr>\n",
       "<tr>\n",
       "  <th>Df Residuals:</th>           <td> 15452</td>       <th>  BIC:               </th>  <td>3.795e+05</td> \n",
       "</tr>\n",
       "<tr>\n",
       "  <th>Df Model:</th>               <td>    39</td>       <th>                     </th>      <td> </td>     \n",
       "</tr>\n",
       "<tr>\n",
       "  <th>Covariance Type:</th>       <td>nonrobust</td>     <th>                     </th>      <td> </td>     \n",
       "</tr>\n",
       "</table>\n",
       "<table class=\"simpletable\">\n",
       "<tr>\n",
       "                  <td></td>                    <th>coef</th>     <th>std err</th>      <th>t</th>      <th>P>|t|</th>  <th>[0.025</th>    <th>0.975]</th>  \n",
       "</tr>\n",
       "<tr>\n",
       "  <th>Intercept</th>                        <td> 2.657e+04</td> <td> 8927.873</td> <td>    2.976</td> <td> 0.003</td> <td> 9067.712</td> <td> 4.41e+04</td>\n",
       "</tr>\n",
       "<tr>\n",
       "  <th>C(ocean_proximity)[T.INLAND]</th>     <td>-4.381e+04</td> <td> 1438.307</td> <td>  -30.458</td> <td> 0.000</td> <td>-4.66e+04</td> <td> -4.1e+04</td>\n",
       "</tr>\n",
       "<tr>\n",
       "  <th>C(ocean_proximity)[T.ISLAND]</th>     <td> 2.753e+04</td> <td> 5.06e+04</td> <td>    0.544</td> <td> 0.586</td> <td>-7.17e+04</td> <td> 1.27e+05</td>\n",
       "</tr>\n",
       "<tr>\n",
       "  <th>C(ocean_proximity)[T.NEAR BAY]</th>   <td>-1.515e+04</td> <td> 1791.166</td> <td>   -8.456</td> <td> 0.000</td> <td>-1.87e+04</td> <td>-1.16e+04</td>\n",
       "</tr>\n",
       "<tr>\n",
       "  <th>C(ocean_proximity)[T.NEAR OCEAN]</th> <td> 1.155e+04</td> <td> 1458.700</td> <td>    7.916</td> <td> 0.000</td> <td> 8687.116</td> <td> 1.44e+04</td>\n",
       "</tr>\n",
       "<tr>\n",
       "  <th>C(geohash)[T.9mu]</th>                <td>-8.245e+04</td> <td> 8557.908</td> <td>   -9.634</td> <td> 0.000</td> <td>-9.92e+04</td> <td>-6.57e+04</td>\n",
       "</tr>\n",
       "<tr>\n",
       "  <th>C(geohash)[T.9mv]</th>                <td>-8.148e+04</td> <td> 9570.227</td> <td>   -8.514</td> <td> 0.000</td> <td>   -1e+05</td> <td>-6.27e+04</td>\n",
       "</tr>\n",
       "<tr>\n",
       "  <th>C(geohash)[T.9my]</th>                <td>-9.325e+04</td> <td> 1.73e+04</td> <td>   -5.377</td> <td> 0.000</td> <td>-1.27e+05</td> <td>-5.93e+04</td>\n",
       "</tr>\n",
       "<tr>\n",
       "  <th>C(geohash)[T.9nz]</th>                <td> 2.172e+04</td> <td> 5.06e+04</td> <td>    0.429</td> <td> 0.668</td> <td>-7.75e+04</td> <td> 1.21e+05</td>\n",
       "</tr>\n",
       "<tr>\n",
       "  <th>C(geohash)[T.9pp]</th>                <td>-1.481e+05</td> <td> 1.08e+04</td> <td>  -13.650</td> <td> 0.000</td> <td>-1.69e+05</td> <td>-1.27e+05</td>\n",
       "</tr>\n",
       "<tr>\n",
       "  <th>C(geohash)[T.9pr]</th>                <td>-1.416e+05</td> <td> 1.07e+04</td> <td>  -13.207</td> <td> 0.000</td> <td>-1.63e+05</td> <td>-1.21e+05</td>\n",
       "</tr>\n",
       "<tr>\n",
       "  <th>C(geohash)[T.9q3]</th>                <td> -4.35e+04</td> <td>  1.2e+04</td> <td>   -3.635</td> <td> 0.000</td> <td> -6.7e+04</td> <td>   -2e+04</td>\n",
       "</tr>\n",
       "<tr>\n",
       "  <th>C(geohash)[T.9q4]</th>                <td>-4.487e+04</td> <td> 9027.657</td> <td>   -4.971</td> <td> 0.000</td> <td>-6.26e+04</td> <td>-2.72e+04</td>\n",
       "</tr>\n",
       "<tr>\n",
       "  <th>C(geohash)[T.9q5]</th>                <td>-4.229e+04</td> <td> 8572.389</td> <td>   -4.934</td> <td> 0.000</td> <td>-5.91e+04</td> <td>-2.55e+04</td>\n",
       "</tr>\n",
       "<tr>\n",
       "  <th>C(geohash)[T.9q6]</th>                <td>-7.378e+04</td> <td> 9291.964</td> <td>   -7.940</td> <td> 0.000</td> <td> -9.2e+04</td> <td>-5.56e+04</td>\n",
       "</tr>\n",
       "<tr>\n",
       "  <th>C(geohash)[T.9q7]</th>                <td>-9.472e+04</td> <td> 8957.942</td> <td>  -10.574</td> <td> 0.000</td> <td>-1.12e+05</td> <td>-7.72e+04</td>\n",
       "</tr>\n",
       "<tr>\n",
       "  <th>C(geohash)[T.9q8]</th>                <td> 3927.7120</td> <td> 8793.857</td> <td>    0.447</td> <td> 0.655</td> <td>-1.33e+04</td> <td> 2.12e+04</td>\n",
       "</tr>\n",
       "<tr>\n",
       "  <th>C(geohash)[T.9q9]</th>                <td>-4.772e+04</td> <td> 8595.585</td> <td>   -5.552</td> <td> 0.000</td> <td>-6.46e+04</td> <td>-3.09e+04</td>\n",
       "</tr>\n",
       "<tr>\n",
       "  <th>C(geohash)[T.9qb]</th>                <td>-6.528e+04</td> <td> 8865.548</td> <td>   -7.363</td> <td> 0.000</td> <td>-8.27e+04</td> <td>-4.79e+04</td>\n",
       "</tr>\n",
       "<tr>\n",
       "  <th>C(geohash)[T.9qc]</th>                <td>-8.454e+04</td> <td> 8714.604</td> <td>   -9.701</td> <td> 0.000</td> <td>-1.02e+05</td> <td>-6.75e+04</td>\n",
       "</tr>\n",
       "<tr>\n",
       "  <th>C(geohash)[T.9qd]</th>                <td>-9.002e+04</td> <td> 8868.124</td> <td>  -10.151</td> <td> 0.000</td> <td>-1.07e+05</td> <td>-7.26e+04</td>\n",
       "</tr>\n",
       "<tr>\n",
       "  <th>C(geohash)[T.9qe]</th>                <td>-7.646e+04</td> <td> 1.07e+04</td> <td>   -7.174</td> <td> 0.000</td> <td>-9.74e+04</td> <td>-5.56e+04</td>\n",
       "</tr>\n",
       "<tr>\n",
       "  <th>C(geohash)[T.9qf]</th>                <td>-7.422e+04</td> <td> 9371.415</td> <td>   -7.920</td> <td> 0.000</td> <td>-9.26e+04</td> <td>-5.58e+04</td>\n",
       "</tr>\n",
       "<tr>\n",
       "  <th>C(geohash)[T.9qg]</th>                <td>-8.893e+04</td> <td> 3.01e+04</td> <td>   -2.958</td> <td> 0.003</td> <td>-1.48e+05</td> <td>   -3e+04</td>\n",
       "</tr>\n",
       "<tr>\n",
       "  <th>C(geohash)[T.9qh]</th>                <td>-6.666e+04</td> <td> 8620.116</td> <td>   -7.733</td> <td> 0.000</td> <td>-8.36e+04</td> <td>-4.98e+04</td>\n",
       "</tr>\n",
       "<tr>\n",
       "  <th>C(geohash)[T.9qj]</th>                <td>-8.917e+04</td> <td> 1.03e+04</td> <td>   -8.673</td> <td> 0.000</td> <td>-1.09e+05</td> <td> -6.9e+04</td>\n",
       "</tr>\n",
       "<tr>\n",
       "  <th>C(geohash)[T.9qk]</th>                <td>-1.472e+05</td> <td> 1.41e+04</td> <td>  -10.434</td> <td> 0.000</td> <td>-1.75e+05</td> <td> -1.2e+05</td>\n",
       "</tr>\n",
       "<tr>\n",
       "  <th>C(geohash)[T.9qm]</th>                <td>-1.177e+05</td> <td> 3.01e+04</td> <td>   -3.914</td> <td> 0.000</td> <td>-1.77e+05</td> <td>-5.87e+04</td>\n",
       "</tr>\n",
       "<tr>\n",
       "  <th>C(geohash)[T.9qn]</th>                <td>-1.016e+05</td> <td> 1.81e+04</td> <td>   -5.621</td> <td> 0.000</td> <td>-1.37e+05</td> <td>-6.62e+04</td>\n",
       "</tr>\n",
       "<tr>\n",
       "  <th>C(geohash)[T.9qs]</th>                <td>-6.696e+04</td> <td> 3.63e+04</td> <td>   -1.844</td> <td> 0.065</td> <td>-1.38e+05</td> <td> 4206.726</td>\n",
       "</tr>\n",
       "<tr>\n",
       "  <th>C(geohash)[T.9r0]</th>                <td> -9.18e+04</td> <td> 1.01e+04</td> <td>   -9.089</td> <td> 0.000</td> <td>-1.12e+05</td> <td> -7.2e+04</td>\n",
       "</tr>\n",
       "<tr>\n",
       "  <th>C(geohash)[T.9r1]</th>                <td>-9.168e+04</td> <td> 9248.049</td> <td>   -9.913</td> <td> 0.000</td> <td> -1.1e+05</td> <td>-7.36e+04</td>\n",
       "</tr>\n",
       "<tr>\n",
       "  <th>C(geohash)[T.9r2]</th>                <td>-1.004e+05</td> <td>  1.3e+04</td> <td>   -7.698</td> <td> 0.000</td> <td>-1.26e+05</td> <td>-7.48e+04</td>\n",
       "</tr>\n",
       "<tr>\n",
       "  <th>C(geohash)[T.9r3]</th>                <td>-1.069e+05</td> <td> 1.37e+04</td> <td>   -7.806</td> <td> 0.000</td> <td>-1.34e+05</td> <td>-8.01e+04</td>\n",
       "</tr>\n",
       "<tr>\n",
       "  <th>C(geohash)[T.9r4]</th>                <td>-9.511e+04</td> <td>  1.2e+04</td> <td>   -7.929</td> <td> 0.000</td> <td>-1.19e+05</td> <td>-7.16e+04</td>\n",
       "</tr>\n",
       "<tr>\n",
       "  <th>C(geohash)[T.9r6]</th>                <td> -1.18e+05</td> <td> 2.21e+04</td> <td>   -5.334</td> <td> 0.000</td> <td>-1.61e+05</td> <td>-7.46e+04</td>\n",
       "</tr>\n",
       "<tr>\n",
       "  <th>median_income</th>                    <td> 3.971e+04</td> <td>  278.596</td> <td>  142.536</td> <td> 0.000</td> <td> 3.92e+04</td> <td> 4.03e+04</td>\n",
       "</tr>\n",
       "<tr>\n",
       "  <th>households_population</th>            <td> 2.323e+05</td> <td> 4698.554</td> <td>   49.436</td> <td> 0.000</td> <td> 2.23e+05</td> <td> 2.41e+05</td>\n",
       "</tr>\n",
       "<tr>\n",
       "  <th>total_rooms_households</th>           <td> -222.5164</td> <td>  197.473</td> <td>   -1.127</td> <td> 0.260</td> <td> -609.586</td> <td>  164.553</td>\n",
       "</tr>\n",
       "<tr>\n",
       "  <th>housing_median_age</th>               <td>  416.1106</td> <td>   37.110</td> <td>   11.213</td> <td> 0.000</td> <td>  343.371</td> <td>  488.850</td>\n",
       "</tr>\n",
       "</table>\n",
       "<table class=\"simpletable\">\n",
       "<tr>\n",
       "  <th>Omnibus:</th>       <td>1355.662</td> <th>  Durbin-Watson:     </th> <td>   1.975</td>\n",
       "</tr>\n",
       "<tr>\n",
       "  <th>Prob(Omnibus):</th>  <td> 0.000</td>  <th>  Jarque-Bera (JB):  </th> <td>2428.917</td>\n",
       "</tr>\n",
       "<tr>\n",
       "  <th>Skew:</th>           <td> 0.620</td>  <th>  Prob(JB):          </th> <td>    0.00</td>\n",
       "</tr>\n",
       "<tr>\n",
       "  <th>Kurtosis:</th>       <td> 4.491</td>  <th>  Cond. No.          </th> <td>4.40e+03</td>\n",
       "</tr>\n",
       "</table><br/><br/>Notes:<br/>[1] Standard Errors assume that the covariance matrix of the errors is correctly specified.<br/>[2] The condition number is large, 4.4e+03. This might indicate that there are<br/>strong multicollinearity or other numerical problems."
      ],
      "text/plain": [
       "<class 'statsmodels.iolib.summary.Summary'>\n",
       "\"\"\"\n",
       "                            OLS Regression Results                            \n",
       "==============================================================================\n",
       "Dep. Variable:     median_house_value   R-squared:                       0.754\n",
       "Model:                            OLS   Adj. R-squared:                  0.753\n",
       "Method:                 Least Squares   F-statistic:                     1212.\n",
       "Date:                Wed, 19 Jan 2022   Prob (F-statistic):               0.00\n",
       "Time:                        16:28:02   Log-Likelihood:            -1.8954e+05\n",
       "No. Observations:               15492   AIC:                         3.792e+05\n",
       "Df Residuals:                   15452   BIC:                         3.795e+05\n",
       "Df Model:                          39                                         \n",
       "Covariance Type:            nonrobust                                         \n",
       "====================================================================================================\n",
       "                                       coef    std err          t      P>|t|      [0.025      0.975]\n",
       "----------------------------------------------------------------------------------------------------\n",
       "Intercept                         2.657e+04   8927.873      2.976      0.003    9067.712    4.41e+04\n",
       "C(ocean_proximity)[T.INLAND]     -4.381e+04   1438.307    -30.458      0.000   -4.66e+04    -4.1e+04\n",
       "C(ocean_proximity)[T.ISLAND]      2.753e+04   5.06e+04      0.544      0.586   -7.17e+04    1.27e+05\n",
       "C(ocean_proximity)[T.NEAR BAY]   -1.515e+04   1791.166     -8.456      0.000   -1.87e+04   -1.16e+04\n",
       "C(ocean_proximity)[T.NEAR OCEAN]  1.155e+04   1458.700      7.916      0.000    8687.116    1.44e+04\n",
       "C(geohash)[T.9mu]                -8.245e+04   8557.908     -9.634      0.000   -9.92e+04   -6.57e+04\n",
       "C(geohash)[T.9mv]                -8.148e+04   9570.227     -8.514      0.000      -1e+05   -6.27e+04\n",
       "C(geohash)[T.9my]                -9.325e+04   1.73e+04     -5.377      0.000   -1.27e+05   -5.93e+04\n",
       "C(geohash)[T.9nz]                 2.172e+04   5.06e+04      0.429      0.668   -7.75e+04    1.21e+05\n",
       "C(geohash)[T.9pp]                -1.481e+05   1.08e+04    -13.650      0.000   -1.69e+05   -1.27e+05\n",
       "C(geohash)[T.9pr]                -1.416e+05   1.07e+04    -13.207      0.000   -1.63e+05   -1.21e+05\n",
       "C(geohash)[T.9q3]                 -4.35e+04    1.2e+04     -3.635      0.000    -6.7e+04      -2e+04\n",
       "C(geohash)[T.9q4]                -4.487e+04   9027.657     -4.971      0.000   -6.26e+04   -2.72e+04\n",
       "C(geohash)[T.9q5]                -4.229e+04   8572.389     -4.934      0.000   -5.91e+04   -2.55e+04\n",
       "C(geohash)[T.9q6]                -7.378e+04   9291.964     -7.940      0.000    -9.2e+04   -5.56e+04\n",
       "C(geohash)[T.9q7]                -9.472e+04   8957.942    -10.574      0.000   -1.12e+05   -7.72e+04\n",
       "C(geohash)[T.9q8]                 3927.7120   8793.857      0.447      0.655   -1.33e+04    2.12e+04\n",
       "C(geohash)[T.9q9]                -4.772e+04   8595.585     -5.552      0.000   -6.46e+04   -3.09e+04\n",
       "C(geohash)[T.9qb]                -6.528e+04   8865.548     -7.363      0.000   -8.27e+04   -4.79e+04\n",
       "C(geohash)[T.9qc]                -8.454e+04   8714.604     -9.701      0.000   -1.02e+05   -6.75e+04\n",
       "C(geohash)[T.9qd]                -9.002e+04   8868.124    -10.151      0.000   -1.07e+05   -7.26e+04\n",
       "C(geohash)[T.9qe]                -7.646e+04   1.07e+04     -7.174      0.000   -9.74e+04   -5.56e+04\n",
       "C(geohash)[T.9qf]                -7.422e+04   9371.415     -7.920      0.000   -9.26e+04   -5.58e+04\n",
       "C(geohash)[T.9qg]                -8.893e+04   3.01e+04     -2.958      0.003   -1.48e+05      -3e+04\n",
       "C(geohash)[T.9qh]                -6.666e+04   8620.116     -7.733      0.000   -8.36e+04   -4.98e+04\n",
       "C(geohash)[T.9qj]                -8.917e+04   1.03e+04     -8.673      0.000   -1.09e+05    -6.9e+04\n",
       "C(geohash)[T.9qk]                -1.472e+05   1.41e+04    -10.434      0.000   -1.75e+05    -1.2e+05\n",
       "C(geohash)[T.9qm]                -1.177e+05   3.01e+04     -3.914      0.000   -1.77e+05   -5.87e+04\n",
       "C(geohash)[T.9qn]                -1.016e+05   1.81e+04     -5.621      0.000   -1.37e+05   -6.62e+04\n",
       "C(geohash)[T.9qs]                -6.696e+04   3.63e+04     -1.844      0.065   -1.38e+05    4206.726\n",
       "C(geohash)[T.9r0]                 -9.18e+04   1.01e+04     -9.089      0.000   -1.12e+05    -7.2e+04\n",
       "C(geohash)[T.9r1]                -9.168e+04   9248.049     -9.913      0.000    -1.1e+05   -7.36e+04\n",
       "C(geohash)[T.9r2]                -1.004e+05    1.3e+04     -7.698      0.000   -1.26e+05   -7.48e+04\n",
       "C(geohash)[T.9r3]                -1.069e+05   1.37e+04     -7.806      0.000   -1.34e+05   -8.01e+04\n",
       "C(geohash)[T.9r4]                -9.511e+04    1.2e+04     -7.929      0.000   -1.19e+05   -7.16e+04\n",
       "C(geohash)[T.9r6]                 -1.18e+05   2.21e+04     -5.334      0.000   -1.61e+05   -7.46e+04\n",
       "median_income                     3.971e+04    278.596    142.536      0.000    3.92e+04    4.03e+04\n",
       "households_population             2.323e+05   4698.554     49.436      0.000    2.23e+05    2.41e+05\n",
       "total_rooms_households            -222.5164    197.473     -1.127      0.260    -609.586     164.553\n",
       "housing_median_age                 416.1106     37.110     11.213      0.000     343.371     488.850\n",
       "==============================================================================\n",
       "Omnibus:                     1355.662   Durbin-Watson:                   1.975\n",
       "Prob(Omnibus):                  0.000   Jarque-Bera (JB):             2428.917\n",
       "Skew:                           0.620   Prob(JB):                         0.00\n",
       "Kurtosis:                       4.491   Cond. No.                     4.40e+03\n",
       "==============================================================================\n",
       "\n",
       "Notes:\n",
       "[1] Standard Errors assume that the covariance matrix of the errors is correctly specified.\n",
       "[2] The condition number is large, 4.4e+03. This might indicate that there are\n",
       "strong multicollinearity or other numerical problems.\n",
       "\"\"\""
      ]
     },
     "execution_count": 202,
     "metadata": {},
     "output_type": "execute_result"
    }
   ],
   "source": [
    "lm3opt.summary()"
   ]
  },
  {
   "cell_type": "code",
   "execution_count": 203,
   "metadata": {},
   "outputs": [
    {
     "name": "stdout",
     "output_type": "stream",
     "text": [
      "r2:  0.7536\n",
      "RMSE  49803.87\n",
      "MSE:  2480425056.56\n"
     ]
    }
   ],
   "source": [
    "r2_lm3opt, rmse_lm3opt, mse_lm3opt = metrics_stats(lm3opt,train_dataset_opt)"
   ]
  },
  {
   "cell_type": "markdown",
   "metadata": {},
   "source": [
    "Für dieses Modell liegt der RMSE unter 50 Tsd. USD.  Wird nur diese Größe betrachtet handelt es hierbei um das beste Modell. "
   ]
  },
  {
   "cell_type": "markdown",
   "metadata": {},
   "source": [
    "### Statsmodel Lasso"
   ]
  },
  {
   "cell_type": "markdown",
   "metadata": {},
   "source": [
    "**Model Lasso: Build**"
   ]
  },
  {
   "cell_type": "markdown",
   "metadata": {},
   "source": [
    "Folgendes Modell basiert auf eine Recherche im Internet zur Anwendung von Lasso mit der Bibliothek Statsmodels. Mit dem Parameter `L1_wt` wird eine regularisiertes Modell nach Lasso umgesetzt. Zu dieser Umsetzung habe ich wenige Quelle gefunden. "
   ]
  },
  {
   "cell_type": "code",
   "execution_count": 204,
   "metadata": {},
   "outputs": [],
   "source": [
    "lmlasso = smf.ols(formula ='median_house_value ~ median_income + C(ocean_proximity) + households_population + total_rooms_households + total_rooms_total_bedrooms+C(geohash)', data=train_dataset).fit_regularized(L1_wt=1)"
   ]
  },
  {
   "cell_type": "code",
   "execution_count": 205,
   "metadata": {},
   "outputs": [],
   "source": [
    "train_dataset['y_pred'] = lmlasso.predict()"
   ]
  },
  {
   "cell_type": "markdown",
   "metadata": {},
   "source": [
    "**Model Lasso: Metrics and Evaluation**"
   ]
  },
  {
   "cell_type": "code",
   "execution_count": 206,
   "metadata": {},
   "outputs": [
    {
     "name": "stdout",
     "output_type": "stream",
     "text": [
      "RMSE  66740.06\n",
      "MSE:  4454235922.2\n"
     ]
    }
   ],
   "source": [
    "rmse_lasso= round(rmse(train_dataset['median_house_value'], train_dataset['y_pred']), 2)\n",
    "mse_lasso = round (mse(train_dataset['median_house_value'], train_dataset['y_pred']), 2)\n",
    "print(\"RMSE \",rmse_lasso)\n",
    "print(\"MSE: \",mse_lasso)\n"
   ]
  },
  {
   "cell_type": "markdown",
   "metadata": {},
   "source": [
    "Der RMSE liegt mit ca. 66,7 Tsd. USD unter 70 Tsd. USD. "
   ]
  },
  {
   "cell_type": "markdown",
   "metadata": {},
   "source": [
    "### Natural Spline Statsmodel"
   ]
  },
  {
   "cell_type": "markdown",
   "metadata": {},
   "source": [
    "**Model Splines: Build**"
   ]
  },
  {
   "cell_type": "markdown",
   "metadata": {},
   "source": [
    "Das Natural Splines Modell wir mit nur einer Variablen umgesetzt. Da *median_income* die höchste Korrelation  mit *median_house_value* aufweist wird dieser in das Modell einbezogen. "
   ]
  },
  {
   "cell_type": "code",
   "execution_count": 207,
   "metadata": {},
   "outputs": [],
   "source": [
    "X_train = train_dataset['median_income']\n",
    "y_train = train_dataset['median_house_value']"
   ]
  },
  {
   "cell_type": "code",
   "execution_count": 208,
   "metadata": {},
   "outputs": [],
   "source": [
    "from patsy import dmatrix\n",
    "transformed_x3 = dmatrix(\"cr(train,df = 3)\", {\"train\": X_train}, return_type='dataframe')"
   ]
  },
  {
   "cell_type": "code",
   "execution_count": 209,
   "metadata": {},
   "outputs": [],
   "source": [
    "spline = sm.GLM(y_train, transformed_x3).fit()"
   ]
  },
  {
   "cell_type": "code",
   "execution_count": 210,
   "metadata": {},
   "outputs": [],
   "source": [
    "y_pred= spline.predict(dmatrix(\"cr(train, df=3)\", {\"train\": X_train}, return_type='dataframe'))"
   ]
  },
  {
   "cell_type": "markdown",
   "metadata": {},
   "source": [
    "**Model Splines: Metrics and Evaluation**"
   ]
  },
  {
   "cell_type": "code",
   "execution_count": 211,
   "metadata": {},
   "outputs": [
    {
     "data": {
      "text/html": [
       "<table class=\"simpletable\">\n",
       "<caption>Generalized Linear Model Regression Results</caption>\n",
       "<tr>\n",
       "  <th>Dep. Variable:</th>   <td>median_house_value</td> <th>  No. Observations:  </th>   <td> 16511</td>   \n",
       "</tr>\n",
       "<tr>\n",
       "  <th>Model:</th>                   <td>GLM</td>        <th>  Df Residuals:      </th>   <td> 16508</td>   \n",
       "</tr>\n",
       "<tr>\n",
       "  <th>Model Family:</th>         <td>Gaussian</td>      <th>  Df Model:          </th>   <td>     2</td>   \n",
       "</tr>\n",
       "<tr>\n",
       "  <th>Link Function:</th>        <td>identity</td>      <th>  Scale:             </th> <td>7.0501e+09</td> \n",
       "</tr>\n",
       "<tr>\n",
       "  <th>Method:</th>                 <td>IRLS</td>        <th>  Log-Likelihood:    </th> <td>-2.1063e+05</td>\n",
       "</tr>\n",
       "<tr>\n",
       "  <th>Date:</th>             <td>Wed, 19 Jan 2022</td>  <th>  Deviance:          </th> <td>1.1638e+14</td> \n",
       "</tr>\n",
       "<tr>\n",
       "  <th>Time:</th>                 <td>16:28:05</td>      <th>  Pearson chi2:      </th>  <td>1.16e+14</td>  \n",
       "</tr>\n",
       "<tr>\n",
       "  <th>No. Iterations:</th>           <td>3</td>         <th>  Pseudo R-squ. (CS):</th>   <td>0.5935</td>   \n",
       "</tr>\n",
       "<tr>\n",
       "  <th>Covariance Type:</th>      <td>nonrobust</td>     <th>                     </th>      <td> </td>     \n",
       "</tr>\n",
       "</table>\n",
       "<table class=\"simpletable\">\n",
       "<tr>\n",
       "           <td></td>             <th>coef</th>     <th>std err</th>      <th>z</th>      <th>P>|z|</th>  <th>[0.025</th>    <th>0.975]</th>  \n",
       "</tr>\n",
       "<tr>\n",
       "  <th>Intercept</th>          <td> 2.137e+05</td> <td> 2081.252</td> <td>  102.694</td> <td> 0.000</td> <td>  2.1e+05</td> <td> 2.18e+05</td>\n",
       "</tr>\n",
       "<tr>\n",
       "  <th>cr(train, df=3)[0]</th> <td>-1.637e+05</td> <td> 1833.977</td> <td>  -89.247</td> <td> 0.000</td> <td>-1.67e+05</td> <td> -1.6e+05</td>\n",
       "</tr>\n",
       "<tr>\n",
       "  <th>cr(train, df=3)[1]</th> <td>-1.035e+04</td> <td> 2352.411</td> <td>   -4.401</td> <td> 0.000</td> <td> -1.5e+04</td> <td>-5742.739</td>\n",
       "</tr>\n",
       "<tr>\n",
       "  <th>cr(train, df=3)[2]</th> <td> 3.878e+05</td> <td> 5468.656</td> <td>   70.907</td> <td> 0.000</td> <td> 3.77e+05</td> <td> 3.98e+05</td>\n",
       "</tr>\n",
       "</table>"
      ],
      "text/plain": [
       "<class 'statsmodels.iolib.summary.Summary'>\n",
       "\"\"\"\n",
       "                 Generalized Linear Model Regression Results                  \n",
       "==============================================================================\n",
       "Dep. Variable:     median_house_value   No. Observations:                16511\n",
       "Model:                            GLM   Df Residuals:                    16508\n",
       "Model Family:                Gaussian   Df Model:                            2\n",
       "Link Function:               identity   Scale:                      7.0501e+09\n",
       "Method:                          IRLS   Log-Likelihood:            -2.1063e+05\n",
       "Date:                Wed, 19 Jan 2022   Deviance:                   1.1638e+14\n",
       "Time:                        16:28:05   Pearson chi2:                 1.16e+14\n",
       "No. Iterations:                     3   Pseudo R-squ. (CS):             0.5935\n",
       "Covariance Type:            nonrobust                                         \n",
       "======================================================================================\n",
       "                         coef    std err          z      P>|z|      [0.025      0.975]\n",
       "--------------------------------------------------------------------------------------\n",
       "Intercept           2.137e+05   2081.252    102.694      0.000     2.1e+05    2.18e+05\n",
       "cr(train, df=3)[0] -1.637e+05   1833.977    -89.247      0.000   -1.67e+05    -1.6e+05\n",
       "cr(train, df=3)[1] -1.035e+04   2352.411     -4.401      0.000    -1.5e+04   -5742.739\n",
       "cr(train, df=3)[2]  3.878e+05   5468.656     70.907      0.000    3.77e+05    3.98e+05\n",
       "======================================================================================\n",
       "\"\"\""
      ]
     },
     "execution_count": 211,
     "metadata": {},
     "output_type": "execute_result"
    }
   ],
   "source": [
    "spline.summary()"
   ]
  },
  {
   "cell_type": "code",
   "execution_count": 212,
   "metadata": {},
   "outputs": [
    {
     "name": "stdout",
     "output_type": "stream",
     "text": [
      "RMSE  83955.93\n",
      "MSE:  7048597740.17\n"
     ]
    }
   ],
   "source": [
    "rmse_spline= round(rmse(train_dataset['median_house_value'], y_pred), 2)\n",
    "mse_spline = round (mse(train_dataset['median_house_value'], y_pred), 2)\n",
    "print(\"RMSE \",rmse_spline)\n",
    "print(\"MSE: \",mse_spline)"
   ]
  },
  {
   "cell_type": "markdown",
   "metadata": {},
   "source": [
    "Da ein Ergebnis der Regression Diagnostic ist, dass Spline für diese Problem besser geeignet sind, entspricht das Ergebnis nicht den Erwartungen. Grund kann dafür das Einbeziehen nur einer Variable sein. "
   ]
  },
  {
   "cell_type": "code",
   "execution_count": 213,
   "metadata": {},
   "outputs": [
    {
     "data": {
      "text/plain": [
       "<matplotlib.legend.Legend at 0x24edf4e0508>"
      ]
     },
     "execution_count": 213,
     "metadata": {},
     "output_type": "execute_result"
    },
    {
     "data": {
      "image/png": "[encoded data removed]",
      "text/plain": [
       "<Figure size 504x504 with 1 Axes>"
      ]
     },
     "metadata": {
      "needs_background": "light"
     },
     "output_type": "display_data"
    }
   ],
   "source": [
    "sns.scatterplot(x=X_train, y=y_train)\n",
    "plt.plot(X_train, y_pred, color='orange', label='Natural spline with df=3')\n",
    "plt.legend()"
   ]
  },
  {
   "cell_type": "markdown",
   "metadata": {},
   "source": [
    "### Evaluation"
   ]
  },
  {
   "cell_type": "markdown",
   "metadata": {},
   "source": [
    "Für die Evaluation werden die RMSE der einzelnen Modelle miteinander verglichen. Das Modell mit dem niedrigsten RMSE wird mit den Testdaten validiert. "
   ]
  },
  {
   "cell_type": "code",
   "execution_count": 214,
   "metadata": {},
   "outputs": [
    {
     "data": {
      "text/html": [
       "<div>\n",
       "<style scoped>\n",
       "    .dataframe tbody tr th:only-of-type {\n",
       "        vertical-align: middle;\n",
       "    }\n",
       "\n",
       "    .dataframe tbody tr th {\n",
       "        vertical-align: top;\n",
       "    }\n",
       "\n",
       "    .dataframe thead th {\n",
       "        text-align: right;\n",
       "    }\n",
       "</style>\n",
       "<table border=\"1\" class=\"dataframe\">\n",
       "  <thead>\n",
       "    <tr style=\"text-align: right;\">\n",
       "      <th></th>\n",
       "      <th>RMSE</th>\n",
       "      <th>Werte</th>\n",
       "    </tr>\n",
       "  </thead>\n",
       "  <tbody>\n",
       "    <tr>\n",
       "      <th>3</th>\n",
       "      <td>RMSE OLS 3 opt</td>\n",
       "      <td>49803.87</td>\n",
       "    </tr>\n",
       "    <tr>\n",
       "      <th>2</th>\n",
       "      <td>RMSE OLS 3</td>\n",
       "      <td>63731.02</td>\n",
       "    </tr>\n",
       "    <tr>\n",
       "      <th>4</th>\n",
       "      <td>RMSE Lasso</td>\n",
       "      <td>66740.06</td>\n",
       "    </tr>\n",
       "    <tr>\n",
       "      <th>1</th>\n",
       "      <td>RMSE OLS 2</td>\n",
       "      <td>81394.62</td>\n",
       "    </tr>\n",
       "    <tr>\n",
       "      <th>5</th>\n",
       "      <td>RMSE Spline</td>\n",
       "      <td>83955.93</td>\n",
       "    </tr>\n",
       "    <tr>\n",
       "      <th>0</th>\n",
       "      <td>RMSE OLS 1</td>\n",
       "      <td>84238.28</td>\n",
       "    </tr>\n",
       "  </tbody>\n",
       "</table>\n",
       "</div>"
      ],
      "text/plain": [
       "             RMSE     Werte\n",
       "3  RMSE OLS 3 opt  49803.87\n",
       "2      RMSE OLS 3  63731.02\n",
       "4      RMSE Lasso  66740.06\n",
       "1      RMSE OLS 2  81394.62\n",
       "5     RMSE Spline  83955.93\n",
       "0      RMSE OLS 1  84238.28"
      ]
     },
     "execution_count": 214,
     "metadata": {},
     "output_type": "execute_result"
    }
   ],
   "source": [
    "results= {'RMSE': ['RMSE OLS 1', 'RMSE OLS 2', 'RMSE OLS 3', 'RMSE OLS 3 opt', 'RMSE Lasso', 'RMSE Spline'],\n",
    "        'Werte': [rmse_lm1, rmse_lm2, rmse_lm3, rmse_lm3opt, rmse_lasso, rmse_spline] }\n",
    "df_results = pd.DataFrame(results)\n",
    "df_results.sort_values(by ='Werte')"
   ]
  },
  {
   "cell_type": "code",
   "execution_count": 215,
   "metadata": {},
   "outputs": [],
   "source": [
    "test_dataset = add_feautures(test_dataset)\n",
    "test_dataset = fill_missingdata(test_dataset)"
   ]
  },
  {
   "cell_type": "code",
   "execution_count": 216,
   "metadata": {},
   "outputs": [],
   "source": [
    "test_dataset['y_pred'] = lm3opt.predict(test_dataset[['median_income', 'ocean_proximity', 'households_population', 'total_rooms_households', 'housing_median_age', 'geohash']])"
   ]
  },
  {
   "cell_type": "code",
   "execution_count": 217,
   "metadata": {},
   "outputs": [
    {
     "name": "stdout",
     "output_type": "stream",
     "text": [
      "r2:  0.7536\n",
      "RMSE  63071.78\n",
      "MSE:  3978049594.35\n"
     ]
    }
   ],
   "source": [
    "r2_test, rmse_test, mse_test = metrics_stats(lm3opt,test_dataset)"
   ]
  },
  {
   "cell_type": "markdown",
   "metadata": {},
   "source": [
    "Das Modell kann als Erfolg gewertet werde, das Modell angewandt auf die Testdaten ebenfalls ein RMSE von unter 70 Tsd. USD erreicht.  "
   ]
  },
  {
   "cell_type": "markdown",
   "metadata": {},
   "source": [
    "## Model sklearn"
   ]
  },
  {
   "cell_type": "code",
   "execution_count": 218,
   "metadata": {},
   "outputs": [
    {
     "name": "stdout",
     "output_type": "stream",
     "text": [
      "The autoreload extension is already loaded. To reload it, use:\n",
      "  %reload_ext autoreload\n"
     ]
    }
   ],
   "source": [
    "from sklearn.model_selection import train_test_split\n",
    "\n",
    "from sklearn.compose import ColumnTransformer, make_column_selector as selector\n",
    "from sklearn.pipeline import Pipeline\n",
    "from sklearn.impute import SimpleImputer\n",
    "from sklearn.preprocessing import StandardScaler, OneHotEncoder\n",
    "from sklearn.linear_model import LinearRegression, LassoCV, Lasso, Ridge\n",
    "from sklearn.metrics import mean_squared_error, r2_score, mean_absolute_error\n",
    "from sklearn.preprocessing import PolynomialFeatures\n",
    "\n",
    "import seaborn as sns  \n",
    "\n",
    "\n",
    "from func import *\n",
    "from sklearn import set_config\n",
    "\n",
    "%load_ext autoreload\n",
    "%autoreload 2\n",
    "set_config(display=\"diagram\")"
   ]
  },
  {
   "cell_type": "markdown",
   "metadata": {},
   "source": [
    "### sklearn OLS"
   ]
  },
  {
   "cell_type": "markdown",
   "metadata": {},
   "source": [
    "**Data Preperation**"
   ]
  },
  {
   "cell_type": "markdown",
   "metadata": {},
   "source": [
    "Zur Datenvorbereitung  mit der Bibliothek scikit-learn wird ein *preprocessor* angewendet. Der Aufbau des *preprocessors* ist im Notebook Data genauer beschrieben. In diesem Fall wird dieser über die Funktion erstellt. "
   ]
  },
  {
   "cell_type": "code",
   "execution_count": 219,
   "metadata": {},
   "outputs": [],
   "source": [
    "df = read_data()\n",
    "df = transform_data(df)"
   ]
  },
  {
   "cell_type": "code",
   "execution_count": 220,
   "metadata": {},
   "outputs": [],
   "source": [
    "#Split Test and Trainingsdata\n",
    "X = df.drop('median_house_value', axis=1)\n",
    "y = df['median_house_value']\n",
    "\n",
    "X_train, X_test, y_train, y_test = train_test_split(X, y, test_size=0.2, random_state=42)\n"
   ]
  },
  {
   "cell_type": "code",
   "execution_count": 221,
   "metadata": {},
   "outputs": [],
   "source": [
    "X_train = add_feautures(X_train)"
   ]
  },
  {
   "cell_type": "code",
   "execution_count": 222,
   "metadata": {},
   "outputs": [
    {
     "data": {
      "text/html": [
       "<div>\n",
       "<style scoped>\n",
       "    .dataframe tbody tr th:only-of-type {\n",
       "        vertical-align: middle;\n",
       "    }\n",
       "\n",
       "    .dataframe tbody tr th {\n",
       "        vertical-align: top;\n",
       "    }\n",
       "\n",
       "    .dataframe thead th {\n",
       "        text-align: right;\n",
       "    }\n",
       "</style>\n",
       "<table border=\"1\" class=\"dataframe\">\n",
       "  <thead>\n",
       "    <tr style=\"text-align: right;\">\n",
       "      <th></th>\n",
       "      <th>median_income</th>\n",
       "      <th>ocean_proximity</th>\n",
       "      <th>housing_median_age</th>\n",
       "      <th>households_population</th>\n",
       "      <th>total_rooms_households</th>\n",
       "      <th>total_rooms_total_bedrooms</th>\n",
       "      <th>geohash</th>\n",
       "    </tr>\n",
       "  </thead>\n",
       "  <tbody>\n",
       "    <tr>\n",
       "      <th>14196</th>\n",
       "      <td>3.2596</td>\n",
       "      <td>NEAR OCEAN</td>\n",
       "      <td>33.0</td>\n",
       "      <td>0.270870</td>\n",
       "      <td>5.017657</td>\n",
       "      <td>4.985646</td>\n",
       "      <td>9mu</td>\n",
       "    </tr>\n",
       "    <tr>\n",
       "      <th>8267</th>\n",
       "      <td>3.8125</td>\n",
       "      <td>NEAR OCEAN</td>\n",
       "      <td>49.0</td>\n",
       "      <td>0.575342</td>\n",
       "      <td>4.473545</td>\n",
       "      <td>4.297332</td>\n",
       "      <td>9q5</td>\n",
       "    </tr>\n",
       "    <tr>\n",
       "      <th>17445</th>\n",
       "      <td>4.1563</td>\n",
       "      <td>NEAR OCEAN</td>\n",
       "      <td>4.0</td>\n",
       "      <td>0.367213</td>\n",
       "      <td>5.645833</td>\n",
       "      <td>5.731118</td>\n",
       "      <td>9q4</td>\n",
       "    </tr>\n",
       "    <tr>\n",
       "      <th>14265</th>\n",
       "      <td>1.9425</td>\n",
       "      <td>NEAR OCEAN</td>\n",
       "      <td>36.0</td>\n",
       "      <td>0.250353</td>\n",
       "      <td>4.002817</td>\n",
       "      <td>3.871935</td>\n",
       "      <td>9mu</td>\n",
       "    </tr>\n",
       "    <tr>\n",
       "      <th>2271</th>\n",
       "      <td>3.5542</td>\n",
       "      <td>INLAND</td>\n",
       "      <td>43.0</td>\n",
       "      <td>0.434783</td>\n",
       "      <td>6.268421</td>\n",
       "      <td>5.526682</td>\n",
       "      <td>9qd</td>\n",
       "    </tr>\n",
       "    <tr>\n",
       "      <th>...</th>\n",
       "      <td>...</td>\n",
       "      <td>...</td>\n",
       "      <td>...</td>\n",
       "      <td>...</td>\n",
       "      <td>...</td>\n",
       "      <td>...</td>\n",
       "      <td>...</td>\n",
       "    </tr>\n",
       "    <tr>\n",
       "      <th>11284</th>\n",
       "      <td>6.3700</td>\n",
       "      <td>&lt;1H OCEAN</td>\n",
       "      <td>35.0</td>\n",
       "      <td>0.329787</td>\n",
       "      <td>6.129032</td>\n",
       "      <td>6.616915</td>\n",
       "      <td>9qh</td>\n",
       "    </tr>\n",
       "    <tr>\n",
       "      <th>11964</th>\n",
       "      <td>3.0500</td>\n",
       "      <td>INLAND</td>\n",
       "      <td>33.0</td>\n",
       "      <td>0.256132</td>\n",
       "      <td>6.868597</td>\n",
       "      <td>5.410526</td>\n",
       "      <td>9qh</td>\n",
       "    </tr>\n",
       "    <tr>\n",
       "      <th>5390</th>\n",
       "      <td>2.9344</td>\n",
       "      <td>&lt;1H OCEAN</td>\n",
       "      <td>36.0</td>\n",
       "      <td>0.300114</td>\n",
       "      <td>3.986717</td>\n",
       "      <td>3.692443</td>\n",
       "      <td>9q5</td>\n",
       "    </tr>\n",
       "    <tr>\n",
       "      <th>860</th>\n",
       "      <td>5.7192</td>\n",
       "      <td>&lt;1H OCEAN</td>\n",
       "      <td>15.0</td>\n",
       "      <td>0.314575</td>\n",
       "      <td>6.395349</td>\n",
       "      <td>5.988275</td>\n",
       "      <td>9q9</td>\n",
       "    </tr>\n",
       "    <tr>\n",
       "      <th>15795</th>\n",
       "      <td>2.5755</td>\n",
       "      <td>NEAR BAY</td>\n",
       "      <td>52.0</td>\n",
       "      <td>0.474227</td>\n",
       "      <td>3.402576</td>\n",
       "      <td>3.213688</td>\n",
       "      <td>9q8</td>\n",
       "    </tr>\n",
       "  </tbody>\n",
       "</table>\n",
       "<p>16512 rows × 7 columns</p>\n",
       "</div>"
      ],
      "text/plain": [
       "       median_income ocean_proximity  housing_median_age  \\\n",
       "14196         3.2596      NEAR OCEAN                33.0   \n",
       "8267          3.8125      NEAR OCEAN                49.0   \n",
       "17445         4.1563      NEAR OCEAN                 4.0   \n",
       "14265         1.9425      NEAR OCEAN                36.0   \n",
       "2271          3.5542          INLAND                43.0   \n",
       "...              ...             ...                 ...   \n",
       "11284         6.3700       <1H OCEAN                35.0   \n",
       "11964         3.0500          INLAND                33.0   \n",
       "5390          2.9344       <1H OCEAN                36.0   \n",
       "860           5.7192       <1H OCEAN                15.0   \n",
       "15795         2.5755        NEAR BAY                52.0   \n",
       "\n",
       "       households_population  total_rooms_households  \\\n",
       "14196               0.270870                5.017657   \n",
       "8267                0.575342                4.473545   \n",
       "17445               0.367213                5.645833   \n",
       "14265               0.250353                4.002817   \n",
       "2271                0.434783                6.268421   \n",
       "...                      ...                     ...   \n",
       "11284               0.329787                6.129032   \n",
       "11964               0.256132                6.868597   \n",
       "5390                0.300114                3.986717   \n",
       "860                 0.314575                6.395349   \n",
       "15795               0.474227                3.402576   \n",
       "\n",
       "       total_rooms_total_bedrooms geohash  \n",
       "14196                    4.985646     9mu  \n",
       "8267                     4.297332     9q5  \n",
       "17445                    5.731118     9q4  \n",
       "14265                    3.871935     9mu  \n",
       "2271                     5.526682     9qd  \n",
       "...                           ...     ...  \n",
       "11284                    6.616915     9qh  \n",
       "11964                    5.410526     9qh  \n",
       "5390                     3.692443     9q5  \n",
       "860                      5.988275     9q9  \n",
       "15795                    3.213688     9q8  \n",
       "\n",
       "[16512 rows x 7 columns]"
      ]
     },
     "execution_count": 222,
     "metadata": {},
     "output_type": "execute_result"
    }
   ],
   "source": [
    "#Feauture Selection \n",
    "X_train = X_train[['median_income', 'ocean_proximity','housing_median_age', 'households_population', 'total_rooms_households', 'total_rooms_total_bedrooms', 'geohash']]\n",
    "X_train"
   ]
  },
  {
   "cell_type": "code",
   "execution_count": 223,
   "metadata": {},
   "outputs": [],
   "source": [
    "preprocessor = build_preprocessor()"
   ]
  },
  {
   "cell_type": "markdown",
   "metadata": {},
   "source": [
    "**Model OLS**"
   ]
  },
  {
   "cell_type": "markdown",
   "metadata": {},
   "source": [
    "Das erste Modell, welches mit scikit-learn umsgesetzt wird, basiert ebenfalls auf der *Ordinary least squares*-Methode. Im Unterschied zu Statsmodel wird mit scikit-learn gleich eine Multiple-Regression durchgeführt, da diese deutlich bessere Ergebnisse erzielen konnte. "
   ]
  },
  {
   "cell_type": "code",
   "execution_count": 224,
   "metadata": {},
   "outputs": [],
   "source": [
    "lm_pipe = Pipeline(steps=[\n",
    "    ('preprocessor', preprocessor),\n",
    "    ('lm', LinearRegression())\n",
    "                        ])"
   ]
  },
  {
   "cell_type": "code",
   "execution_count": 225,
   "metadata": {},
   "outputs": [
    {
     "data": {
      "text/html": [
       "<style>#sk-e0113085-b695-48e9-8996-12eeba641150 {color: black;background-color: white;}#sk-e0113085-b695-48e9-8996-12eeba641150 pre{padding: 0;}#sk-e0113085-b695-48e9-8996-12eeba641150 div.sk-toggleable {background-color: white;}#sk-e0113085-b695-48e9-8996-12eeba641150 label.sk-toggleable__label {cursor: pointer;display: block;width: 100%;margin-bottom: 0;padding: 0.3em;box-sizing: border-box;text-align: center;}#sk-e0113085-b695-48e9-8996-12eeba641150 label.sk-toggleable__label-arrow:before {content: \"▸\";float: left;margin-right: 0.25em;color: #696969;}#sk-e0113085-b695-48e9-8996-12eeba641150 label.sk-toggleable__label-arrow:hover:before {color: black;}#sk-e0113085-b695-48e9-8996-12eeba641150 div.sk-estimator:hover label.sk-toggleable__label-arrow:before {color: black;}#sk-e0113085-b695-48e9-8996-12eeba641150 div.sk-toggleable__content {max-height: 0;max-width: 0;overflow: hidden;text-align: left;background-color: #f0f8ff;}#sk-e0113085-b695-48e9-8996-12eeba641150 div.sk-toggleable__content pre {margin: 0.2em;color: black;border-radius: 0.25em;background-color: #f0f8ff;}#sk-e0113085-b695-48e9-8996-12eeba641150 input.sk-toggleable__control:checked~div.sk-toggleable__content {max-height: 200px;max-width: 100%;overflow: auto;}#sk-e0113085-b695-48e9-8996-12eeba641150 input.sk-toggleable__control:checked~label.sk-toggleable__label-arrow:before {content: \"▾\";}#sk-e0113085-b695-48e9-8996-12eeba641150 div.sk-estimator input.sk-toggleable__control:checked~label.sk-toggleable__label {background-color: #d4ebff;}#sk-e0113085-b695-48e9-8996-12eeba641150 div.sk-label input.sk-toggleable__control:checked~label.sk-toggleable__label {background-color: #d4ebff;}#sk-e0113085-b695-48e9-8996-12eeba641150 input.sk-hidden--visually {border: 0;clip: rect(1px 1px 1px 1px);clip: rect(1px, 1px, 1px, 1px);height: 1px;margin: -1px;overflow: hidden;padding: 0;position: absolute;width: 1px;}#sk-e0113085-b695-48e9-8996-12eeba641150 div.sk-estimator {font-family: monospace;background-color: #f0f8ff;border: 1px dotted black;border-radius: 0.25em;box-sizing: border-box;margin-bottom: 0.5em;}#sk-e0113085-b695-48e9-8996-12eeba641150 div.sk-estimator:hover {background-color: #d4ebff;}#sk-e0113085-b695-48e9-8996-12eeba641150 div.sk-parallel-item::after {content: \"\";width: 100%;border-bottom: 1px solid gray;flex-grow: 1;}#sk-e0113085-b695-48e9-8996-12eeba641150 div.sk-label:hover label.sk-toggleable__label {background-color: #d4ebff;}#sk-e0113085-b695-48e9-8996-12eeba641150 div.sk-serial::before {content: \"\";position: absolute;border-left: 1px solid gray;box-sizing: border-box;top: 2em;bottom: 0;left: 50%;}#sk-e0113085-b695-48e9-8996-12eeba641150 div.sk-serial {display: flex;flex-direction: column;align-items: center;background-color: white;padding-right: 0.2em;padding-left: 0.2em;}#sk-e0113085-b695-48e9-8996-12eeba641150 div.sk-item {z-index: 1;}#sk-e0113085-b695-48e9-8996-12eeba641150 div.sk-parallel {display: flex;align-items: stretch;justify-content: center;background-color: white;}#sk-e0113085-b695-48e9-8996-12eeba641150 div.sk-parallel::before {content: \"\";position: absolute;border-left: 1px solid gray;box-sizing: border-box;top: 2em;bottom: 0;left: 50%;}#sk-e0113085-b695-48e9-8996-12eeba641150 div.sk-parallel-item {display: flex;flex-direction: column;position: relative;background-color: white;}#sk-e0113085-b695-48e9-8996-12eeba641150 div.sk-parallel-item:first-child::after {align-self: flex-end;width: 50%;}#sk-e0113085-b695-48e9-8996-12eeba641150 div.sk-parallel-item:last-child::after {align-self: flex-start;width: 50%;}#sk-e0113085-b695-48e9-8996-12eeba641150 div.sk-parallel-item:only-child::after {width: 0;}#sk-e0113085-b695-48e9-8996-12eeba641150 div.sk-dashed-wrapped {border: 1px dashed gray;margin: 0 0.4em 0.5em 0.4em;box-sizing: border-box;padding-bottom: 0.4em;background-color: white;position: relative;}#sk-e0113085-b695-48e9-8996-12eeba641150 div.sk-label label {font-family: monospace;font-weight: bold;background-color: white;display: inline-block;line-height: 1.2em;}#sk-e0113085-b695-48e9-8996-12eeba641150 div.sk-label-container {position: relative;z-index: 2;text-align: center;}#sk-e0113085-b695-48e9-8996-12eeba641150 div.sk-container {/* jupyter's `normalize.less` sets `[hidden] { display: none; }` but bootstrap.min.css set `[hidden] { display: none !important; }` so we also need the `!important` here to be able to override the default hidden behavior on the sphinx rendered scikit-learn.org. See: https://github.com/scikit-learn/scikit-learn/issues/21755 */display: inline-block !important;position: relative;}#sk-e0113085-b695-48e9-8996-12eeba641150 div.sk-text-repr-fallback {display: none;}</style><div id=\"sk-e0113085-b695-48e9-8996-12eeba641150\" class=\"sk-top-container\"><div class=\"sk-text-repr-fallback\"><pre>Pipeline(steps=[(&#x27;preprocessor&#x27;,\n",
       "                 ColumnTransformer(transformers=[(&#x27;num&#x27;,\n",
       "                                                  Pipeline(steps=[(&#x27;imputer&#x27;,\n",
       "                                                                   SimpleImputer(strategy=&#x27;median&#x27;)),\n",
       "                                                                  (&#x27;scaler&#x27;,\n",
       "                                                                   StandardScaler())]),\n",
       "                                                  &lt;sklearn.compose._column_transformer.make_column_selector object at 0x0000024EDF502F08&gt;),\n",
       "                                                 (&#x27;cat&#x27;,\n",
       "                                                  Pipeline(steps=[(&#x27;imputer&#x27;,\n",
       "                                                                   SimpleImputer(fill_value=&#x27;missing&#x27;,\n",
       "                                                                                 strategy=&#x27;constant&#x27;)),\n",
       "                                                                  (&#x27;onehot&#x27;,\n",
       "                                                                   OneHotEncoder(dtype=&lt;class &#x27;int&#x27;&gt;,\n",
       "                                                                                 handle_unknown=&#x27;ignore&#x27;))]),\n",
       "                                                  &lt;sklearn.compose._column_transformer.make_column_selector object at 0x0000024EDF502BC8&gt;)])),\n",
       "                (&#x27;lm&#x27;, LinearRegression())])</pre><b>Please rerun this cell to show the HTML repr or trust the notebook.</b></div><div class=\"sk-container\" hidden><div class=\"sk-item sk-dashed-wrapped\"><div class=\"sk-label-container\"><div class=\"sk-label sk-toggleable\"><input class=\"sk-toggleable__control sk-hidden--visually\" id=\"ef4c257c-ff82-424b-b982-13b6cd91fd63\" type=\"checkbox\" ><label for=\"ef4c257c-ff82-424b-b982-13b6cd91fd63\" class=\"sk-toggleable__label sk-toggleable__label-arrow\">Pipeline</label><div class=\"sk-toggleable__content\"><pre>Pipeline(steps=[(&#x27;preprocessor&#x27;,\n",
       "                 ColumnTransformer(transformers=[(&#x27;num&#x27;,\n",
       "                                                  Pipeline(steps=[(&#x27;imputer&#x27;,\n",
       "                                                                   SimpleImputer(strategy=&#x27;median&#x27;)),\n",
       "                                                                  (&#x27;scaler&#x27;,\n",
       "                                                                   StandardScaler())]),\n",
       "                                                  &lt;sklearn.compose._column_transformer.make_column_selector object at 0x0000024EDF502F08&gt;),\n",
       "                                                 (&#x27;cat&#x27;,\n",
       "                                                  Pipeline(steps=[(&#x27;imputer&#x27;,\n",
       "                                                                   SimpleImputer(fill_value=&#x27;missing&#x27;,\n",
       "                                                                                 strategy=&#x27;constant&#x27;)),\n",
       "                                                                  (&#x27;onehot&#x27;,\n",
       "                                                                   OneHotEncoder(dtype=&lt;class &#x27;int&#x27;&gt;,\n",
       "                                                                                 handle_unknown=&#x27;ignore&#x27;))]),\n",
       "                                                  &lt;sklearn.compose._column_transformer.make_column_selector object at 0x0000024EDF502BC8&gt;)])),\n",
       "                (&#x27;lm&#x27;, LinearRegression())])</pre></div></div></div><div class=\"sk-serial\"><div class=\"sk-item sk-dashed-wrapped\"><div class=\"sk-label-container\"><div class=\"sk-label sk-toggleable\"><input class=\"sk-toggleable__control sk-hidden--visually\" id=\"554497d4-c0bc-4154-816a-398d86c85926\" type=\"checkbox\" ><label for=\"554497d4-c0bc-4154-816a-398d86c85926\" class=\"sk-toggleable__label sk-toggleable__label-arrow\">preprocessor: ColumnTransformer</label><div class=\"sk-toggleable__content\"><pre>ColumnTransformer(transformers=[(&#x27;num&#x27;,\n",
       "                                 Pipeline(steps=[(&#x27;imputer&#x27;,\n",
       "                                                  SimpleImputer(strategy=&#x27;median&#x27;)),\n",
       "                                                 (&#x27;scaler&#x27;, StandardScaler())]),\n",
       "                                 &lt;sklearn.compose._column_transformer.make_column_selector object at 0x0000024EDF502F08&gt;),\n",
       "                                (&#x27;cat&#x27;,\n",
       "                                 Pipeline(steps=[(&#x27;imputer&#x27;,\n",
       "                                                  SimpleImputer(fill_value=&#x27;missing&#x27;,\n",
       "                                                                strategy=&#x27;constant&#x27;)),\n",
       "                                                 (&#x27;onehot&#x27;,\n",
       "                                                  OneHotEncoder(dtype=&lt;class &#x27;int&#x27;&gt;,\n",
       "                                                                handle_unknown=&#x27;ignore&#x27;))]),\n",
       "                                 &lt;sklearn.compose._column_transformer.make_column_selector object at 0x0000024EDF502BC8&gt;)])</pre></div></div></div><div class=\"sk-parallel\"><div class=\"sk-parallel-item\"><div class=\"sk-item\"><div class=\"sk-label-container\"><div class=\"sk-label sk-toggleable\"><input class=\"sk-toggleable__control sk-hidden--visually\" id=\"dc1ac33f-9959-49cf-88c7-9d90bf1c52f8\" type=\"checkbox\" ><label for=\"dc1ac33f-9959-49cf-88c7-9d90bf1c52f8\" class=\"sk-toggleable__label sk-toggleable__label-arrow\">num</label><div class=\"sk-toggleable__content\"><pre>&lt;sklearn.compose._column_transformer.make_column_selector object at 0x0000024EDF502F08&gt;</pre></div></div></div><div class=\"sk-serial\"><div class=\"sk-item\"><div class=\"sk-serial\"><div class=\"sk-item\"><div class=\"sk-estimator sk-toggleable\"><input class=\"sk-toggleable__control sk-hidden--visually\" id=\"19d4c5d9-45fa-4341-b01f-9229eadb1d06\" type=\"checkbox\" ><label for=\"19d4c5d9-45fa-4341-b01f-9229eadb1d06\" class=\"sk-toggleable__label sk-toggleable__label-arrow\">SimpleImputer</label><div class=\"sk-toggleable__content\"><pre>SimpleImputer(strategy=&#x27;median&#x27;)</pre></div></div></div><div class=\"sk-item\"><div class=\"sk-estimator sk-toggleable\"><input class=\"sk-toggleable__control sk-hidden--visually\" id=\"7c73bf7b-acbd-43cc-9142-5b4723a469f9\" type=\"checkbox\" ><label for=\"7c73bf7b-acbd-43cc-9142-5b4723a469f9\" class=\"sk-toggleable__label sk-toggleable__label-arrow\">StandardScaler</label><div class=\"sk-toggleable__content\"><pre>StandardScaler()</pre></div></div></div></div></div></div></div></div><div class=\"sk-parallel-item\"><div class=\"sk-item\"><div class=\"sk-label-container\"><div class=\"sk-label sk-toggleable\"><input class=\"sk-toggleable__control sk-hidden--visually\" id=\"0de34808-f441-4b0d-87bd-a9decb6dc325\" type=\"checkbox\" ><label for=\"0de34808-f441-4b0d-87bd-a9decb6dc325\" class=\"sk-toggleable__label sk-toggleable__label-arrow\">cat</label><div class=\"sk-toggleable__content\"><pre>&lt;sklearn.compose._column_transformer.make_column_selector object at 0x0000024EDF502BC8&gt;</pre></div></div></div><div class=\"sk-serial\"><div class=\"sk-item\"><div class=\"sk-serial\"><div class=\"sk-item\"><div class=\"sk-estimator sk-toggleable\"><input class=\"sk-toggleable__control sk-hidden--visually\" id=\"01f9530c-9aa3-4464-bc98-c72dd4e8b7cd\" type=\"checkbox\" ><label for=\"01f9530c-9aa3-4464-bc98-c72dd4e8b7cd\" class=\"sk-toggleable__label sk-toggleable__label-arrow\">SimpleImputer</label><div class=\"sk-toggleable__content\"><pre>SimpleImputer(fill_value=&#x27;missing&#x27;, strategy=&#x27;constant&#x27;)</pre></div></div></div><div class=\"sk-item\"><div class=\"sk-estimator sk-toggleable\"><input class=\"sk-toggleable__control sk-hidden--visually\" id=\"9363eefe-fc6e-4d41-831e-bff36a5eefbf\" type=\"checkbox\" ><label for=\"9363eefe-fc6e-4d41-831e-bff36a5eefbf\" class=\"sk-toggleable__label sk-toggleable__label-arrow\">OneHotEncoder</label><div class=\"sk-toggleable__content\"><pre>OneHotEncoder(dtype=&lt;class &#x27;int&#x27;&gt;, handle_unknown=&#x27;ignore&#x27;)</pre></div></div></div></div></div></div></div></div></div></div><div class=\"sk-item\"><div class=\"sk-estimator sk-toggleable\"><input class=\"sk-toggleable__control sk-hidden--visually\" id=\"34eb80ad-8825-4694-b932-93aa61d200b0\" type=\"checkbox\" ><label for=\"34eb80ad-8825-4694-b932-93aa61d200b0\" class=\"sk-toggleable__label sk-toggleable__label-arrow\">LinearRegression</label><div class=\"sk-toggleable__content\"><pre>LinearRegression()</pre></div></div></div></div></div></div></div>"
      ],
      "text/plain": [
       "Pipeline(steps=[('preprocessor',\n",
       "                 ColumnTransformer(transformers=[('num',\n",
       "                                                  Pipeline(steps=[('imputer',\n",
       "                                                                   SimpleImputer(strategy='median')),\n",
       "                                                                  ('scaler',\n",
       "                                                                   StandardScaler())]),\n",
       "                                                  <sklearn.compose._column_transformer.make_column_selector object at 0x0000024EDF502F08>),\n",
       "                                                 ('cat',\n",
       "                                                  Pipeline(steps=[('imputer',\n",
       "                                                                   SimpleImputer(fill_value='missing',\n",
       "                                                                                 strategy='constant')),\n",
       "                                                                  ('onehot',\n",
       "                                                                   OneHotEncoder(dtype=<class 'int'>,\n",
       "                                                                                 handle_unknown='ignore'))]),\n",
       "                                                  <sklearn.compose._column_transformer.make_column_selector object at 0x0000024EDF502BC8>)])),\n",
       "                ('lm', LinearRegression())])"
      ]
     },
     "execution_count": 225,
     "metadata": {},
     "output_type": "execute_result"
    }
   ],
   "source": [
    "lm_pipe.fit(X_train, y_train)"
   ]
  },
  {
   "cell_type": "code",
   "execution_count": 226,
   "metadata": {},
   "outputs": [],
   "source": [
    "y_pred = lm_pipe.predict(X_train)"
   ]
  },
  {
   "cell_type": "markdown",
   "metadata": {},
   "source": [
    "**Metrcis and Evaluation**"
   ]
  },
  {
   "cell_type": "code",
   "execution_count": 227,
   "metadata": {},
   "outputs": [
    {
     "name": "stdout",
     "output_type": "stream",
     "text": [
      "r2:  0.7008\n",
      "RMSE  63242.32\n",
      "MSE:  3999591280.22\n"
     ]
    }
   ],
   "source": [
    "r2_lm, rmse_lm, mse_lm = metrics_sk(y_train, y_pred)"
   ]
  },
  {
   "cell_type": "markdown",
   "metadata": {},
   "source": [
    "Durch die Wahl geeignter Variablen wird gleich zu Beginn ein Model mit einem RMSE unter 70 Tsd. USD erzielt. "
   ]
  },
  {
   "cell_type": "markdown",
   "metadata": {},
   "source": [
    "### sklearn Lasso"
   ]
  },
  {
   "cell_type": "markdown",
   "metadata": {},
   "source": [
    "**Data preperation**"
   ]
  },
  {
   "cell_type": "code",
   "execution_count": 228,
   "metadata": {},
   "outputs": [
    {
     "data": {
      "text/html": [
       "<div>\n",
       "<style scoped>\n",
       "    .dataframe tbody tr th:only-of-type {\n",
       "        vertical-align: middle;\n",
       "    }\n",
       "\n",
       "    .dataframe tbody tr th {\n",
       "        vertical-align: top;\n",
       "    }\n",
       "\n",
       "    .dataframe thead th {\n",
       "        text-align: right;\n",
       "    }\n",
       "</style>\n",
       "<table border=\"1\" class=\"dataframe\">\n",
       "  <thead>\n",
       "    <tr style=\"text-align: right;\">\n",
       "      <th></th>\n",
       "      <th>longitude</th>\n",
       "      <th>latitude</th>\n",
       "      <th>housing_median_age</th>\n",
       "      <th>total_rooms</th>\n",
       "      <th>total_bedrooms</th>\n",
       "      <th>population</th>\n",
       "      <th>households</th>\n",
       "      <th>median_income</th>\n",
       "      <th>median_house_value</th>\n",
       "      <th>ocean_proximity</th>\n",
       "      <th>price_category</th>\n",
       "    </tr>\n",
       "  </thead>\n",
       "  <tbody>\n",
       "    <tr>\n",
       "      <th>0</th>\n",
       "      <td>-122.23</td>\n",
       "      <td>37.88</td>\n",
       "      <td>NaN</td>\n",
       "      <td>880</td>\n",
       "      <td>129.0</td>\n",
       "      <td>322</td>\n",
       "      <td>126</td>\n",
       "      <td>8.3252</td>\n",
       "      <td>NaN</td>\n",
       "      <td>NEAR BAY</td>\n",
       "      <td>below</td>\n",
       "    </tr>\n",
       "    <tr>\n",
       "      <th>1</th>\n",
       "      <td>-122.22</td>\n",
       "      <td>37.86</td>\n",
       "      <td>21.0</td>\n",
       "      <td>7099</td>\n",
       "      <td>1106.0</td>\n",
       "      <td>2401</td>\n",
       "      <td>1138</td>\n",
       "      <td>8.3014</td>\n",
       "      <td>358500.0</td>\n",
       "      <td>NEAR BAY</td>\n",
       "      <td>above</td>\n",
       "    </tr>\n",
       "    <tr>\n",
       "      <th>2</th>\n",
       "      <td>-122.24</td>\n",
       "      <td>37.85</td>\n",
       "      <td>52.0</td>\n",
       "      <td>1467</td>\n",
       "      <td>190.0</td>\n",
       "      <td>496</td>\n",
       "      <td>177</td>\n",
       "      <td>7.2574</td>\n",
       "      <td>352100.0</td>\n",
       "      <td>NEAR BAY</td>\n",
       "      <td>above</td>\n",
       "    </tr>\n",
       "    <tr>\n",
       "      <th>3</th>\n",
       "      <td>-122.25</td>\n",
       "      <td>37.85</td>\n",
       "      <td>52.0</td>\n",
       "      <td>1274</td>\n",
       "      <td>235.0</td>\n",
       "      <td>558</td>\n",
       "      <td>219</td>\n",
       "      <td>5.6431</td>\n",
       "      <td>341300.0</td>\n",
       "      <td>NEAR BAY</td>\n",
       "      <td>above</td>\n",
       "    </tr>\n",
       "    <tr>\n",
       "      <th>4</th>\n",
       "      <td>-122.25</td>\n",
       "      <td>37.85</td>\n",
       "      <td>52.0</td>\n",
       "      <td>1627</td>\n",
       "      <td>280.0</td>\n",
       "      <td>565</td>\n",
       "      <td>259</td>\n",
       "      <td>3.8462</td>\n",
       "      <td>342200.0</td>\n",
       "      <td>NEAR BAY</td>\n",
       "      <td>above</td>\n",
       "    </tr>\n",
       "    <tr>\n",
       "      <th>...</th>\n",
       "      <td>...</td>\n",
       "      <td>...</td>\n",
       "      <td>...</td>\n",
       "      <td>...</td>\n",
       "      <td>...</td>\n",
       "      <td>...</td>\n",
       "      <td>...</td>\n",
       "      <td>...</td>\n",
       "      <td>...</td>\n",
       "      <td>...</td>\n",
       "      <td>...</td>\n",
       "    </tr>\n",
       "    <tr>\n",
       "      <th>20635</th>\n",
       "      <td>-121.09</td>\n",
       "      <td>39.48</td>\n",
       "      <td>25.0</td>\n",
       "      <td>1665</td>\n",
       "      <td>374.0</td>\n",
       "      <td>845</td>\n",
       "      <td>330</td>\n",
       "      <td>1.5603</td>\n",
       "      <td>78100.0</td>\n",
       "      <td>INLAND</td>\n",
       "      <td>below</td>\n",
       "    </tr>\n",
       "    <tr>\n",
       "      <th>20636</th>\n",
       "      <td>-121.21</td>\n",
       "      <td>39.49</td>\n",
       "      <td>18.0</td>\n",
       "      <td>697</td>\n",
       "      <td>150.0</td>\n",
       "      <td>356</td>\n",
       "      <td>114</td>\n",
       "      <td>2.5568</td>\n",
       "      <td>77100.0</td>\n",
       "      <td>INLAND</td>\n",
       "      <td>below</td>\n",
       "    </tr>\n",
       "    <tr>\n",
       "      <th>20637</th>\n",
       "      <td>-121.22</td>\n",
       "      <td>39.43</td>\n",
       "      <td>17.0</td>\n",
       "      <td>2254</td>\n",
       "      <td>485.0</td>\n",
       "      <td>1007</td>\n",
       "      <td>433</td>\n",
       "      <td>1.7000</td>\n",
       "      <td>92300.0</td>\n",
       "      <td>INLAND</td>\n",
       "      <td>below</td>\n",
       "    </tr>\n",
       "    <tr>\n",
       "      <th>20638</th>\n",
       "      <td>-121.32</td>\n",
       "      <td>39.43</td>\n",
       "      <td>18.0</td>\n",
       "      <td>1860</td>\n",
       "      <td>409.0</td>\n",
       "      <td>741</td>\n",
       "      <td>349</td>\n",
       "      <td>1.8672</td>\n",
       "      <td>84700.0</td>\n",
       "      <td>INLAND</td>\n",
       "      <td>below</td>\n",
       "    </tr>\n",
       "    <tr>\n",
       "      <th>20639</th>\n",
       "      <td>-121.24</td>\n",
       "      <td>39.37</td>\n",
       "      <td>16.0</td>\n",
       "      <td>2785</td>\n",
       "      <td>616.0</td>\n",
       "      <td>1387</td>\n",
       "      <td>530</td>\n",
       "      <td>2.3886</td>\n",
       "      <td>89400.0</td>\n",
       "      <td>INLAND</td>\n",
       "      <td>below</td>\n",
       "    </tr>\n",
       "  </tbody>\n",
       "</table>\n",
       "<p>20640 rows × 11 columns</p>\n",
       "</div>"
      ],
      "text/plain": [
       "       longitude  latitude  housing_median_age  total_rooms  total_bedrooms  \\\n",
       "0        -122.23     37.88                 NaN          880           129.0   \n",
       "1        -122.22     37.86                21.0         7099          1106.0   \n",
       "2        -122.24     37.85                52.0         1467           190.0   \n",
       "3        -122.25     37.85                52.0         1274           235.0   \n",
       "4        -122.25     37.85                52.0         1627           280.0   \n",
       "...          ...       ...                 ...          ...             ...   \n",
       "20635    -121.09     39.48                25.0         1665           374.0   \n",
       "20636    -121.21     39.49                18.0          697           150.0   \n",
       "20637    -121.22     39.43                17.0         2254           485.0   \n",
       "20638    -121.32     39.43                18.0         1860           409.0   \n",
       "20639    -121.24     39.37                16.0         2785           616.0   \n",
       "\n",
       "       population  households  median_income  median_house_value  \\\n",
       "0             322         126         8.3252                 NaN   \n",
       "1            2401        1138         8.3014            358500.0   \n",
       "2             496         177         7.2574            352100.0   \n",
       "3             558         219         5.6431            341300.0   \n",
       "4             565         259         3.8462            342200.0   \n",
       "...           ...         ...            ...                 ...   \n",
       "20635         845         330         1.5603             78100.0   \n",
       "20636         356         114         2.5568             77100.0   \n",
       "20637        1007         433         1.7000             92300.0   \n",
       "20638         741         349         1.8672             84700.0   \n",
       "20639        1387         530         2.3886             89400.0   \n",
       "\n",
       "      ocean_proximity price_category  \n",
       "0            NEAR BAY          below  \n",
       "1            NEAR BAY          above  \n",
       "2            NEAR BAY          above  \n",
       "3            NEAR BAY          above  \n",
       "4            NEAR BAY          above  \n",
       "...               ...            ...  \n",
       "20635          INLAND          below  \n",
       "20636          INLAND          below  \n",
       "20637          INLAND          below  \n",
       "20638          INLAND          below  \n",
       "20639          INLAND          below  \n",
       "\n",
       "[20640 rows x 11 columns]"
      ]
     },
     "execution_count": 228,
     "metadata": {},
     "output_type": "execute_result"
    }
   ],
   "source": [
    "df = read_data()\n",
    "df = transform_data(df)\n",
    "df"
   ]
  },
  {
   "cell_type": "code",
   "execution_count": 229,
   "metadata": {},
   "outputs": [],
   "source": [
    "#Split Test and Trainingsdata\n",
    "X = df.drop(columns = ['median_house_value', 'price_category'], axis=1)\n",
    "y = df['median_house_value']\n",
    "\n",
    "X_train, X_test, y_train, y_test = train_test_split(X, y, test_size=0.2, random_state=42)\n"
   ]
  },
  {
   "cell_type": "code",
   "execution_count": 230,
   "metadata": {},
   "outputs": [],
   "source": [
    "X_train = add_feautures(X_train)"
   ]
  },
  {
   "cell_type": "code",
   "execution_count": 231,
   "metadata": {},
   "outputs": [],
   "source": [
    "preprocessor = build_preprocessor()"
   ]
  },
  {
   "cell_type": "markdown",
   "metadata": {},
   "source": [
    "Bei der Vorbereitung der Daten für das Lasso-Modell werden keine weiteren Variablen ausgeschlossen, da dieses Model eine Feauture Selection durchführt. "
   ]
  },
  {
   "cell_type": "markdown",
   "metadata": {},
   "source": [
    "**Model LassoCV: Build**"
   ]
  },
  {
   "cell_type": "markdown",
   "metadata": {},
   "source": [
    "Zur Bestimmung des optimalen Hyperparameters wird hier eine Lasso Cross Validation angewendet. Dafür werden die Trainingsdaten in 5 Teilsets aufgeteilt. "
   ]
  },
  {
   "cell_type": "code",
   "execution_count": 232,
   "metadata": {},
   "outputs": [],
   "source": [
    "LassoCV_pipe = Pipeline(steps=[\n",
    "    ('preprocessor', preprocessor),\n",
    "    ('LassoCV', LassoCV(cv=5, random_state=0, max_iter=10000))\n",
    "                        ])"
   ]
  },
  {
   "cell_type": "code",
   "execution_count": 233,
   "metadata": {},
   "outputs": [
    {
     "data": {
      "text/html": [
       "<style>#sk-8ce88fcd-a36d-4f59-b7f1-7e07846f9f92 {color: black;background-color: white;}#sk-8ce88fcd-a36d-4f59-b7f1-7e07846f9f92 pre{padding: 0;}#sk-8ce88fcd-a36d-4f59-b7f1-7e07846f9f92 div.sk-toggleable {background-color: white;}#sk-8ce88fcd-a36d-4f59-b7f1-7e07846f9f92 label.sk-toggleable__label {cursor: pointer;display: block;width: 100%;margin-bottom: 0;padding: 0.3em;box-sizing: border-box;text-align: center;}#sk-8ce88fcd-a36d-4f59-b7f1-7e07846f9f92 label.sk-toggleable__label-arrow:before {content: \"▸\";float: left;margin-right: 0.25em;color: #696969;}#sk-8ce88fcd-a36d-4f59-b7f1-7e07846f9f92 label.sk-toggleable__label-arrow:hover:before {color: black;}#sk-8ce88fcd-a36d-4f59-b7f1-7e07846f9f92 div.sk-estimator:hover label.sk-toggleable__label-arrow:before {color: black;}#sk-8ce88fcd-a36d-4f59-b7f1-7e07846f9f92 div.sk-toggleable__content {max-height: 0;max-width: 0;overflow: hidden;text-align: left;background-color: #f0f8ff;}#sk-8ce88fcd-a36d-4f59-b7f1-7e07846f9f92 div.sk-toggleable__content pre {margin: 0.2em;color: black;border-radius: 0.25em;background-color: #f0f8ff;}#sk-8ce88fcd-a36d-4f59-b7f1-7e07846f9f92 input.sk-toggleable__control:checked~div.sk-toggleable__content {max-height: 200px;max-width: 100%;overflow: auto;}#sk-8ce88fcd-a36d-4f59-b7f1-7e07846f9f92 input.sk-toggleable__control:checked~label.sk-toggleable__label-arrow:before {content: \"▾\";}#sk-8ce88fcd-a36d-4f59-b7f1-7e07846f9f92 div.sk-estimator input.sk-toggleable__control:checked~label.sk-toggleable__label {background-color: #d4ebff;}#sk-8ce88fcd-a36d-4f59-b7f1-7e07846f9f92 div.sk-label input.sk-toggleable__control:checked~label.sk-toggleable__label {background-color: #d4ebff;}#sk-8ce88fcd-a36d-4f59-b7f1-7e07846f9f92 input.sk-hidden--visually {border: 0;clip: rect(1px 1px 1px 1px);clip: rect(1px, 1px, 1px, 1px);height: 1px;margin: -1px;overflow: hidden;padding: 0;position: absolute;width: 1px;}#sk-8ce88fcd-a36d-4f59-b7f1-7e07846f9f92 div.sk-estimator {font-family: monospace;background-color: #f0f8ff;border: 1px dotted black;border-radius: 0.25em;box-sizing: border-box;margin-bottom: 0.5em;}#sk-8ce88fcd-a36d-4f59-b7f1-7e07846f9f92 div.sk-estimator:hover {background-color: #d4ebff;}#sk-8ce88fcd-a36d-4f59-b7f1-7e07846f9f92 div.sk-parallel-item::after {content: \"\";width: 100%;border-bottom: 1px solid gray;flex-grow: 1;}#sk-8ce88fcd-a36d-4f59-b7f1-7e07846f9f92 div.sk-label:hover label.sk-toggleable__label {background-color: #d4ebff;}#sk-8ce88fcd-a36d-4f59-b7f1-7e07846f9f92 div.sk-serial::before {content: \"\";position: absolute;border-left: 1px solid gray;box-sizing: border-box;top: 2em;bottom: 0;left: 50%;}#sk-8ce88fcd-a36d-4f59-b7f1-7e07846f9f92 div.sk-serial {display: flex;flex-direction: column;align-items: center;background-color: white;padding-right: 0.2em;padding-left: 0.2em;}#sk-8ce88fcd-a36d-4f59-b7f1-7e07846f9f92 div.sk-item {z-index: 1;}#sk-8ce88fcd-a36d-4f59-b7f1-7e07846f9f92 div.sk-parallel {display: flex;align-items: stretch;justify-content: center;background-color: white;}#sk-8ce88fcd-a36d-4f59-b7f1-7e07846f9f92 div.sk-parallel::before {content: \"\";position: absolute;border-left: 1px solid gray;box-sizing: border-box;top: 2em;bottom: 0;left: 50%;}#sk-8ce88fcd-a36d-4f59-b7f1-7e07846f9f92 div.sk-parallel-item {display: flex;flex-direction: column;position: relative;background-color: white;}#sk-8ce88fcd-a36d-4f59-b7f1-7e07846f9f92 div.sk-parallel-item:first-child::after {align-self: flex-end;width: 50%;}#sk-8ce88fcd-a36d-4f59-b7f1-7e07846f9f92 div.sk-parallel-item:last-child::after {align-self: flex-start;width: 50%;}#sk-8ce88fcd-a36d-4f59-b7f1-7e07846f9f92 div.sk-parallel-item:only-child::after {width: 0;}#sk-8ce88fcd-a36d-4f59-b7f1-7e07846f9f92 div.sk-dashed-wrapped {border: 1px dashed gray;margin: 0 0.4em 0.5em 0.4em;box-sizing: border-box;padding-bottom: 0.4em;background-color: white;position: relative;}#sk-8ce88fcd-a36d-4f59-b7f1-7e07846f9f92 div.sk-label label {font-family: monospace;font-weight: bold;background-color: white;display: inline-block;line-height: 1.2em;}#sk-8ce88fcd-a36d-4f59-b7f1-7e07846f9f92 div.sk-label-container {position: relative;z-index: 2;text-align: center;}#sk-8ce88fcd-a36d-4f59-b7f1-7e07846f9f92 div.sk-container {/* jupyter's `normalize.less` sets `[hidden] { display: none; }` but bootstrap.min.css set `[hidden] { display: none !important; }` so we also need the `!important` here to be able to override the default hidden behavior on the sphinx rendered scikit-learn.org. See: https://github.com/scikit-learn/scikit-learn/issues/21755 */display: inline-block !important;position: relative;}#sk-8ce88fcd-a36d-4f59-b7f1-7e07846f9f92 div.sk-text-repr-fallback {display: none;}</style><div id=\"sk-8ce88fcd-a36d-4f59-b7f1-7e07846f9f92\" class=\"sk-top-container\"><div class=\"sk-text-repr-fallback\"><pre>Pipeline(steps=[(&#x27;preprocessor&#x27;,\n",
       "                 ColumnTransformer(transformers=[(&#x27;num&#x27;,\n",
       "                                                  Pipeline(steps=[(&#x27;imputer&#x27;,\n",
       "                                                                   SimpleImputer(strategy=&#x27;median&#x27;)),\n",
       "                                                                  (&#x27;scaler&#x27;,\n",
       "                                                                   StandardScaler())]),\n",
       "                                                  &lt;sklearn.compose._column_transformer.make_column_selector object at 0x0000024EE811F948&gt;),\n",
       "                                                 (&#x27;cat&#x27;,\n",
       "                                                  Pipeline(steps=[(&#x27;imputer&#x27;,\n",
       "                                                                   SimpleImputer(fill_value=&#x27;missing&#x27;,\n",
       "                                                                                 strategy=&#x27;constant&#x27;)),\n",
       "                                                                  (&#x27;onehot&#x27;,\n",
       "                                                                   OneHotEncoder(dtype=&lt;class &#x27;int&#x27;&gt;,\n",
       "                                                                                 handle_unknown=&#x27;ignore&#x27;))]),\n",
       "                                                  &lt;sklearn.compose._column_transformer.make_column_selector object at 0x0000024EE811FEC8&gt;)])),\n",
       "                (&#x27;LassoCV&#x27;, LassoCV(cv=5, max_iter=10000, random_state=0))])</pre><b>Please rerun this cell to show the HTML repr or trust the notebook.</b></div><div class=\"sk-container\" hidden><div class=\"sk-item sk-dashed-wrapped\"><div class=\"sk-label-container\"><div class=\"sk-label sk-toggleable\"><input class=\"sk-toggleable__control sk-hidden--visually\" id=\"8fafb177-8530-4aba-b7fc-7e486b92779e\" type=\"checkbox\" ><label for=\"8fafb177-8530-4aba-b7fc-7e486b92779e\" class=\"sk-toggleable__label sk-toggleable__label-arrow\">Pipeline</label><div class=\"sk-toggleable__content\"><pre>Pipeline(steps=[(&#x27;preprocessor&#x27;,\n",
       "                 ColumnTransformer(transformers=[(&#x27;num&#x27;,\n",
       "                                                  Pipeline(steps=[(&#x27;imputer&#x27;,\n",
       "                                                                   SimpleImputer(strategy=&#x27;median&#x27;)),\n",
       "                                                                  (&#x27;scaler&#x27;,\n",
       "                                                                   StandardScaler())]),\n",
       "                                                  &lt;sklearn.compose._column_transformer.make_column_selector object at 0x0000024EE811F948&gt;),\n",
       "                                                 (&#x27;cat&#x27;,\n",
       "                                                  Pipeline(steps=[(&#x27;imputer&#x27;,\n",
       "                                                                   SimpleImputer(fill_value=&#x27;missing&#x27;,\n",
       "                                                                                 strategy=&#x27;constant&#x27;)),\n",
       "                                                                  (&#x27;onehot&#x27;,\n",
       "                                                                   OneHotEncoder(dtype=&lt;class &#x27;int&#x27;&gt;,\n",
       "                                                                                 handle_unknown=&#x27;ignore&#x27;))]),\n",
       "                                                  &lt;sklearn.compose._column_transformer.make_column_selector object at 0x0000024EE811FEC8&gt;)])),\n",
       "                (&#x27;LassoCV&#x27;, LassoCV(cv=5, max_iter=10000, random_state=0))])</pre></div></div></div><div class=\"sk-serial\"><div class=\"sk-item sk-dashed-wrapped\"><div class=\"sk-label-container\"><div class=\"sk-label sk-toggleable\"><input class=\"sk-toggleable__control sk-hidden--visually\" id=\"11e7aed8-1828-4d80-8d36-024f6e96963a\" type=\"checkbox\" ><label for=\"11e7aed8-1828-4d80-8d36-024f6e96963a\" class=\"sk-toggleable__label sk-toggleable__label-arrow\">preprocessor: ColumnTransformer</label><div class=\"sk-toggleable__content\"><pre>ColumnTransformer(transformers=[(&#x27;num&#x27;,\n",
       "                                 Pipeline(steps=[(&#x27;imputer&#x27;,\n",
       "                                                  SimpleImputer(strategy=&#x27;median&#x27;)),\n",
       "                                                 (&#x27;scaler&#x27;, StandardScaler())]),\n",
       "                                 &lt;sklearn.compose._column_transformer.make_column_selector object at 0x0000024EE811F948&gt;),\n",
       "                                (&#x27;cat&#x27;,\n",
       "                                 Pipeline(steps=[(&#x27;imputer&#x27;,\n",
       "                                                  SimpleImputer(fill_value=&#x27;missing&#x27;,\n",
       "                                                                strategy=&#x27;constant&#x27;)),\n",
       "                                                 (&#x27;onehot&#x27;,\n",
       "                                                  OneHotEncoder(dtype=&lt;class &#x27;int&#x27;&gt;,\n",
       "                                                                handle_unknown=&#x27;ignore&#x27;))]),\n",
       "                                 &lt;sklearn.compose._column_transformer.make_column_selector object at 0x0000024EE811FEC8&gt;)])</pre></div></div></div><div class=\"sk-parallel\"><div class=\"sk-parallel-item\"><div class=\"sk-item\"><div class=\"sk-label-container\"><div class=\"sk-label sk-toggleable\"><input class=\"sk-toggleable__control sk-hidden--visually\" id=\"f1a92fda-47dd-490d-bbb9-c16078940846\" type=\"checkbox\" ><label for=\"f1a92fda-47dd-490d-bbb9-c16078940846\" class=\"sk-toggleable__label sk-toggleable__label-arrow\">num</label><div class=\"sk-toggleable__content\"><pre>&lt;sklearn.compose._column_transformer.make_column_selector object at 0x0000024EE811F948&gt;</pre></div></div></div><div class=\"sk-serial\"><div class=\"sk-item\"><div class=\"sk-serial\"><div class=\"sk-item\"><div class=\"sk-estimator sk-toggleable\"><input class=\"sk-toggleable__control sk-hidden--visually\" id=\"16486f49-ee64-4bec-850c-ca9571389ba2\" type=\"checkbox\" ><label for=\"16486f49-ee64-4bec-850c-ca9571389ba2\" class=\"sk-toggleable__label sk-toggleable__label-arrow\">SimpleImputer</label><div class=\"sk-toggleable__content\"><pre>SimpleImputer(strategy=&#x27;median&#x27;)</pre></div></div></div><div class=\"sk-item\"><div class=\"sk-estimator sk-toggleable\"><input class=\"sk-toggleable__control sk-hidden--visually\" id=\"d34f8a91-2e4a-4a11-be10-61cf5b9095d6\" type=\"checkbox\" ><label for=\"d34f8a91-2e4a-4a11-be10-61cf5b9095d6\" class=\"sk-toggleable__label sk-toggleable__label-arrow\">StandardScaler</label><div class=\"sk-toggleable__content\"><pre>StandardScaler()</pre></div></div></div></div></div></div></div></div><div class=\"sk-parallel-item\"><div class=\"sk-item\"><div class=\"sk-label-container\"><div class=\"sk-label sk-toggleable\"><input class=\"sk-toggleable__control sk-hidden--visually\" id=\"9e0e1114-3d04-493d-a7c0-7b8547cec693\" type=\"checkbox\" ><label for=\"9e0e1114-3d04-493d-a7c0-7b8547cec693\" class=\"sk-toggleable__label sk-toggleable__label-arrow\">cat</label><div class=\"sk-toggleable__content\"><pre>&lt;sklearn.compose._column_transformer.make_column_selector object at 0x0000024EE811FEC8&gt;</pre></div></div></div><div class=\"sk-serial\"><div class=\"sk-item\"><div class=\"sk-serial\"><div class=\"sk-item\"><div class=\"sk-estimator sk-toggleable\"><input class=\"sk-toggleable__control sk-hidden--visually\" id=\"762288bf-bd7a-4ee2-9f3e-ef9be0bb7e13\" type=\"checkbox\" ><label for=\"762288bf-bd7a-4ee2-9f3e-ef9be0bb7e13\" class=\"sk-toggleable__label sk-toggleable__label-arrow\">SimpleImputer</label><div class=\"sk-toggleable__content\"><pre>SimpleImputer(fill_value=&#x27;missing&#x27;, strategy=&#x27;constant&#x27;)</pre></div></div></div><div class=\"sk-item\"><div class=\"sk-estimator sk-toggleable\"><input class=\"sk-toggleable__control sk-hidden--visually\" id=\"5720be53-adc1-4e3c-9371-4528c9288d86\" type=\"checkbox\" ><label for=\"5720be53-adc1-4e3c-9371-4528c9288d86\" class=\"sk-toggleable__label sk-toggleable__label-arrow\">OneHotEncoder</label><div class=\"sk-toggleable__content\"><pre>OneHotEncoder(dtype=&lt;class &#x27;int&#x27;&gt;, handle_unknown=&#x27;ignore&#x27;)</pre></div></div></div></div></div></div></div></div></div></div><div class=\"sk-item\"><div class=\"sk-estimator sk-toggleable\"><input class=\"sk-toggleable__control sk-hidden--visually\" id=\"a6461b79-b03c-4f9d-8080-b2a459f436b7\" type=\"checkbox\" ><label for=\"a6461b79-b03c-4f9d-8080-b2a459f436b7\" class=\"sk-toggleable__label sk-toggleable__label-arrow\">LassoCV</label><div class=\"sk-toggleable__content\"><pre>LassoCV(cv=5, max_iter=10000, random_state=0)</pre></div></div></div></div></div></div></div>"
      ],
      "text/plain": [
       "Pipeline(steps=[('preprocessor',\n",
       "                 ColumnTransformer(transformers=[('num',\n",
       "                                                  Pipeline(steps=[('imputer',\n",
       "                                                                   SimpleImputer(strategy='median')),\n",
       "                                                                  ('scaler',\n",
       "                                                                   StandardScaler())]),\n",
       "                                                  <sklearn.compose._column_transformer.make_column_selector object at 0x0000024EE811F948>),\n",
       "                                                 ('cat',\n",
       "                                                  Pipeline(steps=[('imputer',\n",
       "                                                                   SimpleImputer(fill_value='missing',\n",
       "                                                                                 strategy='constant')),\n",
       "                                                                  ('onehot',\n",
       "                                                                   OneHotEncoder(dtype=<class 'int'>,\n",
       "                                                                                 handle_unknown='ignore'))]),\n",
       "                                                  <sklearn.compose._column_transformer.make_column_selector object at 0x0000024EE811FEC8>)])),\n",
       "                ('LassoCV', LassoCV(cv=5, max_iter=10000, random_state=0))])"
      ]
     },
     "execution_count": 233,
     "metadata": {},
     "output_type": "execute_result"
    }
   ],
   "source": [
    "LassoCV_pipe.fit(X_train, y_train)"
   ]
  },
  {
   "cell_type": "code",
   "execution_count": 234,
   "metadata": {},
   "outputs": [],
   "source": [
    "y_pred = LassoCV_pipe.predict(X_train)"
   ]
  },
  {
   "cell_type": "markdown",
   "metadata": {},
   "source": [
    "**Model LassoCV: Metrics and Evaluation**"
   ]
  },
  {
   "cell_type": "code",
   "execution_count": 235,
   "metadata": {},
   "outputs": [
    {
     "name": "stdout",
     "output_type": "stream",
     "text": [
      "r2:  0.7046\n",
      "RMSE  62842.13\n",
      "MSE:  3949133062.48\n"
     ]
    }
   ],
   "source": [
    "r2_lasso, rmse_lasso, mse_lasso = metrics_sk(y_train, y_pred)"
   ]
  },
  {
   "cell_type": "code",
   "execution_count": 236,
   "metadata": {},
   "outputs": [
    {
     "data": {
      "text/plain": [
       "79.85195644260375"
      ]
     },
     "execution_count": 236,
     "metadata": {},
     "output_type": "execute_result"
    }
   ],
   "source": [
    "alpha = LassoCV_pipe.named_steps['LassoCV'].alpha_\n",
    "alpha"
   ]
  },
  {
   "cell_type": "markdown",
   "metadata": {},
   "source": [
    "Durch Auslesen des Attributs `alpha_` wird der am besten geeignte Hyperparameter ausgewählt. Dieser wird im folgenden auf die Lasso-Regression angewendet. "
   ]
  },
  {
   "cell_type": "markdown",
   "metadata": {},
   "source": [
    "**Model Lasso Best Alpha: Build**"
   ]
  },
  {
   "cell_type": "code",
   "execution_count": 237,
   "metadata": {},
   "outputs": [],
   "source": [
    "Lasso_alpha_pipe = Pipeline(steps=[\n",
    "    ('preprocessor', preprocessor),\n",
    "    ('Lasso', Lasso(alpha=alpha))\n",
    "                        ])"
   ]
  },
  {
   "cell_type": "code",
   "execution_count": 238,
   "metadata": {},
   "outputs": [
    {
     "data": {
      "text/html": [
       "<style>#sk-c5edf60a-3ba1-45da-a23d-f7541be2268b {color: black;background-color: white;}#sk-c5edf60a-3ba1-45da-a23d-f7541be2268b pre{padding: 0;}#sk-c5edf60a-3ba1-45da-a23d-f7541be2268b div.sk-toggleable {background-color: white;}#sk-c5edf60a-3ba1-45da-a23d-f7541be2268b label.sk-toggleable__label {cursor: pointer;display: block;width: 100%;margin-bottom: 0;padding: 0.3em;box-sizing: border-box;text-align: center;}#sk-c5edf60a-3ba1-45da-a23d-f7541be2268b label.sk-toggleable__label-arrow:before {content: \"▸\";float: left;margin-right: 0.25em;color: #696969;}#sk-c5edf60a-3ba1-45da-a23d-f7541be2268b label.sk-toggleable__label-arrow:hover:before {color: black;}#sk-c5edf60a-3ba1-45da-a23d-f7541be2268b div.sk-estimator:hover label.sk-toggleable__label-arrow:before {color: black;}#sk-c5edf60a-3ba1-45da-a23d-f7541be2268b div.sk-toggleable__content {max-height: 0;max-width: 0;overflow: hidden;text-align: left;background-color: #f0f8ff;}#sk-c5edf60a-3ba1-45da-a23d-f7541be2268b div.sk-toggleable__content pre {margin: 0.2em;color: black;border-radius: 0.25em;background-color: #f0f8ff;}#sk-c5edf60a-3ba1-45da-a23d-f7541be2268b input.sk-toggleable__control:checked~div.sk-toggleable__content {max-height: 200px;max-width: 100%;overflow: auto;}#sk-c5edf60a-3ba1-45da-a23d-f7541be2268b input.sk-toggleable__control:checked~label.sk-toggleable__label-arrow:before {content: \"▾\";}#sk-c5edf60a-3ba1-45da-a23d-f7541be2268b div.sk-estimator input.sk-toggleable__control:checked~label.sk-toggleable__label {background-color: #d4ebff;}#sk-c5edf60a-3ba1-45da-a23d-f7541be2268b div.sk-label input.sk-toggleable__control:checked~label.sk-toggleable__label {background-color: #d4ebff;}#sk-c5edf60a-3ba1-45da-a23d-f7541be2268b input.sk-hidden--visually {border: 0;clip: rect(1px 1px 1px 1px);clip: rect(1px, 1px, 1px, 1px);height: 1px;margin: -1px;overflow: hidden;padding: 0;position: absolute;width: 1px;}#sk-c5edf60a-3ba1-45da-a23d-f7541be2268b div.sk-estimator {font-family: monospace;background-color: #f0f8ff;border: 1px dotted black;border-radius: 0.25em;box-sizing: border-box;margin-bottom: 0.5em;}#sk-c5edf60a-3ba1-45da-a23d-f7541be2268b div.sk-estimator:hover {background-color: #d4ebff;}#sk-c5edf60a-3ba1-45da-a23d-f7541be2268b div.sk-parallel-item::after {content: \"\";width: 100%;border-bottom: 1px solid gray;flex-grow: 1;}#sk-c5edf60a-3ba1-45da-a23d-f7541be2268b div.sk-label:hover label.sk-toggleable__label {background-color: #d4ebff;}#sk-c5edf60a-3ba1-45da-a23d-f7541be2268b div.sk-serial::before {content: \"\";position: absolute;border-left: 1px solid gray;box-sizing: border-box;top: 2em;bottom: 0;left: 50%;}#sk-c5edf60a-3ba1-45da-a23d-f7541be2268b div.sk-serial {display: flex;flex-direction: column;align-items: center;background-color: white;padding-right: 0.2em;padding-left: 0.2em;}#sk-c5edf60a-3ba1-45da-a23d-f7541be2268b div.sk-item {z-index: 1;}#sk-c5edf60a-3ba1-45da-a23d-f7541be2268b div.sk-parallel {display: flex;align-items: stretch;justify-content: center;background-color: white;}#sk-c5edf60a-3ba1-45da-a23d-f7541be2268b div.sk-parallel::before {content: \"\";position: absolute;border-left: 1px solid gray;box-sizing: border-box;top: 2em;bottom: 0;left: 50%;}#sk-c5edf60a-3ba1-45da-a23d-f7541be2268b div.sk-parallel-item {display: flex;flex-direction: column;position: relative;background-color: white;}#sk-c5edf60a-3ba1-45da-a23d-f7541be2268b div.sk-parallel-item:first-child::after {align-self: flex-end;width: 50%;}#sk-c5edf60a-3ba1-45da-a23d-f7541be2268b div.sk-parallel-item:last-child::after {align-self: flex-start;width: 50%;}#sk-c5edf60a-3ba1-45da-a23d-f7541be2268b div.sk-parallel-item:only-child::after {width: 0;}#sk-c5edf60a-3ba1-45da-a23d-f7541be2268b div.sk-dashed-wrapped {border: 1px dashed gray;margin: 0 0.4em 0.5em 0.4em;box-sizing: border-box;padding-bottom: 0.4em;background-color: white;position: relative;}#sk-c5edf60a-3ba1-45da-a23d-f7541be2268b div.sk-label label {font-family: monospace;font-weight: bold;background-color: white;display: inline-block;line-height: 1.2em;}#sk-c5edf60a-3ba1-45da-a23d-f7541be2268b div.sk-label-container {position: relative;z-index: 2;text-align: center;}#sk-c5edf60a-3ba1-45da-a23d-f7541be2268b div.sk-container {/* jupyter's `normalize.less` sets `[hidden] { display: none; }` but bootstrap.min.css set `[hidden] { display: none !important; }` so we also need the `!important` here to be able to override the default hidden behavior on the sphinx rendered scikit-learn.org. See: https://github.com/scikit-learn/scikit-learn/issues/21755 */display: inline-block !important;position: relative;}#sk-c5edf60a-3ba1-45da-a23d-f7541be2268b div.sk-text-repr-fallback {display: none;}</style><div id=\"sk-c5edf60a-3ba1-45da-a23d-f7541be2268b\" class=\"sk-top-container\"><div class=\"sk-text-repr-fallback\"><pre>Pipeline(steps=[(&#x27;preprocessor&#x27;,\n",
       "                 ColumnTransformer(transformers=[(&#x27;num&#x27;,\n",
       "                                                  Pipeline(steps=[(&#x27;imputer&#x27;,\n",
       "                                                                   SimpleImputer(strategy=&#x27;median&#x27;)),\n",
       "                                                                  (&#x27;scaler&#x27;,\n",
       "                                                                   StandardScaler())]),\n",
       "                                                  &lt;sklearn.compose._column_transformer.make_column_selector object at 0x0000024EE811F948&gt;),\n",
       "                                                 (&#x27;cat&#x27;,\n",
       "                                                  Pipeline(steps=[(&#x27;imputer&#x27;,\n",
       "                                                                   SimpleImputer(fill_value=&#x27;missing&#x27;,\n",
       "                                                                                 strategy=&#x27;constant&#x27;)),\n",
       "                                                                  (&#x27;onehot&#x27;,\n",
       "                                                                   OneHotEncoder(dtype=&lt;class &#x27;int&#x27;&gt;,\n",
       "                                                                                 handle_unknown=&#x27;ignore&#x27;))]),\n",
       "                                                  &lt;sklearn.compose._column_transformer.make_column_selector object at 0x0000024EE811FEC8&gt;)])),\n",
       "                (&#x27;Lasso&#x27;, Lasso(alpha=79.85195644260375))])</pre><b>Please rerun this cell to show the HTML repr or trust the notebook.</b></div><div class=\"sk-container\" hidden><div class=\"sk-item sk-dashed-wrapped\"><div class=\"sk-label-container\"><div class=\"sk-label sk-toggleable\"><input class=\"sk-toggleable__control sk-hidden--visually\" id=\"8eb5bfc3-af79-4812-844e-0cc8aa794e74\" type=\"checkbox\" ><label for=\"8eb5bfc3-af79-4812-844e-0cc8aa794e74\" class=\"sk-toggleable__label sk-toggleable__label-arrow\">Pipeline</label><div class=\"sk-toggleable__content\"><pre>Pipeline(steps=[(&#x27;preprocessor&#x27;,\n",
       "                 ColumnTransformer(transformers=[(&#x27;num&#x27;,\n",
       "                                                  Pipeline(steps=[(&#x27;imputer&#x27;,\n",
       "                                                                   SimpleImputer(strategy=&#x27;median&#x27;)),\n",
       "                                                                  (&#x27;scaler&#x27;,\n",
       "                                                                   StandardScaler())]),\n",
       "                                                  &lt;sklearn.compose._column_transformer.make_column_selector object at 0x0000024EE811F948&gt;),\n",
       "                                                 (&#x27;cat&#x27;,\n",
       "                                                  Pipeline(steps=[(&#x27;imputer&#x27;,\n",
       "                                                                   SimpleImputer(fill_value=&#x27;missing&#x27;,\n",
       "                                                                                 strategy=&#x27;constant&#x27;)),\n",
       "                                                                  (&#x27;onehot&#x27;,\n",
       "                                                                   OneHotEncoder(dtype=&lt;class &#x27;int&#x27;&gt;,\n",
       "                                                                                 handle_unknown=&#x27;ignore&#x27;))]),\n",
       "                                                  &lt;sklearn.compose._column_transformer.make_column_selector object at 0x0000024EE811FEC8&gt;)])),\n",
       "                (&#x27;Lasso&#x27;, Lasso(alpha=79.85195644260375))])</pre></div></div></div><div class=\"sk-serial\"><div class=\"sk-item sk-dashed-wrapped\"><div class=\"sk-label-container\"><div class=\"sk-label sk-toggleable\"><input class=\"sk-toggleable__control sk-hidden--visually\" id=\"d9ac8152-1e3d-483b-b239-aec2b64a6f12\" type=\"checkbox\" ><label for=\"d9ac8152-1e3d-483b-b239-aec2b64a6f12\" class=\"sk-toggleable__label sk-toggleable__label-arrow\">preprocessor: ColumnTransformer</label><div class=\"sk-toggleable__content\"><pre>ColumnTransformer(transformers=[(&#x27;num&#x27;,\n",
       "                                 Pipeline(steps=[(&#x27;imputer&#x27;,\n",
       "                                                  SimpleImputer(strategy=&#x27;median&#x27;)),\n",
       "                                                 (&#x27;scaler&#x27;, StandardScaler())]),\n",
       "                                 &lt;sklearn.compose._column_transformer.make_column_selector object at 0x0000024EE811F948&gt;),\n",
       "                                (&#x27;cat&#x27;,\n",
       "                                 Pipeline(steps=[(&#x27;imputer&#x27;,\n",
       "                                                  SimpleImputer(fill_value=&#x27;missing&#x27;,\n",
       "                                                                strategy=&#x27;constant&#x27;)),\n",
       "                                                 (&#x27;onehot&#x27;,\n",
       "                                                  OneHotEncoder(dtype=&lt;class &#x27;int&#x27;&gt;,\n",
       "                                                                handle_unknown=&#x27;ignore&#x27;))]),\n",
       "                                 &lt;sklearn.compose._column_transformer.make_column_selector object at 0x0000024EE811FEC8&gt;)])</pre></div></div></div><div class=\"sk-parallel\"><div class=\"sk-parallel-item\"><div class=\"sk-item\"><div class=\"sk-label-container\"><div class=\"sk-label sk-toggleable\"><input class=\"sk-toggleable__control sk-hidden--visually\" id=\"cf409e87-48af-4b2e-9d05-a06ff2276a52\" type=\"checkbox\" ><label for=\"cf409e87-48af-4b2e-9d05-a06ff2276a52\" class=\"sk-toggleable__label sk-toggleable__label-arrow\">num</label><div class=\"sk-toggleable__content\"><pre>&lt;sklearn.compose._column_transformer.make_column_selector object at 0x0000024EE811F948&gt;</pre></div></div></div><div class=\"sk-serial\"><div class=\"sk-item\"><div class=\"sk-serial\"><div class=\"sk-item\"><div class=\"sk-estimator sk-toggleable\"><input class=\"sk-toggleable__control sk-hidden--visually\" id=\"0b9b88e1-dc39-4a06-8161-ff96e897f5df\" type=\"checkbox\" ><label for=\"0b9b88e1-dc39-4a06-8161-ff96e897f5df\" class=\"sk-toggleable__label sk-toggleable__label-arrow\">SimpleImputer</label><div class=\"sk-toggleable__content\"><pre>SimpleImputer(strategy=&#x27;median&#x27;)</pre></div></div></div><div class=\"sk-item\"><div class=\"sk-estimator sk-toggleable\"><input class=\"sk-toggleable__control sk-hidden--visually\" id=\"19366189-5c04-46a9-8318-24a3e7a26059\" type=\"checkbox\" ><label for=\"19366189-5c04-46a9-8318-24a3e7a26059\" class=\"sk-toggleable__label sk-toggleable__label-arrow\">StandardScaler</label><div class=\"sk-toggleable__content\"><pre>StandardScaler()</pre></div></div></div></div></div></div></div></div><div class=\"sk-parallel-item\"><div class=\"sk-item\"><div class=\"sk-label-container\"><div class=\"sk-label sk-toggleable\"><input class=\"sk-toggleable__control sk-hidden--visually\" id=\"7dec42ad-a3cc-4164-a79a-6beadc21fa86\" type=\"checkbox\" ><label for=\"7dec42ad-a3cc-4164-a79a-6beadc21fa86\" class=\"sk-toggleable__label sk-toggleable__label-arrow\">cat</label><div class=\"sk-toggleable__content\"><pre>&lt;sklearn.compose._column_transformer.make_column_selector object at 0x0000024EE811FEC8&gt;</pre></div></div></div><div class=\"sk-serial\"><div class=\"sk-item\"><div class=\"sk-serial\"><div class=\"sk-item\"><div class=\"sk-estimator sk-toggleable\"><input class=\"sk-toggleable__control sk-hidden--visually\" id=\"f1b709c9-e710-4d47-9e68-dd41e5dca4e7\" type=\"checkbox\" ><label for=\"f1b709c9-e710-4d47-9e68-dd41e5dca4e7\" class=\"sk-toggleable__label sk-toggleable__label-arrow\">SimpleImputer</label><div class=\"sk-toggleable__content\"><pre>SimpleImputer(fill_value=&#x27;missing&#x27;, strategy=&#x27;constant&#x27;)</pre></div></div></div><div class=\"sk-item\"><div class=\"sk-estimator sk-toggleable\"><input class=\"sk-toggleable__control sk-hidden--visually\" id=\"672c72a9-68d1-490d-aa0b-90315c71aa0f\" type=\"checkbox\" ><label for=\"672c72a9-68d1-490d-aa0b-90315c71aa0f\" class=\"sk-toggleable__label sk-toggleable__label-arrow\">OneHotEncoder</label><div class=\"sk-toggleable__content\"><pre>OneHotEncoder(dtype=&lt;class &#x27;int&#x27;&gt;, handle_unknown=&#x27;ignore&#x27;)</pre></div></div></div></div></div></div></div></div></div></div><div class=\"sk-item\"><div class=\"sk-estimator sk-toggleable\"><input class=\"sk-toggleable__control sk-hidden--visually\" id=\"1ace81fb-f2c5-482e-a448-f5ed48c812bd\" type=\"checkbox\" ><label for=\"1ace81fb-f2c5-482e-a448-f5ed48c812bd\" class=\"sk-toggleable__label sk-toggleable__label-arrow\">Lasso</label><div class=\"sk-toggleable__content\"><pre>Lasso(alpha=79.85195644260375)</pre></div></div></div></div></div></div></div>"
      ],
      "text/plain": [
       "Pipeline(steps=[('preprocessor',\n",
       "                 ColumnTransformer(transformers=[('num',\n",
       "                                                  Pipeline(steps=[('imputer',\n",
       "                                                                   SimpleImputer(strategy='median')),\n",
       "                                                                  ('scaler',\n",
       "                                                                   StandardScaler())]),\n",
       "                                                  <sklearn.compose._column_transformer.make_column_selector object at 0x0000024EE811F948>),\n",
       "                                                 ('cat',\n",
       "                                                  Pipeline(steps=[('imputer',\n",
       "                                                                   SimpleImputer(fill_value='missing',\n",
       "                                                                                 strategy='constant')),\n",
       "                                                                  ('onehot',\n",
       "                                                                   OneHotEncoder(dtype=<class 'int'>,\n",
       "                                                                                 handle_unknown='ignore'))]),\n",
       "                                                  <sklearn.compose._column_transformer.make_column_selector object at 0x0000024EE811FEC8>)])),\n",
       "                ('Lasso', Lasso(alpha=79.85195644260375))])"
      ]
     },
     "execution_count": 238,
     "metadata": {},
     "output_type": "execute_result"
    }
   ],
   "source": [
    "Lasso_alpha_pipe.fit(X_train, y_train)"
   ]
  },
  {
   "cell_type": "markdown",
   "metadata": {},
   "source": [
    "**Model Lasso Best Alpha: Metrics**"
   ]
  },
  {
   "cell_type": "code",
   "execution_count": 239,
   "metadata": {},
   "outputs": [
    {
     "name": "stdout",
     "output_type": "stream",
     "text": [
      "r2:  0.7046\n",
      "RMSE  62842.13\n",
      "MSE:  3949133062.48\n"
     ]
    }
   ],
   "source": [
    "r2_lasso, rmse_lasso, mse_lasso = metrics_sk(y_train, y_pred)"
   ]
  },
  {
   "cell_type": "code",
   "execution_count": 240,
   "metadata": {},
   "outputs": [
    {
     "data": {
      "text/plain": [
       "47"
      ]
     },
     "execution_count": 240,
     "metadata": {},
     "output_type": "execute_result"
    }
   ],
   "source": [
    "importance = np.abs(Lasso_alpha_pipe.named_steps['Lasso'].coef_)\n",
    "len(importance)"
   ]
  },
  {
   "cell_type": "code",
   "execution_count": 241,
   "metadata": {},
   "outputs": [
    {
     "data": {
      "text/plain": [
       "<AxesSubplot:>"
      ]
     },
     "execution_count": 241,
     "metadata": {},
     "output_type": "execute_result"
    },
    {
     "data": {
      "image/png": "[encoded data removed]",
      "text/plain": [
       "<Figure size 2160x360 with 1 Axes>"
      ]
     },
     "metadata": {
      "needs_background": "light"
     },
     "output_type": "display_data"
    }
   ],
   "source": [
    "plt.rcParams['figure.figsize'] = [30, 5]\n",
    "list = []\n",
    "for i in range(len(importance)):\n",
    "    list.append(i)\n",
    "list\n",
    "\n",
    "sns.barplot(x=list, y=importance)"
   ]
  },
  {
   "cell_type": "markdown",
   "metadata": {},
   "source": [
    "Der RMSE liegt unter 70 Tsd. USd. und entspricht demententsprechend den Anforderung an das Modell. "
   ]
  },
  {
   "cell_type": "markdown",
   "metadata": {},
   "source": [
    "### sklearn Spline"
   ]
  },
  {
   "cell_type": "markdown",
   "metadata": {},
   "source": [
    "**Data preperation**"
   ]
  },
  {
   "cell_type": "code",
   "execution_count": 242,
   "metadata": {},
   "outputs": [],
   "source": [
    "df = read_data()\n",
    "df = transform_data(df)"
   ]
  },
  {
   "cell_type": "code",
   "execution_count": 243,
   "metadata": {},
   "outputs": [],
   "source": [
    "#Split Test and Trainingsdata\n",
    "X = df.drop('median_house_value', axis=1)\n",
    "y = df['median_house_value']\n",
    "\n",
    "X_train, X_test, y_train, y_test = train_test_split(X, y, test_size=0.2, random_state=42)"
   ]
  },
  {
   "cell_type": "code",
   "execution_count": 244,
   "metadata": {},
   "outputs": [],
   "source": [
    "X_train = add_feautures(X_train)"
   ]
  },
  {
   "cell_type": "code",
   "execution_count": 245,
   "metadata": {},
   "outputs": [],
   "source": [
    "#Feauture Selection \n",
    "X_train = X_train[['median_income', 'ocean_proximity','housing_median_age', 'households_population', 'total_rooms_households', 'total_rooms_total_bedrooms', 'geohash']]"
   ]
  },
  {
   "cell_type": "markdown",
   "metadata": {},
   "source": [
    "Im Gegensatz zu Statsmodels können bei scikit-lern mehr als eine Variable verwendet werden. "
   ]
  },
  {
   "cell_type": "code",
   "execution_count": 246,
   "metadata": {},
   "outputs": [],
   "source": [
    "preprocessor = build_preprocessor()"
   ]
  },
  {
   "cell_type": "markdown",
   "metadata": {},
   "source": [
    "**Splines: Build**"
   ]
  },
  {
   "cell_type": "code",
   "execution_count": 247,
   "metadata": {},
   "outputs": [],
   "source": [
    "Splines_pipe = Pipeline(steps=[\n",
    "    ('preprocessor', preprocessor),\n",
    "    ('polynomialfeatures', PolynomialFeatures()),\n",
    "    ('ridge', Ridge())\n",
    "                        ])"
   ]
  },
  {
   "cell_type": "code",
   "execution_count": 248,
   "metadata": {},
   "outputs": [
    {
     "data": {
      "text/html": [
       "<style>#sk-ed4f0911-9fdd-4519-b49e-304df362126d {color: black;background-color: white;}#sk-ed4f0911-9fdd-4519-b49e-304df362126d pre{padding: 0;}#sk-ed4f0911-9fdd-4519-b49e-304df362126d div.sk-toggleable {background-color: white;}#sk-ed4f0911-9fdd-4519-b49e-304df362126d label.sk-toggleable__label {cursor: pointer;display: block;width: 100%;margin-bottom: 0;padding: 0.3em;box-sizing: border-box;text-align: center;}#sk-ed4f0911-9fdd-4519-b49e-304df362126d label.sk-toggleable__label-arrow:before {content: \"▸\";float: left;margin-right: 0.25em;color: #696969;}#sk-ed4f0911-9fdd-4519-b49e-304df362126d label.sk-toggleable__label-arrow:hover:before {color: black;}#sk-ed4f0911-9fdd-4519-b49e-304df362126d div.sk-estimator:hover label.sk-toggleable__label-arrow:before {color: black;}#sk-ed4f0911-9fdd-4519-b49e-304df362126d div.sk-toggleable__content {max-height: 0;max-width: 0;overflow: hidden;text-align: left;background-color: #f0f8ff;}#sk-ed4f0911-9fdd-4519-b49e-304df362126d div.sk-toggleable__content pre {margin: 0.2em;color: black;border-radius: 0.25em;background-color: #f0f8ff;}#sk-ed4f0911-9fdd-4519-b49e-304df362126d input.sk-toggleable__control:checked~div.sk-toggleable__content {max-height: 200px;max-width: 100%;overflow: auto;}#sk-ed4f0911-9fdd-4519-b49e-304df362126d input.sk-toggleable__control:checked~label.sk-toggleable__label-arrow:before {content: \"▾\";}#sk-ed4f0911-9fdd-4519-b49e-304df362126d div.sk-estimator input.sk-toggleable__control:checked~label.sk-toggleable__label {background-color: #d4ebff;}#sk-ed4f0911-9fdd-4519-b49e-304df362126d div.sk-label input.sk-toggleable__control:checked~label.sk-toggleable__label {background-color: #d4ebff;}#sk-ed4f0911-9fdd-4519-b49e-304df362126d input.sk-hidden--visually {border: 0;clip: rect(1px 1px 1px 1px);clip: rect(1px, 1px, 1px, 1px);height: 1px;margin: -1px;overflow: hidden;padding: 0;position: absolute;width: 1px;}#sk-ed4f0911-9fdd-4519-b49e-304df362126d div.sk-estimator {font-family: monospace;background-color: #f0f8ff;border: 1px dotted black;border-radius: 0.25em;box-sizing: border-box;margin-bottom: 0.5em;}#sk-ed4f0911-9fdd-4519-b49e-304df362126d div.sk-estimator:hover {background-color: #d4ebff;}#sk-ed4f0911-9fdd-4519-b49e-304df362126d div.sk-parallel-item::after {content: \"\";width: 100%;border-bottom: 1px solid gray;flex-grow: 1;}#sk-ed4f0911-9fdd-4519-b49e-304df362126d div.sk-label:hover label.sk-toggleable__label {background-color: #d4ebff;}#sk-ed4f0911-9fdd-4519-b49e-304df362126d div.sk-serial::before {content: \"\";position: absolute;border-left: 1px solid gray;box-sizing: border-box;top: 2em;bottom: 0;left: 50%;}#sk-ed4f0911-9fdd-4519-b49e-304df362126d div.sk-serial {display: flex;flex-direction: column;align-items: center;background-color: white;padding-right: 0.2em;padding-left: 0.2em;}#sk-ed4f0911-9fdd-4519-b49e-304df362126d div.sk-item {z-index: 1;}#sk-ed4f0911-9fdd-4519-b49e-304df362126d div.sk-parallel {display: flex;align-items: stretch;justify-content: center;background-color: white;}#sk-ed4f0911-9fdd-4519-b49e-304df362126d div.sk-parallel::before {content: \"\";position: absolute;border-left: 1px solid gray;box-sizing: border-box;top: 2em;bottom: 0;left: 50%;}#sk-ed4f0911-9fdd-4519-b49e-304df362126d div.sk-parallel-item {display: flex;flex-direction: column;position: relative;background-color: white;}#sk-ed4f0911-9fdd-4519-b49e-304df362126d div.sk-parallel-item:first-child::after {align-self: flex-end;width: 50%;}#sk-ed4f0911-9fdd-4519-b49e-304df362126d div.sk-parallel-item:last-child::after {align-self: flex-start;width: 50%;}#sk-ed4f0911-9fdd-4519-b49e-304df362126d div.sk-parallel-item:only-child::after {width: 0;}#sk-ed4f0911-9fdd-4519-b49e-304df362126d div.sk-dashed-wrapped {border: 1px dashed gray;margin: 0 0.4em 0.5em 0.4em;box-sizing: border-box;padding-bottom: 0.4em;background-color: white;position: relative;}#sk-ed4f0911-9fdd-4519-b49e-304df362126d div.sk-label label {font-family: monospace;font-weight: bold;background-color: white;display: inline-block;line-height: 1.2em;}#sk-ed4f0911-9fdd-4519-b49e-304df362126d div.sk-label-container {position: relative;z-index: 2;text-align: center;}#sk-ed4f0911-9fdd-4519-b49e-304df362126d div.sk-container {/* jupyter's `normalize.less` sets `[hidden] { display: none; }` but bootstrap.min.css set `[hidden] { display: none !important; }` so we also need the `!important` here to be able to override the default hidden behavior on the sphinx rendered scikit-learn.org. See: https://github.com/scikit-learn/scikit-learn/issues/21755 */display: inline-block !important;position: relative;}#sk-ed4f0911-9fdd-4519-b49e-304df362126d div.sk-text-repr-fallback {display: none;}</style><div id=\"sk-ed4f0911-9fdd-4519-b49e-304df362126d\" class=\"sk-top-container\"><div class=\"sk-text-repr-fallback\"><pre>Pipeline(steps=[(&#x27;preprocessor&#x27;,\n",
       "                 ColumnTransformer(transformers=[(&#x27;num&#x27;,\n",
       "                                                  Pipeline(steps=[(&#x27;imputer&#x27;,\n",
       "                                                                   SimpleImputer(strategy=&#x27;median&#x27;)),\n",
       "                                                                  (&#x27;scaler&#x27;,\n",
       "                                                                   StandardScaler())]),\n",
       "                                                  &lt;sklearn.compose._column_transformer.make_column_selector object at 0x0000024EE00C7E88&gt;),\n",
       "                                                 (&#x27;cat&#x27;,\n",
       "                                                  Pipeline(steps=[(&#x27;imputer&#x27;,\n",
       "                                                                   SimpleImputer(fill_value=&#x27;missing&#x27;,\n",
       "                                                                                 strategy=&#x27;constant&#x27;)),\n",
       "                                                                  (&#x27;onehot&#x27;,\n",
       "                                                                   OneHotEncoder(dtype=&lt;class &#x27;int&#x27;&gt;,\n",
       "                                                                                 handle_unknown=&#x27;ignore&#x27;))]),\n",
       "                                                  &lt;sklearn.compose._column_transformer.make_column_selector object at 0x0000024EE00C7E48&gt;)])),\n",
       "                (&#x27;polynomialfeatures&#x27;, PolynomialFeatures()),\n",
       "                (&#x27;ridge&#x27;, Ridge())])</pre><b>Please rerun this cell to show the HTML repr or trust the notebook.</b></div><div class=\"sk-container\" hidden><div class=\"sk-item sk-dashed-wrapped\"><div class=\"sk-label-container\"><div class=\"sk-label sk-toggleable\"><input class=\"sk-toggleable__control sk-hidden--visually\" id=\"3fed2a34-5af2-4c1a-9d81-769f5981eb52\" type=\"checkbox\" ><label for=\"3fed2a34-5af2-4c1a-9d81-769f5981eb52\" class=\"sk-toggleable__label sk-toggleable__label-arrow\">Pipeline</label><div class=\"sk-toggleable__content\"><pre>Pipeline(steps=[(&#x27;preprocessor&#x27;,\n",
       "                 ColumnTransformer(transformers=[(&#x27;num&#x27;,\n",
       "                                                  Pipeline(steps=[(&#x27;imputer&#x27;,\n",
       "                                                                   SimpleImputer(strategy=&#x27;median&#x27;)),\n",
       "                                                                  (&#x27;scaler&#x27;,\n",
       "                                                                   StandardScaler())]),\n",
       "                                                  &lt;sklearn.compose._column_transformer.make_column_selector object at 0x0000024EE00C7E88&gt;),\n",
       "                                                 (&#x27;cat&#x27;,\n",
       "                                                  Pipeline(steps=[(&#x27;imputer&#x27;,\n",
       "                                                                   SimpleImputer(fill_value=&#x27;missing&#x27;,\n",
       "                                                                                 strategy=&#x27;constant&#x27;)),\n",
       "                                                                  (&#x27;onehot&#x27;,\n",
       "                                                                   OneHotEncoder(dtype=&lt;class &#x27;int&#x27;&gt;,\n",
       "                                                                                 handle_unknown=&#x27;ignore&#x27;))]),\n",
       "                                                  &lt;sklearn.compose._column_transformer.make_column_selector object at 0x0000024EE00C7E48&gt;)])),\n",
       "                (&#x27;polynomialfeatures&#x27;, PolynomialFeatures()),\n",
       "                (&#x27;ridge&#x27;, Ridge())])</pre></div></div></div><div class=\"sk-serial\"><div class=\"sk-item sk-dashed-wrapped\"><div class=\"sk-label-container\"><div class=\"sk-label sk-toggleable\"><input class=\"sk-toggleable__control sk-hidden--visually\" id=\"ed5a0614-2dd5-4406-91db-f156000a78f3\" type=\"checkbox\" ><label for=\"ed5a0614-2dd5-4406-91db-f156000a78f3\" class=\"sk-toggleable__label sk-toggleable__label-arrow\">preprocessor: ColumnTransformer</label><div class=\"sk-toggleable__content\"><pre>ColumnTransformer(transformers=[(&#x27;num&#x27;,\n",
       "                                 Pipeline(steps=[(&#x27;imputer&#x27;,\n",
       "                                                  SimpleImputer(strategy=&#x27;median&#x27;)),\n",
       "                                                 (&#x27;scaler&#x27;, StandardScaler())]),\n",
       "                                 &lt;sklearn.compose._column_transformer.make_column_selector object at 0x0000024EE00C7E88&gt;),\n",
       "                                (&#x27;cat&#x27;,\n",
       "                                 Pipeline(steps=[(&#x27;imputer&#x27;,\n",
       "                                                  SimpleImputer(fill_value=&#x27;missing&#x27;,\n",
       "                                                                strategy=&#x27;constant&#x27;)),\n",
       "                                                 (&#x27;onehot&#x27;,\n",
       "                                                  OneHotEncoder(dtype=&lt;class &#x27;int&#x27;&gt;,\n",
       "                                                                handle_unknown=&#x27;ignore&#x27;))]),\n",
       "                                 &lt;sklearn.compose._column_transformer.make_column_selector object at 0x0000024EE00C7E48&gt;)])</pre></div></div></div><div class=\"sk-parallel\"><div class=\"sk-parallel-item\"><div class=\"sk-item\"><div class=\"sk-label-container\"><div class=\"sk-label sk-toggleable\"><input class=\"sk-toggleable__control sk-hidden--visually\" id=\"486b4f61-3b41-4eb0-a549-55ef1d147c78\" type=\"checkbox\" ><label for=\"486b4f61-3b41-4eb0-a549-55ef1d147c78\" class=\"sk-toggleable__label sk-toggleable__label-arrow\">num</label><div class=\"sk-toggleable__content\"><pre>&lt;sklearn.compose._column_transformer.make_column_selector object at 0x0000024EE00C7E88&gt;</pre></div></div></div><div class=\"sk-serial\"><div class=\"sk-item\"><div class=\"sk-serial\"><div class=\"sk-item\"><div class=\"sk-estimator sk-toggleable\"><input class=\"sk-toggleable__control sk-hidden--visually\" id=\"00c30cae-9f2c-4093-aa51-0cf40771e914\" type=\"checkbox\" ><label for=\"00c30cae-9f2c-4093-aa51-0cf40771e914\" class=\"sk-toggleable__label sk-toggleable__label-arrow\">SimpleImputer</label><div class=\"sk-toggleable__content\"><pre>SimpleImputer(strategy=&#x27;median&#x27;)</pre></div></div></div><div class=\"sk-item\"><div class=\"sk-estimator sk-toggleable\"><input class=\"sk-toggleable__control sk-hidden--visually\" id=\"61faab60-b9f9-4651-8f70-eebd35169ca9\" type=\"checkbox\" ><label for=\"61faab60-b9f9-4651-8f70-eebd35169ca9\" class=\"sk-toggleable__label sk-toggleable__label-arrow\">StandardScaler</label><div class=\"sk-toggleable__content\"><pre>StandardScaler()</pre></div></div></div></div></div></div></div></div><div class=\"sk-parallel-item\"><div class=\"sk-item\"><div class=\"sk-label-container\"><div class=\"sk-label sk-toggleable\"><input class=\"sk-toggleable__control sk-hidden--visually\" id=\"636889a5-8e67-464a-aaac-324c9e786d65\" type=\"checkbox\" ><label for=\"636889a5-8e67-464a-aaac-324c9e786d65\" class=\"sk-toggleable__label sk-toggleable__label-arrow\">cat</label><div class=\"sk-toggleable__content\"><pre>&lt;sklearn.compose._column_transformer.make_column_selector object at 0x0000024EE00C7E48&gt;</pre></div></div></div><div class=\"sk-serial\"><div class=\"sk-item\"><div class=\"sk-serial\"><div class=\"sk-item\"><div class=\"sk-estimator sk-toggleable\"><input class=\"sk-toggleable__control sk-hidden--visually\" id=\"4d223005-6208-4c29-8ce7-dc27bbe59483\" type=\"checkbox\" ><label for=\"4d223005-6208-4c29-8ce7-dc27bbe59483\" class=\"sk-toggleable__label sk-toggleable__label-arrow\">SimpleImputer</label><div class=\"sk-toggleable__content\"><pre>SimpleImputer(fill_value=&#x27;missing&#x27;, strategy=&#x27;constant&#x27;)</pre></div></div></div><div class=\"sk-item\"><div class=\"sk-estimator sk-toggleable\"><input class=\"sk-toggleable__control sk-hidden--visually\" id=\"8e9f6c42-6b4d-4464-ae51-3f09b876ab06\" type=\"checkbox\" ><label for=\"8e9f6c42-6b4d-4464-ae51-3f09b876ab06\" class=\"sk-toggleable__label sk-toggleable__label-arrow\">OneHotEncoder</label><div class=\"sk-toggleable__content\"><pre>OneHotEncoder(dtype=&lt;class &#x27;int&#x27;&gt;, handle_unknown=&#x27;ignore&#x27;)</pre></div></div></div></div></div></div></div></div></div></div><div class=\"sk-item\"><div class=\"sk-estimator sk-toggleable\"><input class=\"sk-toggleable__control sk-hidden--visually\" id=\"5c2f80bc-ed16-474d-ac4f-b90581393aeb\" type=\"checkbox\" ><label for=\"5c2f80bc-ed16-474d-ac4f-b90581393aeb\" class=\"sk-toggleable__label sk-toggleable__label-arrow\">PolynomialFeatures</label><div class=\"sk-toggleable__content\"><pre>PolynomialFeatures()</pre></div></div></div><div class=\"sk-item\"><div class=\"sk-estimator sk-toggleable\"><input class=\"sk-toggleable__control sk-hidden--visually\" id=\"b416ae9a-f368-4be2-bc10-d64cecd6d1cf\" type=\"checkbox\" ><label for=\"b416ae9a-f368-4be2-bc10-d64cecd6d1cf\" class=\"sk-toggleable__label sk-toggleable__label-arrow\">Ridge</label><div class=\"sk-toggleable__content\"><pre>Ridge()</pre></div></div></div></div></div></div></div>"
      ],
      "text/plain": [
       "Pipeline(steps=[('preprocessor',\n",
       "                 ColumnTransformer(transformers=[('num',\n",
       "                                                  Pipeline(steps=[('imputer',\n",
       "                                                                   SimpleImputer(strategy='median')),\n",
       "                                                                  ('scaler',\n",
       "                                                                   StandardScaler())]),\n",
       "                                                  <sklearn.compose._column_transformer.make_column_selector object at 0x0000024EE00C7E88>),\n",
       "                                                 ('cat',\n",
       "                                                  Pipeline(steps=[('imputer',\n",
       "                                                                   SimpleImputer(fill_value='missing',\n",
       "                                                                                 strategy='constant')),\n",
       "                                                                  ('onehot',\n",
       "                                                                   OneHotEncoder(dtype=<class 'int'>,\n",
       "                                                                                 handle_unknown='ignore'))]),\n",
       "                                                  <sklearn.compose._column_transformer.make_column_selector object at 0x0000024EE00C7E48>)])),\n",
       "                ('polynomialfeatures', PolynomialFeatures()),\n",
       "                ('ridge', Ridge())])"
      ]
     },
     "execution_count": 248,
     "metadata": {},
     "output_type": "execute_result"
    }
   ],
   "source": [
    "Splines_pipe.fit(X_train, y_train)"
   ]
  },
  {
   "cell_type": "code",
   "execution_count": 249,
   "metadata": {},
   "outputs": [],
   "source": [
    "y_pred = Splines_pipe.predict(X_train)"
   ]
  },
  {
   "cell_type": "code",
   "execution_count": 250,
   "metadata": {},
   "outputs": [
    {
     "name": "stdout",
     "output_type": "stream",
     "text": [
      "r2:  0.7628\n",
      "RMSE  56311.61\n",
      "MSE:  3170997160.3\n"
     ]
    }
   ],
   "source": [
    "r2_spline, rmse_spline, mse_spline = metrics_sk(y_train, y_pred)"
   ]
  },
  {
   "cell_type": "markdown",
   "metadata": {},
   "source": [
    "Der RMSE liegt mit 56,3 Tsd. USD deutlich unter 70 Tsd. USD."
   ]
  },
  {
   "cell_type": "markdown",
   "metadata": {},
   "source": [
    "### Evaluation Sklearn"
   ]
  },
  {
   "cell_type": "markdown",
   "metadata": {},
   "source": [
    "**Select best model**"
   ]
  },
  {
   "cell_type": "markdown",
   "metadata": {},
   "source": [
    "Wie bei Statsmodel werden die RMSE-Werte zuerst verglichen und dann das beste Modell mit den Testdaten validiert. "
   ]
  },
  {
   "cell_type": "code",
   "execution_count": 251,
   "metadata": {},
   "outputs": [
    {
     "data": {
      "text/html": [
       "<div>\n",
       "<style scoped>\n",
       "    .dataframe tbody tr th:only-of-type {\n",
       "        vertical-align: middle;\n",
       "    }\n",
       "\n",
       "    .dataframe tbody tr th {\n",
       "        vertical-align: top;\n",
       "    }\n",
       "\n",
       "    .dataframe thead th {\n",
       "        text-align: right;\n",
       "    }\n",
       "</style>\n",
       "<table border=\"1\" class=\"dataframe\">\n",
       "  <thead>\n",
       "    <tr style=\"text-align: right;\">\n",
       "      <th></th>\n",
       "      <th>RMSE</th>\n",
       "      <th>Werte</th>\n",
       "    </tr>\n",
       "  </thead>\n",
       "  <tbody>\n",
       "    <tr>\n",
       "      <th>2</th>\n",
       "      <td>RMSE Spline</td>\n",
       "      <td>56311.61</td>\n",
       "    </tr>\n",
       "    <tr>\n",
       "      <th>1</th>\n",
       "      <td>RMSE Lasso</td>\n",
       "      <td>62842.13</td>\n",
       "    </tr>\n",
       "    <tr>\n",
       "      <th>0</th>\n",
       "      <td>RMSE OLS</td>\n",
       "      <td>63242.32</td>\n",
       "    </tr>\n",
       "  </tbody>\n",
       "</table>\n",
       "</div>"
      ],
      "text/plain": [
       "          RMSE     Werte\n",
       "2  RMSE Spline  56311.61\n",
       "1   RMSE Lasso  62842.13\n",
       "0     RMSE OLS  63242.32"
      ]
     },
     "execution_count": 251,
     "metadata": {},
     "output_type": "execute_result"
    }
   ],
   "source": [
    "results= {'RMSE': ['RMSE OLS', 'RMSE Lasso', 'RMSE Spline'],\n",
    "        'Werte': [rmse_lm, rmse_lasso, rmse_spline] }\n",
    "df_results = pd.DataFrame(results)\n",
    "df_results.sort_values(by ='Werte')"
   ]
  },
  {
   "cell_type": "markdown",
   "metadata": {},
   "source": [
    "Das beste Modell ist das Spline-Modell. "
   ]
  },
  {
   "cell_type": "markdown",
   "metadata": {},
   "source": [
    "**Predict with test data**"
   ]
  },
  {
   "cell_type": "code",
   "execution_count": 252,
   "metadata": {},
   "outputs": [],
   "source": [
    "X_test = add_feautures(X_test)\n",
    "X_test = X_test[['median_income', 'ocean_proximity','housing_median_age', 'households_population', 'total_rooms_households', 'total_rooms_total_bedrooms', 'geohash']]"
   ]
  },
  {
   "cell_type": "code",
   "execution_count": 253,
   "metadata": {},
   "outputs": [],
   "source": [
    "y_test_pred = Splines_pipe.predict(X_test)"
   ]
  },
  {
   "cell_type": "markdown",
   "metadata": {},
   "source": [
    "**Final Results**"
   ]
  },
  {
   "cell_type": "code",
   "execution_count": 254,
   "metadata": {},
   "outputs": [
    {
     "name": "stdout",
     "output_type": "stream",
     "text": [
      "r2:  0.7366\n",
      "RMSE  58720.25\n",
      "MSE:  3448068054.55\n"
     ]
    }
   ],
   "source": [
    "y_test.fillna(y_test.median(), inplace= True)\n",
    "r2_test, rmse_test, mse_test = metrics_sk(y_test, y_test_pred)\n"
   ]
  },
  {
   "cell_type": "markdown",
   "metadata": {},
   "source": [
    "Der RMSE der Testdaten liegt ebenfalls unter 70 Tsd. USD bei 58,7 Tsd. USD. Dieses Ergebnis ist besser als das durch Statsmodel erzielte."
   ]
  },
  {
   "cell_type": "markdown",
   "metadata": {},
   "source": [
    "Nach Anforderung kann auch die Regression als Erfolg gewertet werden. "
   ]
  }
 ],
 "metadata": {
  "interpreter": {
   "hash": "463226f144cc21b006ce6927bfc93dd00694e52c8bc6857abb6e555b983749e9"
  },
  "kernelspec": {
   "display_name": "Python 3.8.2 64-bit ('base': conda)",
   "language": "python",
   "name": "python3"
  },
  "language_info": {
   "codemirror_mode": {
    "name": "ipython",
    "version": 3
   },
   "file_extension": ".py",
   "mimetype": "text/x-python",
   "name": "python",
   "nbconvert_exporter": "python",
   "pygments_lexer": "ipython3",
   "version": "3.7.11"
  },
  "orig_nbformat": 4
 },
 "nbformat": 4,
 "nbformat_minor": 2
}
