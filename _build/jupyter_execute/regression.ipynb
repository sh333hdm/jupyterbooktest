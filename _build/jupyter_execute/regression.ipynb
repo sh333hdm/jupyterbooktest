{
 "cells": [
  {
   "cell_type": "markdown",
   "metadata": {},
   "source": [
    "# Model: Regression "
   ]
  },
  {
   "cell_type": "markdown",
   "metadata": {},
   "source": [
    "In diesem Notebook werden verschieden Regressionsmodell angewendet, um den mittleren Immobilienpreis von Distrikten in Kalifornien vorherzusagen. Dabei ist die Anforderung an die Model einen RMSE von kleiner 70 Tsd. USD zu erzielen. Dann wird das Projekt als Erfolg gewertet. \n"
   ]
  },
  {
   "cell_type": "markdown",
   "metadata": {},
   "source": [
    "Die Regressionsmodelle werden in diesem Notebook mit Statsmodels und der Bibliothek scikit-learn durchgeführt. Die Auswahl der Modelle wird beim jeweiligen Modell begründet und beschrieben. Grundlegend ist jedes Modell in *Data preperation*, *Build* und *Metrics und Validation* unterteilt. Für das beste Modell der jeweiligen Bibliothek wird eine Evaluation mit den Testdaten durchgeführt. "
   ]
  },
  {
   "cell_type": "markdown",
   "metadata": {},
   "source": [
    "## Models statsmodels"
   ]
  },
  {
   "cell_type": "code",
   "execution_count": 1,
   "metadata": {},
   "outputs": [],
   "source": [
    "import pandas as pd\n",
    "import seaborn as sns\n",
    "import numpy as np\n",
    "import matplotlib.pyplot as plt\n",
    "import statsmodels.api as sm\n",
    "from patsy import dmatrices\n",
    "from func import *\n",
    "\n",
    "import statsmodels.api as sm\n",
    "import statsmodels.formula.api as smf\n",
    "from statsmodels.tools.eval_measures import mse, rmse\n",
    "from statsmodels.compat import lzip\n",
    "from statsmodels.stats.outliers_influence import variance_inflation_factor\n",
    "\n",
    "%load_ext autoreload\n",
    "%autoreload 2"
   ]
  },
  {
   "cell_type": "markdown",
   "metadata": {},
   "source": [
    "### Statsmodels OLS"
   ]
  },
  {
   "cell_type": "markdown",
   "metadata": {},
   "source": [
    "**Data preperation**"
   ]
  },
  {
   "cell_type": "markdown",
   "metadata": {},
   "source": [
    "Zur *Data preperation* bei Nutzung der Bibliothek Statsmodels werden Funktion aus der der Datei func.py verwendet. Diese werden im Notebook Data näher erläutert. "
   ]
  },
  {
   "cell_type": "code",
   "execution_count": 2,
   "metadata": {},
   "outputs": [
    {
     "ename": "ValueError",
     "evalue": "not enough values to unpack (expected 4, got 2)",
     "output_type": "error",
     "traceback": [
      "\u001b[1;31m---------------------------------------------------------------------------\u001b[0m",
      "\u001b[1;31mValueError\u001b[0m                                Traceback (most recent call last)",
      "\u001b[1;32m~\\AppData\\Local\\Temp/ipykernel_960/2720515760.py\u001b[0m in \u001b[0;36m<module>\u001b[1;34m\u001b[0m\n\u001b[0;32m      1\u001b[0m \u001b[0mdf\u001b[0m \u001b[1;33m=\u001b[0m \u001b[0mread_data\u001b[0m\u001b[1;33m(\u001b[0m\u001b[1;33m)\u001b[0m\u001b[1;33m\u001b[0m\u001b[1;33m\u001b[0m\u001b[0m\n\u001b[0;32m      2\u001b[0m \u001b[0mdf\u001b[0m \u001b[1;33m=\u001b[0m \u001b[0mtransform_data\u001b[0m\u001b[1;33m(\u001b[0m\u001b[0mdf\u001b[0m\u001b[1;33m)\u001b[0m\u001b[1;33m\u001b[0m\u001b[1;33m\u001b[0m\u001b[0m\n\u001b[1;32m----> 3\u001b[1;33m \u001b[0mtrain_dataset\u001b[0m\u001b[1;33m,\u001b[0m \u001b[0mevaluate_dataset\u001b[0m\u001b[1;33m,\u001b[0m \u001b[0mtrain_dataset_total\u001b[0m\u001b[1;33m,\u001b[0m \u001b[0mtest_dataset\u001b[0m \u001b[1;33m=\u001b[0m \u001b[0msplit_data\u001b[0m\u001b[1;33m(\u001b[0m\u001b[0mdf\u001b[0m\u001b[1;33m)\u001b[0m\u001b[1;33m\u001b[0m\u001b[1;33m\u001b[0m\u001b[0m\n\u001b[0m\u001b[0;32m      4\u001b[0m \u001b[0mtrain_dataset\u001b[0m \u001b[1;33m=\u001b[0m \u001b[0mfill_missingdata\u001b[0m\u001b[1;33m(\u001b[0m\u001b[0mtrain_dataset\u001b[0m\u001b[1;33m)\u001b[0m\u001b[1;33m\u001b[0m\u001b[1;33m\u001b[0m\u001b[0m\n\u001b[0;32m      5\u001b[0m \u001b[0mtrain_dataset\u001b[0m \u001b[1;33m=\u001b[0m \u001b[0madd_feautures\u001b[0m\u001b[1;33m(\u001b[0m\u001b[0mtrain_dataset\u001b[0m\u001b[1;33m)\u001b[0m\u001b[1;33m\u001b[0m\u001b[1;33m\u001b[0m\u001b[0m\n",
      "\u001b[1;31mValueError\u001b[0m: not enough values to unpack (expected 4, got 2)"
     ]
    }
   ],
   "source": [
    "df = read_data()\n",
    "df = transform_data(df)\n",
    "train_dataset, evaluate_dataset, train_dataset_total, test_dataset = split_data(df)\n",
    "train_dataset = fill_missingdata(train_dataset)\n",
    "train_dataset = add_feautures(train_dataset)\n",
    "train_dataset"
   ]
  },
  {
   "cell_type": "markdown",
   "metadata": {},
   "source": [
    "**Model 1 OLS: Build**"
   ]
  },
  {
   "cell_type": "code",
   "execution_count": 3,
   "metadata": {},
   "outputs": [],
   "source": [
    "lm1 = smf.ols(formula ='median_house_value ~ median_income', data=train_dataset).fit()"
   ]
  },
  {
   "cell_type": "markdown",
   "metadata": {},
   "source": [
    "Als erstes Modell wir eine einfach lineare Regression gewählt. Als unabhängige Variable wir *median_income* gewählt, da das mittlere Einkommen eines Bezirks die höchste Korrelation zu *median_house_value* aufweist. "
   ]
  },
  {
   "cell_type": "code",
   "execution_count": 4,
   "metadata": {},
   "outputs": [],
   "source": [
    "train_dataset['y_pred'] = lm1.predict()"
   ]
  },
  {
   "cell_type": "markdown",
   "metadata": {},
   "source": [
    "**Model OLS 1: Metrics and Evaluation**"
   ]
  },
  {
   "cell_type": "code",
   "execution_count": 5,
   "metadata": {},
   "outputs": [
    {
     "data": {
      "text/html": [
       "<table class=\"simpletable\">\n",
       "<caption>OLS Regression Results</caption>\n",
       "<tr>\n",
       "  <th>Dep. Variable:</th>    <td>median_house_value</td> <th>  R-squared:         </th>  <td>   0.470</td>  \n",
       "</tr>\n",
       "<tr>\n",
       "  <th>Model:</th>                    <td>OLS</td>        <th>  Adj. R-squared:    </th>  <td>   0.470</td>  \n",
       "</tr>\n",
       "<tr>\n",
       "  <th>Method:</th>              <td>Least Squares</td>   <th>  F-statistic:       </th>  <td>1.318e+04</td> \n",
       "</tr>\n",
       "<tr>\n",
       "  <th>Date:</th>              <td>Tue, 18 Jan 2022</td>  <th>  Prob (F-statistic):</th>   <td>  0.00</td>   \n",
       "</tr>\n",
       "<tr>\n",
       "  <th>Time:</th>                  <td>18:07:28</td>      <th>  Log-Likelihood:    </th> <td>-1.8964e+05</td>\n",
       "</tr>\n",
       "<tr>\n",
       "  <th>No. Observations:</th>       <td> 14860</td>       <th>  AIC:               </th>  <td>3.793e+05</td> \n",
       "</tr>\n",
       "<tr>\n",
       "  <th>Df Residuals:</th>           <td> 14858</td>       <th>  BIC:               </th>  <td>3.793e+05</td> \n",
       "</tr>\n",
       "<tr>\n",
       "  <th>Df Model:</th>               <td>     1</td>       <th>                     </th>      <td> </td>     \n",
       "</tr>\n",
       "<tr>\n",
       "  <th>Covariance Type:</th>       <td>nonrobust</td>     <th>                     </th>      <td> </td>     \n",
       "</tr>\n",
       "</table>\n",
       "<table class=\"simpletable\">\n",
       "<tr>\n",
       "        <td></td>           <th>coef</th>     <th>std err</th>      <th>t</th>      <th>P>|t|</th>  <th>[0.025</th>    <th>0.975]</th>  \n",
       "</tr>\n",
       "<tr>\n",
       "  <th>Intercept</th>     <td> 4.558e+04</td> <td> 1562.533</td> <td>   29.169</td> <td> 0.000</td> <td> 4.25e+04</td> <td> 4.86e+04</td>\n",
       "</tr>\n",
       "<tr>\n",
       "  <th>median_income</th> <td> 4.165e+04</td> <td>  362.802</td> <td>  114.790</td> <td> 0.000</td> <td> 4.09e+04</td> <td> 4.24e+04</td>\n",
       "</tr>\n",
       "</table>\n",
       "<table class=\"simpletable\">\n",
       "<tr>\n",
       "  <th>Omnibus:</th>       <td>3132.062</td> <th>  Durbin-Watson:     </th> <td>   2.001</td>\n",
       "</tr>\n",
       "<tr>\n",
       "  <th>Prob(Omnibus):</th>  <td> 0.000</td>  <th>  Jarque-Bera (JB):  </th> <td>7037.353</td>\n",
       "</tr>\n",
       "<tr>\n",
       "  <th>Skew:</th>           <td> 1.205</td>  <th>  Prob(JB):          </th> <td>    0.00</td>\n",
       "</tr>\n",
       "<tr>\n",
       "  <th>Kurtosis:</th>       <td> 5.357</td>  <th>  Cond. No.          </th> <td>    10.2</td>\n",
       "</tr>\n",
       "</table><br/><br/>Notes:<br/>[1] Standard Errors assume that the covariance matrix of the errors is correctly specified."
      ],
      "text/plain": [
       "<class 'statsmodels.iolib.summary.Summary'>\n",
       "\"\"\"\n",
       "                            OLS Regression Results                            \n",
       "==============================================================================\n",
       "Dep. Variable:     median_house_value   R-squared:                       0.470\n",
       "Model:                            OLS   Adj. R-squared:                  0.470\n",
       "Method:                 Least Squares   F-statistic:                 1.318e+04\n",
       "Date:                Tue, 18 Jan 2022   Prob (F-statistic):               0.00\n",
       "Time:                        18:07:28   Log-Likelihood:            -1.8964e+05\n",
       "No. Observations:               14860   AIC:                         3.793e+05\n",
       "Df Residuals:                   14858   BIC:                         3.793e+05\n",
       "Df Model:                           1                                         \n",
       "Covariance Type:            nonrobust                                         \n",
       "=================================================================================\n",
       "                    coef    std err          t      P>|t|      [0.025      0.975]\n",
       "---------------------------------------------------------------------------------\n",
       "Intercept      4.558e+04   1562.533     29.169      0.000    4.25e+04    4.86e+04\n",
       "median_income  4.165e+04    362.802    114.790      0.000    4.09e+04    4.24e+04\n",
       "==============================================================================\n",
       "Omnibus:                     3132.062   Durbin-Watson:                   2.001\n",
       "Prob(Omnibus):                  0.000   Jarque-Bera (JB):             7037.353\n",
       "Skew:                           1.205   Prob(JB):                         0.00\n",
       "Kurtosis:                       5.357   Cond. No.                         10.2\n",
       "==============================================================================\n",
       "\n",
       "Notes:\n",
       "[1] Standard Errors assume that the covariance matrix of the errors is correctly specified.\n",
       "\"\"\""
      ]
     },
     "execution_count": 5,
     "metadata": {},
     "output_type": "execute_result"
    }
   ],
   "source": [
    "lm1.summary()"
   ]
  },
  {
   "cell_type": "markdown",
   "metadata": {},
   "source": [
    "Die Kenngrößen in der summary() sind wie erwartet nicht besonders gut. Der Adj. R-squared liegt bei 0.47. Dieser besagt, dass unter 50% der Streuung der Werte durch das Modell korrekt vorhergesagt werden kann. Weitere Kenngrößen werden im Vergleich zum zweiten Modell betrachtet. "
   ]
  },
  {
   "cell_type": "code",
   "execution_count": 6,
   "metadata": {},
   "outputs": [
    {
     "name": "stdout",
     "output_type": "stream",
     "text": [
      "r2:  0.47\n",
      "RMSE  84343.17\n",
      "MSE:  7113770789.24\n"
     ]
    }
   ],
   "source": [
    "r2_lm1, rmse_lm1, mse_lm1 = metrics_stats(lm1,train_dataset)"
   ]
  },
  {
   "cell_type": "markdown",
   "metadata": {},
   "source": [
    "Ebenfalls liegt der RMSE mit 84.343 USD über dem Zielwert von 70 Tsd. USD. Das Modell kann dementsprechend nicht als Erfolg gewertet werden. "
   ]
  },
  {
   "cell_type": "markdown",
   "metadata": {},
   "source": [
    "**Model 2 OLS: Build**"
   ]
  },
  {
   "cell_type": "code",
   "execution_count": 7,
   "metadata": {},
   "outputs": [],
   "source": [
    "lm2 = smf.ols(formula ='median_house_value ~ median_income + total_rooms_total_bedrooms', data=train_dataset).fit()"
   ]
  },
  {
   "cell_type": "code",
   "execution_count": 8,
   "metadata": {},
   "outputs": [],
   "source": [
    "# Add the regression predictions (as \"pred\") to our DataFrame\n",
    "train_dataset['y_pred'] = lm2.predict()"
   ]
  },
  {
   "cell_type": "markdown",
   "metadata": {},
   "source": [
    "**Model 2 OLS: Metrics and Evaluate**"
   ]
  },
  {
   "cell_type": "code",
   "execution_count": 9,
   "metadata": {},
   "outputs": [
    {
     "data": {
      "text/html": [
       "<table class=\"simpletable\">\n",
       "<caption>OLS Regression Results</caption>\n",
       "<tr>\n",
       "  <th>Dep. Variable:</th>    <td>median_house_value</td> <th>  R-squared:         </th>  <td>   0.504</td>  \n",
       "</tr>\n",
       "<tr>\n",
       "  <th>Model:</th>                    <td>OLS</td>        <th>  Adj. R-squared:    </th>  <td>   0.504</td>  \n",
       "</tr>\n",
       "<tr>\n",
       "  <th>Method:</th>              <td>Least Squares</td>   <th>  F-statistic:       </th>  <td>   7548.</td>  \n",
       "</tr>\n",
       "<tr>\n",
       "  <th>Date:</th>              <td>Tue, 18 Jan 2022</td>  <th>  Prob (F-statistic):</th>   <td>  0.00</td>   \n",
       "</tr>\n",
       "<tr>\n",
       "  <th>Time:</th>                  <td>18:07:39</td>      <th>  Log-Likelihood:    </th> <td>-1.8914e+05</td>\n",
       "</tr>\n",
       "<tr>\n",
       "  <th>No. Observations:</th>       <td> 14860</td>       <th>  AIC:               </th>  <td>3.783e+05</td> \n",
       "</tr>\n",
       "<tr>\n",
       "  <th>Df Residuals:</th>           <td> 14857</td>       <th>  BIC:               </th>  <td>3.783e+05</td> \n",
       "</tr>\n",
       "<tr>\n",
       "  <th>Df Model:</th>               <td>     2</td>       <th>                     </th>      <td> </td>     \n",
       "</tr>\n",
       "<tr>\n",
       "  <th>Covariance Type:</th>       <td>nonrobust</td>     <th>                     </th>      <td> </td>     \n",
       "</tr>\n",
       "</table>\n",
       "<table class=\"simpletable\">\n",
       "<tr>\n",
       "               <td></td>                 <th>coef</th>     <th>std err</th>      <th>t</th>      <th>P>|t|</th>  <th>[0.025</th>    <th>0.975]</th>  \n",
       "</tr>\n",
       "<tr>\n",
       "  <th>Intercept</th>                  <td> 1.232e+05</td> <td> 2863.056</td> <td>   43.015</td> <td> 0.000</td> <td> 1.18e+05</td> <td> 1.29e+05</td>\n",
       "</tr>\n",
       "<tr>\n",
       "  <th>median_income</th>              <td> 5.317e+04</td> <td>  503.530</td> <td>  105.585</td> <td> 0.000</td> <td> 5.22e+04</td> <td> 5.42e+04</td>\n",
       "</tr>\n",
       "<tr>\n",
       "  <th>total_rooms_total_bedrooms</th> <td>-2.447e+04</td> <td>  766.895</td> <td>  -31.905</td> <td> 0.000</td> <td> -2.6e+04</td> <td> -2.3e+04</td>\n",
       "</tr>\n",
       "</table>\n",
       "<table class=\"simpletable\">\n",
       "<tr>\n",
       "  <th>Omnibus:</th>       <td>3447.422</td> <th>  Durbin-Watson:     </th> <td>   1.994</td> \n",
       "</tr>\n",
       "<tr>\n",
       "  <th>Prob(Omnibus):</th>  <td> 0.000</td>  <th>  Jarque-Bera (JB):  </th> <td>11010.460</td>\n",
       "</tr>\n",
       "<tr>\n",
       "  <th>Skew:</th>           <td> 1.178</td>  <th>  Prob(JB):          </th> <td>    0.00</td> \n",
       "</tr>\n",
       "<tr>\n",
       "  <th>Kurtosis:</th>       <td> 6.497</td>  <th>  Cond. No.          </th> <td>    29.4</td> \n",
       "</tr>\n",
       "</table><br/><br/>Notes:<br/>[1] Standard Errors assume that the covariance matrix of the errors is correctly specified."
      ],
      "text/plain": [
       "<class 'statsmodels.iolib.summary.Summary'>\n",
       "\"\"\"\n",
       "                            OLS Regression Results                            \n",
       "==============================================================================\n",
       "Dep. Variable:     median_house_value   R-squared:                       0.504\n",
       "Model:                            OLS   Adj. R-squared:                  0.504\n",
       "Method:                 Least Squares   F-statistic:                     7548.\n",
       "Date:                Tue, 18 Jan 2022   Prob (F-statistic):               0.00\n",
       "Time:                        18:07:39   Log-Likelihood:            -1.8914e+05\n",
       "No. Observations:               14860   AIC:                         3.783e+05\n",
       "Df Residuals:                   14857   BIC:                         3.783e+05\n",
       "Df Model:                           2                                         \n",
       "Covariance Type:            nonrobust                                         \n",
       "==============================================================================================\n",
       "                                 coef    std err          t      P>|t|      [0.025      0.975]\n",
       "----------------------------------------------------------------------------------------------\n",
       "Intercept                   1.232e+05   2863.056     43.015      0.000    1.18e+05    1.29e+05\n",
       "median_income               5.317e+04    503.530    105.585      0.000    5.22e+04    5.42e+04\n",
       "total_rooms_total_bedrooms -2.447e+04    766.895    -31.905      0.000    -2.6e+04    -2.3e+04\n",
       "==============================================================================\n",
       "Omnibus:                     3447.422   Durbin-Watson:                   1.994\n",
       "Prob(Omnibus):                  0.000   Jarque-Bera (JB):            11010.460\n",
       "Skew:                           1.178   Prob(JB):                         0.00\n",
       "Kurtosis:                       6.497   Cond. No.                         29.4\n",
       "==============================================================================\n",
       "\n",
       "Notes:\n",
       "[1] Standard Errors assume that the covariance matrix of the errors is correctly specified.\n",
       "\"\"\""
      ]
     },
     "execution_count": 9,
     "metadata": {},
     "output_type": "execute_result"
    }
   ],
   "source": [
    "lm2.summary()"
   ]
  },
  {
   "cell_type": "markdown",
   "metadata": {},
   "source": [
    "Im Vergleich zu Model 1 erreicht das Model 2 besser statistische Kenngröße. Der Adj. R-squared liegt bei ca. 3% über dem vom Model 1. Sowohl die Kenngröße der F-Statistik, wie auch AIC und BIC sind höher als bei Model 1. "
   ]
  },
  {
   "cell_type": "markdown",
   "metadata": {},
   "source": [
    "> Hinweis: Zu diesem Modell wird ausführlich Regression Diagnostics durchgeführt. "
   ]
  },
  {
   "cell_type": "code",
   "execution_count": 10,
   "metadata": {},
   "outputs": [
    {
     "name": "stdout",
     "output_type": "stream",
     "text": [
      "r2:  0.504\n",
      "RMSE  81594.26\n",
      "MSE:  6657623728.31\n"
     ]
    }
   ],
   "source": [
    "r2_lm2, rmse_lm2, mse_lm2 = metrics_stats(lm2,train_dataset)"
   ]
  },
  {
   "cell_type": "markdown",
   "metadata": {},
   "source": [
    "Der RMSE liegt mit ca. 81,6 Tsd. USD immer noch deutlich über 70 Tsd. USD. Es muss dementsprechend ein geeigneteres Modell gefunden werden. "
   ]
  },
  {
   "cell_type": "markdown",
   "metadata": {},
   "source": [
    "**Model 3 OLS: Build**"
   ]
  },
  {
   "cell_type": "code",
   "execution_count": 11,
   "metadata": {},
   "outputs": [],
   "source": [
    "lm3 = smf.ols(formula ='median_house_value ~ median_income + C(ocean_proximity) + households_population + total_rooms_households +C(geohash) + housing_median_age', data=train_dataset).fit()"
   ]
  },
  {
   "cell_type": "markdown",
   "metadata": {},
   "source": [
    "Im dritten Modell werden mehr Variablen aus dem ursprünglichen Datensatz berücksichtigt. Nicht miteingeschlossen werden: \n",
    "Nicht im Modell berücksichtigt werden folgende Features \n",
    "* *longitude*, *latidue* (siehe Feauture Selection)\n",
    "* *total_rooms*, *total__bedrooms*, *population* und *households*, da die Korrelation dieser Merkmale untereinander zu hoch ist (siehe Feauture Selection)\n",
    "* *price_category*, da diese aus *median_house_value* abgeleitet wird\n",
    "* *total_rooms_total_bedrooms*, da nach einmaliger Durchführung der Klassifikation ein p-Wert von P|z|=0.555 ermittelt wurde\n",
    "\n"
   ]
  },
  {
   "cell_type": "code",
   "execution_count": 12,
   "metadata": {},
   "outputs": [],
   "source": [
    "train_dataset['y_pred'] = lm3.predict()"
   ]
  },
  {
   "cell_type": "markdown",
   "metadata": {},
   "source": [
    "**Model OLS 3: Metrics and Evaluation**"
   ]
  },
  {
   "cell_type": "code",
   "execution_count": 13,
   "metadata": {},
   "outputs": [
    {
     "data": {
      "text/html": [
       "<table class=\"simpletable\">\n",
       "<caption>OLS Regression Results</caption>\n",
       "<tr>\n",
       "  <th>Dep. Variable:</th>    <td>median_house_value</td> <th>  R-squared:         </th>  <td>   0.698</td>  \n",
       "</tr>\n",
       "<tr>\n",
       "  <th>Model:</th>                    <td>OLS</td>        <th>  Adj. R-squared:    </th>  <td>   0.698</td>  \n",
       "</tr>\n",
       "<tr>\n",
       "  <th>Method:</th>              <td>Least Squares</td>   <th>  F-statistic:       </th>  <td>   879.6</td>  \n",
       "</tr>\n",
       "<tr>\n",
       "  <th>Date:</th>              <td>Tue, 18 Jan 2022</td>  <th>  Prob (F-statistic):</th>   <td>  0.00</td>   \n",
       "</tr>\n",
       "<tr>\n",
       "  <th>Time:</th>                  <td>18:07:47</td>      <th>  Log-Likelihood:    </th> <td>-1.8545e+05</td>\n",
       "</tr>\n",
       "<tr>\n",
       "  <th>No. Observations:</th>       <td> 14860</td>       <th>  AIC:               </th>  <td>3.710e+05</td> \n",
       "</tr>\n",
       "<tr>\n",
       "  <th>Df Residuals:</th>           <td> 14820</td>       <th>  BIC:               </th>  <td>3.713e+05</td> \n",
       "</tr>\n",
       "<tr>\n",
       "  <th>Df Model:</th>               <td>    39</td>       <th>                     </th>      <td> </td>     \n",
       "</tr>\n",
       "<tr>\n",
       "  <th>Covariance Type:</th>       <td>nonrobust</td>     <th>                     </th>      <td> </td>     \n",
       "</tr>\n",
       "</table>\n",
       "<table class=\"simpletable\">\n",
       "<tr>\n",
       "                  <td></td>                    <th>coef</th>     <th>std err</th>      <th>t</th>      <th>P>|t|</th>  <th>[0.025</th>    <th>0.975]</th>  \n",
       "</tr>\n",
       "<tr>\n",
       "  <th>Intercept</th>                        <td> 2.077e+04</td> <td> 1.11e+04</td> <td>    1.869</td> <td> 0.062</td> <td>-1009.176</td> <td> 4.25e+04</td>\n",
       "</tr>\n",
       "<tr>\n",
       "  <th>C(ocean_proximity)[T.INLAND]</th>     <td>-4.735e+04</td> <td> 1899.713</td> <td>  -24.923</td> <td> 0.000</td> <td>-5.11e+04</td> <td>-4.36e+04</td>\n",
       "</tr>\n",
       "<tr>\n",
       "  <th>C(ocean_proximity)[T.ISLAND]</th>     <td> 1.414e+05</td> <td> 4.63e+04</td> <td>    3.054</td> <td> 0.002</td> <td> 5.07e+04</td> <td> 2.32e+05</td>\n",
       "</tr>\n",
       "<tr>\n",
       "  <th>C(ocean_proximity)[T.NEAR BAY]</th>   <td>-1.633e+04</td> <td> 2344.659</td> <td>   -6.967</td> <td> 0.000</td> <td>-2.09e+04</td> <td>-1.17e+04</td>\n",
       "</tr>\n",
       "<tr>\n",
       "  <th>C(ocean_proximity)[T.NEAR OCEAN]</th> <td> 7776.8061</td> <td> 1876.598</td> <td>    4.144</td> <td> 0.000</td> <td> 4098.441</td> <td> 1.15e+04</td>\n",
       "</tr>\n",
       "<tr>\n",
       "  <th>C(geohash)[T.9mu]</th>                <td>-9.291e+04</td> <td> 1.06e+04</td> <td>   -8.726</td> <td> 0.000</td> <td>-1.14e+05</td> <td> -7.2e+04</td>\n",
       "</tr>\n",
       "<tr>\n",
       "  <th>C(geohash)[T.9mv]</th>                <td>-1.032e+05</td> <td> 1.21e+04</td> <td>   -8.550</td> <td> 0.000</td> <td>-1.27e+05</td> <td>-7.96e+04</td>\n",
       "</tr>\n",
       "<tr>\n",
       "  <th>C(geohash)[T.9my]</th>                <td>-1.057e+05</td> <td> 2.07e+04</td> <td>   -5.106</td> <td> 0.000</td> <td>-1.46e+05</td> <td>-6.51e+04</td>\n",
       "</tr>\n",
       "<tr>\n",
       "  <th>C(geohash)[T.9nz]</th>                <td>-7891.4962</td> <td> 6.46e+04</td> <td>   -0.122</td> <td> 0.903</td> <td>-1.35e+05</td> <td> 1.19e+05</td>\n",
       "</tr>\n",
       "<tr>\n",
       "  <th>C(geohash)[T.9pp]</th>                <td>-1.768e+05</td> <td> 1.39e+04</td> <td>  -12.713</td> <td> 0.000</td> <td>-2.04e+05</td> <td> -1.5e+05</td>\n",
       "</tr>\n",
       "<tr>\n",
       "  <th>C(geohash)[T.9pr]</th>                <td>-1.673e+05</td> <td> 1.37e+04</td> <td>  -12.243</td> <td> 0.000</td> <td>-1.94e+05</td> <td>-1.41e+05</td>\n",
       "</tr>\n",
       "<tr>\n",
       "  <th>C(geohash)[T.9q3]</th>                <td>-4.218e+04</td> <td> 1.47e+04</td> <td>   -2.875</td> <td> 0.004</td> <td>-7.09e+04</td> <td>-1.34e+04</td>\n",
       "</tr>\n",
       "<tr>\n",
       "  <th>C(geohash)[T.9q4]</th>                <td>-5.066e+04</td> <td> 1.13e+04</td> <td>   -4.486</td> <td> 0.000</td> <td>-7.28e+04</td> <td>-2.85e+04</td>\n",
       "</tr>\n",
       "<tr>\n",
       "  <th>C(geohash)[T.9q5]</th>                <td>-5.132e+04</td> <td> 1.07e+04</td> <td>   -4.810</td> <td> 0.000</td> <td>-7.22e+04</td> <td>-3.04e+04</td>\n",
       "</tr>\n",
       "<tr>\n",
       "  <th>C(geohash)[T.9q6]</th>                <td>-8.959e+04</td> <td> 1.17e+04</td> <td>   -7.654</td> <td> 0.000</td> <td>-1.13e+05</td> <td>-6.66e+04</td>\n",
       "</tr>\n",
       "<tr>\n",
       "  <th>C(geohash)[T.9q7]</th>                <td>-1.138e+05</td> <td> 1.12e+04</td> <td>  -10.137</td> <td> 0.000</td> <td>-1.36e+05</td> <td>-9.18e+04</td>\n",
       "</tr>\n",
       "<tr>\n",
       "  <th>C(geohash)[T.9q8]</th>                <td> 6447.5693</td> <td> 1.09e+04</td> <td>    0.590</td> <td> 0.555</td> <td> -1.5e+04</td> <td> 2.79e+04</td>\n",
       "</tr>\n",
       "<tr>\n",
       "  <th>C(geohash)[T.9q9]</th>                <td> -6.32e+04</td> <td> 1.07e+04</td> <td>   -5.907</td> <td> 0.000</td> <td>-8.42e+04</td> <td>-4.22e+04</td>\n",
       "</tr>\n",
       "<tr>\n",
       "  <th>C(geohash)[T.9qb]</th>                <td>-8.704e+04</td> <td> 1.11e+04</td> <td>   -7.861</td> <td> 0.000</td> <td>-1.09e+05</td> <td>-6.53e+04</td>\n",
       "</tr>\n",
       "<tr>\n",
       "  <th>C(geohash)[T.9qc]</th>                <td>-1.057e+05</td> <td> 1.09e+04</td> <td>   -9.723</td> <td> 0.000</td> <td>-1.27e+05</td> <td>-8.44e+04</td>\n",
       "</tr>\n",
       "<tr>\n",
       "  <th>C(geohash)[T.9qd]</th>                <td>-1.113e+05</td> <td> 1.11e+04</td> <td>  -10.042</td> <td> 0.000</td> <td>-1.33e+05</td> <td>-8.95e+04</td>\n",
       "</tr>\n",
       "<tr>\n",
       "  <th>C(geohash)[T.9qe]</th>                <td>-1.051e+05</td> <td> 1.35e+04</td> <td>   -7.803</td> <td> 0.000</td> <td>-1.31e+05</td> <td>-7.87e+04</td>\n",
       "</tr>\n",
       "<tr>\n",
       "  <th>C(geohash)[T.9qf]</th>                <td>-1.017e+05</td> <td> 1.18e+04</td> <td>   -8.616</td> <td> 0.000</td> <td>-1.25e+05</td> <td>-7.86e+04</td>\n",
       "</tr>\n",
       "<tr>\n",
       "  <th>C(geohash)[T.9qg]</th>                <td>-1.168e+05</td> <td> 3.83e+04</td> <td>   -3.046</td> <td> 0.002</td> <td>-1.92e+05</td> <td>-4.16e+04</td>\n",
       "</tr>\n",
       "<tr>\n",
       "  <th>C(geohash)[T.9qh]</th>                <td>-8.209e+04</td> <td> 1.07e+04</td> <td>   -7.644</td> <td> 0.000</td> <td>-1.03e+05</td> <td> -6.1e+04</td>\n",
       "</tr>\n",
       "<tr>\n",
       "  <th>C(geohash)[T.9qj]</th>                <td>-1.109e+05</td> <td>  1.3e+04</td> <td>   -8.530</td> <td> 0.000</td> <td>-1.36e+05</td> <td>-8.54e+04</td>\n",
       "</tr>\n",
       "<tr>\n",
       "  <th>C(geohash)[T.9qk]</th>                <td>  -1.6e+05</td> <td> 1.69e+04</td> <td>   -9.475</td> <td> 0.000</td> <td>-1.93e+05</td> <td>-1.27e+05</td>\n",
       "</tr>\n",
       "<tr>\n",
       "  <th>C(geohash)[T.9qm]</th>                <td> -1.34e+05</td> <td> 3.83e+04</td> <td>   -3.494</td> <td> 0.000</td> <td>-2.09e+05</td> <td>-5.88e+04</td>\n",
       "</tr>\n",
       "<tr>\n",
       "  <th>C(geohash)[T.9qn]</th>                <td>-1.419e+05</td> <td> 2.21e+04</td> <td>   -6.418</td> <td> 0.000</td> <td>-1.85e+05</td> <td>-9.85e+04</td>\n",
       "</tr>\n",
       "<tr>\n",
       "  <th>C(geohash)[T.9qs]</th>                <td>-9.862e+04</td> <td> 4.63e+04</td> <td>   -2.129</td> <td> 0.033</td> <td>-1.89e+05</td> <td>-7819.820</td>\n",
       "</tr>\n",
       "<tr>\n",
       "  <th>C(geohash)[T.9r0]</th>                <td>-1.178e+05</td> <td> 1.29e+04</td> <td>   -9.162</td> <td> 0.000</td> <td>-1.43e+05</td> <td>-9.26e+04</td>\n",
       "</tr>\n",
       "<tr>\n",
       "  <th>C(geohash)[T.9r1]</th>                <td>-1.191e+05</td> <td> 1.16e+04</td> <td>  -10.224</td> <td> 0.000</td> <td>-1.42e+05</td> <td>-9.62e+04</td>\n",
       "</tr>\n",
       "<tr>\n",
       "  <th>C(geohash)[T.9r2]</th>                <td>-1.273e+05</td> <td> 1.69e+04</td> <td>   -7.544</td> <td> 0.000</td> <td> -1.6e+05</td> <td>-9.42e+04</td>\n",
       "</tr>\n",
       "<tr>\n",
       "  <th>C(geohash)[T.9r3]</th>                <td>-1.339e+05</td> <td> 1.76e+04</td> <td>   -7.618</td> <td> 0.000</td> <td>-1.68e+05</td> <td>-9.95e+04</td>\n",
       "</tr>\n",
       "<tr>\n",
       "  <th>C(geohash)[T.9r4]</th>                <td>-1.245e+05</td> <td>  1.5e+04</td> <td>   -8.287</td> <td> 0.000</td> <td>-1.54e+05</td> <td> -9.5e+04</td>\n",
       "</tr>\n",
       "<tr>\n",
       "  <th>C(geohash)[T.9r6]</th>                <td>-1.447e+05</td> <td> 2.82e+04</td> <td>   -5.138</td> <td> 0.000</td> <td>   -2e+05</td> <td>-8.95e+04</td>\n",
       "</tr>\n",
       "<tr>\n",
       "  <th>median_income</th>                    <td> 3.675e+04</td> <td>  315.559</td> <td>  116.458</td> <td> 0.000</td> <td> 3.61e+04</td> <td> 3.74e+04</td>\n",
       "</tr>\n",
       "<tr>\n",
       "  <th>households_population</th>            <td> 3.193e+05</td> <td> 5806.672</td> <td>   54.995</td> <td> 0.000</td> <td> 3.08e+05</td> <td> 3.31e+05</td>\n",
       "</tr>\n",
       "<tr>\n",
       "  <th>total_rooms_households</th>           <td>  946.3246</td> <td>  222.374</td> <td>    4.256</td> <td> 0.000</td> <td>  510.445</td> <td> 1382.205</td>\n",
       "</tr>\n",
       "<tr>\n",
       "  <th>housing_median_age</th>               <td>  476.5986</td> <td>   47.637</td> <td>   10.005</td> <td> 0.000</td> <td>  383.224</td> <td>  569.973</td>\n",
       "</tr>\n",
       "</table>\n",
       "<table class=\"simpletable\">\n",
       "<tr>\n",
       "  <th>Omnibus:</th>       <td>2996.313</td> <th>  Durbin-Watson:     </th> <td>   1.992</td> \n",
       "</tr>\n",
       "<tr>\n",
       "  <th>Prob(Omnibus):</th>  <td> 0.000</td>  <th>  Jarque-Bera (JB):  </th> <td>13004.817</td>\n",
       "</tr>\n",
       "<tr>\n",
       "  <th>Skew:</th>           <td> 0.931</td>  <th>  Prob(JB):          </th> <td>    0.00</td> \n",
       "</tr>\n",
       "<tr>\n",
       "  <th>Kurtosis:</th>       <td> 7.187</td>  <th>  Cond. No.          </th> <td>4.20e+03</td> \n",
       "</tr>\n",
       "</table><br/><br/>Notes:<br/>[1] Standard Errors assume that the covariance matrix of the errors is correctly specified.<br/>[2] The condition number is large, 4.2e+03. This might indicate that there are<br/>strong multicollinearity or other numerical problems."
      ],
      "text/plain": [
       "<class 'statsmodels.iolib.summary.Summary'>\n",
       "\"\"\"\n",
       "                            OLS Regression Results                            \n",
       "==============================================================================\n",
       "Dep. Variable:     median_house_value   R-squared:                       0.698\n",
       "Model:                            OLS   Adj. R-squared:                  0.698\n",
       "Method:                 Least Squares   F-statistic:                     879.6\n",
       "Date:                Tue, 18 Jan 2022   Prob (F-statistic):               0.00\n",
       "Time:                        18:07:47   Log-Likelihood:            -1.8545e+05\n",
       "No. Observations:               14860   AIC:                         3.710e+05\n",
       "Df Residuals:                   14820   BIC:                         3.713e+05\n",
       "Df Model:                          39                                         \n",
       "Covariance Type:            nonrobust                                         \n",
       "====================================================================================================\n",
       "                                       coef    std err          t      P>|t|      [0.025      0.975]\n",
       "----------------------------------------------------------------------------------------------------\n",
       "Intercept                         2.077e+04   1.11e+04      1.869      0.062   -1009.176    4.25e+04\n",
       "C(ocean_proximity)[T.INLAND]     -4.735e+04   1899.713    -24.923      0.000   -5.11e+04   -4.36e+04\n",
       "C(ocean_proximity)[T.ISLAND]      1.414e+05   4.63e+04      3.054      0.002    5.07e+04    2.32e+05\n",
       "C(ocean_proximity)[T.NEAR BAY]   -1.633e+04   2344.659     -6.967      0.000   -2.09e+04   -1.17e+04\n",
       "C(ocean_proximity)[T.NEAR OCEAN]  7776.8061   1876.598      4.144      0.000    4098.441    1.15e+04\n",
       "C(geohash)[T.9mu]                -9.291e+04   1.06e+04     -8.726      0.000   -1.14e+05    -7.2e+04\n",
       "C(geohash)[T.9mv]                -1.032e+05   1.21e+04     -8.550      0.000   -1.27e+05   -7.96e+04\n",
       "C(geohash)[T.9my]                -1.057e+05   2.07e+04     -5.106      0.000   -1.46e+05   -6.51e+04\n",
       "C(geohash)[T.9nz]                -7891.4962   6.46e+04     -0.122      0.903   -1.35e+05    1.19e+05\n",
       "C(geohash)[T.9pp]                -1.768e+05   1.39e+04    -12.713      0.000   -2.04e+05    -1.5e+05\n",
       "C(geohash)[T.9pr]                -1.673e+05   1.37e+04    -12.243      0.000   -1.94e+05   -1.41e+05\n",
       "C(geohash)[T.9q3]                -4.218e+04   1.47e+04     -2.875      0.004   -7.09e+04   -1.34e+04\n",
       "C(geohash)[T.9q4]                -5.066e+04   1.13e+04     -4.486      0.000   -7.28e+04   -2.85e+04\n",
       "C(geohash)[T.9q5]                -5.132e+04   1.07e+04     -4.810      0.000   -7.22e+04   -3.04e+04\n",
       "C(geohash)[T.9q6]                -8.959e+04   1.17e+04     -7.654      0.000   -1.13e+05   -6.66e+04\n",
       "C(geohash)[T.9q7]                -1.138e+05   1.12e+04    -10.137      0.000   -1.36e+05   -9.18e+04\n",
       "C(geohash)[T.9q8]                 6447.5693   1.09e+04      0.590      0.555    -1.5e+04    2.79e+04\n",
       "C(geohash)[T.9q9]                 -6.32e+04   1.07e+04     -5.907      0.000   -8.42e+04   -4.22e+04\n",
       "C(geohash)[T.9qb]                -8.704e+04   1.11e+04     -7.861      0.000   -1.09e+05   -6.53e+04\n",
       "C(geohash)[T.9qc]                -1.057e+05   1.09e+04     -9.723      0.000   -1.27e+05   -8.44e+04\n",
       "C(geohash)[T.9qd]                -1.113e+05   1.11e+04    -10.042      0.000   -1.33e+05   -8.95e+04\n",
       "C(geohash)[T.9qe]                -1.051e+05   1.35e+04     -7.803      0.000   -1.31e+05   -7.87e+04\n",
       "C(geohash)[T.9qf]                -1.017e+05   1.18e+04     -8.616      0.000   -1.25e+05   -7.86e+04\n",
       "C(geohash)[T.9qg]                -1.168e+05   3.83e+04     -3.046      0.002   -1.92e+05   -4.16e+04\n",
       "C(geohash)[T.9qh]                -8.209e+04   1.07e+04     -7.644      0.000   -1.03e+05    -6.1e+04\n",
       "C(geohash)[T.9qj]                -1.109e+05    1.3e+04     -8.530      0.000   -1.36e+05   -8.54e+04\n",
       "C(geohash)[T.9qk]                  -1.6e+05   1.69e+04     -9.475      0.000   -1.93e+05   -1.27e+05\n",
       "C(geohash)[T.9qm]                 -1.34e+05   3.83e+04     -3.494      0.000   -2.09e+05   -5.88e+04\n",
       "C(geohash)[T.9qn]                -1.419e+05   2.21e+04     -6.418      0.000   -1.85e+05   -9.85e+04\n",
       "C(geohash)[T.9qs]                -9.862e+04   4.63e+04     -2.129      0.033   -1.89e+05   -7819.820\n",
       "C(geohash)[T.9r0]                -1.178e+05   1.29e+04     -9.162      0.000   -1.43e+05   -9.26e+04\n",
       "C(geohash)[T.9r1]                -1.191e+05   1.16e+04    -10.224      0.000   -1.42e+05   -9.62e+04\n",
       "C(geohash)[T.9r2]                -1.273e+05   1.69e+04     -7.544      0.000    -1.6e+05   -9.42e+04\n",
       "C(geohash)[T.9r3]                -1.339e+05   1.76e+04     -7.618      0.000   -1.68e+05   -9.95e+04\n",
       "C(geohash)[T.9r4]                -1.245e+05    1.5e+04     -8.287      0.000   -1.54e+05    -9.5e+04\n",
       "C(geohash)[T.9r6]                -1.447e+05   2.82e+04     -5.138      0.000      -2e+05   -8.95e+04\n",
       "median_income                     3.675e+04    315.559    116.458      0.000    3.61e+04    3.74e+04\n",
       "households_population             3.193e+05   5806.672     54.995      0.000    3.08e+05    3.31e+05\n",
       "total_rooms_households             946.3246    222.374      4.256      0.000     510.445    1382.205\n",
       "housing_median_age                 476.5986     47.637     10.005      0.000     383.224     569.973\n",
       "==============================================================================\n",
       "Omnibus:                     2996.313   Durbin-Watson:                   1.992\n",
       "Prob(Omnibus):                  0.000   Jarque-Bera (JB):            13004.817\n",
       "Skew:                           0.931   Prob(JB):                         0.00\n",
       "Kurtosis:                       7.187   Cond. No.                     4.20e+03\n",
       "==============================================================================\n",
       "\n",
       "Notes:\n",
       "[1] Standard Errors assume that the covariance matrix of the errors is correctly specified.\n",
       "[2] The condition number is large, 4.2e+03. This might indicate that there are\n",
       "strong multicollinearity or other numerical problems.\n",
       "\"\"\""
      ]
     },
     "execution_count": 13,
     "metadata": {},
     "output_type": "execute_result"
    }
   ],
   "source": [
    "lm3.summary()"
   ]
  },
  {
   "cell_type": "code",
   "execution_count": 14,
   "metadata": {},
   "outputs": [
    {
     "name": "stdout",
     "output_type": "stream",
     "text": [
      "r2:  0.6983\n",
      "RMSE  63633.85\n",
      "MSE:  4049267444.27\n"
     ]
    }
   ],
   "source": [
    "r2_lm3, rmse_lm3, mse_lm3 = metrics_stats(lm3,train_dataset)"
   ]
  },
  {
   "cell_type": "markdown",
   "metadata": {},
   "source": [
    "Durch Model 3 konnte ein RMSE von 63.633 USD und damit unter der Grenze von 70 Tsd. USD erzielt werden. Erst nach Evaluation mit einem Testdatenset kann, dass Model Erfolg gewertet werden. "
   ]
  },
  {
   "cell_type": "markdown",
   "metadata": {},
   "source": [
    "### Regression Diagnostics"
   ]
  },
  {
   "cell_type": "markdown",
   "metadata": {},
   "source": [
    "**Outliner and High-Leverage**"
   ]
  },
  {
   "cell_type": "code",
   "execution_count": 15,
   "metadata": {},
   "outputs": [
    {
     "data": {
      "image/png": "[encoded data removed]",
      "text/plain": [
       "<Figure size 432x288 with 1 Axes>"
      ]
     },
     "metadata": {
      "filenames": {
       "image/png": "C:\\dev\\myjupyterbook\\jupyterbooktest\\_build\\jupyter_execute\\regression_37_0.png"
      },
      "needs_background": "light"
     },
     "output_type": "display_data"
    }
   ],
   "source": [
    "fig = sm.graphics.influence_plot(lm2, criterion=\"cooks\")"
   ]
  },
  {
   "cell_type": "code",
   "execution_count": 16,
   "metadata": {},
   "outputs": [
    {
     "name": "stdout",
     "output_type": "stream",
     "text": [
      "Anzahl an Datensätzen: 14860\n",
      "Kritische Cook distance: 0.00026917900403768504\n",
      "Anzahl Datensätze mit kritischer Cooks distance: 914\n"
     ]
    }
   ],
   "source": [
    "lm_cooksd = lm2.get_influence().cooks_distance[0]\n",
    "n = len(train_dataset[\"median_house_value\"])\n",
    "print('Anzahl an Datensätzen:', n)\n",
    "critical_d = 4/n\n",
    "print('Kritische Cook distance:', critical_d)\n",
    "out_d = lm_cooksd > critical_d\n",
    "print(\"Anzahl Datensätze mit kritischer Cooks distance:\",len(lm_cooksd[out_d]))"
   ]
  },
  {
   "cell_type": "markdown",
   "metadata": {},
   "source": [
    "914 Datensätzen besitzen eine kritische Cooks Distanz. Dabei handelt es sich um vermutliche outliner mit leverage. Um das einfachste Vorgehen zu wählen werden die observation entfernt. "
   ]
  },
  {
   "cell_type": "code",
   "execution_count": 17,
   "metadata": {},
   "outputs": [
    {
     "data": {
      "text/plain": [
       "Int64Index([ 8646, 14930, 14468, 15755,  8923,  5486, 17046,  4032, 17172,\n",
       "            15195,\n",
       "            ...\n",
       "             2420,  8867,  3103, 15668, 15231, 15663, 14371, 11520,  4609,\n",
       "            16880],\n",
       "           dtype='int64', length=914)"
      ]
     },
     "execution_count": 17,
     "metadata": {},
     "output_type": "execute_result"
    }
   ],
   "source": [
    "train_dataset.index[out_d]"
   ]
  },
  {
   "cell_type": "code",
   "execution_count": 18,
   "metadata": {},
   "outputs": [
    {
     "data": {
      "text/html": [
       "<div>\n",
       "<style scoped>\n",
       "    .dataframe tbody tr th:only-of-type {\n",
       "        vertical-align: middle;\n",
       "    }\n",
       "\n",
       "    .dataframe tbody tr th {\n",
       "        vertical-align: top;\n",
       "    }\n",
       "\n",
       "    .dataframe thead th {\n",
       "        text-align: right;\n",
       "    }\n",
       "</style>\n",
       "<table border=\"1\" class=\"dataframe\">\n",
       "  <thead>\n",
       "    <tr style=\"text-align: right;\">\n",
       "      <th></th>\n",
       "      <th>longitude</th>\n",
       "      <th>latitude</th>\n",
       "      <th>housing_median_age</th>\n",
       "      <th>total_rooms</th>\n",
       "      <th>total_bedrooms</th>\n",
       "      <th>population</th>\n",
       "      <th>households</th>\n",
       "      <th>median_income</th>\n",
       "      <th>median_house_value</th>\n",
       "      <th>ocean_proximity</th>\n",
       "      <th>price_category</th>\n",
       "      <th>households_population</th>\n",
       "      <th>total_rooms_households</th>\n",
       "      <th>total_rooms_total_bedrooms</th>\n",
       "      <th>geohash</th>\n",
       "      <th>y_pred</th>\n",
       "    </tr>\n",
       "  </thead>\n",
       "  <tbody>\n",
       "    <tr>\n",
       "      <th>13940</th>\n",
       "      <td>-117.16</td>\n",
       "      <td>34.26</td>\n",
       "      <td>27.0</td>\n",
       "      <td>9285</td>\n",
       "      <td>1621.0</td>\n",
       "      <td>1135</td>\n",
       "      <td>410</td>\n",
       "      <td>2.5446</td>\n",
       "      <td>135200.0</td>\n",
       "      <td>INLAND</td>\n",
       "      <td>below</td>\n",
       "      <td>0.361233</td>\n",
       "      <td>22.646341</td>\n",
       "      <td>5.727946</td>\n",
       "      <td>9qh</td>\n",
       "      <td>134493.482071</td>\n",
       "    </tr>\n",
       "    <tr>\n",
       "      <th>14754</th>\n",
       "      <td>-117.05</td>\n",
       "      <td>32.56</td>\n",
       "      <td>17.0</td>\n",
       "      <td>985</td>\n",
       "      <td>233.0</td>\n",
       "      <td>811</td>\n",
       "      <td>223</td>\n",
       "      <td>2.8750</td>\n",
       "      <td>134500.0</td>\n",
       "      <td>NEAR OCEAN</td>\n",
       "      <td>below</td>\n",
       "      <td>0.274969</td>\n",
       "      <td>4.417040</td>\n",
       "      <td>4.227468</td>\n",
       "      <td>9mu</td>\n",
       "      <td>141379.468281</td>\n",
       "    </tr>\n",
       "    <tr>\n",
       "      <th>4404</th>\n",
       "      <td>-118.23</td>\n",
       "      <td>34.07</td>\n",
       "      <td>40.0</td>\n",
       "      <td>506</td>\n",
       "      <td>119.0</td>\n",
       "      <td>397</td>\n",
       "      <td>114</td>\n",
       "      <td>3.1944</td>\n",
       "      <td>143800.0</td>\n",
       "      <td>&lt;1H OCEAN</td>\n",
       "      <td>below</td>\n",
       "      <td>0.287154</td>\n",
       "      <td>4.438596</td>\n",
       "      <td>4.252101</td>\n",
       "      <td>9q5</td>\n",
       "      <td>201806.147088</td>\n",
       "    </tr>\n",
       "    <tr>\n",
       "      <th>18791</th>\n",
       "      <td>-122.56</td>\n",
       "      <td>40.75</td>\n",
       "      <td>20.0</td>\n",
       "      <td>1182</td>\n",
       "      <td>250.0</td>\n",
       "      <td>512</td>\n",
       "      <td>210</td>\n",
       "      <td>1.7935</td>\n",
       "      <td>74500.0</td>\n",
       "      <td>INLAND</td>\n",
       "      <td>below</td>\n",
       "      <td>0.410156</td>\n",
       "      <td>5.628571</td>\n",
       "      <td>4.728000</td>\n",
       "      <td>9r0</td>\n",
       "      <td>67353.020912</td>\n",
       "    </tr>\n",
       "    <tr>\n",
       "      <th>4387</th>\n",
       "      <td>-118.26</td>\n",
       "      <td>34.08</td>\n",
       "      <td>46.0</td>\n",
       "      <td>945</td>\n",
       "      <td>250.0</td>\n",
       "      <td>910</td>\n",
       "      <td>252</td>\n",
       "      <td>3.5039</td>\n",
       "      <td>187500.0</td>\n",
       "      <td>&lt;1H OCEAN</td>\n",
       "      <td>above</td>\n",
       "      <td>0.276923</td>\n",
       "      <td>3.750000</td>\n",
       "      <td>3.780000</td>\n",
       "      <td>9q5</td>\n",
       "      <td>212121.028562</td>\n",
       "    </tr>\n",
       "    <tr>\n",
       "      <th>...</th>\n",
       "      <td>...</td>\n",
       "      <td>...</td>\n",
       "      <td>...</td>\n",
       "      <td>...</td>\n",
       "      <td>...</td>\n",
       "      <td>...</td>\n",
       "      <td>...</td>\n",
       "      <td>...</td>\n",
       "      <td>...</td>\n",
       "      <td>...</td>\n",
       "      <td>...</td>\n",
       "      <td>...</td>\n",
       "      <td>...</td>\n",
       "      <td>...</td>\n",
       "      <td>...</td>\n",
       "      <td>...</td>\n",
       "    </tr>\n",
       "    <tr>\n",
       "      <th>8243</th>\n",
       "      <td>-118.18</td>\n",
       "      <td>33.78</td>\n",
       "      <td>17.0</td>\n",
       "      <td>1419</td>\n",
       "      <td>436.0</td>\n",
       "      <td>1300</td>\n",
       "      <td>360</td>\n",
       "      <td>2.0769</td>\n",
       "      <td>100000.0</td>\n",
       "      <td>NEAR OCEAN</td>\n",
       "      <td>below</td>\n",
       "      <td>0.276923</td>\n",
       "      <td>3.941667</td>\n",
       "      <td>3.254587</td>\n",
       "      <td>9q5</td>\n",
       "      <td>153816.427795</td>\n",
       "    </tr>\n",
       "    <tr>\n",
       "      <th>12332</th>\n",
       "      <td>-116.47</td>\n",
       "      <td>33.94</td>\n",
       "      <td>18.0</td>\n",
       "      <td>2233</td>\n",
       "      <td>471.0</td>\n",
       "      <td>919</td>\n",
       "      <td>388</td>\n",
       "      <td>3.2578</td>\n",
       "      <td>85200.0</td>\n",
       "      <td>INLAND</td>\n",
       "      <td>below</td>\n",
       "      <td>0.422198</td>\n",
       "      <td>5.755155</td>\n",
       "      <td>4.740977</td>\n",
       "      <td>9qj</td>\n",
       "      <td>131107.542754</td>\n",
       "    </tr>\n",
       "    <tr>\n",
       "      <th>5775</th>\n",
       "      <td>-118.27</td>\n",
       "      <td>34.16</td>\n",
       "      <td>48.0</td>\n",
       "      <td>1301</td>\n",
       "      <td>253.0</td>\n",
       "      <td>637</td>\n",
       "      <td>260</td>\n",
       "      <td>4.3438</td>\n",
       "      <td>252700.0</td>\n",
       "      <td>&lt;1H OCEAN</td>\n",
       "      <td>above</td>\n",
       "      <td>0.408163</td>\n",
       "      <td>5.003846</td>\n",
       "      <td>5.142292</td>\n",
       "      <td>9q5</td>\n",
       "      <td>287036.707692</td>\n",
       "    </tr>\n",
       "    <tr>\n",
       "      <th>13740</th>\n",
       "      <td>-117.19</td>\n",
       "      <td>34.03</td>\n",
       "      <td>36.0</td>\n",
       "      <td>2223</td>\n",
       "      <td>361.0</td>\n",
       "      <td>942</td>\n",
       "      <td>331</td>\n",
       "      <td>4.6806</td>\n",
       "      <td>152400.0</td>\n",
       "      <td>INLAND</td>\n",
       "      <td>above</td>\n",
       "      <td>0.351380</td>\n",
       "      <td>6.716012</td>\n",
       "      <td>6.157895</td>\n",
       "      <td>9qh</td>\n",
       "      <td>199057.786696</td>\n",
       "    </tr>\n",
       "    <tr>\n",
       "      <th>10245</th>\n",
       "      <td>-117.86</td>\n",
       "      <td>33.90</td>\n",
       "      <td>25.0</td>\n",
       "      <td>3205</td>\n",
       "      <td>409.0</td>\n",
       "      <td>1291</td>\n",
       "      <td>408</td>\n",
       "      <td>7.2478</td>\n",
       "      <td>299200.0</td>\n",
       "      <td>&lt;1H OCEAN</td>\n",
       "      <td>above</td>\n",
       "      <td>0.316034</td>\n",
       "      <td>7.855392</td>\n",
       "      <td>7.836186</td>\n",
       "      <td>9qh</td>\n",
       "      <td>325295.111038</td>\n",
       "    </tr>\n",
       "  </tbody>\n",
       "</table>\n",
       "<p>13946 rows × 16 columns</p>\n",
       "</div>"
      ],
      "text/plain": [
       "       longitude  latitude  housing_median_age  total_rooms  total_bedrooms  \\\n",
       "13940    -117.16     34.26                27.0         9285          1621.0   \n",
       "14754    -117.05     32.56                17.0          985           233.0   \n",
       "4404     -118.23     34.07                40.0          506           119.0   \n",
       "18791    -122.56     40.75                20.0         1182           250.0   \n",
       "4387     -118.26     34.08                46.0          945           250.0   \n",
       "...          ...       ...                 ...          ...             ...   \n",
       "8243     -118.18     33.78                17.0         1419           436.0   \n",
       "12332    -116.47     33.94                18.0         2233           471.0   \n",
       "5775     -118.27     34.16                48.0         1301           253.0   \n",
       "13740    -117.19     34.03                36.0         2223           361.0   \n",
       "10245    -117.86     33.90                25.0         3205           409.0   \n",
       "\n",
       "       population  households  median_income  median_house_value  \\\n",
       "13940        1135         410         2.5446            135200.0   \n",
       "14754         811         223         2.8750            134500.0   \n",
       "4404          397         114         3.1944            143800.0   \n",
       "18791         512         210         1.7935             74500.0   \n",
       "4387          910         252         3.5039            187500.0   \n",
       "...           ...         ...            ...                 ...   \n",
       "8243         1300         360         2.0769            100000.0   \n",
       "12332         919         388         3.2578             85200.0   \n",
       "5775          637         260         4.3438            252700.0   \n",
       "13740         942         331         4.6806            152400.0   \n",
       "10245        1291         408         7.2478            299200.0   \n",
       "\n",
       "      ocean_proximity price_category  households_population  \\\n",
       "13940          INLAND          below               0.361233   \n",
       "14754      NEAR OCEAN          below               0.274969   \n",
       "4404        <1H OCEAN          below               0.287154   \n",
       "18791          INLAND          below               0.410156   \n",
       "4387        <1H OCEAN          above               0.276923   \n",
       "...               ...            ...                    ...   \n",
       "8243       NEAR OCEAN          below               0.276923   \n",
       "12332          INLAND          below               0.422198   \n",
       "5775        <1H OCEAN          above               0.408163   \n",
       "13740          INLAND          above               0.351380   \n",
       "10245       <1H OCEAN          above               0.316034   \n",
       "\n",
       "       total_rooms_households  total_rooms_total_bedrooms geohash  \\\n",
       "13940               22.646341                    5.727946     9qh   \n",
       "14754                4.417040                    4.227468     9mu   \n",
       "4404                 4.438596                    4.252101     9q5   \n",
       "18791                5.628571                    4.728000     9r0   \n",
       "4387                 3.750000                    3.780000     9q5   \n",
       "...                       ...                         ...     ...   \n",
       "8243                 3.941667                    3.254587     9q5   \n",
       "12332                5.755155                    4.740977     9qj   \n",
       "5775                 5.003846                    5.142292     9q5   \n",
       "13740                6.716012                    6.157895     9qh   \n",
       "10245                7.855392                    7.836186     9qh   \n",
       "\n",
       "              y_pred  \n",
       "13940  134493.482071  \n",
       "14754  141379.468281  \n",
       "4404   201806.147088  \n",
       "18791   67353.020912  \n",
       "4387   212121.028562  \n",
       "...              ...  \n",
       "8243   153816.427795  \n",
       "12332  131107.542754  \n",
       "5775   287036.707692  \n",
       "13740  199057.786696  \n",
       "10245  325295.111038  \n",
       "\n",
       "[13946 rows x 16 columns]"
      ]
     },
     "execution_count": 18,
     "metadata": {},
     "output_type": "execute_result"
    }
   ],
   "source": [
    "train_dataset_opt = train_dataset.drop(train_dataset.index[out_d])\n",
    "train_dataset_opt"
   ]
  },
  {
   "cell_type": "markdown",
   "metadata": {},
   "source": [
    "**Non-linearity and heteroscedasticity**"
   ]
  },
  {
   "cell_type": "code",
   "execution_count": 38,
   "metadata": {},
   "outputs": [
    {
     "name": "stdout",
     "output_type": "stream",
     "text": [
      "eval_env: 1\n",
      "eval_env: 1\n",
      "eval_env: 1\n"
     ]
    },
    {
     "data": {
      "image/png": "[encoded data removed]",
      "text/plain": [
       "<Figure size 432x288 with 3 Axes>"
      ]
     },
     "metadata": {
      "filenames": {
       "image/png": "C:\\dev\\myjupyterbook\\jupyterbooktest\\_build\\jupyter_execute\\regression_43_1.png"
      },
      "needs_background": "light"
     },
     "output_type": "display_data"
    }
   ],
   "source": [
    "fig = sm.graphics.plot_partregress_grid(lm2)\n",
    "fig.tight_layout(pad=1.0)"
   ]
  },
  {
   "cell_type": "code",
   "execution_count": 19,
   "metadata": {},
   "outputs": [
    {
     "data": {
      "image/png": "[encoded data removed]",
      "text/plain": [
       "<Figure size 432x288 with 1 Axes>"
      ]
     },
     "metadata": {
      "filenames": {
       "image/png": "C:\\dev\\myjupyterbook\\jupyterbooktest\\_build\\jupyter_execute\\regression_44_0.png"
      },
      "needs_background": "light"
     },
     "output_type": "display_data"
    }
   ],
   "source": [
    "model_fitted_y = lm2.fittedvalues\n",
    "\n",
    "#  Plot\n",
    "plot = sns.residplot(x=model_fitted_y, y='median_house_value', data=train_dataset, lowess=True, \n",
    "                     scatter_kws={'alpha': 0.5}, \n",
    "                     line_kws={'color': 'red', 'lw': 1, 'alpha': 0.8})"
   ]
  },
  {
   "cell_type": "markdown",
   "metadata": {},
   "source": [
    "* keine ungleichmäßige Verteilung der residuals: Hinweis auf Heteroscedasticity\n",
    "* Vermutlich auch keine lineare Beziehung da die rote Linie sich von der gestrichelten unterscheidet"
   ]
  },
  {
   "cell_type": "code",
   "execution_count": 20,
   "metadata": {},
   "outputs": [
    {
     "data": {
      "text/plain": [
       "[('Lagrange multiplier statistic', 1718.4289650374958),\n",
       " ('p-value', 0.0),\n",
       " ('f-value', 49.68987383448796),\n",
       " ('f p-value', 0.0)]"
      ]
     },
     "execution_count": 20,
     "metadata": {},
     "output_type": "execute_result"
    }
   ],
   "source": [
    "# Breusch-Pagan Lagrange Multiplier test\n",
    "\n",
    "name = ['Lagrange multiplier statistic', 'p-value', 'f-value', 'f p-value']\n",
    "test = sm.stats.het_breuschpagan(lm2.resid, lm3.model.exog)\n",
    "lzip(name, test)"
   ]
  },
  {
   "cell_type": "markdown",
   "metadata": {},
   "source": [
    "Beide p-werte liegen deutlich unter 0.05. Daher wird die Null-Hypothese abgelehnt. \n",
    "Das deutet ist ebenfalls ein Indikator für Heteroscedasticity. Eine mögliche Lösung ist in diesem Fall die Anwendung eines Regression Splines. Dies wird in einem der folgenenden Abschnitten untersucht. "
   ]
  },
  {
   "cell_type": "markdown",
   "metadata": {},
   "source": [
    "**Non-normally distributed errors**"
   ]
  },
  {
   "cell_type": "code",
   "execution_count": 21,
   "metadata": {},
   "outputs": [
    {
     "data": {
      "text/plain": [
       "[('Jarque-Bera', 11010.460298680517),\n",
       " ('Chi^2 two-tail prob.', 0.0),\n",
       " ('Skew', 1.1782228218787834),\n",
       " ('Kurtosis', 6.497123439512502)]"
      ]
     },
     "execution_count": 21,
     "metadata": {},
     "output_type": "execute_result"
    }
   ],
   "source": [
    "#Jarque-Bera test\n",
    "name = ['Jarque-Bera', 'Chi^2 two-tail prob.', 'Skew', 'Kurtosis']\n",
    "test = sm.stats.jarque_bera(lm2.resid)\n",
    "\n",
    "lzip(name, test)"
   ]
  },
  {
   "cell_type": "markdown",
   "metadata": {},
   "source": [
    "Der p-Wert liegt bei 0.0 damit wird die Nullhyptothese abgelehnt. Das ist ein Indikator für nicht normalverteilte error terms."
   ]
  },
  {
   "cell_type": "code",
   "execution_count": 22,
   "metadata": {},
   "outputs": [
    {
     "data": {
      "text/plain": [
       "[('Chi^2', 3447.421799506371), ('Two-tail probability', 0.0)]"
      ]
     },
     "execution_count": 22,
     "metadata": {},
     "output_type": "execute_result"
    }
   ],
   "source": [
    "#Omnibus normtest\n",
    "name = ['Chi^2', 'Two-tail probability']\n",
    "test = sm.stats.omni_normtest(lm2.resid)\n",
    "lzip(name, test)"
   ]
  },
  {
   "cell_type": "markdown",
   "metadata": {},
   "source": [
    "Auch bei diesem Test wird die Nullhyptothese abgelehnt. Das lässt ebenso auf nicht normalverteilte error terms schließen. "
   ]
  },
  {
   "cell_type": "markdown",
   "metadata": {},
   "source": [
    "Da die Anzahl an N sehr hoch ist, müssen die Fehler nicht normalverteilt sein. Grund dafür ist das Central Limit Theorem. Es werden keine weiteren Schritte unternommen. "
   ]
  },
  {
   "cell_type": "markdown",
   "metadata": {},
   "source": [
    "**Correlation of error terms**"
   ]
  },
  {
   "cell_type": "code",
   "execution_count": 23,
   "metadata": {},
   "outputs": [
    {
     "data": {
      "text/plain": [
       "1.994248958147709"
      ]
     },
     "execution_count": 23,
     "metadata": {},
     "output_type": "execute_result"
    }
   ],
   "source": [
    "# Durbin Watson test\n",
    "#TODO Durbin Watson zu nah an 2?\n",
    "sm.stats.durbin_watson(lm2.resid)"
   ]
  },
  {
   "cell_type": "markdown",
   "metadata": {},
   "source": [
    "Der Wert liegt zwischen 1 und 2. Aus diesem Grund liegend keine Korrelation vor. "
   ]
  },
  {
   "cell_type": "markdown",
   "metadata": {},
   "source": [
    "**Collinearity**"
   ]
  },
  {
   "cell_type": "code",
   "execution_count": 24,
   "metadata": {},
   "outputs": [
    {
     "data": {
      "text/html": [
       "<div>\n",
       "<style scoped>\n",
       "    .dataframe tbody tr th:only-of-type {\n",
       "        vertical-align: middle;\n",
       "    }\n",
       "\n",
       "    .dataframe tbody tr th {\n",
       "        vertical-align: top;\n",
       "    }\n",
       "\n",
       "    .dataframe thead th {\n",
       "        text-align: right;\n",
       "    }\n",
       "</style>\n",
       "<table border=\"1\" class=\"dataframe\">\n",
       "  <thead>\n",
       "    <tr style=\"text-align: right;\">\n",
       "      <th></th>\n",
       "      <th>VIF Factor</th>\n",
       "      <th>Feature</th>\n",
       "    </tr>\n",
       "  </thead>\n",
       "  <tbody>\n",
       "    <tr>\n",
       "      <th>0</th>\n",
       "      <td>18.29</td>\n",
       "      <td>Intercept</td>\n",
       "    </tr>\n",
       "    <tr>\n",
       "      <th>1</th>\n",
       "      <td>2.06</td>\n",
       "      <td>median_income</td>\n",
       "    </tr>\n",
       "    <tr>\n",
       "      <th>2</th>\n",
       "      <td>2.06</td>\n",
       "      <td>total_rooms_total_bedrooms</td>\n",
       "    </tr>\n",
       "  </tbody>\n",
       "</table>\n",
       "</div>"
      ],
      "text/plain": [
       "   VIF Factor                     Feature\n",
       "0       18.29                   Intercept\n",
       "1        2.06               median_income\n",
       "2        2.06  total_rooms_total_bedrooms"
      ]
     },
     "execution_count": 24,
     "metadata": {},
     "output_type": "execute_result"
    }
   ],
   "source": [
    "#Variance inflation factor\n",
    "y, X = dmatrices('median_house_value ~ median_income + total_rooms_total_bedrooms', data=train_dataset, return_type='dataframe')\n",
    "\n",
    "# For each X, calculate VIF and save in dataframe\n",
    "vif = pd.DataFrame()\n",
    "vif[\"VIF Factor\"] = [variance_inflation_factor(X.values, i) for i in range(X.shape[1])]\n",
    "vif[\"Feature\"] = X.columns\n",
    "\n",
    "vif.round(2)"
   ]
  },
  {
   "cell_type": "markdown",
   "metadata": {},
   "source": [
    "Für dieses Modell liegt keine problematische collinearity in den Daten vor. "
   ]
  },
  {
   "cell_type": "markdown",
   "metadata": {},
   "source": [
    "**Model OLS 3 opt: Build**"
   ]
  },
  {
   "cell_type": "markdown",
   "metadata": {},
   "source": [
    "\n",
    "In diesem linearen Modell wird das Modell mit multipler linearer Regression auf die bereinigten Trainingsdaten nach der Regression Diagnostics angewendet. \n"
   ]
  },
  {
   "cell_type": "code",
   "execution_count": 34,
   "metadata": {},
   "outputs": [],
   "source": [
    "lm3opt = smf.ols(formula ='median_house_value ~ median_income + C(ocean_proximity) + households_population + total_rooms_households +C(geohash) + housing_median_age', data=train_dataset_opt).fit()"
   ]
  },
  {
   "cell_type": "code",
   "execution_count": 35,
   "metadata": {},
   "outputs": [],
   "source": [
    "train_dataset_opt['y_pred'] = lm3opt.predict()"
   ]
  },
  {
   "cell_type": "markdown",
   "metadata": {},
   "source": [
    "**Model OLS 3 opt: Metrics and Evaluation**"
   ]
  },
  {
   "cell_type": "code",
   "execution_count": 36,
   "metadata": {},
   "outputs": [
    {
     "data": {
      "text/html": [
       "<table class=\"simpletable\">\n",
       "<caption>OLS Regression Results</caption>\n",
       "<tr>\n",
       "  <th>Dep. Variable:</th>    <td>median_house_value</td> <th>  R-squared:         </th>  <td>   0.753</td>  \n",
       "</tr>\n",
       "<tr>\n",
       "  <th>Model:</th>                    <td>OLS</td>        <th>  Adj. R-squared:    </th>  <td>   0.753</td>  \n",
       "</tr>\n",
       "<tr>\n",
       "  <th>Method:</th>              <td>Least Squares</td>   <th>  F-statistic:       </th>  <td>   1118.</td>  \n",
       "</tr>\n",
       "<tr>\n",
       "  <th>Date:</th>              <td>Tue, 18 Jan 2022</td>  <th>  Prob (F-statistic):</th>   <td>  0.00</td>   \n",
       "</tr>\n",
       "<tr>\n",
       "  <th>Time:</th>                  <td>18:19:01</td>      <th>  Log-Likelihood:    </th> <td>-1.7063e+05</td>\n",
       "</tr>\n",
       "<tr>\n",
       "  <th>No. Observations:</th>       <td> 13946</td>       <th>  AIC:               </th>  <td>3.413e+05</td> \n",
       "</tr>\n",
       "<tr>\n",
       "  <th>Df Residuals:</th>           <td> 13907</td>       <th>  BIC:               </th>  <td>3.416e+05</td> \n",
       "</tr>\n",
       "<tr>\n",
       "  <th>Df Model:</th>               <td>    38</td>       <th>                     </th>      <td> </td>     \n",
       "</tr>\n",
       "<tr>\n",
       "  <th>Covariance Type:</th>       <td>nonrobust</td>     <th>                     </th>      <td> </td>     \n",
       "</tr>\n",
       "</table>\n",
       "<table class=\"simpletable\">\n",
       "<tr>\n",
       "                  <td></td>                    <th>coef</th>     <th>std err</th>      <th>t</th>      <th>P>|t|</th>  <th>[0.025</th>    <th>0.975]</th>  \n",
       "</tr>\n",
       "<tr>\n",
       "  <th>Intercept</th>                        <td> 2.698e+04</td> <td> 9482.180</td> <td>    2.846</td> <td> 0.004</td> <td> 8396.774</td> <td> 4.56e+04</td>\n",
       "</tr>\n",
       "<tr>\n",
       "  <th>C(ocean_proximity)[T.INLAND]</th>     <td>-4.292e+04</td> <td> 1519.682</td> <td>  -28.246</td> <td> 0.000</td> <td>-4.59e+04</td> <td>-3.99e+04</td>\n",
       "</tr>\n",
       "<tr>\n",
       "  <th>C(ocean_proximity)[T.ISLAND]</th>     <td>-1.734e-08</td> <td> 5.06e-09</td> <td>   -3.430</td> <td> 0.001</td> <td>-2.72e-08</td> <td>-7.43e-09</td>\n",
       "</tr>\n",
       "<tr>\n",
       "  <th>C(ocean_proximity)[T.NEAR BAY]</th>   <td>-1.534e+04</td> <td> 1893.174</td> <td>   -8.100</td> <td> 0.000</td> <td> -1.9e+04</td> <td>-1.16e+04</td>\n",
       "</tr>\n",
       "<tr>\n",
       "  <th>C(ocean_proximity)[T.NEAR OCEAN]</th> <td> 1.194e+04</td> <td> 1543.060</td> <td>    7.735</td> <td> 0.000</td> <td> 8911.029</td> <td>  1.5e+04</td>\n",
       "</tr>\n",
       "<tr>\n",
       "  <th>C(geohash)[T.9mu]</th>                <td>-8.401e+04</td> <td> 9096.897</td> <td>   -9.236</td> <td> 0.000</td> <td>-1.02e+05</td> <td>-6.62e+04</td>\n",
       "</tr>\n",
       "<tr>\n",
       "  <th>C(geohash)[T.9mv]</th>                <td>-8.419e+04</td> <td> 1.02e+04</td> <td>   -8.281</td> <td> 0.000</td> <td>-1.04e+05</td> <td>-6.43e+04</td>\n",
       "</tr>\n",
       "<tr>\n",
       "  <th>C(geohash)[T.9my]</th>                <td>-9.721e+04</td> <td> 1.83e+04</td> <td>   -5.323</td> <td> 0.000</td> <td>-1.33e+05</td> <td>-6.14e+04</td>\n",
       "</tr>\n",
       "<tr>\n",
       "  <th>C(geohash)[T.9nz]</th>                <td> 1.989e+04</td> <td> 5.07e+04</td> <td>    0.392</td> <td> 0.695</td> <td>-7.96e+04</td> <td> 1.19e+05</td>\n",
       "</tr>\n",
       "<tr>\n",
       "  <th>C(geohash)[T.9pp]</th>                <td>-1.513e+05</td> <td> 1.15e+04</td> <td>  -13.128</td> <td> 0.000</td> <td>-1.74e+05</td> <td>-1.29e+05</td>\n",
       "</tr>\n",
       "<tr>\n",
       "  <th>C(geohash)[T.9pr]</th>                <td>-1.441e+05</td> <td> 1.13e+04</td> <td>  -12.756</td> <td> 0.000</td> <td>-1.66e+05</td> <td>-1.22e+05</td>\n",
       "</tr>\n",
       "<tr>\n",
       "  <th>C(geohash)[T.9q3]</th>                <td>-4.049e+04</td> <td> 1.24e+04</td> <td>   -3.255</td> <td> 0.001</td> <td>-6.49e+04</td> <td>-1.61e+04</td>\n",
       "</tr>\n",
       "<tr>\n",
       "  <th>C(geohash)[T.9q4]</th>                <td>  -4.8e+04</td> <td> 9604.290</td> <td>   -4.998</td> <td> 0.000</td> <td>-6.68e+04</td> <td>-2.92e+04</td>\n",
       "</tr>\n",
       "<tr>\n",
       "  <th>C(geohash)[T.9q5]</th>                <td>-4.445e+04</td> <td> 9113.729</td> <td>   -4.877</td> <td> 0.000</td> <td>-6.23e+04</td> <td>-2.66e+04</td>\n",
       "</tr>\n",
       "<tr>\n",
       "  <th>C(geohash)[T.9q6]</th>                <td>-7.613e+04</td> <td> 9874.677</td> <td>   -7.710</td> <td> 0.000</td> <td>-9.55e+04</td> <td>-5.68e+04</td>\n",
       "</tr>\n",
       "<tr>\n",
       "  <th>C(geohash)[T.9q7]</th>                <td>-9.598e+04</td> <td> 9516.418</td> <td>  -10.086</td> <td> 0.000</td> <td>-1.15e+05</td> <td>-7.73e+04</td>\n",
       "</tr>\n",
       "<tr>\n",
       "  <th>C(geohash)[T.9q8]</th>                <td> 2419.1560</td> <td> 9341.024</td> <td>    0.259</td> <td> 0.796</td> <td>-1.59e+04</td> <td> 2.07e+04</td>\n",
       "</tr>\n",
       "<tr>\n",
       "  <th>C(geohash)[T.9q9]</th>                <td>-5.011e+04</td> <td> 9137.183</td> <td>   -5.484</td> <td> 0.000</td> <td> -6.8e+04</td> <td>-3.22e+04</td>\n",
       "</tr>\n",
       "<tr>\n",
       "  <th>C(geohash)[T.9qb]</th>                <td>-6.596e+04</td> <td> 9409.414</td> <td>   -7.010</td> <td> 0.000</td> <td>-8.44e+04</td> <td>-4.75e+04</td>\n",
       "</tr>\n",
       "<tr>\n",
       "  <th>C(geohash)[T.9qc]</th>                <td>-8.729e+04</td> <td> 9261.870</td> <td>   -9.424</td> <td> 0.000</td> <td>-1.05e+05</td> <td>-6.91e+04</td>\n",
       "</tr>\n",
       "<tr>\n",
       "  <th>C(geohash)[T.9qd]</th>                <td>-9.338e+04</td> <td> 9417.538</td> <td>   -9.915</td> <td> 0.000</td> <td>-1.12e+05</td> <td>-7.49e+04</td>\n",
       "</tr>\n",
       "<tr>\n",
       "  <th>C(geohash)[T.9qe]</th>                <td>-8.036e+04</td> <td> 1.13e+04</td> <td>   -7.119</td> <td> 0.000</td> <td>-1.02e+05</td> <td>-5.82e+04</td>\n",
       "</tr>\n",
       "<tr>\n",
       "  <th>C(geohash)[T.9qf]</th>                <td>-7.704e+04</td> <td> 9959.052</td> <td>   -7.736</td> <td> 0.000</td> <td>-9.66e+04</td> <td>-5.75e+04</td>\n",
       "</tr>\n",
       "<tr>\n",
       "  <th>C(geohash)[T.9qg]</th>                <td>-9.159e+04</td> <td> 3.02e+04</td> <td>   -3.028</td> <td> 0.002</td> <td>-1.51e+05</td> <td>-3.23e+04</td>\n",
       "</tr>\n",
       "<tr>\n",
       "  <th>C(geohash)[T.9qh]</th>                <td>-6.947e+04</td> <td> 9163.446</td> <td>   -7.581</td> <td> 0.000</td> <td>-8.74e+04</td> <td>-5.15e+04</td>\n",
       "</tr>\n",
       "<tr>\n",
       "  <th>C(geohash)[T.9qj]</th>                <td>-9.081e+04</td> <td> 1.09e+04</td> <td>   -8.330</td> <td> 0.000</td> <td>-1.12e+05</td> <td>-6.94e+04</td>\n",
       "</tr>\n",
       "<tr>\n",
       "  <th>C(geohash)[T.9qk]</th>                <td>-1.503e+05</td> <td> 1.47e+04</td> <td>  -10.237</td> <td> 0.000</td> <td>-1.79e+05</td> <td>-1.21e+05</td>\n",
       "</tr>\n",
       "<tr>\n",
       "  <th>C(geohash)[T.9qm]</th>                <td>-1.201e+05</td> <td> 3.02e+04</td> <td>   -3.970</td> <td> 0.000</td> <td>-1.79e+05</td> <td>-6.08e+04</td>\n",
       "</tr>\n",
       "<tr>\n",
       "  <th>C(geohash)[T.9qn]</th>                <td>-1.044e+05</td> <td> 1.84e+04</td> <td>   -5.685</td> <td> 0.000</td> <td> -1.4e+05</td> <td>-6.84e+04</td>\n",
       "</tr>\n",
       "<tr>\n",
       "  <th>C(geohash)[T.9qs]</th>                <td>-6.967e+04</td> <td> 3.65e+04</td> <td>   -1.911</td> <td> 0.056</td> <td>-1.41e+05</td> <td> 1804.881</td>\n",
       "</tr>\n",
       "<tr>\n",
       "  <th>C(geohash)[T.9r0]</th>                <td> -9.34e+04</td> <td> 1.07e+04</td> <td>   -8.719</td> <td> 0.000</td> <td>-1.14e+05</td> <td>-7.24e+04</td>\n",
       "</tr>\n",
       "<tr>\n",
       "  <th>C(geohash)[T.9r1]</th>                <td>-9.415e+04</td> <td> 9827.512</td> <td>   -9.580</td> <td> 0.000</td> <td>-1.13e+05</td> <td>-7.49e+04</td>\n",
       "</tr>\n",
       "<tr>\n",
       "  <th>C(geohash)[T.9r2]</th>                <td>-1.023e+05</td> <td> 1.37e+04</td> <td>   -7.459</td> <td> 0.000</td> <td>-1.29e+05</td> <td>-7.54e+04</td>\n",
       "</tr>\n",
       "<tr>\n",
       "  <th>C(geohash)[T.9r3]</th>                <td>  -1.1e+05</td> <td> 1.42e+04</td> <td>   -7.719</td> <td> 0.000</td> <td>-1.38e+05</td> <td> -8.2e+04</td>\n",
       "</tr>\n",
       "<tr>\n",
       "  <th>C(geohash)[T.9r4]</th>                <td>-9.847e+04</td> <td> 1.25e+04</td> <td>   -7.893</td> <td> 0.000</td> <td>-1.23e+05</td> <td> -7.4e+04</td>\n",
       "</tr>\n",
       "<tr>\n",
       "  <th>C(geohash)[T.9r6]</th>                <td>-1.206e+05</td> <td> 2.24e+04</td> <td>   -5.396</td> <td> 0.000</td> <td>-1.64e+05</td> <td>-7.68e+04</td>\n",
       "</tr>\n",
       "<tr>\n",
       "  <th>median_income</th>                    <td> 3.984e+04</td> <td>  292.998</td> <td>  135.976</td> <td> 0.000</td> <td> 3.93e+04</td> <td> 4.04e+04</td>\n",
       "</tr>\n",
       "<tr>\n",
       "  <th>households_population</th>            <td> 2.339e+05</td> <td> 4964.244</td> <td>   47.122</td> <td> 0.000</td> <td> 2.24e+05</td> <td> 2.44e+05</td>\n",
       "</tr>\n",
       "<tr>\n",
       "  <th>total_rooms_households</th>           <td> -207.7435</td> <td>  202.785</td> <td>   -1.024</td> <td> 0.306</td> <td> -605.230</td> <td>  189.743</td>\n",
       "</tr>\n",
       "<tr>\n",
       "  <th>housing_median_age</th>               <td>  429.2258</td> <td>   39.089</td> <td>   10.981</td> <td> 0.000</td> <td>  352.606</td> <td>  505.845</td>\n",
       "</tr>\n",
       "</table>\n",
       "<table class=\"simpletable\">\n",
       "<tr>\n",
       "  <th>Omnibus:</th>       <td>1178.286</td> <th>  Durbin-Watson:     </th> <td>   1.999</td>\n",
       "</tr>\n",
       "<tr>\n",
       "  <th>Prob(Omnibus):</th>  <td> 0.000</td>  <th>  Jarque-Bera (JB):  </th> <td>2073.371</td>\n",
       "</tr>\n",
       "<tr>\n",
       "  <th>Skew:</th>           <td> 0.609</td>  <th>  Prob(JB):          </th> <td>    0.00</td>\n",
       "</tr>\n",
       "<tr>\n",
       "  <th>Kurtosis:</th>       <td> 4.444</td>  <th>  Cond. No.          </th> <td>1.08e+16</td>\n",
       "</tr>\n",
       "</table><br/><br/>Notes:<br/>[1] Standard Errors assume that the covariance matrix of the errors is correctly specified.<br/>[2] The smallest eigenvalue is 1.18e-25. This might indicate that there are<br/>strong multicollinearity problems or that the design matrix is singular."
      ],
      "text/plain": [
       "<class 'statsmodels.iolib.summary.Summary'>\n",
       "\"\"\"\n",
       "                            OLS Regression Results                            \n",
       "==============================================================================\n",
       "Dep. Variable:     median_house_value   R-squared:                       0.753\n",
       "Model:                            OLS   Adj. R-squared:                  0.753\n",
       "Method:                 Least Squares   F-statistic:                     1118.\n",
       "Date:                Tue, 18 Jan 2022   Prob (F-statistic):               0.00\n",
       "Time:                        18:19:01   Log-Likelihood:            -1.7063e+05\n",
       "No. Observations:               13946   AIC:                         3.413e+05\n",
       "Df Residuals:                   13907   BIC:                         3.416e+05\n",
       "Df Model:                          38                                         \n",
       "Covariance Type:            nonrobust                                         \n",
       "====================================================================================================\n",
       "                                       coef    std err          t      P>|t|      [0.025      0.975]\n",
       "----------------------------------------------------------------------------------------------------\n",
       "Intercept                         2.698e+04   9482.180      2.846      0.004    8396.774    4.56e+04\n",
       "C(ocean_proximity)[T.INLAND]     -4.292e+04   1519.682    -28.246      0.000   -4.59e+04   -3.99e+04\n",
       "C(ocean_proximity)[T.ISLAND]     -1.734e-08   5.06e-09     -3.430      0.001   -2.72e-08   -7.43e-09\n",
       "C(ocean_proximity)[T.NEAR BAY]   -1.534e+04   1893.174     -8.100      0.000    -1.9e+04   -1.16e+04\n",
       "C(ocean_proximity)[T.NEAR OCEAN]  1.194e+04   1543.060      7.735      0.000    8911.029     1.5e+04\n",
       "C(geohash)[T.9mu]                -8.401e+04   9096.897     -9.236      0.000   -1.02e+05   -6.62e+04\n",
       "C(geohash)[T.9mv]                -8.419e+04   1.02e+04     -8.281      0.000   -1.04e+05   -6.43e+04\n",
       "C(geohash)[T.9my]                -9.721e+04   1.83e+04     -5.323      0.000   -1.33e+05   -6.14e+04\n",
       "C(geohash)[T.9nz]                 1.989e+04   5.07e+04      0.392      0.695   -7.96e+04    1.19e+05\n",
       "C(geohash)[T.9pp]                -1.513e+05   1.15e+04    -13.128      0.000   -1.74e+05   -1.29e+05\n",
       "C(geohash)[T.9pr]                -1.441e+05   1.13e+04    -12.756      0.000   -1.66e+05   -1.22e+05\n",
       "C(geohash)[T.9q3]                -4.049e+04   1.24e+04     -3.255      0.001   -6.49e+04   -1.61e+04\n",
       "C(geohash)[T.9q4]                  -4.8e+04   9604.290     -4.998      0.000   -6.68e+04   -2.92e+04\n",
       "C(geohash)[T.9q5]                -4.445e+04   9113.729     -4.877      0.000   -6.23e+04   -2.66e+04\n",
       "C(geohash)[T.9q6]                -7.613e+04   9874.677     -7.710      0.000   -9.55e+04   -5.68e+04\n",
       "C(geohash)[T.9q7]                -9.598e+04   9516.418    -10.086      0.000   -1.15e+05   -7.73e+04\n",
       "C(geohash)[T.9q8]                 2419.1560   9341.024      0.259      0.796   -1.59e+04    2.07e+04\n",
       "C(geohash)[T.9q9]                -5.011e+04   9137.183     -5.484      0.000    -6.8e+04   -3.22e+04\n",
       "C(geohash)[T.9qb]                -6.596e+04   9409.414     -7.010      0.000   -8.44e+04   -4.75e+04\n",
       "C(geohash)[T.9qc]                -8.729e+04   9261.870     -9.424      0.000   -1.05e+05   -6.91e+04\n",
       "C(geohash)[T.9qd]                -9.338e+04   9417.538     -9.915      0.000   -1.12e+05   -7.49e+04\n",
       "C(geohash)[T.9qe]                -8.036e+04   1.13e+04     -7.119      0.000   -1.02e+05   -5.82e+04\n",
       "C(geohash)[T.9qf]                -7.704e+04   9959.052     -7.736      0.000   -9.66e+04   -5.75e+04\n",
       "C(geohash)[T.9qg]                -9.159e+04   3.02e+04     -3.028      0.002   -1.51e+05   -3.23e+04\n",
       "C(geohash)[T.9qh]                -6.947e+04   9163.446     -7.581      0.000   -8.74e+04   -5.15e+04\n",
       "C(geohash)[T.9qj]                -9.081e+04   1.09e+04     -8.330      0.000   -1.12e+05   -6.94e+04\n",
       "C(geohash)[T.9qk]                -1.503e+05   1.47e+04    -10.237      0.000   -1.79e+05   -1.21e+05\n",
       "C(geohash)[T.9qm]                -1.201e+05   3.02e+04     -3.970      0.000   -1.79e+05   -6.08e+04\n",
       "C(geohash)[T.9qn]                -1.044e+05   1.84e+04     -5.685      0.000    -1.4e+05   -6.84e+04\n",
       "C(geohash)[T.9qs]                -6.967e+04   3.65e+04     -1.911      0.056   -1.41e+05    1804.881\n",
       "C(geohash)[T.9r0]                 -9.34e+04   1.07e+04     -8.719      0.000   -1.14e+05   -7.24e+04\n",
       "C(geohash)[T.9r1]                -9.415e+04   9827.512     -9.580      0.000   -1.13e+05   -7.49e+04\n",
       "C(geohash)[T.9r2]                -1.023e+05   1.37e+04     -7.459      0.000   -1.29e+05   -7.54e+04\n",
       "C(geohash)[T.9r3]                  -1.1e+05   1.42e+04     -7.719      0.000   -1.38e+05    -8.2e+04\n",
       "C(geohash)[T.9r4]                -9.847e+04   1.25e+04     -7.893      0.000   -1.23e+05    -7.4e+04\n",
       "C(geohash)[T.9r6]                -1.206e+05   2.24e+04     -5.396      0.000   -1.64e+05   -7.68e+04\n",
       "median_income                     3.984e+04    292.998    135.976      0.000    3.93e+04    4.04e+04\n",
       "households_population             2.339e+05   4964.244     47.122      0.000    2.24e+05    2.44e+05\n",
       "total_rooms_households            -207.7435    202.785     -1.024      0.306    -605.230     189.743\n",
       "housing_median_age                 429.2258     39.089     10.981      0.000     352.606     505.845\n",
       "==============================================================================\n",
       "Omnibus:                     1178.286   Durbin-Watson:                   1.999\n",
       "Prob(Omnibus):                  0.000   Jarque-Bera (JB):             2073.371\n",
       "Skew:                           0.609   Prob(JB):                         0.00\n",
       "Kurtosis:                       4.444   Cond. No.                     1.08e+16\n",
       "==============================================================================\n",
       "\n",
       "Notes:\n",
       "[1] Standard Errors assume that the covariance matrix of the errors is correctly specified.\n",
       "[2] The smallest eigenvalue is 1.18e-25. This might indicate that there are\n",
       "strong multicollinearity problems or that the design matrix is singular.\n",
       "\"\"\""
      ]
     },
     "execution_count": 36,
     "metadata": {},
     "output_type": "execute_result"
    }
   ],
   "source": [
    "lm3opt.summary()"
   ]
  },
  {
   "cell_type": "code",
   "execution_count": 37,
   "metadata": {},
   "outputs": [
    {
     "name": "stdout",
     "output_type": "stream",
     "text": [
      "r2:  0.7534\n",
      "RMSE  49832.42\n",
      "MSE:  2483270183.72\n"
     ]
    }
   ],
   "source": [
    "r2_lm3opt, rmse_lm3opt, mse_lm3opt = metrics_stats(lm3opt,train_dataset_opt)"
   ]
  },
  {
   "cell_type": "markdown",
   "metadata": {},
   "source": [
    "Für dieses Modell liegt der RMSE unter 50 Tsd. USD.  Wird nur diese Größe betrachtet handelt es hierbei um das beste Modell. "
   ]
  },
  {
   "cell_type": "markdown",
   "metadata": {},
   "source": [
    "### Statsmodel Lasso"
   ]
  },
  {
   "cell_type": "markdown",
   "metadata": {},
   "source": [
    "**Model Lasso: Build**"
   ]
  },
  {
   "cell_type": "markdown",
   "metadata": {},
   "source": [
    "Folgendes Modell basiert auf eine Recherche im Internet zur Anwendung von Lasso mit der Bibliothek Statsmodels. Mit dem Parameter `L1_wt` wird eine regularisiertes Modell nach Lasso umgesetzt. Zu dieser Umsetzung habe ich wenige Quelle gefunden. "
   ]
  },
  {
   "cell_type": "code",
   "execution_count": 38,
   "metadata": {},
   "outputs": [],
   "source": [
    "lmlasso = smf.ols(formula ='median_house_value ~ median_income + C(ocean_proximity) + households_population + total_rooms_households + total_rooms_total_bedrooms+C(geohash)', data=train_dataset).fit_regularized(L1_wt=1)"
   ]
  },
  {
   "cell_type": "code",
   "execution_count": 39,
   "metadata": {},
   "outputs": [],
   "source": [
    "train_dataset['y_pred'] = lmlasso.predict()"
   ]
  },
  {
   "cell_type": "markdown",
   "metadata": {},
   "source": [
    "**Model Lasso: Metrics and Evaluation**"
   ]
  },
  {
   "cell_type": "code",
   "execution_count": 40,
   "metadata": {},
   "outputs": [
    {
     "name": "stdout",
     "output_type": "stream",
     "text": [
      "RMSE  66702.33\n",
      "MSE:  4449200441.47\n"
     ]
    }
   ],
   "source": [
    "rmse_lasso= round(rmse(train_dataset['median_house_value'], train_dataset['y_pred']), 2)\n",
    "mse_lasso = round (mse(train_dataset['median_house_value'], train_dataset['y_pred']), 2)\n",
    "print(\"RMSE \",rmse_lasso)\n",
    "print(\"MSE: \",mse_lasso)\n"
   ]
  },
  {
   "cell_type": "markdown",
   "metadata": {},
   "source": [
    "Der RMSE liegt mit ca. 66,7 Tsd. USD unter 70 Tsd. USD. "
   ]
  },
  {
   "cell_type": "markdown",
   "metadata": {},
   "source": [
    "### Natural Spline Statsmodel"
   ]
  },
  {
   "cell_type": "markdown",
   "metadata": {},
   "source": [
    "**Model Splines: Build**"
   ]
  },
  {
   "cell_type": "markdown",
   "metadata": {},
   "source": [
    "Das Natural Splines Modell wir mit nur einer Variablen umgesetzt. Da *median_income* die höchste Korrelation  mit *median_house_value* aufweist wird dieser in das Modell einbezogen. "
   ]
  },
  {
   "cell_type": "code",
   "execution_count": 48,
   "metadata": {},
   "outputs": [],
   "source": [
    "X_train = train_dataset['median_income']\n",
    "y_train = train_dataset['median_house_value']"
   ]
  },
  {
   "cell_type": "code",
   "execution_count": 50,
   "metadata": {},
   "outputs": [],
   "source": [
    "from patsy import dmatrix\n",
    "transformed_x3 = dmatrix(\"cr(train,df = 3)\", {\"train\": X_train}, return_type='dataframe')"
   ]
  },
  {
   "cell_type": "code",
   "execution_count": 51,
   "metadata": {},
   "outputs": [],
   "source": [
    "spline = sm.GLM(y_train, transformed_x3).fit()"
   ]
  },
  {
   "cell_type": "code",
   "execution_count": 44,
   "metadata": {},
   "outputs": [],
   "source": [
    "y_pred= spline.predict(dmatrix(\"cr(train, df=3)\", {\"train\": X_train}, return_type='dataframe'))"
   ]
  },
  {
   "cell_type": "markdown",
   "metadata": {},
   "source": [
    "**Model Splines: Metrics and Evaluation**"
   ]
  },
  {
   "cell_type": "code",
   "execution_count": 45,
   "metadata": {},
   "outputs": [
    {
     "data": {
      "text/html": [
       "<table class=\"simpletable\">\n",
       "<caption>Generalized Linear Model Regression Results</caption>\n",
       "<tr>\n",
       "  <th>Dep. Variable:</th>   <td>median_house_value</td> <th>  No. Observations:  </th>   <td> 14860</td>   \n",
       "</tr>\n",
       "<tr>\n",
       "  <th>Model:</th>                   <td>GLM</td>        <th>  Df Residuals:      </th>   <td> 14857</td>   \n",
       "</tr>\n",
       "<tr>\n",
       "  <th>Model Family:</th>         <td>Gaussian</td>      <th>  Df Model:          </th>   <td>     2</td>   \n",
       "</tr>\n",
       "<tr>\n",
       "  <th>Link Function:</th>        <td>identity</td>      <th>  Scale:             </th> <td>7.0656e+09</td> \n",
       "</tr>\n",
       "<tr>\n",
       "  <th>Method:</th>                 <td>IRLS</td>        <th>  Log-Likelihood:    </th> <td>-1.8959e+05</td>\n",
       "</tr>\n",
       "<tr>\n",
       "  <th>Date:</th>             <td>Tue, 18 Jan 2022</td>  <th>  Deviance:          </th> <td>1.0497e+14</td> \n",
       "</tr>\n",
       "<tr>\n",
       "  <th>Time:</th>                 <td>18:28:18</td>      <th>  Pearson chi2:      </th>  <td>1.05e+14</td>  \n",
       "</tr>\n",
       "<tr>\n",
       "  <th>No. Iterations:</th>           <td>3</td>         <th>  Pseudo R-squ. (CS):</th>   <td>0.5934</td>   \n",
       "</tr>\n",
       "<tr>\n",
       "  <th>Covariance Type:</th>      <td>nonrobust</td>     <th>                     </th>      <td> </td>     \n",
       "</tr>\n",
       "</table>\n",
       "<table class=\"simpletable\">\n",
       "<tr>\n",
       "           <td></td>             <th>coef</th>     <th>std err</th>      <th>z</th>      <th>P>|z|</th>  <th>[0.025</th>    <th>0.975]</th>  \n",
       "</tr>\n",
       "<tr>\n",
       "  <th>Intercept</th>          <td> 2.133e+05</td> <td> 2195.333</td> <td>   97.149</td> <td> 0.000</td> <td> 2.09e+05</td> <td> 2.18e+05</td>\n",
       "</tr>\n",
       "<tr>\n",
       "  <th>cr(train, df=3)[0]</th> <td>-1.642e+05</td> <td> 1937.784</td> <td>  -84.722</td> <td> 0.000</td> <td>-1.68e+05</td> <td> -1.6e+05</td>\n",
       "</tr>\n",
       "<tr>\n",
       "  <th>cr(train, df=3)[1]</th> <td>-1.091e+04</td> <td> 2475.528</td> <td>   -4.407</td> <td> 0.000</td> <td>-1.58e+04</td> <td>-6056.668</td>\n",
       "</tr>\n",
       "<tr>\n",
       "  <th>cr(train, df=3)[2]</th> <td> 3.884e+05</td> <td> 5768.188</td> <td>   67.327</td> <td> 0.000</td> <td> 3.77e+05</td> <td>    4e+05</td>\n",
       "</tr>\n",
       "</table>"
      ],
      "text/plain": [
       "<class 'statsmodels.iolib.summary.Summary'>\n",
       "\"\"\"\n",
       "                 Generalized Linear Model Regression Results                  \n",
       "==============================================================================\n",
       "Dep. Variable:     median_house_value   No. Observations:                14860\n",
       "Model:                            GLM   Df Residuals:                    14857\n",
       "Model Family:                Gaussian   Df Model:                            2\n",
       "Link Function:               identity   Scale:                      7.0656e+09\n",
       "Method:                          IRLS   Log-Likelihood:            -1.8959e+05\n",
       "Date:                Tue, 18 Jan 2022   Deviance:                   1.0497e+14\n",
       "Time:                        18:28:18   Pearson chi2:                 1.05e+14\n",
       "No. Iterations:                     3   Pseudo R-squ. (CS):             0.5934\n",
       "Covariance Type:            nonrobust                                         \n",
       "======================================================================================\n",
       "                         coef    std err          z      P>|z|      [0.025      0.975]\n",
       "--------------------------------------------------------------------------------------\n",
       "Intercept           2.133e+05   2195.333     97.149      0.000    2.09e+05    2.18e+05\n",
       "cr(train, df=3)[0] -1.642e+05   1937.784    -84.722      0.000   -1.68e+05    -1.6e+05\n",
       "cr(train, df=3)[1] -1.091e+04   2475.528     -4.407      0.000   -1.58e+04   -6056.668\n",
       "cr(train, df=3)[2]  3.884e+05   5768.188     67.327      0.000    3.77e+05       4e+05\n",
       "======================================================================================\n",
       "\"\"\""
      ]
     },
     "execution_count": 45,
     "metadata": {},
     "output_type": "execute_result"
    }
   ],
   "source": [
    "spline.summary()"
   ]
  },
  {
   "cell_type": "code",
   "execution_count": 46,
   "metadata": {},
   "outputs": [
    {
     "name": "stdout",
     "output_type": "stream",
     "text": [
      "RMSE  84048.48\n",
      "MSE:  7064147575.14\n"
     ]
    }
   ],
   "source": [
    "rmse_spline= round(rmse(train_dataset['median_house_value'], y_pred), 2)\n",
    "mse_spline = round (mse(train_dataset['median_house_value'], y_pred), 2)\n",
    "print(\"RMSE \",rmse_spline)\n",
    "print(\"MSE: \",mse_spline)"
   ]
  },
  {
   "cell_type": "markdown",
   "metadata": {},
   "source": [
    "Da ein Ergebnis der Regression Diagnostic ist, dass Spline für diese Problem besser geeignet sind, entspricht das Ergebnis nicht den Erwartungen. Grund kann dafür das Einbeziehen nur einer Variable sein. "
   ]
  },
  {
   "cell_type": "code",
   "execution_count": 47,
   "metadata": {},
   "outputs": [
    {
     "data": {
      "text/plain": [
       "<matplotlib.legend.Legend at 0x2342d9f1948>"
      ]
     },
     "execution_count": 47,
     "metadata": {},
     "output_type": "execute_result"
    },
    {
     "data": {
      "image/png": "[encoded data removed]",
      "text/plain": [
       "<Figure size 432x288 with 1 Axes>"
      ]
     },
     "metadata": {
      "filenames": {
       "image/png": "C:\\dev\\myjupyterbook\\jupyterbooktest\\_build\\jupyter_execute\\regression_87_1.png"
      },
      "needs_background": "light"
     },
     "output_type": "display_data"
    }
   ],
   "source": [
    "sns.scatterplot(x=X_train, y=y_train)\n",
    "plt.plot(X_train, y_pred, color='orange', label='Natural spline with df=3')\n",
    "plt.legend()"
   ]
  },
  {
   "cell_type": "markdown",
   "metadata": {},
   "source": [
    "### Evaluation"
   ]
  },
  {
   "cell_type": "markdown",
   "metadata": {},
   "source": [
    "Für die Evaluation werden die RMSE der einzelnen Modelle miteinander verglichen. Das Modell mit dem niedrigsten RMSE wird mit den Testdaten validiert. "
   ]
  },
  {
   "cell_type": "code",
   "execution_count": 52,
   "metadata": {},
   "outputs": [
    {
     "data": {
      "text/html": [
       "<div>\n",
       "<style scoped>\n",
       "    .dataframe tbody tr th:only-of-type {\n",
       "        vertical-align: middle;\n",
       "    }\n",
       "\n",
       "    .dataframe tbody tr th {\n",
       "        vertical-align: top;\n",
       "    }\n",
       "\n",
       "    .dataframe thead th {\n",
       "        text-align: right;\n",
       "    }\n",
       "</style>\n",
       "<table border=\"1\" class=\"dataframe\">\n",
       "  <thead>\n",
       "    <tr style=\"text-align: right;\">\n",
       "      <th></th>\n",
       "      <th>RMSE</th>\n",
       "      <th>Werte</th>\n",
       "    </tr>\n",
       "  </thead>\n",
       "  <tbody>\n",
       "    <tr>\n",
       "      <th>3</th>\n",
       "      <td>RMSE OLS 3 opt</td>\n",
       "      <td>49832.42</td>\n",
       "    </tr>\n",
       "    <tr>\n",
       "      <th>2</th>\n",
       "      <td>RMSE OLS 3</td>\n",
       "      <td>63633.85</td>\n",
       "    </tr>\n",
       "    <tr>\n",
       "      <th>4</th>\n",
       "      <td>RMSE Lasso</td>\n",
       "      <td>66702.33</td>\n",
       "    </tr>\n",
       "    <tr>\n",
       "      <th>1</th>\n",
       "      <td>RMSE OLS 2</td>\n",
       "      <td>81594.26</td>\n",
       "    </tr>\n",
       "    <tr>\n",
       "      <th>5</th>\n",
       "      <td>RMSE Spline</td>\n",
       "      <td>84048.48</td>\n",
       "    </tr>\n",
       "    <tr>\n",
       "      <th>0</th>\n",
       "      <td>RMSE OLS 1</td>\n",
       "      <td>84343.17</td>\n",
       "    </tr>\n",
       "  </tbody>\n",
       "</table>\n",
       "</div>"
      ],
      "text/plain": [
       "             RMSE     Werte\n",
       "3  RMSE OLS 3 opt  49832.42\n",
       "2      RMSE OLS 3  63633.85\n",
       "4      RMSE Lasso  66702.33\n",
       "1      RMSE OLS 2  81594.26\n",
       "5     RMSE Spline  84048.48\n",
       "0      RMSE OLS 1  84343.17"
      ]
     },
     "execution_count": 52,
     "metadata": {},
     "output_type": "execute_result"
    }
   ],
   "source": [
    "results= {'RMSE': ['RMSE OLS 1', 'RMSE OLS 2', 'RMSE OLS 3', 'RMSE OLS 3 opt', 'RMSE Lasso', 'RMSE Spline'],\n",
    "        'Werte': [rmse_lm1, rmse_lm2, rmse_lm3, rmse_lm3opt, rmse_lasso, rmse_spline] }\n",
    "df_results = pd.DataFrame(results)\n",
    "df_results.sort_values(by ='Werte')"
   ]
  },
  {
   "cell_type": "code",
   "execution_count": 74,
   "metadata": {},
   "outputs": [],
   "source": [
    "test_dataset = add_feautures(test_dataset)\n",
    "test_dataset = fill_missingdata(test_dataset)"
   ]
  },
  {
   "cell_type": "code",
   "execution_count": 73,
   "metadata": {},
   "outputs": [],
   "source": [
    "test_dataset['y_pred'] = lm3opt.predict(test_dataset[['median_income', 'ocean_proximity', 'households_population', 'total_rooms_households', 'housing_median_age', 'geohash']])"
   ]
  },
  {
   "cell_type": "code",
   "execution_count": 72,
   "metadata": {},
   "outputs": [
    {
     "name": "stdout",
     "output_type": "stream",
     "text": [
      "r2:  0.7534\n",
      "RMSE  63049.64\n",
      "MSE:  3975256654.45\n"
     ]
    }
   ],
   "source": [
    "r2_test, rmse_test, mse_test = metrics_stats(lm3opt,test_dataset)"
   ]
  },
  {
   "cell_type": "markdown",
   "metadata": {},
   "source": [
    "In einem realen Umfeld wäre nach Erstellung des Modells eine vollständige Regression Diagnostics notwendig gewesen, um das Ergebnis richtig einordnen zu können. "
   ]
  },
  {
   "cell_type": "markdown",
   "metadata": {},
   "source": [
    "## Model sklearn"
   ]
  },
  {
   "cell_type": "code",
   "execution_count": 53,
   "metadata": {},
   "outputs": [
    {
     "name": "stdout",
     "output_type": "stream",
     "text": [
      "The autoreload extension is already loaded. To reload it, use:\n",
      "  %reload_ext autoreload\n"
     ]
    }
   ],
   "source": [
    "from sklearn.model_selection import train_test_split\n",
    "\n",
    "from sklearn.compose import ColumnTransformer, make_column_selector as selector\n",
    "from sklearn.pipeline import Pipeline\n",
    "from sklearn.impute import SimpleImputer\n",
    "from sklearn.preprocessing import StandardScaler, OneHotEncoder\n",
    "from sklearn.linear_model import LinearRegression, LassoCV, Lasso, Ridge\n",
    "from sklearn.metrics import mean_squared_error, r2_score, mean_absolute_error\n",
    "from sklearn.preprocessing import PolynomialFeatures\n",
    "\n",
    "import seaborn as sns  \n",
    "\n",
    "\n",
    "from func import *\n",
    "from sklearn import set_config\n",
    "\n",
    "%load_ext autoreload\n",
    "%autoreload 2\n",
    "set_config(display=\"diagram\")"
   ]
  },
  {
   "cell_type": "markdown",
   "metadata": {},
   "source": [
    "### sklearn OLS"
   ]
  },
  {
   "cell_type": "markdown",
   "metadata": {},
   "source": [
    "**Data Preperation**"
   ]
  },
  {
   "cell_type": "markdown",
   "metadata": {},
   "source": [
    "Zur Datenvorbereitung  mit der Bibliothek scikit-learn wird ein *preprocessor* angewendet. Der Aufbau des *preprocessors* ist im Notebook Data genauer beschrieben. In diesem Fall wird dieser über die Funktion erstellt. "
   ]
  },
  {
   "cell_type": "code",
   "execution_count": 55,
   "metadata": {},
   "outputs": [],
   "source": [
    "df = read_data()\n",
    "df = transform_data(df)"
   ]
  },
  {
   "cell_type": "code",
   "execution_count": 56,
   "metadata": {},
   "outputs": [],
   "source": [
    "#Split Test and Trainingsdata\n",
    "X = df.drop('median_house_value', axis=1)\n",
    "y = df['median_house_value']\n",
    "\n",
    "X_train, X_test, y_train, y_test = train_test_split(X, y, test_size=0.2, random_state=42)\n"
   ]
  },
  {
   "cell_type": "code",
   "execution_count": 57,
   "metadata": {},
   "outputs": [],
   "source": [
    "X_train = add_feautures(X_train)"
   ]
  },
  {
   "cell_type": "code",
   "execution_count": 58,
   "metadata": {},
   "outputs": [
    {
     "data": {
      "text/html": [
       "<div>\n",
       "<style scoped>\n",
       "    .dataframe tbody tr th:only-of-type {\n",
       "        vertical-align: middle;\n",
       "    }\n",
       "\n",
       "    .dataframe tbody tr th {\n",
       "        vertical-align: top;\n",
       "    }\n",
       "\n",
       "    .dataframe thead th {\n",
       "        text-align: right;\n",
       "    }\n",
       "</style>\n",
       "<table border=\"1\" class=\"dataframe\">\n",
       "  <thead>\n",
       "    <tr style=\"text-align: right;\">\n",
       "      <th></th>\n",
       "      <th>median_income</th>\n",
       "      <th>ocean_proximity</th>\n",
       "      <th>housing_median_age</th>\n",
       "      <th>households_population</th>\n",
       "      <th>total_rooms_households</th>\n",
       "      <th>total_rooms_total_bedrooms</th>\n",
       "      <th>geohash</th>\n",
       "    </tr>\n",
       "  </thead>\n",
       "  <tbody>\n",
       "    <tr>\n",
       "      <th>14196</th>\n",
       "      <td>3.2596</td>\n",
       "      <td>NEAR OCEAN</td>\n",
       "      <td>33.0</td>\n",
       "      <td>0.270870</td>\n",
       "      <td>5.017657</td>\n",
       "      <td>4.985646</td>\n",
       "      <td>9mu</td>\n",
       "    </tr>\n",
       "    <tr>\n",
       "      <th>8267</th>\n",
       "      <td>3.8125</td>\n",
       "      <td>NEAR OCEAN</td>\n",
       "      <td>49.0</td>\n",
       "      <td>0.575342</td>\n",
       "      <td>4.473545</td>\n",
       "      <td>4.297332</td>\n",
       "      <td>9q5</td>\n",
       "    </tr>\n",
       "    <tr>\n",
       "      <th>17445</th>\n",
       "      <td>4.1563</td>\n",
       "      <td>NEAR OCEAN</td>\n",
       "      <td>4.0</td>\n",
       "      <td>0.367213</td>\n",
       "      <td>5.645833</td>\n",
       "      <td>5.731118</td>\n",
       "      <td>9q4</td>\n",
       "    </tr>\n",
       "    <tr>\n",
       "      <th>14265</th>\n",
       "      <td>1.9425</td>\n",
       "      <td>NEAR OCEAN</td>\n",
       "      <td>36.0</td>\n",
       "      <td>0.250353</td>\n",
       "      <td>4.002817</td>\n",
       "      <td>3.871935</td>\n",
       "      <td>9mu</td>\n",
       "    </tr>\n",
       "    <tr>\n",
       "      <th>2271</th>\n",
       "      <td>3.5542</td>\n",
       "      <td>INLAND</td>\n",
       "      <td>43.0</td>\n",
       "      <td>0.434783</td>\n",
       "      <td>6.268421</td>\n",
       "      <td>5.526682</td>\n",
       "      <td>9qd</td>\n",
       "    </tr>\n",
       "    <tr>\n",
       "      <th>...</th>\n",
       "      <td>...</td>\n",
       "      <td>...</td>\n",
       "      <td>...</td>\n",
       "      <td>...</td>\n",
       "      <td>...</td>\n",
       "      <td>...</td>\n",
       "      <td>...</td>\n",
       "    </tr>\n",
       "    <tr>\n",
       "      <th>11284</th>\n",
       "      <td>6.3700</td>\n",
       "      <td>&lt;1H OCEAN</td>\n",
       "      <td>35.0</td>\n",
       "      <td>0.329787</td>\n",
       "      <td>6.129032</td>\n",
       "      <td>6.616915</td>\n",
       "      <td>9qh</td>\n",
       "    </tr>\n",
       "    <tr>\n",
       "      <th>11964</th>\n",
       "      <td>3.0500</td>\n",
       "      <td>INLAND</td>\n",
       "      <td>33.0</td>\n",
       "      <td>0.256132</td>\n",
       "      <td>6.868597</td>\n",
       "      <td>5.410526</td>\n",
       "      <td>9qh</td>\n",
       "    </tr>\n",
       "    <tr>\n",
       "      <th>5390</th>\n",
       "      <td>2.9344</td>\n",
       "      <td>&lt;1H OCEAN</td>\n",
       "      <td>36.0</td>\n",
       "      <td>0.300114</td>\n",
       "      <td>3.986717</td>\n",
       "      <td>3.692443</td>\n",
       "      <td>9q5</td>\n",
       "    </tr>\n",
       "    <tr>\n",
       "      <th>860</th>\n",
       "      <td>5.7192</td>\n",
       "      <td>&lt;1H OCEAN</td>\n",
       "      <td>15.0</td>\n",
       "      <td>0.314575</td>\n",
       "      <td>6.395349</td>\n",
       "      <td>5.988275</td>\n",
       "      <td>9q9</td>\n",
       "    </tr>\n",
       "    <tr>\n",
       "      <th>15795</th>\n",
       "      <td>2.5755</td>\n",
       "      <td>NEAR BAY</td>\n",
       "      <td>52.0</td>\n",
       "      <td>0.474227</td>\n",
       "      <td>3.402576</td>\n",
       "      <td>3.213688</td>\n",
       "      <td>9q8</td>\n",
       "    </tr>\n",
       "  </tbody>\n",
       "</table>\n",
       "<p>16512 rows × 7 columns</p>\n",
       "</div>"
      ],
      "text/plain": [
       "       median_income ocean_proximity  housing_median_age  \\\n",
       "14196         3.2596      NEAR OCEAN                33.0   \n",
       "8267          3.8125      NEAR OCEAN                49.0   \n",
       "17445         4.1563      NEAR OCEAN                 4.0   \n",
       "14265         1.9425      NEAR OCEAN                36.0   \n",
       "2271          3.5542          INLAND                43.0   \n",
       "...              ...             ...                 ...   \n",
       "11284         6.3700       <1H OCEAN                35.0   \n",
       "11964         3.0500          INLAND                33.0   \n",
       "5390          2.9344       <1H OCEAN                36.0   \n",
       "860           5.7192       <1H OCEAN                15.0   \n",
       "15795         2.5755        NEAR BAY                52.0   \n",
       "\n",
       "       households_population  total_rooms_households  \\\n",
       "14196               0.270870                5.017657   \n",
       "8267                0.575342                4.473545   \n",
       "17445               0.367213                5.645833   \n",
       "14265               0.250353                4.002817   \n",
       "2271                0.434783                6.268421   \n",
       "...                      ...                     ...   \n",
       "11284               0.329787                6.129032   \n",
       "11964               0.256132                6.868597   \n",
       "5390                0.300114                3.986717   \n",
       "860                 0.314575                6.395349   \n",
       "15795               0.474227                3.402576   \n",
       "\n",
       "       total_rooms_total_bedrooms geohash  \n",
       "14196                    4.985646     9mu  \n",
       "8267                     4.297332     9q5  \n",
       "17445                    5.731118     9q4  \n",
       "14265                    3.871935     9mu  \n",
       "2271                     5.526682     9qd  \n",
       "...                           ...     ...  \n",
       "11284                    6.616915     9qh  \n",
       "11964                    5.410526     9qh  \n",
       "5390                     3.692443     9q5  \n",
       "860                      5.988275     9q9  \n",
       "15795                    3.213688     9q8  \n",
       "\n",
       "[16512 rows x 7 columns]"
      ]
     },
     "execution_count": 58,
     "metadata": {},
     "output_type": "execute_result"
    }
   ],
   "source": [
    "#Feauture Selection \n",
    "X_train = X_train[['median_income', 'ocean_proximity','housing_median_age', 'households_population', 'total_rooms_households', 'total_rooms_total_bedrooms', 'geohash']]\n",
    "X_train"
   ]
  },
  {
   "cell_type": "code",
   "execution_count": 59,
   "metadata": {},
   "outputs": [],
   "source": [
    "preprocessor = build_preprocessor()"
   ]
  },
  {
   "cell_type": "markdown",
   "metadata": {},
   "source": [
    "**Model OLS**"
   ]
  },
  {
   "cell_type": "markdown",
   "metadata": {},
   "source": [
    "Das erste Modell, welches mit scikit-learn umsgesetzt wird, basiert ebenfalls auf der *Ordinary least squares*-Methode. Im Unterschied zu Statsmodel wird mit scikit-learn gleich eine Multiple-Regression durchgeführt, da diese deutlich bessere Ergebnisse erzielen konnte. "
   ]
  },
  {
   "cell_type": "code",
   "execution_count": 60,
   "metadata": {},
   "outputs": [],
   "source": [
    "lm_pipe = Pipeline(steps=[\n",
    "    ('preprocessor', preprocessor),\n",
    "    ('lm', LinearRegression())\n",
    "                        ])"
   ]
  },
  {
   "cell_type": "code",
   "execution_count": 61,
   "metadata": {},
   "outputs": [
    {
     "data": {
      "text/html": [
       "<style>#sk-42f9060d-0b3d-4f6d-be51-090f8dd00c2e {color: black;background-color: white;}#sk-42f9060d-0b3d-4f6d-be51-090f8dd00c2e pre{padding: 0;}#sk-42f9060d-0b3d-4f6d-be51-090f8dd00c2e div.sk-toggleable {background-color: white;}#sk-42f9060d-0b3d-4f6d-be51-090f8dd00c2e label.sk-toggleable__label {cursor: pointer;display: block;width: 100%;margin-bottom: 0;padding: 0.3em;box-sizing: border-box;text-align: center;}#sk-42f9060d-0b3d-4f6d-be51-090f8dd00c2e label.sk-toggleable__label-arrow:before {content: \"▸\";float: left;margin-right: 0.25em;color: #696969;}#sk-42f9060d-0b3d-4f6d-be51-090f8dd00c2e label.sk-toggleable__label-arrow:hover:before {color: black;}#sk-42f9060d-0b3d-4f6d-be51-090f8dd00c2e div.sk-estimator:hover label.sk-toggleable__label-arrow:before {color: black;}#sk-42f9060d-0b3d-4f6d-be51-090f8dd00c2e div.sk-toggleable__content {max-height: 0;max-width: 0;overflow: hidden;text-align: left;background-color: #f0f8ff;}#sk-42f9060d-0b3d-4f6d-be51-090f8dd00c2e div.sk-toggleable__content pre {margin: 0.2em;color: black;border-radius: 0.25em;background-color: #f0f8ff;}#sk-42f9060d-0b3d-4f6d-be51-090f8dd00c2e input.sk-toggleable__control:checked~div.sk-toggleable__content {max-height: 200px;max-width: 100%;overflow: auto;}#sk-42f9060d-0b3d-4f6d-be51-090f8dd00c2e input.sk-toggleable__control:checked~label.sk-toggleable__label-arrow:before {content: \"▾\";}#sk-42f9060d-0b3d-4f6d-be51-090f8dd00c2e div.sk-estimator input.sk-toggleable__control:checked~label.sk-toggleable__label {background-color: #d4ebff;}#sk-42f9060d-0b3d-4f6d-be51-090f8dd00c2e div.sk-label input.sk-toggleable__control:checked~label.sk-toggleable__label {background-color: #d4ebff;}#sk-42f9060d-0b3d-4f6d-be51-090f8dd00c2e input.sk-hidden--visually {border: 0;clip: rect(1px 1px 1px 1px);clip: rect(1px, 1px, 1px, 1px);height: 1px;margin: -1px;overflow: hidden;padding: 0;position: absolute;width: 1px;}#sk-42f9060d-0b3d-4f6d-be51-090f8dd00c2e div.sk-estimator {font-family: monospace;background-color: #f0f8ff;border: 1px dotted black;border-radius: 0.25em;box-sizing: border-box;margin-bottom: 0.5em;}#sk-42f9060d-0b3d-4f6d-be51-090f8dd00c2e div.sk-estimator:hover {background-color: #d4ebff;}#sk-42f9060d-0b3d-4f6d-be51-090f8dd00c2e div.sk-parallel-item::after {content: \"\";width: 100%;border-bottom: 1px solid gray;flex-grow: 1;}#sk-42f9060d-0b3d-4f6d-be51-090f8dd00c2e div.sk-label:hover label.sk-toggleable__label {background-color: #d4ebff;}#sk-42f9060d-0b3d-4f6d-be51-090f8dd00c2e div.sk-serial::before {content: \"\";position: absolute;border-left: 1px solid gray;box-sizing: border-box;top: 2em;bottom: 0;left: 50%;}#sk-42f9060d-0b3d-4f6d-be51-090f8dd00c2e div.sk-serial {display: flex;flex-direction: column;align-items: center;background-color: white;padding-right: 0.2em;padding-left: 0.2em;}#sk-42f9060d-0b3d-4f6d-be51-090f8dd00c2e div.sk-item {z-index: 1;}#sk-42f9060d-0b3d-4f6d-be51-090f8dd00c2e div.sk-parallel {display: flex;align-items: stretch;justify-content: center;background-color: white;}#sk-42f9060d-0b3d-4f6d-be51-090f8dd00c2e div.sk-parallel::before {content: \"\";position: absolute;border-left: 1px solid gray;box-sizing: border-box;top: 2em;bottom: 0;left: 50%;}#sk-42f9060d-0b3d-4f6d-be51-090f8dd00c2e div.sk-parallel-item {display: flex;flex-direction: column;position: relative;background-color: white;}#sk-42f9060d-0b3d-4f6d-be51-090f8dd00c2e div.sk-parallel-item:first-child::after {align-self: flex-end;width: 50%;}#sk-42f9060d-0b3d-4f6d-be51-090f8dd00c2e div.sk-parallel-item:last-child::after {align-self: flex-start;width: 50%;}#sk-42f9060d-0b3d-4f6d-be51-090f8dd00c2e div.sk-parallel-item:only-child::after {width: 0;}#sk-42f9060d-0b3d-4f6d-be51-090f8dd00c2e div.sk-dashed-wrapped {border: 1px dashed gray;margin: 0 0.4em 0.5em 0.4em;box-sizing: border-box;padding-bottom: 0.4em;background-color: white;position: relative;}#sk-42f9060d-0b3d-4f6d-be51-090f8dd00c2e div.sk-label label {font-family: monospace;font-weight: bold;background-color: white;display: inline-block;line-height: 1.2em;}#sk-42f9060d-0b3d-4f6d-be51-090f8dd00c2e div.sk-label-container {position: relative;z-index: 2;text-align: center;}#sk-42f9060d-0b3d-4f6d-be51-090f8dd00c2e div.sk-container {/* jupyter's `normalize.less` sets `[hidden] { display: none; }` but bootstrap.min.css set `[hidden] { display: none !important; }` so we also need the `!important` here to be able to override the default hidden behavior on the sphinx rendered scikit-learn.org. See: https://github.com/scikit-learn/scikit-learn/issues/21755 */display: inline-block !important;position: relative;}#sk-42f9060d-0b3d-4f6d-be51-090f8dd00c2e div.sk-text-repr-fallback {display: none;}</style><div id=\"sk-42f9060d-0b3d-4f6d-be51-090f8dd00c2e\" class=\"sk-top-container\"><div class=\"sk-text-repr-fallback\"><pre>Pipeline(steps=[(&#x27;preprocessor&#x27;,\n",
       "                 ColumnTransformer(transformers=[(&#x27;num&#x27;,\n",
       "                                                  Pipeline(steps=[(&#x27;imputer&#x27;,\n",
       "                                                                   SimpleImputer(strategy=&#x27;median&#x27;)),\n",
       "                                                                  (&#x27;scaler&#x27;,\n",
       "                                                                   StandardScaler())]),\n",
       "                                                  &lt;sklearn.compose._column_transformer.make_column_selector object at 0x0000023437C3C608&gt;),\n",
       "                                                 (&#x27;cat&#x27;,\n",
       "                                                  Pipeline(steps=[(&#x27;imputer&#x27;,\n",
       "                                                                   SimpleImputer(fill_value=&#x27;missing&#x27;,\n",
       "                                                                                 strategy=&#x27;constant&#x27;)),\n",
       "                                                                  (&#x27;onehot&#x27;,\n",
       "                                                                   OneHotEncoder(dtype=&lt;class &#x27;int&#x27;&gt;,\n",
       "                                                                                 handle_unknown=&#x27;ignore&#x27;))]),\n",
       "                                                  &lt;sklearn.compose._column_transformer.make_column_selector object at 0x0000023437C3C188&gt;)])),\n",
       "                (&#x27;lm&#x27;, LinearRegression())])</pre><b>Please rerun this cell to show the HTML repr or trust the notebook.</b></div><div class=\"sk-container\" hidden><div class=\"sk-item sk-dashed-wrapped\"><div class=\"sk-label-container\"><div class=\"sk-label sk-toggleable\"><input class=\"sk-toggleable__control sk-hidden--visually\" id=\"63206260-36c1-49be-a08a-96e93ff9c7a8\" type=\"checkbox\" ><label for=\"63206260-36c1-49be-a08a-96e93ff9c7a8\" class=\"sk-toggleable__label sk-toggleable__label-arrow\">Pipeline</label><div class=\"sk-toggleable__content\"><pre>Pipeline(steps=[(&#x27;preprocessor&#x27;,\n",
       "                 ColumnTransformer(transformers=[(&#x27;num&#x27;,\n",
       "                                                  Pipeline(steps=[(&#x27;imputer&#x27;,\n",
       "                                                                   SimpleImputer(strategy=&#x27;median&#x27;)),\n",
       "                                                                  (&#x27;scaler&#x27;,\n",
       "                                                                   StandardScaler())]),\n",
       "                                                  &lt;sklearn.compose._column_transformer.make_column_selector object at 0x0000023437C3C608&gt;),\n",
       "                                                 (&#x27;cat&#x27;,\n",
       "                                                  Pipeline(steps=[(&#x27;imputer&#x27;,\n",
       "                                                                   SimpleImputer(fill_value=&#x27;missing&#x27;,\n",
       "                                                                                 strategy=&#x27;constant&#x27;)),\n",
       "                                                                  (&#x27;onehot&#x27;,\n",
       "                                                                   OneHotEncoder(dtype=&lt;class &#x27;int&#x27;&gt;,\n",
       "                                                                                 handle_unknown=&#x27;ignore&#x27;))]),\n",
       "                                                  &lt;sklearn.compose._column_transformer.make_column_selector object at 0x0000023437C3C188&gt;)])),\n",
       "                (&#x27;lm&#x27;, LinearRegression())])</pre></div></div></div><div class=\"sk-serial\"><div class=\"sk-item sk-dashed-wrapped\"><div class=\"sk-label-container\"><div class=\"sk-label sk-toggleable\"><input class=\"sk-toggleable__control sk-hidden--visually\" id=\"98235eb4-581f-4797-ac87-01dd1866be42\" type=\"checkbox\" ><label for=\"98235eb4-581f-4797-ac87-01dd1866be42\" class=\"sk-toggleable__label sk-toggleable__label-arrow\">preprocessor: ColumnTransformer</label><div class=\"sk-toggleable__content\"><pre>ColumnTransformer(transformers=[(&#x27;num&#x27;,\n",
       "                                 Pipeline(steps=[(&#x27;imputer&#x27;,\n",
       "                                                  SimpleImputer(strategy=&#x27;median&#x27;)),\n",
       "                                                 (&#x27;scaler&#x27;, StandardScaler())]),\n",
       "                                 &lt;sklearn.compose._column_transformer.make_column_selector object at 0x0000023437C3C608&gt;),\n",
       "                                (&#x27;cat&#x27;,\n",
       "                                 Pipeline(steps=[(&#x27;imputer&#x27;,\n",
       "                                                  SimpleImputer(fill_value=&#x27;missing&#x27;,\n",
       "                                                                strategy=&#x27;constant&#x27;)),\n",
       "                                                 (&#x27;onehot&#x27;,\n",
       "                                                  OneHotEncoder(dtype=&lt;class &#x27;int&#x27;&gt;,\n",
       "                                                                handle_unknown=&#x27;ignore&#x27;))]),\n",
       "                                 &lt;sklearn.compose._column_transformer.make_column_selector object at 0x0000023437C3C188&gt;)])</pre></div></div></div><div class=\"sk-parallel\"><div class=\"sk-parallel-item\"><div class=\"sk-item\"><div class=\"sk-label-container\"><div class=\"sk-label sk-toggleable\"><input class=\"sk-toggleable__control sk-hidden--visually\" id=\"5ebda202-0fc2-4a53-88b1-63ace97393ee\" type=\"checkbox\" ><label for=\"5ebda202-0fc2-4a53-88b1-63ace97393ee\" class=\"sk-toggleable__label sk-toggleable__label-arrow\">num</label><div class=\"sk-toggleable__content\"><pre>&lt;sklearn.compose._column_transformer.make_column_selector object at 0x0000023437C3C608&gt;</pre></div></div></div><div class=\"sk-serial\"><div class=\"sk-item\"><div class=\"sk-serial\"><div class=\"sk-item\"><div class=\"sk-estimator sk-toggleable\"><input class=\"sk-toggleable__control sk-hidden--visually\" id=\"36a03b57-0648-4a16-927b-677ab3e6eb17\" type=\"checkbox\" ><label for=\"36a03b57-0648-4a16-927b-677ab3e6eb17\" class=\"sk-toggleable__label sk-toggleable__label-arrow\">SimpleImputer</label><div class=\"sk-toggleable__content\"><pre>SimpleImputer(strategy=&#x27;median&#x27;)</pre></div></div></div><div class=\"sk-item\"><div class=\"sk-estimator sk-toggleable\"><input class=\"sk-toggleable__control sk-hidden--visually\" id=\"fe7db17d-0306-4770-863b-4f66a0920d43\" type=\"checkbox\" ><label for=\"fe7db17d-0306-4770-863b-4f66a0920d43\" class=\"sk-toggleable__label sk-toggleable__label-arrow\">StandardScaler</label><div class=\"sk-toggleable__content\"><pre>StandardScaler()</pre></div></div></div></div></div></div></div></div><div class=\"sk-parallel-item\"><div class=\"sk-item\"><div class=\"sk-label-container\"><div class=\"sk-label sk-toggleable\"><input class=\"sk-toggleable__control sk-hidden--visually\" id=\"4ebe3c05-a000-4898-804e-effc5a8349ad\" type=\"checkbox\" ><label for=\"4ebe3c05-a000-4898-804e-effc5a8349ad\" class=\"sk-toggleable__label sk-toggleable__label-arrow\">cat</label><div class=\"sk-toggleable__content\"><pre>&lt;sklearn.compose._column_transformer.make_column_selector object at 0x0000023437C3C188&gt;</pre></div></div></div><div class=\"sk-serial\"><div class=\"sk-item\"><div class=\"sk-serial\"><div class=\"sk-item\"><div class=\"sk-estimator sk-toggleable\"><input class=\"sk-toggleable__control sk-hidden--visually\" id=\"a1de7043-5fad-4dd4-85af-557f91ee1c7b\" type=\"checkbox\" ><label for=\"a1de7043-5fad-4dd4-85af-557f91ee1c7b\" class=\"sk-toggleable__label sk-toggleable__label-arrow\">SimpleImputer</label><div class=\"sk-toggleable__content\"><pre>SimpleImputer(fill_value=&#x27;missing&#x27;, strategy=&#x27;constant&#x27;)</pre></div></div></div><div class=\"sk-item\"><div class=\"sk-estimator sk-toggleable\"><input class=\"sk-toggleable__control sk-hidden--visually\" id=\"8c24d4e6-43aa-466b-b701-42221ae4836a\" type=\"checkbox\" ><label for=\"8c24d4e6-43aa-466b-b701-42221ae4836a\" class=\"sk-toggleable__label sk-toggleable__label-arrow\">OneHotEncoder</label><div class=\"sk-toggleable__content\"><pre>OneHotEncoder(dtype=&lt;class &#x27;int&#x27;&gt;, handle_unknown=&#x27;ignore&#x27;)</pre></div></div></div></div></div></div></div></div></div></div><div class=\"sk-item\"><div class=\"sk-estimator sk-toggleable\"><input class=\"sk-toggleable__control sk-hidden--visually\" id=\"ec1f42a1-0435-4eaf-87ee-bf43b8f63455\" type=\"checkbox\" ><label for=\"ec1f42a1-0435-4eaf-87ee-bf43b8f63455\" class=\"sk-toggleable__label sk-toggleable__label-arrow\">LinearRegression</label><div class=\"sk-toggleable__content\"><pre>LinearRegression()</pre></div></div></div></div></div></div></div>"
      ],
      "text/plain": [
       "Pipeline(steps=[('preprocessor',\n",
       "                 ColumnTransformer(transformers=[('num',\n",
       "                                                  Pipeline(steps=[('imputer',\n",
       "                                                                   SimpleImputer(strategy='median')),\n",
       "                                                                  ('scaler',\n",
       "                                                                   StandardScaler())]),\n",
       "                                                  <sklearn.compose._column_transformer.make_column_selector object at 0x0000023437C3C608>),\n",
       "                                                 ('cat',\n",
       "                                                  Pipeline(steps=[('imputer',\n",
       "                                                                   SimpleImputer(fill_value='missing',\n",
       "                                                                                 strategy='constant')),\n",
       "                                                                  ('onehot',\n",
       "                                                                   OneHotEncoder(dtype=<class 'int'>,\n",
       "                                                                                 handle_unknown='ignore'))]),\n",
       "                                                  <sklearn.compose._column_transformer.make_column_selector object at 0x0000023437C3C188>)])),\n",
       "                ('lm', LinearRegression())])"
      ]
     },
     "execution_count": 61,
     "metadata": {},
     "output_type": "execute_result"
    }
   ],
   "source": [
    "lm_pipe.fit(X_train, y_train)"
   ]
  },
  {
   "cell_type": "code",
   "execution_count": 62,
   "metadata": {},
   "outputs": [],
   "source": [
    "y_pred = lm_pipe.predict(X_train)"
   ]
  },
  {
   "cell_type": "markdown",
   "metadata": {},
   "source": [
    "**Metrcis and Evaluation**"
   ]
  },
  {
   "cell_type": "code",
   "execution_count": 63,
   "metadata": {},
   "outputs": [
    {
     "name": "stdout",
     "output_type": "stream",
     "text": [
      "r2:  0.7008\n",
      "RMSE  63242.32\n",
      "MSE:  3999591280.22\n"
     ]
    }
   ],
   "source": [
    "r2_lm, rmse_lm, mse_lm = metrics_sk(y_train, y_pred)"
   ]
  },
  {
   "cell_type": "markdown",
   "metadata": {},
   "source": [
    "Durch die Wahl geeignter Variablen wird gleich zu Beginn ein Model mit einem RMSE unter 70 Tsd. USD erzielt. "
   ]
  },
  {
   "cell_type": "code",
   "execution_count": 161,
   "metadata": {},
   "outputs": [],
   "source": [
    "#TODO\n",
    "#sns.residplot(x=y_pred, y=y_train, scatter_kws={\"s\": 80})"
   ]
  },
  {
   "cell_type": "markdown",
   "metadata": {},
   "source": [
    "### sklearn Lasso"
   ]
  },
  {
   "cell_type": "markdown",
   "metadata": {},
   "source": [
    "**Data preperation**"
   ]
  },
  {
   "cell_type": "code",
   "execution_count": 64,
   "metadata": {},
   "outputs": [
    {
     "data": {
      "text/html": [
       "<div>\n",
       "<style scoped>\n",
       "    .dataframe tbody tr th:only-of-type {\n",
       "        vertical-align: middle;\n",
       "    }\n",
       "\n",
       "    .dataframe tbody tr th {\n",
       "        vertical-align: top;\n",
       "    }\n",
       "\n",
       "    .dataframe thead th {\n",
       "        text-align: right;\n",
       "    }\n",
       "</style>\n",
       "<table border=\"1\" class=\"dataframe\">\n",
       "  <thead>\n",
       "    <tr style=\"text-align: right;\">\n",
       "      <th></th>\n",
       "      <th>longitude</th>\n",
       "      <th>latitude</th>\n",
       "      <th>housing_median_age</th>\n",
       "      <th>total_rooms</th>\n",
       "      <th>total_bedrooms</th>\n",
       "      <th>population</th>\n",
       "      <th>households</th>\n",
       "      <th>median_income</th>\n",
       "      <th>median_house_value</th>\n",
       "      <th>ocean_proximity</th>\n",
       "      <th>price_category</th>\n",
       "    </tr>\n",
       "  </thead>\n",
       "  <tbody>\n",
       "    <tr>\n",
       "      <th>0</th>\n",
       "      <td>-122.23</td>\n",
       "      <td>37.88</td>\n",
       "      <td>NaN</td>\n",
       "      <td>880</td>\n",
       "      <td>129.0</td>\n",
       "      <td>322</td>\n",
       "      <td>126</td>\n",
       "      <td>8.3252</td>\n",
       "      <td>NaN</td>\n",
       "      <td>NEAR BAY</td>\n",
       "      <td>below</td>\n",
       "    </tr>\n",
       "    <tr>\n",
       "      <th>1</th>\n",
       "      <td>-122.22</td>\n",
       "      <td>37.86</td>\n",
       "      <td>21.0</td>\n",
       "      <td>7099</td>\n",
       "      <td>1106.0</td>\n",
       "      <td>2401</td>\n",
       "      <td>1138</td>\n",
       "      <td>8.3014</td>\n",
       "      <td>358500.0</td>\n",
       "      <td>NEAR BAY</td>\n",
       "      <td>above</td>\n",
       "    </tr>\n",
       "    <tr>\n",
       "      <th>2</th>\n",
       "      <td>-122.24</td>\n",
       "      <td>37.85</td>\n",
       "      <td>52.0</td>\n",
       "      <td>1467</td>\n",
       "      <td>190.0</td>\n",
       "      <td>496</td>\n",
       "      <td>177</td>\n",
       "      <td>7.2574</td>\n",
       "      <td>352100.0</td>\n",
       "      <td>NEAR BAY</td>\n",
       "      <td>above</td>\n",
       "    </tr>\n",
       "    <tr>\n",
       "      <th>3</th>\n",
       "      <td>-122.25</td>\n",
       "      <td>37.85</td>\n",
       "      <td>52.0</td>\n",
       "      <td>1274</td>\n",
       "      <td>235.0</td>\n",
       "      <td>558</td>\n",
       "      <td>219</td>\n",
       "      <td>5.6431</td>\n",
       "      <td>341300.0</td>\n",
       "      <td>NEAR BAY</td>\n",
       "      <td>above</td>\n",
       "    </tr>\n",
       "    <tr>\n",
       "      <th>4</th>\n",
       "      <td>-122.25</td>\n",
       "      <td>37.85</td>\n",
       "      <td>52.0</td>\n",
       "      <td>1627</td>\n",
       "      <td>280.0</td>\n",
       "      <td>565</td>\n",
       "      <td>259</td>\n",
       "      <td>3.8462</td>\n",
       "      <td>342200.0</td>\n",
       "      <td>NEAR BAY</td>\n",
       "      <td>above</td>\n",
       "    </tr>\n",
       "    <tr>\n",
       "      <th>...</th>\n",
       "      <td>...</td>\n",
       "      <td>...</td>\n",
       "      <td>...</td>\n",
       "      <td>...</td>\n",
       "      <td>...</td>\n",
       "      <td>...</td>\n",
       "      <td>...</td>\n",
       "      <td>...</td>\n",
       "      <td>...</td>\n",
       "      <td>...</td>\n",
       "      <td>...</td>\n",
       "    </tr>\n",
       "    <tr>\n",
       "      <th>20635</th>\n",
       "      <td>-121.09</td>\n",
       "      <td>39.48</td>\n",
       "      <td>25.0</td>\n",
       "      <td>1665</td>\n",
       "      <td>374.0</td>\n",
       "      <td>845</td>\n",
       "      <td>330</td>\n",
       "      <td>1.5603</td>\n",
       "      <td>78100.0</td>\n",
       "      <td>INLAND</td>\n",
       "      <td>below</td>\n",
       "    </tr>\n",
       "    <tr>\n",
       "      <th>20636</th>\n",
       "      <td>-121.21</td>\n",
       "      <td>39.49</td>\n",
       "      <td>18.0</td>\n",
       "      <td>697</td>\n",
       "      <td>150.0</td>\n",
       "      <td>356</td>\n",
       "      <td>114</td>\n",
       "      <td>2.5568</td>\n",
       "      <td>77100.0</td>\n",
       "      <td>INLAND</td>\n",
       "      <td>below</td>\n",
       "    </tr>\n",
       "    <tr>\n",
       "      <th>20637</th>\n",
       "      <td>-121.22</td>\n",
       "      <td>39.43</td>\n",
       "      <td>17.0</td>\n",
       "      <td>2254</td>\n",
       "      <td>485.0</td>\n",
       "      <td>1007</td>\n",
       "      <td>433</td>\n",
       "      <td>1.7000</td>\n",
       "      <td>92300.0</td>\n",
       "      <td>INLAND</td>\n",
       "      <td>below</td>\n",
       "    </tr>\n",
       "    <tr>\n",
       "      <th>20638</th>\n",
       "      <td>-121.32</td>\n",
       "      <td>39.43</td>\n",
       "      <td>18.0</td>\n",
       "      <td>1860</td>\n",
       "      <td>409.0</td>\n",
       "      <td>741</td>\n",
       "      <td>349</td>\n",
       "      <td>1.8672</td>\n",
       "      <td>84700.0</td>\n",
       "      <td>INLAND</td>\n",
       "      <td>below</td>\n",
       "    </tr>\n",
       "    <tr>\n",
       "      <th>20639</th>\n",
       "      <td>-121.24</td>\n",
       "      <td>39.37</td>\n",
       "      <td>16.0</td>\n",
       "      <td>2785</td>\n",
       "      <td>616.0</td>\n",
       "      <td>1387</td>\n",
       "      <td>530</td>\n",
       "      <td>2.3886</td>\n",
       "      <td>89400.0</td>\n",
       "      <td>INLAND</td>\n",
       "      <td>below</td>\n",
       "    </tr>\n",
       "  </tbody>\n",
       "</table>\n",
       "<p>20640 rows × 11 columns</p>\n",
       "</div>"
      ],
      "text/plain": [
       "       longitude  latitude  housing_median_age  total_rooms  total_bedrooms  \\\n",
       "0        -122.23     37.88                 NaN          880           129.0   \n",
       "1        -122.22     37.86                21.0         7099          1106.0   \n",
       "2        -122.24     37.85                52.0         1467           190.0   \n",
       "3        -122.25     37.85                52.0         1274           235.0   \n",
       "4        -122.25     37.85                52.0         1627           280.0   \n",
       "...          ...       ...                 ...          ...             ...   \n",
       "20635    -121.09     39.48                25.0         1665           374.0   \n",
       "20636    -121.21     39.49                18.0          697           150.0   \n",
       "20637    -121.22     39.43                17.0         2254           485.0   \n",
       "20638    -121.32     39.43                18.0         1860           409.0   \n",
       "20639    -121.24     39.37                16.0         2785           616.0   \n",
       "\n",
       "       population  households  median_income  median_house_value  \\\n",
       "0             322         126         8.3252                 NaN   \n",
       "1            2401        1138         8.3014            358500.0   \n",
       "2             496         177         7.2574            352100.0   \n",
       "3             558         219         5.6431            341300.0   \n",
       "4             565         259         3.8462            342200.0   \n",
       "...           ...         ...            ...                 ...   \n",
       "20635         845         330         1.5603             78100.0   \n",
       "20636         356         114         2.5568             77100.0   \n",
       "20637        1007         433         1.7000             92300.0   \n",
       "20638         741         349         1.8672             84700.0   \n",
       "20639        1387         530         2.3886             89400.0   \n",
       "\n",
       "      ocean_proximity price_category  \n",
       "0            NEAR BAY          below  \n",
       "1            NEAR BAY          above  \n",
       "2            NEAR BAY          above  \n",
       "3            NEAR BAY          above  \n",
       "4            NEAR BAY          above  \n",
       "...               ...            ...  \n",
       "20635          INLAND          below  \n",
       "20636          INLAND          below  \n",
       "20637          INLAND          below  \n",
       "20638          INLAND          below  \n",
       "20639          INLAND          below  \n",
       "\n",
       "[20640 rows x 11 columns]"
      ]
     },
     "execution_count": 64,
     "metadata": {},
     "output_type": "execute_result"
    }
   ],
   "source": [
    "df = read_data()\n",
    "df = transform_data(df)\n",
    "df"
   ]
  },
  {
   "cell_type": "code",
   "execution_count": 71,
   "metadata": {},
   "outputs": [],
   "source": [
    "#Split Test and Trainingsdata\n",
    "X = df.drop(columns = ['median_house_value', 'price_category'], axis=1)\n",
    "y = df['median_house_value']\n",
    "\n",
    "X_train, X_test, y_train, y_test = train_test_split(X, y, test_size=0.2, random_state=42)\n"
   ]
  },
  {
   "cell_type": "code",
   "execution_count": 72,
   "metadata": {},
   "outputs": [],
   "source": [
    "X_train = add_feautures(X_train)"
   ]
  },
  {
   "cell_type": "code",
   "execution_count": 73,
   "metadata": {},
   "outputs": [],
   "source": [
    "preprocessor = build_preprocessor()"
   ]
  },
  {
   "cell_type": "markdown",
   "metadata": {},
   "source": [
    "Bei der Vorbereitung der Daten für das Lasso-Modell werden keine weiteren Variablen ausgeschlossen, da das Model eine Feauture Selection durchführt. "
   ]
  },
  {
   "cell_type": "markdown",
   "metadata": {},
   "source": [
    "**Model LassoCV: Build**"
   ]
  },
  {
   "cell_type": "markdown",
   "metadata": {},
   "source": [
    "Zur Bestimmung des optimalen Hyperparameters wird hier eine Lasso Cross Validation angewendet. Dafür werden die Trainingsdaten in 5 Teilsets aufgeteilt. "
   ]
  },
  {
   "cell_type": "code",
   "execution_count": 74,
   "metadata": {},
   "outputs": [],
   "source": [
    "LassoCV_pipe = Pipeline(steps=[\n",
    "    ('preprocessor', preprocessor),\n",
    "    ('LassoCV', LassoCV(cv=5, random_state=0, max_iter=10000))\n",
    "                        ])"
   ]
  },
  {
   "cell_type": "code",
   "execution_count": 85,
   "metadata": {},
   "outputs": [
    {
     "data": {
      "text/html": [
       "<style>#sk-790515e9-7cb8-4480-a6a2-d71a04abe696 {color: black;background-color: white;}#sk-790515e9-7cb8-4480-a6a2-d71a04abe696 pre{padding: 0;}#sk-790515e9-7cb8-4480-a6a2-d71a04abe696 div.sk-toggleable {background-color: white;}#sk-790515e9-7cb8-4480-a6a2-d71a04abe696 label.sk-toggleable__label {cursor: pointer;display: block;width: 100%;margin-bottom: 0;padding: 0.3em;box-sizing: border-box;text-align: center;}#sk-790515e9-7cb8-4480-a6a2-d71a04abe696 label.sk-toggleable__label-arrow:before {content: \"▸\";float: left;margin-right: 0.25em;color: #696969;}#sk-790515e9-7cb8-4480-a6a2-d71a04abe696 label.sk-toggleable__label-arrow:hover:before {color: black;}#sk-790515e9-7cb8-4480-a6a2-d71a04abe696 div.sk-estimator:hover label.sk-toggleable__label-arrow:before {color: black;}#sk-790515e9-7cb8-4480-a6a2-d71a04abe696 div.sk-toggleable__content {max-height: 0;max-width: 0;overflow: hidden;text-align: left;background-color: #f0f8ff;}#sk-790515e9-7cb8-4480-a6a2-d71a04abe696 div.sk-toggleable__content pre {margin: 0.2em;color: black;border-radius: 0.25em;background-color: #f0f8ff;}#sk-790515e9-7cb8-4480-a6a2-d71a04abe696 input.sk-toggleable__control:checked~div.sk-toggleable__content {max-height: 200px;max-width: 100%;overflow: auto;}#sk-790515e9-7cb8-4480-a6a2-d71a04abe696 input.sk-toggleable__control:checked~label.sk-toggleable__label-arrow:before {content: \"▾\";}#sk-790515e9-7cb8-4480-a6a2-d71a04abe696 div.sk-estimator input.sk-toggleable__control:checked~label.sk-toggleable__label {background-color: #d4ebff;}#sk-790515e9-7cb8-4480-a6a2-d71a04abe696 div.sk-label input.sk-toggleable__control:checked~label.sk-toggleable__label {background-color: #d4ebff;}#sk-790515e9-7cb8-4480-a6a2-d71a04abe696 input.sk-hidden--visually {border: 0;clip: rect(1px 1px 1px 1px);clip: rect(1px, 1px, 1px, 1px);height: 1px;margin: -1px;overflow: hidden;padding: 0;position: absolute;width: 1px;}#sk-790515e9-7cb8-4480-a6a2-d71a04abe696 div.sk-estimator {font-family: monospace;background-color: #f0f8ff;border: 1px dotted black;border-radius: 0.25em;box-sizing: border-box;margin-bottom: 0.5em;}#sk-790515e9-7cb8-4480-a6a2-d71a04abe696 div.sk-estimator:hover {background-color: #d4ebff;}#sk-790515e9-7cb8-4480-a6a2-d71a04abe696 div.sk-parallel-item::after {content: \"\";width: 100%;border-bottom: 1px solid gray;flex-grow: 1;}#sk-790515e9-7cb8-4480-a6a2-d71a04abe696 div.sk-label:hover label.sk-toggleable__label {background-color: #d4ebff;}#sk-790515e9-7cb8-4480-a6a2-d71a04abe696 div.sk-serial::before {content: \"\";position: absolute;border-left: 1px solid gray;box-sizing: border-box;top: 2em;bottom: 0;left: 50%;}#sk-790515e9-7cb8-4480-a6a2-d71a04abe696 div.sk-serial {display: flex;flex-direction: column;align-items: center;background-color: white;padding-right: 0.2em;padding-left: 0.2em;}#sk-790515e9-7cb8-4480-a6a2-d71a04abe696 div.sk-item {z-index: 1;}#sk-790515e9-7cb8-4480-a6a2-d71a04abe696 div.sk-parallel {display: flex;align-items: stretch;justify-content: center;background-color: white;}#sk-790515e9-7cb8-4480-a6a2-d71a04abe696 div.sk-parallel::before {content: \"\";position: absolute;border-left: 1px solid gray;box-sizing: border-box;top: 2em;bottom: 0;left: 50%;}#sk-790515e9-7cb8-4480-a6a2-d71a04abe696 div.sk-parallel-item {display: flex;flex-direction: column;position: relative;background-color: white;}#sk-790515e9-7cb8-4480-a6a2-d71a04abe696 div.sk-parallel-item:first-child::after {align-self: flex-end;width: 50%;}#sk-790515e9-7cb8-4480-a6a2-d71a04abe696 div.sk-parallel-item:last-child::after {align-self: flex-start;width: 50%;}#sk-790515e9-7cb8-4480-a6a2-d71a04abe696 div.sk-parallel-item:only-child::after {width: 0;}#sk-790515e9-7cb8-4480-a6a2-d71a04abe696 div.sk-dashed-wrapped {border: 1px dashed gray;margin: 0 0.4em 0.5em 0.4em;box-sizing: border-box;padding-bottom: 0.4em;background-color: white;position: relative;}#sk-790515e9-7cb8-4480-a6a2-d71a04abe696 div.sk-label label {font-family: monospace;font-weight: bold;background-color: white;display: inline-block;line-height: 1.2em;}#sk-790515e9-7cb8-4480-a6a2-d71a04abe696 div.sk-label-container {position: relative;z-index: 2;text-align: center;}#sk-790515e9-7cb8-4480-a6a2-d71a04abe696 div.sk-container {/* jupyter's `normalize.less` sets `[hidden] { display: none; }` but bootstrap.min.css set `[hidden] { display: none !important; }` so we also need the `!important` here to be able to override the default hidden behavior on the sphinx rendered scikit-learn.org. See: https://github.com/scikit-learn/scikit-learn/issues/21755 */display: inline-block !important;position: relative;}#sk-790515e9-7cb8-4480-a6a2-d71a04abe696 div.sk-text-repr-fallback {display: none;}</style><div id=\"sk-790515e9-7cb8-4480-a6a2-d71a04abe696\" class=\"sk-top-container\"><div class=\"sk-text-repr-fallback\"><pre>Pipeline(steps=[(&#x27;preprocessor&#x27;,\n",
       "                 ColumnTransformer(transformers=[(&#x27;num&#x27;,\n",
       "                                                  Pipeline(steps=[(&#x27;imputer&#x27;,\n",
       "                                                                   SimpleImputer(strategy=&#x27;median&#x27;)),\n",
       "                                                                  (&#x27;scaler&#x27;,\n",
       "                                                                   StandardScaler())]),\n",
       "                                                  &lt;sklearn.compose._column_transformer.make_column_selector object at 0x0000023437CA2888&gt;),\n",
       "                                                 (&#x27;cat&#x27;,\n",
       "                                                  Pipeline(steps=[(&#x27;imputer&#x27;,\n",
       "                                                                   SimpleImputer(fill_value=&#x27;missing&#x27;,\n",
       "                                                                                 strategy=&#x27;constant&#x27;)),\n",
       "                                                                  (&#x27;onehot&#x27;,\n",
       "                                                                   OneHotEncoder(dtype=&lt;class &#x27;int&#x27;&gt;,\n",
       "                                                                                 handle_unknown=&#x27;ignore&#x27;))]),\n",
       "                                                  &lt;sklearn.compose._column_transformer.make_column_selector object at 0x0000023437CA2848&gt;)])),\n",
       "                (&#x27;LassoCV&#x27;, LassoCV(cv=5, max_iter=10000, random_state=0))])</pre><b>Please rerun this cell to show the HTML repr or trust the notebook.</b></div><div class=\"sk-container\" hidden><div class=\"sk-item sk-dashed-wrapped\"><div class=\"sk-label-container\"><div class=\"sk-label sk-toggleable\"><input class=\"sk-toggleable__control sk-hidden--visually\" id=\"fd589a20-312c-4669-97cc-f94b71c89695\" type=\"checkbox\" ><label for=\"fd589a20-312c-4669-97cc-f94b71c89695\" class=\"sk-toggleable__label sk-toggleable__label-arrow\">Pipeline</label><div class=\"sk-toggleable__content\"><pre>Pipeline(steps=[(&#x27;preprocessor&#x27;,\n",
       "                 ColumnTransformer(transformers=[(&#x27;num&#x27;,\n",
       "                                                  Pipeline(steps=[(&#x27;imputer&#x27;,\n",
       "                                                                   SimpleImputer(strategy=&#x27;median&#x27;)),\n",
       "                                                                  (&#x27;scaler&#x27;,\n",
       "                                                                   StandardScaler())]),\n",
       "                                                  &lt;sklearn.compose._column_transformer.make_column_selector object at 0x0000023437CA2888&gt;),\n",
       "                                                 (&#x27;cat&#x27;,\n",
       "                                                  Pipeline(steps=[(&#x27;imputer&#x27;,\n",
       "                                                                   SimpleImputer(fill_value=&#x27;missing&#x27;,\n",
       "                                                                                 strategy=&#x27;constant&#x27;)),\n",
       "                                                                  (&#x27;onehot&#x27;,\n",
       "                                                                   OneHotEncoder(dtype=&lt;class &#x27;int&#x27;&gt;,\n",
       "                                                                                 handle_unknown=&#x27;ignore&#x27;))]),\n",
       "                                                  &lt;sklearn.compose._column_transformer.make_column_selector object at 0x0000023437CA2848&gt;)])),\n",
       "                (&#x27;LassoCV&#x27;, LassoCV(cv=5, max_iter=10000, random_state=0))])</pre></div></div></div><div class=\"sk-serial\"><div class=\"sk-item sk-dashed-wrapped\"><div class=\"sk-label-container\"><div class=\"sk-label sk-toggleable\"><input class=\"sk-toggleable__control sk-hidden--visually\" id=\"df3e87cf-4f72-4fbf-8296-bc0388114e7e\" type=\"checkbox\" ><label for=\"df3e87cf-4f72-4fbf-8296-bc0388114e7e\" class=\"sk-toggleable__label sk-toggleable__label-arrow\">preprocessor: ColumnTransformer</label><div class=\"sk-toggleable__content\"><pre>ColumnTransformer(transformers=[(&#x27;num&#x27;,\n",
       "                                 Pipeline(steps=[(&#x27;imputer&#x27;,\n",
       "                                                  SimpleImputer(strategy=&#x27;median&#x27;)),\n",
       "                                                 (&#x27;scaler&#x27;, StandardScaler())]),\n",
       "                                 &lt;sklearn.compose._column_transformer.make_column_selector object at 0x0000023437CA2888&gt;),\n",
       "                                (&#x27;cat&#x27;,\n",
       "                                 Pipeline(steps=[(&#x27;imputer&#x27;,\n",
       "                                                  SimpleImputer(fill_value=&#x27;missing&#x27;,\n",
       "                                                                strategy=&#x27;constant&#x27;)),\n",
       "                                                 (&#x27;onehot&#x27;,\n",
       "                                                  OneHotEncoder(dtype=&lt;class &#x27;int&#x27;&gt;,\n",
       "                                                                handle_unknown=&#x27;ignore&#x27;))]),\n",
       "                                 &lt;sklearn.compose._column_transformer.make_column_selector object at 0x0000023437CA2848&gt;)])</pre></div></div></div><div class=\"sk-parallel\"><div class=\"sk-parallel-item\"><div class=\"sk-item\"><div class=\"sk-label-container\"><div class=\"sk-label sk-toggleable\"><input class=\"sk-toggleable__control sk-hidden--visually\" id=\"80c8b452-9840-4bcf-8ab9-4d3437c51674\" type=\"checkbox\" ><label for=\"80c8b452-9840-4bcf-8ab9-4d3437c51674\" class=\"sk-toggleable__label sk-toggleable__label-arrow\">num</label><div class=\"sk-toggleable__content\"><pre>&lt;sklearn.compose._column_transformer.make_column_selector object at 0x0000023437CA2888&gt;</pre></div></div></div><div class=\"sk-serial\"><div class=\"sk-item\"><div class=\"sk-serial\"><div class=\"sk-item\"><div class=\"sk-estimator sk-toggleable\"><input class=\"sk-toggleable__control sk-hidden--visually\" id=\"95cfe62c-7880-4473-9dc6-ae32883b1f6e\" type=\"checkbox\" ><label for=\"95cfe62c-7880-4473-9dc6-ae32883b1f6e\" class=\"sk-toggleable__label sk-toggleable__label-arrow\">SimpleImputer</label><div class=\"sk-toggleable__content\"><pre>SimpleImputer(strategy=&#x27;median&#x27;)</pre></div></div></div><div class=\"sk-item\"><div class=\"sk-estimator sk-toggleable\"><input class=\"sk-toggleable__control sk-hidden--visually\" id=\"5b54edb1-002d-407c-8a52-87cd335a7f3d\" type=\"checkbox\" ><label for=\"5b54edb1-002d-407c-8a52-87cd335a7f3d\" class=\"sk-toggleable__label sk-toggleable__label-arrow\">StandardScaler</label><div class=\"sk-toggleable__content\"><pre>StandardScaler()</pre></div></div></div></div></div></div></div></div><div class=\"sk-parallel-item\"><div class=\"sk-item\"><div class=\"sk-label-container\"><div class=\"sk-label sk-toggleable\"><input class=\"sk-toggleable__control sk-hidden--visually\" id=\"3d00b4e4-00b4-4925-b1a4-eab5d9e78acd\" type=\"checkbox\" ><label for=\"3d00b4e4-00b4-4925-b1a4-eab5d9e78acd\" class=\"sk-toggleable__label sk-toggleable__label-arrow\">cat</label><div class=\"sk-toggleable__content\"><pre>&lt;sklearn.compose._column_transformer.make_column_selector object at 0x0000023437CA2848&gt;</pre></div></div></div><div class=\"sk-serial\"><div class=\"sk-item\"><div class=\"sk-serial\"><div class=\"sk-item\"><div class=\"sk-estimator sk-toggleable\"><input class=\"sk-toggleable__control sk-hidden--visually\" id=\"4ccbec00-b5a0-4a48-8628-2c492cc5838d\" type=\"checkbox\" ><label for=\"4ccbec00-b5a0-4a48-8628-2c492cc5838d\" class=\"sk-toggleable__label sk-toggleable__label-arrow\">SimpleImputer</label><div class=\"sk-toggleable__content\"><pre>SimpleImputer(fill_value=&#x27;missing&#x27;, strategy=&#x27;constant&#x27;)</pre></div></div></div><div class=\"sk-item\"><div class=\"sk-estimator sk-toggleable\"><input class=\"sk-toggleable__control sk-hidden--visually\" id=\"02242f19-123b-43bd-82ae-87c134cc510a\" type=\"checkbox\" ><label for=\"02242f19-123b-43bd-82ae-87c134cc510a\" class=\"sk-toggleable__label sk-toggleable__label-arrow\">OneHotEncoder</label><div class=\"sk-toggleable__content\"><pre>OneHotEncoder(dtype=&lt;class &#x27;int&#x27;&gt;, handle_unknown=&#x27;ignore&#x27;)</pre></div></div></div></div></div></div></div></div></div></div><div class=\"sk-item\"><div class=\"sk-estimator sk-toggleable\"><input class=\"sk-toggleable__control sk-hidden--visually\" id=\"18fa77d2-fca3-42bc-9886-1148607a733d\" type=\"checkbox\" ><label for=\"18fa77d2-fca3-42bc-9886-1148607a733d\" class=\"sk-toggleable__label sk-toggleable__label-arrow\">LassoCV</label><div class=\"sk-toggleable__content\"><pre>LassoCV(cv=5, max_iter=10000, random_state=0)</pre></div></div></div></div></div></div></div>"
      ],
      "text/plain": [
       "Pipeline(steps=[('preprocessor',\n",
       "                 ColumnTransformer(transformers=[('num',\n",
       "                                                  Pipeline(steps=[('imputer',\n",
       "                                                                   SimpleImputer(strategy='median')),\n",
       "                                                                  ('scaler',\n",
       "                                                                   StandardScaler())]),\n",
       "                                                  <sklearn.compose._column_transformer.make_column_selector object at 0x0000023437CA2888>),\n",
       "                                                 ('cat',\n",
       "                                                  Pipeline(steps=[('imputer',\n",
       "                                                                   SimpleImputer(fill_value='missing',\n",
       "                                                                                 strategy='constant')),\n",
       "                                                                  ('onehot',\n",
       "                                                                   OneHotEncoder(dtype=<class 'int'>,\n",
       "                                                                                 handle_unknown='ignore'))]),\n",
       "                                                  <sklearn.compose._column_transformer.make_column_selector object at 0x0000023437CA2848>)])),\n",
       "                ('LassoCV', LassoCV(cv=5, max_iter=10000, random_state=0))])"
      ]
     },
     "execution_count": 85,
     "metadata": {},
     "output_type": "execute_result"
    }
   ],
   "source": [
    "LassoCV_pipe.fit(X_train, y_train)"
   ]
  },
  {
   "cell_type": "code",
   "execution_count": 76,
   "metadata": {},
   "outputs": [],
   "source": [
    "y_pred = LassoCV_pipe.predict(X_train)"
   ]
  },
  {
   "cell_type": "markdown",
   "metadata": {},
   "source": [
    "**Model LassoCV: Metrics and Evaluation**"
   ]
  },
  {
   "cell_type": "code",
   "execution_count": 80,
   "metadata": {},
   "outputs": [
    {
     "name": "stdout",
     "output_type": "stream",
     "text": [
      "r2:  0.7046\n",
      "RMSE  62842.13\n",
      "MSE:  3949133062.48\n"
     ]
    }
   ],
   "source": [
    "r2_lasso, rmse_lasso, mse_lasso = metrics_sk(y_train, y_pred)"
   ]
  },
  {
   "cell_type": "code",
   "execution_count": 81,
   "metadata": {},
   "outputs": [
    {
     "data": {
      "text/plain": [
       "79.85195644260375"
      ]
     },
     "execution_count": 81,
     "metadata": {},
     "output_type": "execute_result"
    }
   ],
   "source": [
    "alpha = LassoCV_pipe.named_steps['LassoCV'].alpha_\n",
    "alpha"
   ]
  },
  {
   "cell_type": "markdown",
   "metadata": {},
   "source": [
    "Durch Auslesen des Attributs `alpha_` wird der am besten geeignte Hyperparameter ausgewählt. Dieser wird im folgenden auf die Lasso-Regression angewendet. "
   ]
  },
  {
   "cell_type": "markdown",
   "metadata": {},
   "source": [
    "**Model Lasso Best Alpha: Build**"
   ]
  },
  {
   "cell_type": "code",
   "execution_count": 82,
   "metadata": {},
   "outputs": [],
   "source": [
    "Lasso_alpha_pipe = Pipeline(steps=[\n",
    "    ('preprocessor', preprocessor),\n",
    "    ('Lasso', Lasso(alpha=alpha))\n",
    "                        ])"
   ]
  },
  {
   "cell_type": "code",
   "execution_count": 83,
   "metadata": {},
   "outputs": [
    {
     "data": {
      "text/html": [
       "<style>#sk-902f1e05-cb22-4b4f-b439-758410898c16 {color: black;background-color: white;}#sk-902f1e05-cb22-4b4f-b439-758410898c16 pre{padding: 0;}#sk-902f1e05-cb22-4b4f-b439-758410898c16 div.sk-toggleable {background-color: white;}#sk-902f1e05-cb22-4b4f-b439-758410898c16 label.sk-toggleable__label {cursor: pointer;display: block;width: 100%;margin-bottom: 0;padding: 0.3em;box-sizing: border-box;text-align: center;}#sk-902f1e05-cb22-4b4f-b439-758410898c16 label.sk-toggleable__label-arrow:before {content: \"▸\";float: left;margin-right: 0.25em;color: #696969;}#sk-902f1e05-cb22-4b4f-b439-758410898c16 label.sk-toggleable__label-arrow:hover:before {color: black;}#sk-902f1e05-cb22-4b4f-b439-758410898c16 div.sk-estimator:hover label.sk-toggleable__label-arrow:before {color: black;}#sk-902f1e05-cb22-4b4f-b439-758410898c16 div.sk-toggleable__content {max-height: 0;max-width: 0;overflow: hidden;text-align: left;background-color: #f0f8ff;}#sk-902f1e05-cb22-4b4f-b439-758410898c16 div.sk-toggleable__content pre {margin: 0.2em;color: black;border-radius: 0.25em;background-color: #f0f8ff;}#sk-902f1e05-cb22-4b4f-b439-758410898c16 input.sk-toggleable__control:checked~div.sk-toggleable__content {max-height: 200px;max-width: 100%;overflow: auto;}#sk-902f1e05-cb22-4b4f-b439-758410898c16 input.sk-toggleable__control:checked~label.sk-toggleable__label-arrow:before {content: \"▾\";}#sk-902f1e05-cb22-4b4f-b439-758410898c16 div.sk-estimator input.sk-toggleable__control:checked~label.sk-toggleable__label {background-color: #d4ebff;}#sk-902f1e05-cb22-4b4f-b439-758410898c16 div.sk-label input.sk-toggleable__control:checked~label.sk-toggleable__label {background-color: #d4ebff;}#sk-902f1e05-cb22-4b4f-b439-758410898c16 input.sk-hidden--visually {border: 0;clip: rect(1px 1px 1px 1px);clip: rect(1px, 1px, 1px, 1px);height: 1px;margin: -1px;overflow: hidden;padding: 0;position: absolute;width: 1px;}#sk-902f1e05-cb22-4b4f-b439-758410898c16 div.sk-estimator {font-family: monospace;background-color: #f0f8ff;border: 1px dotted black;border-radius: 0.25em;box-sizing: border-box;margin-bottom: 0.5em;}#sk-902f1e05-cb22-4b4f-b439-758410898c16 div.sk-estimator:hover {background-color: #d4ebff;}#sk-902f1e05-cb22-4b4f-b439-758410898c16 div.sk-parallel-item::after {content: \"\";width: 100%;border-bottom: 1px solid gray;flex-grow: 1;}#sk-902f1e05-cb22-4b4f-b439-758410898c16 div.sk-label:hover label.sk-toggleable__label {background-color: #d4ebff;}#sk-902f1e05-cb22-4b4f-b439-758410898c16 div.sk-serial::before {content: \"\";position: absolute;border-left: 1px solid gray;box-sizing: border-box;top: 2em;bottom: 0;left: 50%;}#sk-902f1e05-cb22-4b4f-b439-758410898c16 div.sk-serial {display: flex;flex-direction: column;align-items: center;background-color: white;padding-right: 0.2em;padding-left: 0.2em;}#sk-902f1e05-cb22-4b4f-b439-758410898c16 div.sk-item {z-index: 1;}#sk-902f1e05-cb22-4b4f-b439-758410898c16 div.sk-parallel {display: flex;align-items: stretch;justify-content: center;background-color: white;}#sk-902f1e05-cb22-4b4f-b439-758410898c16 div.sk-parallel::before {content: \"\";position: absolute;border-left: 1px solid gray;box-sizing: border-box;top: 2em;bottom: 0;left: 50%;}#sk-902f1e05-cb22-4b4f-b439-758410898c16 div.sk-parallel-item {display: flex;flex-direction: column;position: relative;background-color: white;}#sk-902f1e05-cb22-4b4f-b439-758410898c16 div.sk-parallel-item:first-child::after {align-self: flex-end;width: 50%;}#sk-902f1e05-cb22-4b4f-b439-758410898c16 div.sk-parallel-item:last-child::after {align-self: flex-start;width: 50%;}#sk-902f1e05-cb22-4b4f-b439-758410898c16 div.sk-parallel-item:only-child::after {width: 0;}#sk-902f1e05-cb22-4b4f-b439-758410898c16 div.sk-dashed-wrapped {border: 1px dashed gray;margin: 0 0.4em 0.5em 0.4em;box-sizing: border-box;padding-bottom: 0.4em;background-color: white;position: relative;}#sk-902f1e05-cb22-4b4f-b439-758410898c16 div.sk-label label {font-family: monospace;font-weight: bold;background-color: white;display: inline-block;line-height: 1.2em;}#sk-902f1e05-cb22-4b4f-b439-758410898c16 div.sk-label-container {position: relative;z-index: 2;text-align: center;}#sk-902f1e05-cb22-4b4f-b439-758410898c16 div.sk-container {/* jupyter's `normalize.less` sets `[hidden] { display: none; }` but bootstrap.min.css set `[hidden] { display: none !important; }` so we also need the `!important` here to be able to override the default hidden behavior on the sphinx rendered scikit-learn.org. See: https://github.com/scikit-learn/scikit-learn/issues/21755 */display: inline-block !important;position: relative;}#sk-902f1e05-cb22-4b4f-b439-758410898c16 div.sk-text-repr-fallback {display: none;}</style><div id=\"sk-902f1e05-cb22-4b4f-b439-758410898c16\" class=\"sk-top-container\"><div class=\"sk-text-repr-fallback\"><pre>Pipeline(steps=[(&#x27;preprocessor&#x27;,\n",
       "                 ColumnTransformer(transformers=[(&#x27;num&#x27;,\n",
       "                                                  Pipeline(steps=[(&#x27;imputer&#x27;,\n",
       "                                                                   SimpleImputer(strategy=&#x27;median&#x27;)),\n",
       "                                                                  (&#x27;scaler&#x27;,\n",
       "                                                                   StandardScaler())]),\n",
       "                                                  &lt;sklearn.compose._column_transformer.make_column_selector object at 0x0000023437CA2888&gt;),\n",
       "                                                 (&#x27;cat&#x27;,\n",
       "                                                  Pipeline(steps=[(&#x27;imputer&#x27;,\n",
       "                                                                   SimpleImputer(fill_value=&#x27;missing&#x27;,\n",
       "                                                                                 strategy=&#x27;constant&#x27;)),\n",
       "                                                                  (&#x27;onehot&#x27;,\n",
       "                                                                   OneHotEncoder(dtype=&lt;class &#x27;int&#x27;&gt;,\n",
       "                                                                                 handle_unknown=&#x27;ignore&#x27;))]),\n",
       "                                                  &lt;sklearn.compose._column_transformer.make_column_selector object at 0x0000023437CA2848&gt;)])),\n",
       "                (&#x27;Lasso&#x27;, Lasso(alpha=79.85195644260375))])</pre><b>Please rerun this cell to show the HTML repr or trust the notebook.</b></div><div class=\"sk-container\" hidden><div class=\"sk-item sk-dashed-wrapped\"><div class=\"sk-label-container\"><div class=\"sk-label sk-toggleable\"><input class=\"sk-toggleable__control sk-hidden--visually\" id=\"a412ea95-80ad-409e-8350-d12918a0a448\" type=\"checkbox\" ><label for=\"a412ea95-80ad-409e-8350-d12918a0a448\" class=\"sk-toggleable__label sk-toggleable__label-arrow\">Pipeline</label><div class=\"sk-toggleable__content\"><pre>Pipeline(steps=[(&#x27;preprocessor&#x27;,\n",
       "                 ColumnTransformer(transformers=[(&#x27;num&#x27;,\n",
       "                                                  Pipeline(steps=[(&#x27;imputer&#x27;,\n",
       "                                                                   SimpleImputer(strategy=&#x27;median&#x27;)),\n",
       "                                                                  (&#x27;scaler&#x27;,\n",
       "                                                                   StandardScaler())]),\n",
       "                                                  &lt;sklearn.compose._column_transformer.make_column_selector object at 0x0000023437CA2888&gt;),\n",
       "                                                 (&#x27;cat&#x27;,\n",
       "                                                  Pipeline(steps=[(&#x27;imputer&#x27;,\n",
       "                                                                   SimpleImputer(fill_value=&#x27;missing&#x27;,\n",
       "                                                                                 strategy=&#x27;constant&#x27;)),\n",
       "                                                                  (&#x27;onehot&#x27;,\n",
       "                                                                   OneHotEncoder(dtype=&lt;class &#x27;int&#x27;&gt;,\n",
       "                                                                                 handle_unknown=&#x27;ignore&#x27;))]),\n",
       "                                                  &lt;sklearn.compose._column_transformer.make_column_selector object at 0x0000023437CA2848&gt;)])),\n",
       "                (&#x27;Lasso&#x27;, Lasso(alpha=79.85195644260375))])</pre></div></div></div><div class=\"sk-serial\"><div class=\"sk-item sk-dashed-wrapped\"><div class=\"sk-label-container\"><div class=\"sk-label sk-toggleable\"><input class=\"sk-toggleable__control sk-hidden--visually\" id=\"75236d56-2e83-4011-bd3c-0451659461d7\" type=\"checkbox\" ><label for=\"75236d56-2e83-4011-bd3c-0451659461d7\" class=\"sk-toggleable__label sk-toggleable__label-arrow\">preprocessor: ColumnTransformer</label><div class=\"sk-toggleable__content\"><pre>ColumnTransformer(transformers=[(&#x27;num&#x27;,\n",
       "                                 Pipeline(steps=[(&#x27;imputer&#x27;,\n",
       "                                                  SimpleImputer(strategy=&#x27;median&#x27;)),\n",
       "                                                 (&#x27;scaler&#x27;, StandardScaler())]),\n",
       "                                 &lt;sklearn.compose._column_transformer.make_column_selector object at 0x0000023437CA2888&gt;),\n",
       "                                (&#x27;cat&#x27;,\n",
       "                                 Pipeline(steps=[(&#x27;imputer&#x27;,\n",
       "                                                  SimpleImputer(fill_value=&#x27;missing&#x27;,\n",
       "                                                                strategy=&#x27;constant&#x27;)),\n",
       "                                                 (&#x27;onehot&#x27;,\n",
       "                                                  OneHotEncoder(dtype=&lt;class &#x27;int&#x27;&gt;,\n",
       "                                                                handle_unknown=&#x27;ignore&#x27;))]),\n",
       "                                 &lt;sklearn.compose._column_transformer.make_column_selector object at 0x0000023437CA2848&gt;)])</pre></div></div></div><div class=\"sk-parallel\"><div class=\"sk-parallel-item\"><div class=\"sk-item\"><div class=\"sk-label-container\"><div class=\"sk-label sk-toggleable\"><input class=\"sk-toggleable__control sk-hidden--visually\" id=\"7a4148d7-ba49-4d0d-9460-8a65b9ac8893\" type=\"checkbox\" ><label for=\"7a4148d7-ba49-4d0d-9460-8a65b9ac8893\" class=\"sk-toggleable__label sk-toggleable__label-arrow\">num</label><div class=\"sk-toggleable__content\"><pre>&lt;sklearn.compose._column_transformer.make_column_selector object at 0x0000023437CA2888&gt;</pre></div></div></div><div class=\"sk-serial\"><div class=\"sk-item\"><div class=\"sk-serial\"><div class=\"sk-item\"><div class=\"sk-estimator sk-toggleable\"><input class=\"sk-toggleable__control sk-hidden--visually\" id=\"7be3c244-8d73-473b-b90f-de0006e984d0\" type=\"checkbox\" ><label for=\"7be3c244-8d73-473b-b90f-de0006e984d0\" class=\"sk-toggleable__label sk-toggleable__label-arrow\">SimpleImputer</label><div class=\"sk-toggleable__content\"><pre>SimpleImputer(strategy=&#x27;median&#x27;)</pre></div></div></div><div class=\"sk-item\"><div class=\"sk-estimator sk-toggleable\"><input class=\"sk-toggleable__control sk-hidden--visually\" id=\"243b421f-1462-4d3d-92a1-1b8b6b13b072\" type=\"checkbox\" ><label for=\"243b421f-1462-4d3d-92a1-1b8b6b13b072\" class=\"sk-toggleable__label sk-toggleable__label-arrow\">StandardScaler</label><div class=\"sk-toggleable__content\"><pre>StandardScaler()</pre></div></div></div></div></div></div></div></div><div class=\"sk-parallel-item\"><div class=\"sk-item\"><div class=\"sk-label-container\"><div class=\"sk-label sk-toggleable\"><input class=\"sk-toggleable__control sk-hidden--visually\" id=\"9f969944-6956-43ca-bfc0-eab4fb679bd5\" type=\"checkbox\" ><label for=\"9f969944-6956-43ca-bfc0-eab4fb679bd5\" class=\"sk-toggleable__label sk-toggleable__label-arrow\">cat</label><div class=\"sk-toggleable__content\"><pre>&lt;sklearn.compose._column_transformer.make_column_selector object at 0x0000023437CA2848&gt;</pre></div></div></div><div class=\"sk-serial\"><div class=\"sk-item\"><div class=\"sk-serial\"><div class=\"sk-item\"><div class=\"sk-estimator sk-toggleable\"><input class=\"sk-toggleable__control sk-hidden--visually\" id=\"826c6ba3-dbe5-44d2-967e-7fde3e9689e5\" type=\"checkbox\" ><label for=\"826c6ba3-dbe5-44d2-967e-7fde3e9689e5\" class=\"sk-toggleable__label sk-toggleable__label-arrow\">SimpleImputer</label><div class=\"sk-toggleable__content\"><pre>SimpleImputer(fill_value=&#x27;missing&#x27;, strategy=&#x27;constant&#x27;)</pre></div></div></div><div class=\"sk-item\"><div class=\"sk-estimator sk-toggleable\"><input class=\"sk-toggleable__control sk-hidden--visually\" id=\"242d1820-94da-4261-96a0-28c659007a8f\" type=\"checkbox\" ><label for=\"242d1820-94da-4261-96a0-28c659007a8f\" class=\"sk-toggleable__label sk-toggleable__label-arrow\">OneHotEncoder</label><div class=\"sk-toggleable__content\"><pre>OneHotEncoder(dtype=&lt;class &#x27;int&#x27;&gt;, handle_unknown=&#x27;ignore&#x27;)</pre></div></div></div></div></div></div></div></div></div></div><div class=\"sk-item\"><div class=\"sk-estimator sk-toggleable\"><input class=\"sk-toggleable__control sk-hidden--visually\" id=\"66c993da-eda6-4a9b-8f1d-8d8920715690\" type=\"checkbox\" ><label for=\"66c993da-eda6-4a9b-8f1d-8d8920715690\" class=\"sk-toggleable__label sk-toggleable__label-arrow\">Lasso</label><div class=\"sk-toggleable__content\"><pre>Lasso(alpha=79.85195644260375)</pre></div></div></div></div></div></div></div>"
      ],
      "text/plain": [
       "Pipeline(steps=[('preprocessor',\n",
       "                 ColumnTransformer(transformers=[('num',\n",
       "                                                  Pipeline(steps=[('imputer',\n",
       "                                                                   SimpleImputer(strategy='median')),\n",
       "                                                                  ('scaler',\n",
       "                                                                   StandardScaler())]),\n",
       "                                                  <sklearn.compose._column_transformer.make_column_selector object at 0x0000023437CA2888>),\n",
       "                                                 ('cat',\n",
       "                                                  Pipeline(steps=[('imputer',\n",
       "                                                                   SimpleImputer(fill_value='missing',\n",
       "                                                                                 strategy='constant')),\n",
       "                                                                  ('onehot',\n",
       "                                                                   OneHotEncoder(dtype=<class 'int'>,\n",
       "                                                                                 handle_unknown='ignore'))]),\n",
       "                                                  <sklearn.compose._column_transformer.make_column_selector object at 0x0000023437CA2848>)])),\n",
       "                ('Lasso', Lasso(alpha=79.85195644260375))])"
      ]
     },
     "execution_count": 83,
     "metadata": {},
     "output_type": "execute_result"
    }
   ],
   "source": [
    "Lasso_alpha_pipe.fit(X_train, y_train)"
   ]
  },
  {
   "cell_type": "markdown",
   "metadata": {},
   "source": [
    "**Model Lasso Best Alpha: Metrics**"
   ]
  },
  {
   "cell_type": "code",
   "execution_count": 84,
   "metadata": {},
   "outputs": [
    {
     "name": "stdout",
     "output_type": "stream",
     "text": [
      "r2:  0.7046\n",
      "RMSE  62842.13\n",
      "MSE:  3949133062.48\n"
     ]
    }
   ],
   "source": [
    "r2_lasso, rmse_lasso, mse_lasso = metrics_sk(y_train, y_pred)"
   ]
  },
  {
   "cell_type": "markdown",
   "metadata": {},
   "source": [
    "Der RMSE liegt unter 70 Tsd. USd. und entspricht demententsprechend den Anforderung an das Modell. "
   ]
  },
  {
   "cell_type": "markdown",
   "metadata": {},
   "source": [
    "### sklearn Spline"
   ]
  },
  {
   "cell_type": "markdown",
   "metadata": {},
   "source": [
    "**Data preperation**"
   ]
  },
  {
   "cell_type": "code",
   "execution_count": 235,
   "metadata": {},
   "outputs": [],
   "source": [
    "df = read_data()\n",
    "df = transform_data(df)"
   ]
  },
  {
   "cell_type": "code",
   "execution_count": 275,
   "metadata": {},
   "outputs": [],
   "source": [
    "#Split Test and Trainingsdata\n",
    "X = df.drop('median_house_value', axis=1)\n",
    "y = df['median_house_value']\n",
    "\n",
    "X_train, X_test, y_train, y_test = train_test_split(X, y, test_size=0.2, random_state=42)"
   ]
  },
  {
   "cell_type": "code",
   "execution_count": 237,
   "metadata": {},
   "outputs": [],
   "source": [
    "X_train = add_feautures(X_train)"
   ]
  },
  {
   "cell_type": "code",
   "execution_count": 238,
   "metadata": {},
   "outputs": [],
   "source": [
    "#Feauture Selection \n",
    "X_train = X_train[['median_income', 'ocean_proximity','housing_median_age', 'households_population', 'total_rooms_households', 'total_rooms_total_bedrooms', 'geohash']]"
   ]
  },
  {
   "cell_type": "code",
   "execution_count": 239,
   "metadata": {},
   "outputs": [],
   "source": [
    "preprocessor = build_preprocessor()"
   ]
  },
  {
   "cell_type": "markdown",
   "metadata": {},
   "source": [
    "**Splines: Build**"
   ]
  },
  {
   "cell_type": "code",
   "execution_count": 240,
   "metadata": {},
   "outputs": [],
   "source": [
    "Splines_pipe = Pipeline(steps=[\n",
    "    ('preprocessor', preprocessor),\n",
    "    ('polynomialfeatures', PolynomialFeatures()),\n",
    "    ('ridge', Ridge())\n",
    "                        ])"
   ]
  },
  {
   "cell_type": "code",
   "execution_count": 242,
   "metadata": {},
   "outputs": [
    {
     "data": {
      "text/html": [
       "<style>#sk-9f5f45a8-e6c8-4e1b-85e1-e86477b2f31a {color: black;background-color: white;}#sk-9f5f45a8-e6c8-4e1b-85e1-e86477b2f31a pre{padding: 0;}#sk-9f5f45a8-e6c8-4e1b-85e1-e86477b2f31a div.sk-toggleable {background-color: white;}#sk-9f5f45a8-e6c8-4e1b-85e1-e86477b2f31a label.sk-toggleable__label {cursor: pointer;display: block;width: 100%;margin-bottom: 0;padding: 0.3em;box-sizing: border-box;text-align: center;}#sk-9f5f45a8-e6c8-4e1b-85e1-e86477b2f31a label.sk-toggleable__label-arrow:before {content: \"▸\";float: left;margin-right: 0.25em;color: #696969;}#sk-9f5f45a8-e6c8-4e1b-85e1-e86477b2f31a label.sk-toggleable__label-arrow:hover:before {color: black;}#sk-9f5f45a8-e6c8-4e1b-85e1-e86477b2f31a div.sk-estimator:hover label.sk-toggleable__label-arrow:before {color: black;}#sk-9f5f45a8-e6c8-4e1b-85e1-e86477b2f31a div.sk-toggleable__content {max-height: 0;max-width: 0;overflow: hidden;text-align: left;background-color: #f0f8ff;}#sk-9f5f45a8-e6c8-4e1b-85e1-e86477b2f31a div.sk-toggleable__content pre {margin: 0.2em;color: black;border-radius: 0.25em;background-color: #f0f8ff;}#sk-9f5f45a8-e6c8-4e1b-85e1-e86477b2f31a input.sk-toggleable__control:checked~div.sk-toggleable__content {max-height: 200px;max-width: 100%;overflow: auto;}#sk-9f5f45a8-e6c8-4e1b-85e1-e86477b2f31a input.sk-toggleable__control:checked~label.sk-toggleable__label-arrow:before {content: \"▾\";}#sk-9f5f45a8-e6c8-4e1b-85e1-e86477b2f31a div.sk-estimator input.sk-toggleable__control:checked~label.sk-toggleable__label {background-color: #d4ebff;}#sk-9f5f45a8-e6c8-4e1b-85e1-e86477b2f31a div.sk-label input.sk-toggleable__control:checked~label.sk-toggleable__label {background-color: #d4ebff;}#sk-9f5f45a8-e6c8-4e1b-85e1-e86477b2f31a input.sk-hidden--visually {border: 0;clip: rect(1px 1px 1px 1px);clip: rect(1px, 1px, 1px, 1px);height: 1px;margin: -1px;overflow: hidden;padding: 0;position: absolute;width: 1px;}#sk-9f5f45a8-e6c8-4e1b-85e1-e86477b2f31a div.sk-estimator {font-family: monospace;background-color: #f0f8ff;border: 1px dotted black;border-radius: 0.25em;box-sizing: border-box;margin-bottom: 0.5em;}#sk-9f5f45a8-e6c8-4e1b-85e1-e86477b2f31a div.sk-estimator:hover {background-color: #d4ebff;}#sk-9f5f45a8-e6c8-4e1b-85e1-e86477b2f31a div.sk-parallel-item::after {content: \"\";width: 100%;border-bottom: 1px solid gray;flex-grow: 1;}#sk-9f5f45a8-e6c8-4e1b-85e1-e86477b2f31a div.sk-label:hover label.sk-toggleable__label {background-color: #d4ebff;}#sk-9f5f45a8-e6c8-4e1b-85e1-e86477b2f31a div.sk-serial::before {content: \"\";position: absolute;border-left: 1px solid gray;box-sizing: border-box;top: 2em;bottom: 0;left: 50%;}#sk-9f5f45a8-e6c8-4e1b-85e1-e86477b2f31a div.sk-serial {display: flex;flex-direction: column;align-items: center;background-color: white;padding-right: 0.2em;padding-left: 0.2em;}#sk-9f5f45a8-e6c8-4e1b-85e1-e86477b2f31a div.sk-item {z-index: 1;}#sk-9f5f45a8-e6c8-4e1b-85e1-e86477b2f31a div.sk-parallel {display: flex;align-items: stretch;justify-content: center;background-color: white;}#sk-9f5f45a8-e6c8-4e1b-85e1-e86477b2f31a div.sk-parallel::before {content: \"\";position: absolute;border-left: 1px solid gray;box-sizing: border-box;top: 2em;bottom: 0;left: 50%;}#sk-9f5f45a8-e6c8-4e1b-85e1-e86477b2f31a div.sk-parallel-item {display: flex;flex-direction: column;position: relative;background-color: white;}#sk-9f5f45a8-e6c8-4e1b-85e1-e86477b2f31a div.sk-parallel-item:first-child::after {align-self: flex-end;width: 50%;}#sk-9f5f45a8-e6c8-4e1b-85e1-e86477b2f31a div.sk-parallel-item:last-child::after {align-self: flex-start;width: 50%;}#sk-9f5f45a8-e6c8-4e1b-85e1-e86477b2f31a div.sk-parallel-item:only-child::after {width: 0;}#sk-9f5f45a8-e6c8-4e1b-85e1-e86477b2f31a div.sk-dashed-wrapped {border: 1px dashed gray;margin: 0 0.4em 0.5em 0.4em;box-sizing: border-box;padding-bottom: 0.4em;background-color: white;position: relative;}#sk-9f5f45a8-e6c8-4e1b-85e1-e86477b2f31a div.sk-label label {font-family: monospace;font-weight: bold;background-color: white;display: inline-block;line-height: 1.2em;}#sk-9f5f45a8-e6c8-4e1b-85e1-e86477b2f31a div.sk-label-container {position: relative;z-index: 2;text-align: center;}#sk-9f5f45a8-e6c8-4e1b-85e1-e86477b2f31a div.sk-container {/* jupyter's `normalize.less` sets `[hidden] { display: none; }` but bootstrap.min.css set `[hidden] { display: none !important; }` so we also need the `!important` here to be able to override the default hidden behavior on the sphinx rendered scikit-learn.org. See: https://github.com/scikit-learn/scikit-learn/issues/21755 */display: inline-block !important;position: relative;}#sk-9f5f45a8-e6c8-4e1b-85e1-e86477b2f31a div.sk-text-repr-fallback {display: none;}</style><div id=\"sk-9f5f45a8-e6c8-4e1b-85e1-e86477b2f31a\" class=\"sk-top-container\"><div class=\"sk-text-repr-fallback\"><pre>Pipeline(steps=[(&#x27;preprocessor&#x27;,\n",
       "                 ColumnTransformer(transformers=[(&#x27;num&#x27;,\n",
       "                                                  Pipeline(steps=[(&#x27;imputer&#x27;,\n",
       "                                                                   SimpleImputer(strategy=&#x27;median&#x27;)),\n",
       "                                                                  (&#x27;scaler&#x27;,\n",
       "                                                                   StandardScaler())]),\n",
       "                                                  &lt;sklearn.compose._column_transformer.make_column_selector object at 0x00000271208E7308&gt;),\n",
       "                                                 (&#x27;cat&#x27;,\n",
       "                                                  Pipeline(steps=[(&#x27;imputer&#x27;,\n",
       "                                                                   SimpleImputer(fill_value=&#x27;missing&#x27;,\n",
       "                                                                                 strategy=&#x27;constant&#x27;)),\n",
       "                                                                  (&#x27;onehot&#x27;,\n",
       "                                                                   OneHotEncoder(dtype=&lt;class &#x27;int&#x27;&gt;,\n",
       "                                                                                 handle_unknown=&#x27;ignore&#x27;))]),\n",
       "                                                  &lt;sklearn.compose._column_transformer.make_column_selector object at 0x00000271208E7348&gt;)])),\n",
       "                (&#x27;polynomialfeatures&#x27;, PolynomialFeatures()),\n",
       "                (&#x27;ridge&#x27;, Ridge())])</pre><b>Please rerun this cell to show the HTML repr or trust the notebook.</b></div><div class=\"sk-container\" hidden><div class=\"sk-item sk-dashed-wrapped\"><div class=\"sk-label-container\"><div class=\"sk-label sk-toggleable\"><input class=\"sk-toggleable__control sk-hidden--visually\" id=\"c2fe3053-e8bb-4ccf-84cd-e7b0d918a4e2\" type=\"checkbox\" ><label for=\"c2fe3053-e8bb-4ccf-84cd-e7b0d918a4e2\" class=\"sk-toggleable__label sk-toggleable__label-arrow\">Pipeline</label><div class=\"sk-toggleable__content\"><pre>Pipeline(steps=[(&#x27;preprocessor&#x27;,\n",
       "                 ColumnTransformer(transformers=[(&#x27;num&#x27;,\n",
       "                                                  Pipeline(steps=[(&#x27;imputer&#x27;,\n",
       "                                                                   SimpleImputer(strategy=&#x27;median&#x27;)),\n",
       "                                                                  (&#x27;scaler&#x27;,\n",
       "                                                                   StandardScaler())]),\n",
       "                                                  &lt;sklearn.compose._column_transformer.make_column_selector object at 0x00000271208E7308&gt;),\n",
       "                                                 (&#x27;cat&#x27;,\n",
       "                                                  Pipeline(steps=[(&#x27;imputer&#x27;,\n",
       "                                                                   SimpleImputer(fill_value=&#x27;missing&#x27;,\n",
       "                                                                                 strategy=&#x27;constant&#x27;)),\n",
       "                                                                  (&#x27;onehot&#x27;,\n",
       "                                                                   OneHotEncoder(dtype=&lt;class &#x27;int&#x27;&gt;,\n",
       "                                                                                 handle_unknown=&#x27;ignore&#x27;))]),\n",
       "                                                  &lt;sklearn.compose._column_transformer.make_column_selector object at 0x00000271208E7348&gt;)])),\n",
       "                (&#x27;polynomialfeatures&#x27;, PolynomialFeatures()),\n",
       "                (&#x27;ridge&#x27;, Ridge())])</pre></div></div></div><div class=\"sk-serial\"><div class=\"sk-item sk-dashed-wrapped\"><div class=\"sk-label-container\"><div class=\"sk-label sk-toggleable\"><input class=\"sk-toggleable__control sk-hidden--visually\" id=\"03f83bb1-1e84-491b-a2db-e2183b598c5a\" type=\"checkbox\" ><label for=\"03f83bb1-1e84-491b-a2db-e2183b598c5a\" class=\"sk-toggleable__label sk-toggleable__label-arrow\">preprocessor: ColumnTransformer</label><div class=\"sk-toggleable__content\"><pre>ColumnTransformer(transformers=[(&#x27;num&#x27;,\n",
       "                                 Pipeline(steps=[(&#x27;imputer&#x27;,\n",
       "                                                  SimpleImputer(strategy=&#x27;median&#x27;)),\n",
       "                                                 (&#x27;scaler&#x27;, StandardScaler())]),\n",
       "                                 &lt;sklearn.compose._column_transformer.make_column_selector object at 0x00000271208E7308&gt;),\n",
       "                                (&#x27;cat&#x27;,\n",
       "                                 Pipeline(steps=[(&#x27;imputer&#x27;,\n",
       "                                                  SimpleImputer(fill_value=&#x27;missing&#x27;,\n",
       "                                                                strategy=&#x27;constant&#x27;)),\n",
       "                                                 (&#x27;onehot&#x27;,\n",
       "                                                  OneHotEncoder(dtype=&lt;class &#x27;int&#x27;&gt;,\n",
       "                                                                handle_unknown=&#x27;ignore&#x27;))]),\n",
       "                                 &lt;sklearn.compose._column_transformer.make_column_selector object at 0x00000271208E7348&gt;)])</pre></div></div></div><div class=\"sk-parallel\"><div class=\"sk-parallel-item\"><div class=\"sk-item\"><div class=\"sk-label-container\"><div class=\"sk-label sk-toggleable\"><input class=\"sk-toggleable__control sk-hidden--visually\" id=\"e0d2e4de-1bff-4fdf-8ca7-5c6e520ea3f5\" type=\"checkbox\" ><label for=\"e0d2e4de-1bff-4fdf-8ca7-5c6e520ea3f5\" class=\"sk-toggleable__label sk-toggleable__label-arrow\">num</label><div class=\"sk-toggleable__content\"><pre>&lt;sklearn.compose._column_transformer.make_column_selector object at 0x00000271208E7308&gt;</pre></div></div></div><div class=\"sk-serial\"><div class=\"sk-item\"><div class=\"sk-serial\"><div class=\"sk-item\"><div class=\"sk-estimator sk-toggleable\"><input class=\"sk-toggleable__control sk-hidden--visually\" id=\"f4f561bd-997d-49db-afad-a48ce34ff14a\" type=\"checkbox\" ><label for=\"f4f561bd-997d-49db-afad-a48ce34ff14a\" class=\"sk-toggleable__label sk-toggleable__label-arrow\">SimpleImputer</label><div class=\"sk-toggleable__content\"><pre>SimpleImputer(strategy=&#x27;median&#x27;)</pre></div></div></div><div class=\"sk-item\"><div class=\"sk-estimator sk-toggleable\"><input class=\"sk-toggleable__control sk-hidden--visually\" id=\"b38a1cf1-5acf-4f6d-ad84-2cd60997009a\" type=\"checkbox\" ><label for=\"b38a1cf1-5acf-4f6d-ad84-2cd60997009a\" class=\"sk-toggleable__label sk-toggleable__label-arrow\">StandardScaler</label><div class=\"sk-toggleable__content\"><pre>StandardScaler()</pre></div></div></div></div></div></div></div></div><div class=\"sk-parallel-item\"><div class=\"sk-item\"><div class=\"sk-label-container\"><div class=\"sk-label sk-toggleable\"><input class=\"sk-toggleable__control sk-hidden--visually\" id=\"c4754a9c-7b56-4251-b6cf-db8b60236300\" type=\"checkbox\" ><label for=\"c4754a9c-7b56-4251-b6cf-db8b60236300\" class=\"sk-toggleable__label sk-toggleable__label-arrow\">cat</label><div class=\"sk-toggleable__content\"><pre>&lt;sklearn.compose._column_transformer.make_column_selector object at 0x00000271208E7348&gt;</pre></div></div></div><div class=\"sk-serial\"><div class=\"sk-item\"><div class=\"sk-serial\"><div class=\"sk-item\"><div class=\"sk-estimator sk-toggleable\"><input class=\"sk-toggleable__control sk-hidden--visually\" id=\"e161cb0b-6e6e-4230-afd0-22fef24d361f\" type=\"checkbox\" ><label for=\"e161cb0b-6e6e-4230-afd0-22fef24d361f\" class=\"sk-toggleable__label sk-toggleable__label-arrow\">SimpleImputer</label><div class=\"sk-toggleable__content\"><pre>SimpleImputer(fill_value=&#x27;missing&#x27;, strategy=&#x27;constant&#x27;)</pre></div></div></div><div class=\"sk-item\"><div class=\"sk-estimator sk-toggleable\"><input class=\"sk-toggleable__control sk-hidden--visually\" id=\"ea5e69d2-903b-4b4c-a771-74c24532f728\" type=\"checkbox\" ><label for=\"ea5e69d2-903b-4b4c-a771-74c24532f728\" class=\"sk-toggleable__label sk-toggleable__label-arrow\">OneHotEncoder</label><div class=\"sk-toggleable__content\"><pre>OneHotEncoder(dtype=&lt;class &#x27;int&#x27;&gt;, handle_unknown=&#x27;ignore&#x27;)</pre></div></div></div></div></div></div></div></div></div></div><div class=\"sk-item\"><div class=\"sk-estimator sk-toggleable\"><input class=\"sk-toggleable__control sk-hidden--visually\" id=\"0a8d3432-86bf-47c9-be80-bc96382efb82\" type=\"checkbox\" ><label for=\"0a8d3432-86bf-47c9-be80-bc96382efb82\" class=\"sk-toggleable__label sk-toggleable__label-arrow\">PolynomialFeatures</label><div class=\"sk-toggleable__content\"><pre>PolynomialFeatures()</pre></div></div></div><div class=\"sk-item\"><div class=\"sk-estimator sk-toggleable\"><input class=\"sk-toggleable__control sk-hidden--visually\" id=\"1ddcdfd0-51ef-4a94-b585-7fa5fde9ea6c\" type=\"checkbox\" ><label for=\"1ddcdfd0-51ef-4a94-b585-7fa5fde9ea6c\" class=\"sk-toggleable__label sk-toggleable__label-arrow\">Ridge</label><div class=\"sk-toggleable__content\"><pre>Ridge()</pre></div></div></div></div></div></div></div>"
      ],
      "text/plain": [
       "Pipeline(steps=[('preprocessor',\n",
       "                 ColumnTransformer(transformers=[('num',\n",
       "                                                  Pipeline(steps=[('imputer',\n",
       "                                                                   SimpleImputer(strategy='median')),\n",
       "                                                                  ('scaler',\n",
       "                                                                   StandardScaler())]),\n",
       "                                                  <sklearn.compose._column_transformer.make_column_selector object at 0x00000271208E7308>),\n",
       "                                                 ('cat',\n",
       "                                                  Pipeline(steps=[('imputer',\n",
       "                                                                   SimpleImputer(fill_value='missing',\n",
       "                                                                                 strategy='constant')),\n",
       "                                                                  ('onehot',\n",
       "                                                                   OneHotEncoder(dtype=<class 'int'>,\n",
       "                                                                                 handle_unknown='ignore'))]),\n",
       "                                                  <sklearn.compose._column_transformer.make_column_selector object at 0x00000271208E7348>)])),\n",
       "                ('polynomialfeatures', PolynomialFeatures()),\n",
       "                ('ridge', Ridge())])"
      ]
     },
     "execution_count": 242,
     "metadata": {},
     "output_type": "execute_result"
    }
   ],
   "source": [
    "Splines_pipe.fit(X_train, y_train)"
   ]
  },
  {
   "cell_type": "code",
   "execution_count": 244,
   "metadata": {},
   "outputs": [],
   "source": [
    "y_pred = Splines_pipe.predict(X_train)"
   ]
  },
  {
   "cell_type": "code",
   "execution_count": 281,
   "metadata": {},
   "outputs": [
    {
     "name": "stdout",
     "output_type": "stream",
     "text": [
      "r2:  0.7628\n",
      "RMSE  56311.61\n",
      "MSE:  3170997160.3\n"
     ]
    }
   ],
   "source": [
    "r2_spline, rmse_spline, mse_spline = metrics_sk(y_train, y_pred)"
   ]
  },
  {
   "cell_type": "code",
   "execution_count": 147,
   "metadata": {},
   "outputs": [],
   "source": [
    "#TODO Graph?#TODO Frage Scipy statt sklearn\n",
    "#from scipy.interpolate import CubicSpline\n",
    "#natural_spline = CubicSpline(x, y, bc_type='natural')"
   ]
  },
  {
   "cell_type": "markdown",
   "metadata": {},
   "source": [
    "### Evaluation Sklearn"
   ]
  },
  {
   "cell_type": "markdown",
   "metadata": {},
   "source": [
    "**Select best model**"
   ]
  },
  {
   "cell_type": "code",
   "execution_count": 262,
   "metadata": {},
   "outputs": [
    {
     "data": {
      "text/html": [
       "<div>\n",
       "<style scoped>\n",
       "    .dataframe tbody tr th:only-of-type {\n",
       "        vertical-align: middle;\n",
       "    }\n",
       "\n",
       "    .dataframe tbody tr th {\n",
       "        vertical-align: top;\n",
       "    }\n",
       "\n",
       "    .dataframe thead th {\n",
       "        text-align: right;\n",
       "    }\n",
       "</style>\n",
       "<table border=\"1\" class=\"dataframe\">\n",
       "  <thead>\n",
       "    <tr style=\"text-align: right;\">\n",
       "      <th></th>\n",
       "      <th>RMSE</th>\n",
       "      <th>Werte</th>\n",
       "    </tr>\n",
       "  </thead>\n",
       "  <tbody>\n",
       "    <tr>\n",
       "      <th>2</th>\n",
       "      <td>RMSE Spline</td>\n",
       "      <td>56311.61</td>\n",
       "    </tr>\n",
       "    <tr>\n",
       "      <th>1</th>\n",
       "      <td>RMSE Lasso</td>\n",
       "      <td>57838.12</td>\n",
       "    </tr>\n",
       "    <tr>\n",
       "      <th>0</th>\n",
       "      <td>RMSE OLS</td>\n",
       "      <td>63242.32</td>\n",
       "    </tr>\n",
       "  </tbody>\n",
       "</table>\n",
       "</div>"
      ],
      "text/plain": [
       "          RMSE     Werte\n",
       "2  RMSE Spline  56311.61\n",
       "1   RMSE Lasso  57838.12\n",
       "0     RMSE OLS  63242.32"
      ]
     },
     "execution_count": 262,
     "metadata": {},
     "output_type": "execute_result"
    }
   ],
   "source": [
    "results= {'RMSE': ['RMSE OLS', 'RMSE Lasso', 'RMSE Spline'],\n",
    "        'Werte': [rmse_lm, rmse_lasso, rmse_spline] }\n",
    "df_results = pd.DataFrame(results)\n",
    "df_results.sort_values(by ='Werte')"
   ]
  },
  {
   "cell_type": "markdown",
   "metadata": {},
   "source": [
    "**Predict with test data**"
   ]
  },
  {
   "cell_type": "code",
   "execution_count": 282,
   "metadata": {},
   "outputs": [],
   "source": [
    "X_test = add_feautures(X_test)\n",
    "X_test = X_test[['median_income', 'ocean_proximity','housing_median_age', 'households_population', 'total_rooms_households', 'total_rooms_total_bedrooms', 'geohash']]"
   ]
  },
  {
   "cell_type": "code",
   "execution_count": 285,
   "metadata": {},
   "outputs": [],
   "source": [
    "y_test_pred = Splines_pipe.predict(X_test)"
   ]
  },
  {
   "cell_type": "markdown",
   "metadata": {},
   "source": [
    "**Final Results**"
   ]
  },
  {
   "cell_type": "code",
   "execution_count": 286,
   "metadata": {},
   "outputs": [
    {
     "name": "stdout",
     "output_type": "stream",
     "text": [
      "r2:  0.7366\n",
      "RMSE  58720.25\n",
      "MSE:  3448068054.55\n"
     ]
    }
   ],
   "source": [
    "y_test.fillna(y_test.median(), inplace= True)\n",
    "r2_test, rmse_test, mse_test = metrics_sk(y_test, y_test_pred)\n"
   ]
  }
 ],
 "metadata": {
  "interpreter": {
   "hash": "463226f144cc21b006ce6927bfc93dd00694e52c8bc6857abb6e555b983749e9"
  },
  "kernelspec": {
   "display_name": "Python 3.8.2 64-bit ('base': conda)",
   "language": "python",
   "name": "python3"
  },
  "language_info": {
   "codemirror_mode": {
    "name": "ipython",
    "version": 3
   },
   "file_extension": ".py",
   "mimetype": "text/x-python",
   "name": "python",
   "nbconvert_exporter": "python",
   "pygments_lexer": "ipython3",
   "version": "3.7.11"
  }
 },
 "nbformat": 4,
 "nbformat_minor": 2
}